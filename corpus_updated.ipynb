{
 "cells": [
  {
   "cell_type": "code",
   "execution_count": 7,
   "metadata": {},
   "outputs": [],
   "source": [
    "import requests\n",
    "from bs4 import BeautifulSoup\n",
    "import re\n",
    "from datetime import datetime\n",
    "from dateutil import parser as dparser\n",
    "import urllib.parse\n",
    "import timeit\n",
    "\n",
    "import numpy as np\n",
    "import pandas as pd\n",
    "import math\n",
    "from sklearn.feature_extraction.text import TfidfVectorizer\n",
    "from sklearn.feature_extraction.text import CountVectorizer\n",
    "from scipy import sparse\n",
    "\n",
    "from transformers import DistilBertForSequenceClassification, DistilBertTokenizer\n",
    "import torch\n",
    "from transformers import pipeline\n",
    "\n",
    "from util.config import config\n",
    "from util.pyRanker import BM25\n",
    "from util.web_query import web_query\n",
    "from util.ticker import Ticker\n",
    "import ipywidgets as widgets\n",
    "\n",
    "import dash\n",
    "from dash import html\n",
    "from dash import dcc\n",
    "import plotly.graph_objects as go\n",
    "import plotly.express as px"
   ]
  },
  {
   "cell_type": "code",
   "execution_count": 2,
   "metadata": {},
   "outputs": [],
   "source": [
    "model = DistilBertForSequenceClassification.from_pretrained('distilbert-base-uncased-finetuned-sst-2-english')\n",
    "tokenizer = DistilBertTokenizer.from_pretrained('distilbert-base-uncased-finetuned-sst-2-english')\n",
    "classifier = pipeline(task='sentiment-analysis',model=model,tokenizer=tokenizer)\n",
    "max_tokens = int(tokenizer.model_max_length)"
   ]
  },
  {
   "cell_type": "code",
   "execution_count": 3,
   "metadata": {},
   "outputs": [],
   "source": [
    "#running through sub_docs and outputting sentiment list\n",
    "\n",
    "def get_sentiments(docs):\n",
    "    \n",
    "    c = 0\n",
    "    for x in docs.keys():\n",
    "        c+=len(docs[x])\n",
    "    \n",
    "    pgres = widgets.IntProgress(value=0,min=0,max=c, step=1)\n",
    "    display(pgres)\n",
    "    \n",
    "    sentiments = {}\n",
    "    \n",
    "    for x in docs.keys():\n",
    "        scrs=[]\n",
    "        for y in range(0, len(docs[x])):\n",
    "            \n",
    "            s = classifier(docs[x][y])\n",
    "            scr = s[0]['score']\n",
    "            if s[0]['label']==\"NEGATIVE\":\n",
    "                scr=scr*-1\n",
    "            scrs.append(scr)\n",
    "            pgres.value+=1\n",
    "            pgres.description=str(pgres.value)+\":\"+str(c)\n",
    "        \n",
    "        sentiments[x]=scrs\n",
    "                \n",
    "    return sentiments"
   ]
  },
  {
   "cell_type": "code",
   "execution_count": 4,
   "metadata": {},
   "outputs": [],
   "source": [
    "def normalize(input_matrix):\n",
    "    \"\"\"\n",
    "    Normalizes the rows of a 2d input_matrix so they sum to 1\n",
    "    \"\"\"\n",
    "\n",
    "    row_sums = input_matrix.sum(axis=1)\n",
    "    try:\n",
    "        assert (np.count_nonzero(row_sums)==np.shape(row_sums)[0]) # no row should sum to zero\n",
    "    except Exception:\n",
    "        raise Exception(\"Error while normalizing. Row(s) sum to zero\")\n",
    "    new_matrix = input_matrix / row_sums[:, np.newaxis]\n",
    "    return new_matrix"
   ]
  },
  {
   "cell_type": "code",
   "execution_count": 5,
   "metadata": {},
   "outputs": [],
   "source": [
    "class Corpus(object):\n",
    "    \n",
    "    #******************************************************************************\n",
    "    #----------------------------------Method---------------------------------------\n",
    "    #******************************************************************************\n",
    "    \n",
    "    #Run the web_query to produce a collection of text documents scraped from the web\n",
    "    \n",
    "    #Use the set_results() function to store the full results in the corpus for processing\n",
    "    \n",
    "    #Use the set_corpus() function to assign the documents scraped from the web to the corpus\n",
    "    \n",
    "    #Sub divide the documents into smaller sub_docs\n",
    "    \n",
    "    #Rank the documents based on relevance to the original query as well as any tags\n",
    "    \n",
    "    #Prune the sub_docs to produce a relevant set\n",
    "    \n",
    "    #\n",
    "    \n",
    "    #******************************************************************************\n",
    "    #******************************************************************************\n",
    "    \n",
    "    def __init__(self):\n",
    "        \n",
    "        #typical corpus data\n",
    "        self.documents = []\n",
    "        self.vocabulary = []\n",
    "        self.number_of_documents = 0\n",
    "        self.vocabulary_size = 0\n",
    "                \n",
    "        #for web results\n",
    "        self.query_results=None\n",
    "        self.max_tokens=512\n",
    "        self.failed = []\n",
    "        \n",
    "        #sub dividing documents\n",
    "        self.tokenizer=None\n",
    "        self.sub_docs=None\n",
    "        self.sub_list=[]\n",
    "        \n",
    "        #queries\n",
    "        self.prime_q=None\n",
    "        self.expanded_q=None        \n",
    "        \n",
    "        #relevance scores\n",
    "        self.document_scores=None\n",
    "        self.subdoc_scores=None\n",
    "        self.title_scores=None\n",
    "        self.sub_list_scores=None\n",
    "                \n",
    "        #pruned data\n",
    "        self.pruned_docs=[]\n",
    "        self.pruned_subdocs={}\n",
    "        \n",
    "        #relevant\n",
    "        self.relevant_set={}\n",
    "        self.relevant_scores={}\n",
    "        self.rel_list_scores=[]\n",
    "        \n",
    "        #sentiments\n",
    "        self.sentiments=None\n",
    "    \n",
    "    \n",
    "    #******************************************************************************\n",
    "    #------------------------------Setting Corpus----------------------------------\n",
    "    #******************************************************************************\n",
    "    \n",
    "    def set_results(self, df):\n",
    "        #dataframe returned from webquery\n",
    "        self.query_results=df\n",
    "    \n",
    "    def set_corpus(self, documents):\n",
    "        self.documents = documents\n",
    "                \n",
    "\n",
    "    def build_corpus_from_file(self, file_path):\n",
    "\n",
    "        f = open(file_path, 'r')\n",
    "        docs = f.readlines()\n",
    "        for d in docs:\n",
    "            self.documents.append(d)\n",
    "        self.number_of_documents = len(docs)\n",
    "\n",
    "        \n",
    "    def build_vocabulary(self, stopwords):\n",
    "\n",
    "        v = set([])\n",
    "        for x in self.documents:\n",
    "            tmp = set(x.split())\n",
    "            tmp = {x for x in tmp if x.lower() not in stopwords}\n",
    "                        \n",
    "            v.update(tmp)\n",
    "        \n",
    "        v = list(v)\n",
    "        self.vocabulary = v\n",
    "        self.vocabulary_size = len(v)\n",
    "    \n",
    "    def build_queries(self, ticker, prime_w=1, tag_w=0.05, include_gtags=True, gtags_w=0.01, include_btags=True, btags_w=0.01):\n",
    "        name = re.sub('(,|\\.|Inc|inc|company|co )',\"\",str(ticker.name))\n",
    "        self.prime_q = name\n",
    "        \n",
    "        gtags = ['investing','analysis','analyst','upgrade','downgrade']\n",
    "        btags = ['sentiment','opinion','outlook']\n",
    "        \n",
    "        exp = []\n",
    "        for t in ticker.tags:\n",
    "            exp.append([t, tag_w])\n",
    "        if include_gtags:\n",
    "            for t in gtags:\n",
    "                exp.append([t, gtags_w])\n",
    "        if include_btags:\n",
    "            for t in btags:\n",
    "                exp.append([t, btags_w])\n",
    "        \n",
    "        self.expanded_q=exp\n",
    "    \n",
    "    #******************************************************************************\n",
    "    #------------------------------Sub Dividing-------------------------------------\n",
    "    #******************************************************************************\n",
    "    \n",
    "    def get_pgraphs(self, doc, cutoff, method):\n",
    "        #updated get_pgraphs() with method for cutoff\n",
    "        #cut off method:\n",
    "        #sen: number of sentences\n",
    "        #word: number of words  \n",
    "\n",
    "        pgraphs=[]\n",
    "        freshsoup = re.split('\\n\\n',doc)\n",
    "        for x in range(0,len(freshsoup)):\n",
    "            if method=='word':\n",
    "                words = len(str(freshsoup[x]).strip().split(' ',maxsplit=cutoff))\n",
    "                if words>cutoff:\n",
    "                    pgraphs.append(freshsoup[x])\n",
    "                    \n",
    "            elif method=='sen':\n",
    "                sens = len(re.findall(\"\\.\",str(freshsoup[x]).strip()))\n",
    "                if sens>cutoff:\n",
    "                    pgraphs.append(freshsoup[x])\n",
    "                    \n",
    "        return pgraphs\n",
    "    \n",
    "    def split_doc(self, doc):         \n",
    "        \n",
    "        if len(doc)>0:\n",
    "            avgwrds = 15\n",
    "            estsens = len(doc)/avgwrds\n",
    "        \n",
    "            if len(re.findall('\\.',doc))>=estsens:\n",
    "                cut_point = doc.rfind('.', 0, int(len(doc)/2))\n",
    "                if cut_point<=0:\n",
    "                    cut_point = int(len(doc)/2)\n",
    "            else:\n",
    "                cut_point = int(len(doc)/2)\n",
    "\n",
    "            d1 = doc[0:cut_point]\n",
    "            d2 = doc[cut_point+1:]\n",
    "            \n",
    "            tkns1 = int(len(self.tokenizer(d1)['input_ids']))\n",
    "\n",
    "            if tkns1>self.max_tokens:\n",
    "                self.split_doc(d1)\n",
    "            else:\n",
    "                if len(d1)>0:\n",
    "                    self.subs.append(d1)\n",
    "\n",
    "            tkns2 = int(len(self.tokenizer(d2)['input_ids']))\n",
    "\n",
    "            if tkns2>self.max_tokens:\n",
    "                self.split_doc(d2)\n",
    "            else:\n",
    "                if len(d2)>0:\n",
    "                    self.subs.append(d2)\n",
    "\n",
    "    \n",
    "    def get_subdocs(self, pgraphs):\n",
    "        #Updated get_subdocs with iterative slicing \n",
    "        #Changed to recursive slicing\n",
    "        #ensure sub_docs tokens will not exceed max_tokens for sentiment model\n",
    "        self.subs=[]\n",
    "\n",
    "        for x in range(0, len(pgraphs)):\n",
    "            sen_cnt = len(re.split('\\n|\\. ',pgraphs[x]))\n",
    "            tkns = int(len(tokenizer(pgraphs[x])['input_ids']))\n",
    "\n",
    "            if tkns<self.max_tokens:\n",
    "                self.subs.append(pgraphs[x])\n",
    "            else:\n",
    "                self.split_doc(pgraphs[x])\n",
    "        \n",
    "        return self.subs\n",
    "        \n",
    "    def sub_divide(self, tokenizer, cutoff=1, method='sen'):\n",
    "\n",
    "        #creates a dictionary of sub_docs divided from each document in the corpus\n",
    "        #method: using get_pgraphs() followed by get_subdocs()\n",
    "        #output form: dict{ document_id : [subdoc_1, subdoc_2 ... subdoc_n] }\n",
    "\n",
    "        subbed_data = {}\n",
    "        self.tokenizer=tokenizer\n",
    "        \n",
    "        if len(self.pruned_docs)==0:\n",
    "            self.prune_docs()\n",
    "        \n",
    "        for x in range(0, len(self.documents)):\n",
    "            \n",
    "            #only include documents that made the first relevance cut\n",
    "            if x in self.pruned_docs:\n",
    "                pg = self.get_pgraphs(self.documents[x], cutoff, method)\n",
    "                subs = self.get_subdocs(pg)\n",
    "                subbed_data[x]=subs\n",
    "        \n",
    "        self.sub_docs = subbed_data\n",
    "        self.sub_list=[]\n",
    "        for x in self.sub_docs.keys():\n",
    "            for y in self.sub_docs[x]:\n",
    "                self.sub_list.append(y)\n",
    "        \n",
    "\n",
    "        \n",
    "    #******************************************************************************\n",
    "    #----------------------------------Relevance Scoring---------------------------\n",
    "    #******************************************************************************  \n",
    "    \n",
    "    def rank_docs(self, ranker):\n",
    "        query = self.prime_q\n",
    "        self.document_scores = ranker.score(query, self.documents)\n",
    "        \n",
    "        \n",
    "    def rank_subdocs(self, ranker, expanded=False):\n",
    "        sub_vecs={}\n",
    "        \n",
    "        if expanded==False:\n",
    "            query=self.prime_q\n",
    "            for x in self.sub_docs.keys():\n",
    "                sub_vec = ranker.score(query, self.sub_docs[x])\n",
    "                sub_vecs[x]=sub_vec\n",
    "        else:\n",
    "            query = self.expanded_q\n",
    "            for x in self.sub_docs.keys():\n",
    "                sub_vec = ranker.score_expanded(query, self.sub_docs[x])\n",
    "                sub_vecs[x]=sub_vec\n",
    "            \n",
    "        self.subdoc_scores = sub_vecs\n",
    "        \n",
    "        self.sub_list_scores=[]\n",
    "        for x in self.subdoc_scores.keys():\n",
    "            for y in self.subdoc_scores[x]:\n",
    "                self.sub_list_scores.append(y)\n",
    "    \n",
    "    def rank_relevant(self, ranker, expanded=True):\n",
    "        sub_vecs={}\n",
    "        \n",
    "        if expanded==False:\n",
    "            query=self.prime_q\n",
    "            for x in self.relevant_set.keys():\n",
    "                sub_vec = ranker.score(query, self.relevant_set[x])\n",
    "                sub_vecs[x]=sub_vec\n",
    "        else:\n",
    "            query=self.expanded_q\n",
    "            for x in self.relevant_set.keys():\n",
    "                sub_vec = ranker.score_expanded(query, self.relevant_set[x])\n",
    "                sub_vecs[x]=sub_vec\n",
    "            \n",
    "        self.relevant_scores = sub_vecs\n",
    "        \n",
    "        self.rel_list_scores=[]\n",
    "        for x in self.relevant_scores.keys():\n",
    "            for y in self.relevant_scores[x]:\n",
    "                self.rel_list_scores.append(y)\n",
    "       \n",
    "        \n",
    "    #******************************************************************************\n",
    "    #----------------------------Pruning Relevant Set------------------------------\n",
    "    #******************************************************************************\n",
    "    def prune_docs(self, method='finite', cutoff=0):\n",
    "        \n",
    "        '''\n",
    "        method percentile: cutoff is the percentile to lower bound the document scores on\n",
    "        method finite: cutoff is a hard value to cutoff scores on\n",
    "        \n",
    "        store the indexes of the documents that have scores over the cutoff\n",
    "        these indexes will be used in the creation of the subdocs\n",
    "        '''\n",
    "        \n",
    "        if method=='percentile':\n",
    "            p = np.percentile(self.document_scores, cutoff)\n",
    "            cuts = np.where(self.document_scores<p)\n",
    "            \n",
    "            for x in range(0, len(self.documents)):\n",
    "                if x not in cuts:\n",
    "                    self.pruned_docs.append(x)\n",
    "                                                 \n",
    "        elif method=='finite':\n",
    "            for x in range(0, len(self.documents)):\n",
    "                if self.document_scores[x]>cutoff:\n",
    "                    self.pruned_docs.append(x)\n",
    "                    \n",
    "            \n",
    "    def prune_subdocs(self, method='finite', cutoff=0):\n",
    "        \n",
    "        '''\n",
    "        method percentile: cutoff is the percentile to lower bound the document scores on\n",
    "        method finite: cutoff is a hard value to cutoff scores on\n",
    "        \n",
    "        '''\n",
    "        \n",
    "        if method=='percentile':\n",
    "            p = np.percentile(self.sub_list_scores, cutoff)\n",
    "            prune={}\n",
    "            for x in self.sub_docs.keys():\n",
    "                for y in range(0, len(sub_docs[x])):\n",
    "                    if subdoc_scores[x][y]>p:\n",
    "                        if x not in prune.keys():\n",
    "                            prune[x]=[y]\n",
    "                        else:\n",
    "                            prune[x].append(y)\n",
    "            self.pruned_subdocs=prune\n",
    "            \n",
    "        elif method=='finite':\n",
    "            prune={}\n",
    "            for x in self.sub_docs.keys():\n",
    "                for y in range(0, len(self.sub_docs[x])):\n",
    "                    if self.subdoc_scores[x][y]>cutoff:\n",
    "                        if x not in prune.keys():\n",
    "                            prune[x]=[y]\n",
    "                        else:\n",
    "                            prune[x].append(y)\n",
    "            \n",
    "            self.pruned_subdocs=prune\n",
    "        \n",
    "    def make_relevant(self):\n",
    "        for x in self.pruned_subdocs.keys():\n",
    "            self.relevant_set[x]=[]\n",
    "            self.relevant_scores[x]=[]\n",
    "            for y in self.pruned_subdocs[x]:\n",
    "                self.relevant_set[x].append(self.sub_docs[x][y])\n",
    "                self.relevant_scores[x].append(self.subdoc_scores[x][y])\n",
    "        \n",
    "        self.rel_list=[]\n",
    "        for x in self.relevant_set.keys():\n",
    "            for y in self.relevant_set[x]:\n",
    "                self.rel_list.append(y)\n",
    "        \n",
    "    def prune_relevant(self, method='percentile',cutoff=15):\n",
    "        #Relevant is as low as it goes, these will be adjusted directly when pruned\n",
    "        \n",
    "        if method=='percentile':\n",
    "            cut = np.percentile(self.rel_list_scores, cutoff)\n",
    "        else:\n",
    "            cut = cutoff\n",
    "        \n",
    "        subbed_data = self.relevant_set\n",
    "        sub_scores = self.relevant_scores\n",
    "        \n",
    "        for x in self.relevant_set.keys():\n",
    "\n",
    "            subbed_data[x] = [xv if c else None for c, xv in zip(sub_scores[x]>cut, subbed_data[x])]\n",
    "            subbed_data[x] = [y for y in subbed_data[x] if y!=None]\n",
    "            sub_scores[x] = [y for y in sub_scores[x] if y>cut]\n",
    "        \n",
    "        self.relevant_set = {k: v for k, v in subbed_data.items() if len(v) > 0}\n",
    "        self.relevant_scores={k: v for k, v in sub_scores.items() if len(v) > 0}\n",
    "        \n",
    "        self.rel_list=[]\n",
    "        for x in self.relevant_set.keys():\n",
    "            for y in self.relevant_set[x]:\n",
    "                self.rel_list.append(y)\n",
    "        \n",
    " \n"
   ]
  },
  {
   "cell_type": "code",
   "execution_count": 6,
   "metadata": {},
   "outputs": [],
   "source": [
    "#pull api keys from the config file\n",
    "cfig=config()"
   ]
  },
  {
   "cell_type": "code",
   "execution_count": 7,
   "metadata": {},
   "outputs": [],
   "source": [
    "#create a ticker object \n",
    "tick = Ticker(cfig, \"BA\",source='yahoo')"
   ]
  },
  {
   "cell_type": "code",
   "execution_count": 8,
   "metadata": {},
   "outputs": [
    {
     "name": "stdout",
     "output_type": "stream",
     "text": [
      "18.544036400000003\n"
     ]
    }
   ],
   "source": [
    "start = timeit.default_timer()\n",
    "\n",
    "wq=web_query(cfig)\n",
    "testq=tick.name\n",
    "\n",
    "d_start=\"11/1/2021\"\n",
    "#query all of the news apis in web_query object\n",
    "wq.query_all(query=tick.name, ticker=tick.ticker, d_start=d_start, threaded=False)\n",
    "#compile results into a singular dataframe\n",
    "wq.compile_results()\n",
    "\n",
    "end = timeit.default_timer()\n",
    "print(end-start)"
   ]
  },
  {
   "cell_type": "code",
   "execution_count": 9,
   "metadata": {},
   "outputs": [
    {
     "data": {
      "application/vnd.jupyter.widget-view+json": {
       "model_id": "2647c02efd3345329e1d86be8d9a833d",
       "version_major": 2,
       "version_minor": 0
      },
      "text/plain": [
       "IntProgress(value=0, max=200)"
      ]
     },
     "metadata": {},
     "output_type": "display_data"
    },
    {
     "name": "stdout",
     "output_type": "stream",
     "text": [
      "26.3209326\n"
     ]
    }
   ],
   "source": [
    "start = timeit.default_timer()\n",
    "\n",
    "#scrap text from the results urls to form documents\n",
    "wq.scrape_results(threaded=True, max_docs=200)\n",
    "\n",
    "end = timeit.default_timer()\n",
    "print(end-start)"
   ]
  },
  {
   "cell_type": "code",
   "execution_count": 10,
   "metadata": {},
   "outputs": [],
   "source": [
    "df = wq.get_results()"
   ]
  },
  {
   "cell_type": "code",
   "execution_count": 11,
   "metadata": {},
   "outputs": [],
   "source": [
    "#build corpus from web query results\n",
    "corpus=Corpus()\n",
    "#store the web query data frame in the corpus for referencing urls and titles\n",
    "corpus.set_results(df)\n",
    "#assign corpus documents as the web query documents\n",
    "corpus.set_corpus(wq.documents)"
   ]
  },
  {
   "cell_type": "code",
   "execution_count": 12,
   "metadata": {},
   "outputs": [
    {
     "name": "stdout",
     "output_type": "stream",
     "text": [
      "Vocabulary size:23964\n",
      "Number of documents:181\n"
     ]
    }
   ],
   "source": [
    "#pull in stop words and build corpus vocabulary \n",
    "stopwords=[]\n",
    "with open('util/stopwords.txt') as f:\n",
    "    stopwords.append(f.read().splitlines())\n",
    "stopwords=stopwords[0]\n",
    "\n",
    "corpus.build_vocabulary(stopwords)\n",
    "\n",
    "print(\"Vocabulary size:\" + str(len(corpus.vocabulary)))\n",
    "print(\"Number of documents:\" + str(len(corpus.documents)))"
   ]
  },
  {
   "cell_type": "code",
   "execution_count": 13,
   "metadata": {},
   "outputs": [],
   "source": [
    "bm25 = BM25(norm='l2', smooth_idf=True, stopwords=stopwords, sublinear_tf=True, vocabulary=corpus.vocabulary)\n",
    "bm25.fit(corpus.documents)"
   ]
  },
  {
   "cell_type": "code",
   "execution_count": 14,
   "metadata": {},
   "outputs": [],
   "source": [
    "corpus.build_queries(ticker=tick)\n",
    "corpus.rank_docs(ranker=bm25)\n",
    "corpus.prune_docs()"
   ]
  },
  {
   "cell_type": "code",
   "execution_count": 15,
   "metadata": {},
   "outputs": [
    {
     "name": "stderr",
     "output_type": "stream",
     "text": [
      "Token indices sequence length is longer than the specified maximum sequence length for this model (1215 > 512). Running this sequence through the model will result in indexing errors\n"
     ]
    },
    {
     "name": "stdout",
     "output_type": "stream",
     "text": [
      "Sub-docs: 1513\n",
      "Source count: 178\n",
      "12.213510400000004\n"
     ]
    }
   ],
   "source": [
    "start = timeit.default_timer()\n",
    "\n",
    "#create the sub_documents, wrapper to run multiple functions\n",
    "#passing in the tokenizer to save a little on class dependencies\n",
    "\n",
    "corpus.sub_divide(tokenizer=tokenizer, cutoff=2, method='sen')\n",
    "print('Sub-docs:',len(corpus.sub_list))\n",
    "print('Source count:', len(corpus.sub_docs))\n",
    "\n",
    "end = timeit.default_timer()\n",
    "print(end-start)"
   ]
  },
  {
   "cell_type": "code",
   "execution_count": 16,
   "metadata": {},
   "outputs": [],
   "source": [
    "corpus.rank_subdocs(ranker=bm25)"
   ]
  },
  {
   "cell_type": "code",
   "execution_count": 17,
   "metadata": {},
   "outputs": [],
   "source": [
    "corpus.prune_subdocs()"
   ]
  },
  {
   "cell_type": "code",
   "execution_count": 18,
   "metadata": {},
   "outputs": [
    {
     "name": "stdout",
     "output_type": "stream",
     "text": [
      "Number of sub_docs: 1513\n",
      "Number zero ranked: 1111\n",
      "percent of useless subdocs: 73.43 %\n"
     ]
    }
   ],
   "source": [
    "print(\"Number of sub_docs:\",len(corpus.sub_list))\n",
    "t = np.array(corpus.sub_list_scores)\n",
    "z=np.where(t==0.0)\n",
    "print(\"Number zero ranked:\", len(z[0]))\n",
    "print(\"percent of useless subdocs:\", round((len(z[0])/len(corpus.sub_list))*100,2),\"%\")"
   ]
  },
  {
   "cell_type": "code",
   "execution_count": 19,
   "metadata": {},
   "outputs": [
    {
     "name": "stdout",
     "output_type": "stream",
     "text": [
      "relevant sources: 162\n",
      "relevant sub_docs: 402\n"
     ]
    }
   ],
   "source": [
    "corpus.make_relevant()\n",
    "print('relevant sources:',len(corpus.relevant_set))\n",
    "print('relevant sub_docs:',len(corpus.rel_list))"
   ]
  },
  {
   "cell_type": "code",
   "execution_count": 20,
   "metadata": {},
   "outputs": [],
   "source": [
    "corpus.rank_relevant(ranker=bm25)"
   ]
  },
  {
   "cell_type": "code",
   "execution_count": 21,
   "metadata": {},
   "outputs": [
    {
     "name": "stdout",
     "output_type": "stream",
     "text": [
      "relevant sources: 106\n",
      "relevant sub_docs: 172\n"
     ]
    }
   ],
   "source": [
    "corpus.prune_relevant()\n",
    "print('relevant sources:',len(corpus.relevant_set))\n",
    "print('relevant sub_docs:',len(corpus.rel_list))"
   ]
  },
  {
   "cell_type": "code",
   "execution_count": 22,
   "metadata": {},
   "outputs": [
    {
     "name": "stdout",
     "output_type": "stream",
     "text": [
      "106\n"
     ]
    }
   ],
   "source": [
    "relevant_set = corpus.relevant_set\n",
    "relevant_scores = corpus.relevant_scores\n",
    "print(len(relevant_set))"
   ]
  },
  {
   "cell_type": "code",
   "execution_count": 23,
   "metadata": {},
   "outputs": [
    {
     "data": {
      "application/vnd.jupyter.widget-view+json": {
       "model_id": "0fcb6606d0dd4199ab73c426efe3d5d8",
       "version_major": 2,
       "version_minor": 0
      },
      "text/plain": [
       "IntProgress(value=0, max=172)"
      ]
     },
     "metadata": {},
     "output_type": "display_data"
    },
    {
     "name": "stdout",
     "output_type": "stream",
     "text": [
      "78.53340039999999\n"
     ]
    }
   ],
   "source": [
    "#run the new relevant set through distilled-BERT and get sentiment classifications\n",
    "start = timeit.default_timer()\n",
    "\n",
    "sentiments = get_sentiments(relevant_set)\n",
    "\n",
    "end = timeit.default_timer()\n",
    "print(end-start)"
   ]
  },
  {
   "cell_type": "code",
   "execution_count": 24,
   "metadata": {},
   "outputs": [],
   "source": [
    "lens=[]\n",
    "for x in relevant_set.keys():\n",
    "    for y in range(0, len(relevant_set[x])):\n",
    "        lens.append(len(relevant_set[x][y]))"
   ]
  },
  {
   "cell_type": "code",
   "execution_count": 25,
   "metadata": {},
   "outputs": [],
   "source": [
    "avlen=np.mean(lens)"
   ]
  },
  {
   "cell_type": "code",
   "execution_count": 26,
   "metadata": {},
   "outputs": [],
   "source": [
    "len_weight={}\n",
    "for x in relevant_set.keys():\n",
    "    l=[]\n",
    "    for y in range(0, len(relevant_set[x])):\n",
    "        l.append(len(relevant_set[x][y])/avlen)\n",
    "    len_weight[x]=l"
   ]
  },
  {
   "cell_type": "code",
   "execution_count": 27,
   "metadata": {},
   "outputs": [],
   "source": [
    "adjusted_rel = {}\n",
    "for x in relevant_scores.keys():\n",
    "    l=[]\n",
    "    for y in range(0, len(relevant_scores[x])):\n",
    "        l.append(relevant_scores[x][y] * len_weight[x][y])\n",
    "    adjusted_rel[x]=l"
   ]
  },
  {
   "cell_type": "code",
   "execution_count": 28,
   "metadata": {},
   "outputs": [],
   "source": [
    "rel_scores={}\n",
    "adj_rel_scores={}\n",
    "\n",
    "for x in relevant_scores.keys():\n",
    "    rel_scores[x]=np.mean(relevant_scores[x])\n",
    "    adj_rel_scores[x]=np.mean(adjusted_rel[x])\n",
    "    "
   ]
  },
  {
   "cell_type": "code",
   "execution_count": 29,
   "metadata": {},
   "outputs": [],
   "source": [
    "rw_scores=[]\n",
    "lrw_scores=[]\n",
    "for x in relevant_scores.keys():\n",
    "    for y in range(0, len(relevant_scores[x])):\n",
    "        rw_scores.append(relevant_scores[x][y] * sentiments[x][y])\n",
    "        lrw_scores.append(adjusted_rel[x][y] * sentiments[x][y])"
   ]
  },
  {
   "cell_type": "code",
   "execution_count": 30,
   "metadata": {},
   "outputs": [],
   "source": [
    "scores={}\n",
    "la_scores={}\n",
    "\n",
    "for x in relevant_scores.keys():\n",
    "    rws=0\n",
    "    lrws=0\n",
    "    for y in range(0, len(relevant_scores[x])):\n",
    "        rws += (relevant_scores[x][y] * sentiments[x][y])\n",
    "        lrws += (adjusted_rel[x][y] * sentiments[x][y])\n",
    "    scores[x]=rws\n",
    "    la_scores[x]=lrws"
   ]
  },
  {
   "cell_type": "code",
   "execution_count": 31,
   "metadata": {
    "scrolled": true
   },
   "outputs": [
    {
     "name": "stdout",
     "output_type": "stream",
     "text": [
      "106\n",
      "106\n"
     ]
    }
   ],
   "source": [
    "print(len(scores))\n",
    "print(len(corpus.relevant_scores))"
   ]
  },
  {
   "cell_type": "code",
   "execution_count": 32,
   "metadata": {},
   "outputs": [
    {
     "name": "stdout",
     "output_type": "stream",
     "text": [
      "Average Relevance weighted Sentiment: -0.1708\n",
      "Average Length adjusted Relevance weighted sentiment: -0.1776\n"
     ]
    }
   ],
   "source": [
    "print(\"Average Relevance weighted Sentiment:\", np.mean(rw_scores).round(4))\n",
    "print(\"Average Length adjusted Relevance weighted sentiment:\", np.mean(lrw_scores).round(4))\n"
   ]
  },
  {
   "cell_type": "code",
   "execution_count": 33,
   "metadata": {},
   "outputs": [
    {
     "data": {
      "text/html": [
       "<div>\n",
       "<style scoped>\n",
       "    .dataframe tbody tr th:only-of-type {\n",
       "        vertical-align: middle;\n",
       "    }\n",
       "\n",
       "    .dataframe tbody tr th {\n",
       "        vertical-align: top;\n",
       "    }\n",
       "\n",
       "    .dataframe thead th {\n",
       "        text-align: right;\n",
       "    }\n",
       "</style>\n",
       "<table border=\"1\" class=\"dataframe\">\n",
       "  <thead>\n",
       "    <tr style=\"text-align: right;\">\n",
       "      <th></th>\n",
       "      <th>title</th>\n",
       "      <th>url</th>\n",
       "      <th>pub_date</th>\n",
       "    </tr>\n",
       "  </thead>\n",
       "  <tbody>\n",
       "    <tr>\n",
       "      <th>0</th>\n",
       "      <td>Boeing (BA) Secures Deal Worth $9B for 737 MAX...</td>\n",
       "      <td>https://www.entrepreneur.com/article/398004</td>\n",
       "      <td>2021-11-18 15:48:00 +0000</td>\n",
       "    </tr>\n",
       "    <tr>\n",
       "      <th>0</th>\n",
       "      <td>The Zacks Analyst Blog Highlights: Accenture, ...</td>\n",
       "      <td>https://www.zacks.com/stock/news/1833234/the-z...</td>\n",
       "      <td>2021-11-30T13:11:00Z</td>\n",
       "    </tr>\n",
       "    <tr>\n",
       "      <th>1</th>\n",
       "      <td>Top Analyst Reports for Accenture, Raytheon &amp; ...</td>\n",
       "      <td>https://www.zacks.com/research-daily/1832981/t...</td>\n",
       "      <td>2021-11-29T20:17:00Z</td>\n",
       "    </tr>\n",
       "    <tr>\n",
       "      <th>2</th>\n",
       "      <td>Lockheed Martin (LMT) Arm Wins $31.2M Modifica...</td>\n",
       "      <td>https://www.zacks.com/stock/news/1832948/lockh...</td>\n",
       "      <td>2021-11-29T16:34:00Z</td>\n",
       "    </tr>\n",
       "    <tr>\n",
       "      <th>3</th>\n",
       "      <td>The U.S. stock market suffers ugly Black Frida...</td>\n",
       "      <td>https://www.marketwatch.com/story/the-u-s-stoc...</td>\n",
       "      <td>2021-11-28T22:35:00Z</td>\n",
       "    </tr>\n",
       "  </tbody>\n",
       "</table>\n",
       "</div>"
      ],
      "text/plain": [
       "                                               title  \\\n",
       "0  Boeing (BA) Secures Deal Worth $9B for 737 MAX...   \n",
       "0  The Zacks Analyst Blog Highlights: Accenture, ...   \n",
       "1  Top Analyst Reports for Accenture, Raytheon & ...   \n",
       "2  Lockheed Martin (LMT) Arm Wins $31.2M Modifica...   \n",
       "3  The U.S. stock market suffers ugly Black Frida...   \n",
       "\n",
       "                                                 url  \\\n",
       "0        https://www.entrepreneur.com/article/398004   \n",
       "0  https://www.zacks.com/stock/news/1833234/the-z...   \n",
       "1  https://www.zacks.com/research-daily/1832981/t...   \n",
       "2  https://www.zacks.com/stock/news/1832948/lockh...   \n",
       "3  https://www.marketwatch.com/story/the-u-s-stoc...   \n",
       "\n",
       "                    pub_date  \n",
       "0  2021-11-18 15:48:00 +0000  \n",
       "0       2021-11-30T13:11:00Z  \n",
       "1       2021-11-29T20:17:00Z  \n",
       "2       2021-11-29T16:34:00Z  \n",
       "3       2021-11-28T22:35:00Z  "
      ]
     },
     "execution_count": 33,
     "metadata": {},
     "output_type": "execute_result"
    }
   ],
   "source": [
    "df.head()"
   ]
  },
  {
   "cell_type": "code",
   "execution_count": 34,
   "metadata": {},
   "outputs": [],
   "source": [
    "#need weight adjusted score per source\n",
    "newdf = df\n",
    "newdf['sentiments'] = pd.Series(scores)\n",
    "newdf['relevance'] = pd.Series(rel_scores)"
   ]
  },
  {
   "cell_type": "code",
   "execution_count": 35,
   "metadata": {},
   "outputs": [
    {
     "data": {
      "text/html": [
       "<div>\n",
       "<style scoped>\n",
       "    .dataframe tbody tr th:only-of-type {\n",
       "        vertical-align: middle;\n",
       "    }\n",
       "\n",
       "    .dataframe tbody tr th {\n",
       "        vertical-align: top;\n",
       "    }\n",
       "\n",
       "    .dataframe thead th {\n",
       "        text-align: right;\n",
       "    }\n",
       "</style>\n",
       "<table border=\"1\" class=\"dataframe\">\n",
       "  <thead>\n",
       "    <tr style=\"text-align: right;\">\n",
       "      <th></th>\n",
       "      <th>title</th>\n",
       "      <th>url</th>\n",
       "      <th>pub_date</th>\n",
       "      <th>sentiments</th>\n",
       "      <th>relevance</th>\n",
       "    </tr>\n",
       "  </thead>\n",
       "  <tbody>\n",
       "    <tr>\n",
       "      <th>0</th>\n",
       "      <td>Boeing (BA) Secures Deal Worth $9B for 737 MAX...</td>\n",
       "      <td>https://www.entrepreneur.com/article/398004</td>\n",
       "      <td>2021-11-18 15:48:00 +0000</td>\n",
       "      <td>-0.609800</td>\n",
       "      <td>0.757056</td>\n",
       "    </tr>\n",
       "    <tr>\n",
       "      <th>0</th>\n",
       "      <td>The Zacks Analyst Blog Highlights: Accenture, ...</td>\n",
       "      <td>https://www.zacks.com/stock/news/1833234/the-z...</td>\n",
       "      <td>2021-11-30T13:11:00Z</td>\n",
       "      <td>-0.609800</td>\n",
       "      <td>0.757056</td>\n",
       "    </tr>\n",
       "    <tr>\n",
       "      <th>1</th>\n",
       "      <td>Top Analyst Reports for Accenture, Raytheon &amp; ...</td>\n",
       "      <td>https://www.zacks.com/research-daily/1832981/t...</td>\n",
       "      <td>2021-11-29T20:17:00Z</td>\n",
       "      <td>NaN</td>\n",
       "      <td>NaN</td>\n",
       "    </tr>\n",
       "    <tr>\n",
       "      <th>2</th>\n",
       "      <td>Lockheed Martin (LMT) Arm Wins $31.2M Modifica...</td>\n",
       "      <td>https://www.zacks.com/stock/news/1832948/lockh...</td>\n",
       "      <td>2021-11-29T16:34:00Z</td>\n",
       "      <td>NaN</td>\n",
       "      <td>NaN</td>\n",
       "    </tr>\n",
       "    <tr>\n",
       "      <th>3</th>\n",
       "      <td>The U.S. stock market suffers ugly Black Frida...</td>\n",
       "      <td>https://www.marketwatch.com/story/the-u-s-stoc...</td>\n",
       "      <td>2021-11-28T22:35:00Z</td>\n",
       "      <td>-2.145731</td>\n",
       "      <td>1.123148</td>\n",
       "    </tr>\n",
       "    <tr>\n",
       "      <th>...</th>\n",
       "      <td>...</td>\n",
       "      <td>...</td>\n",
       "      <td>...</td>\n",
       "      <td>...</td>\n",
       "      <td>...</td>\n",
       "    </tr>\n",
       "    <tr>\n",
       "      <th>93</th>\n",
       "      <td>Lufthansa pioneers frontier-smashing explorer ...</td>\n",
       "      <td>https://newatlas.com/aircraft/lufthansa-explor...</td>\n",
       "      <td>2021-11-23T08:28:57Z</td>\n",
       "      <td>-1.089024</td>\n",
       "      <td>0.580705</td>\n",
       "    </tr>\n",
       "    <tr>\n",
       "      <th>94</th>\n",
       "      <td>Spicejet brings back Boeing 737 max after 2.5 ...</td>\n",
       "      <td>https://economictimes.indiatimes.com/industry/...</td>\n",
       "      <td>2021-11-23T04:19:58Z</td>\n",
       "      <td>-0.606164</td>\n",
       "      <td>0.610575</td>\n",
       "    </tr>\n",
       "    <tr>\n",
       "      <th>95</th>\n",
       "      <td>Transdigm: Well-Positioned To Benefit From The...</td>\n",
       "      <td>https://seekingalpha.com/article/4471290-trans...</td>\n",
       "      <td>2021-11-22T21:50:53Z</td>\n",
       "      <td>-0.402149</td>\n",
       "      <td>0.533856</td>\n",
       "    </tr>\n",
       "    <tr>\n",
       "      <th>96</th>\n",
       "      <td>A Peek Into The Future Of Aviation: Dubai Airs...</td>\n",
       "      <td>https://www.forbes.com/sites/amirhusain/2021/1...</td>\n",
       "      <td>2021-11-22T20:30:57Z</td>\n",
       "      <td>0.503092</td>\n",
       "      <td>0.510109</td>\n",
       "    </tr>\n",
       "    <tr>\n",
       "      <th>98</th>\n",
       "      <td>Komachine Changing Global Machine Industry Tra...</td>\n",
       "      <td>https://ca.sports.yahoo.com/news/komachine-cha...</td>\n",
       "      <td>2021-11-22T18:04:00Z</td>\n",
       "      <td>NaN</td>\n",
       "      <td>NaN</td>\n",
       "    </tr>\n",
       "  </tbody>\n",
       "</table>\n",
       "<p>282 rows × 5 columns</p>\n",
       "</div>"
      ],
      "text/plain": [
       "                                                title  \\\n",
       "0   Boeing (BA) Secures Deal Worth $9B for 737 MAX...   \n",
       "0   The Zacks Analyst Blog Highlights: Accenture, ...   \n",
       "1   Top Analyst Reports for Accenture, Raytheon & ...   \n",
       "2   Lockheed Martin (LMT) Arm Wins $31.2M Modifica...   \n",
       "3   The U.S. stock market suffers ugly Black Frida...   \n",
       "..                                                ...   \n",
       "93  Lufthansa pioneers frontier-smashing explorer ...   \n",
       "94  Spicejet brings back Boeing 737 max after 2.5 ...   \n",
       "95  Transdigm: Well-Positioned To Benefit From The...   \n",
       "96  A Peek Into The Future Of Aviation: Dubai Airs...   \n",
       "98  Komachine Changing Global Machine Industry Tra...   \n",
       "\n",
       "                                                  url  \\\n",
       "0         https://www.entrepreneur.com/article/398004   \n",
       "0   https://www.zacks.com/stock/news/1833234/the-z...   \n",
       "1   https://www.zacks.com/research-daily/1832981/t...   \n",
       "2   https://www.zacks.com/stock/news/1832948/lockh...   \n",
       "3   https://www.marketwatch.com/story/the-u-s-stoc...   \n",
       "..                                                ...   \n",
       "93  https://newatlas.com/aircraft/lufthansa-explor...   \n",
       "94  https://economictimes.indiatimes.com/industry/...   \n",
       "95  https://seekingalpha.com/article/4471290-trans...   \n",
       "96  https://www.forbes.com/sites/amirhusain/2021/1...   \n",
       "98  https://ca.sports.yahoo.com/news/komachine-cha...   \n",
       "\n",
       "                     pub_date  sentiments  relevance  \n",
       "0   2021-11-18 15:48:00 +0000   -0.609800   0.757056  \n",
       "0        2021-11-30T13:11:00Z   -0.609800   0.757056  \n",
       "1        2021-11-29T20:17:00Z         NaN        NaN  \n",
       "2        2021-11-29T16:34:00Z         NaN        NaN  \n",
       "3        2021-11-28T22:35:00Z   -2.145731   1.123148  \n",
       "..                        ...         ...        ...  \n",
       "93       2021-11-23T08:28:57Z   -1.089024   0.580705  \n",
       "94       2021-11-23T04:19:58Z   -0.606164   0.610575  \n",
       "95       2021-11-22T21:50:53Z   -0.402149   0.533856  \n",
       "96       2021-11-22T20:30:57Z    0.503092   0.510109  \n",
       "98       2021-11-22T18:04:00Z         NaN        NaN  \n",
       "\n",
       "[282 rows x 5 columns]"
      ]
     },
     "execution_count": 35,
     "metadata": {},
     "output_type": "execute_result"
    }
   ],
   "source": [
    "newdf"
   ]
  },
  {
   "cell_type": "code",
   "execution_count": 36,
   "metadata": {},
   "outputs": [],
   "source": [
    "newdf = newdf.dropna()"
   ]
  },
  {
   "cell_type": "code",
   "execution_count": 37,
   "metadata": {},
   "outputs": [
    {
     "data": {
      "text/html": [
       "<div>\n",
       "<style scoped>\n",
       "    .dataframe tbody tr th:only-of-type {\n",
       "        vertical-align: middle;\n",
       "    }\n",
       "\n",
       "    .dataframe tbody tr th {\n",
       "        vertical-align: top;\n",
       "    }\n",
       "\n",
       "    .dataframe thead th {\n",
       "        text-align: right;\n",
       "    }\n",
       "</style>\n",
       "<table border=\"1\" class=\"dataframe\">\n",
       "  <thead>\n",
       "    <tr style=\"text-align: right;\">\n",
       "      <th></th>\n",
       "      <th>title</th>\n",
       "      <th>url</th>\n",
       "      <th>pub_date</th>\n",
       "      <th>sentiments</th>\n",
       "      <th>relevance</th>\n",
       "    </tr>\n",
       "  </thead>\n",
       "  <tbody>\n",
       "    <tr>\n",
       "      <th>0</th>\n",
       "      <td>Boeing (BA) Secures Deal Worth $9B for 737 MAX...</td>\n",
       "      <td>https://www.entrepreneur.com/article/398004</td>\n",
       "      <td>2021-11-18 15:48:00 +0000</td>\n",
       "      <td>-0.609800</td>\n",
       "      <td>0.757056</td>\n",
       "    </tr>\n",
       "    <tr>\n",
       "      <th>0</th>\n",
       "      <td>The Zacks Analyst Blog Highlights: Accenture, ...</td>\n",
       "      <td>https://www.zacks.com/stock/news/1833234/the-z...</td>\n",
       "      <td>2021-11-30T13:11:00Z</td>\n",
       "      <td>-0.609800</td>\n",
       "      <td>0.757056</td>\n",
       "    </tr>\n",
       "    <tr>\n",
       "      <th>3</th>\n",
       "      <td>The U.S. stock market suffers ugly Black Frida...</td>\n",
       "      <td>https://www.marketwatch.com/story/the-u-s-stoc...</td>\n",
       "      <td>2021-11-28T22:35:00Z</td>\n",
       "      <td>-2.145731</td>\n",
       "      <td>1.123148</td>\n",
       "    </tr>\n",
       "    <tr>\n",
       "      <th>4</th>\n",
       "      <td>These 3 Stocks Punished the Dow Friday</td>\n",
       "      <td>https://www.fool.com/investing/2021/11/26/thes...</td>\n",
       "      <td>2021-11-26T21:36:00Z</td>\n",
       "      <td>-0.630478</td>\n",
       "      <td>0.663179</td>\n",
       "    </tr>\n",
       "    <tr>\n",
       "      <th>5</th>\n",
       "      <td>Travel stocks slump and vaccine maker stocks r...</td>\n",
       "      <td>https://www.marketwatch.com/story/travel-stock...</td>\n",
       "      <td>2021-11-26T17:21:00Z</td>\n",
       "      <td>-0.076893</td>\n",
       "      <td>0.078895</td>\n",
       "    </tr>\n",
       "  </tbody>\n",
       "</table>\n",
       "</div>"
      ],
      "text/plain": [
       "                                               title  \\\n",
       "0  Boeing (BA) Secures Deal Worth $9B for 737 MAX...   \n",
       "0  The Zacks Analyst Blog Highlights: Accenture, ...   \n",
       "3  The U.S. stock market suffers ugly Black Frida...   \n",
       "4             These 3 Stocks Punished the Dow Friday   \n",
       "5  Travel stocks slump and vaccine maker stocks r...   \n",
       "\n",
       "                                                 url  \\\n",
       "0        https://www.entrepreneur.com/article/398004   \n",
       "0  https://www.zacks.com/stock/news/1833234/the-z...   \n",
       "3  https://www.marketwatch.com/story/the-u-s-stoc...   \n",
       "4  https://www.fool.com/investing/2021/11/26/thes...   \n",
       "5  https://www.marketwatch.com/story/travel-stock...   \n",
       "\n",
       "                    pub_date  sentiments  relevance  \n",
       "0  2021-11-18 15:48:00 +0000   -0.609800   0.757056  \n",
       "0       2021-11-30T13:11:00Z   -0.609800   0.757056  \n",
       "3       2021-11-28T22:35:00Z   -2.145731   1.123148  \n",
       "4       2021-11-26T21:36:00Z   -0.630478   0.663179  \n",
       "5       2021-11-26T17:21:00Z   -0.076893   0.078895  "
      ]
     },
     "execution_count": 37,
     "metadata": {},
     "output_type": "execute_result"
    }
   ],
   "source": [
    "newdf.head()"
   ]
  },
  {
   "cell_type": "code",
   "execution_count": 38,
   "metadata": {},
   "outputs": [
    {
     "name": "stderr",
     "output_type": "stream",
     "text": [
      "C:\\Users\\Hrishikesh Deshmukh\\Anaconda3\\lib\\site-packages\\pandas\\core\\indexing.py:1676: SettingWithCopyWarning: \n",
      "A value is trying to be set on a copy of a slice from a DataFrame.\n",
      "Try using .loc[row_indexer,col_indexer] = value instead\n",
      "\n",
      "See the caveats in the documentation: https://pandas.pydata.org/pandas-docs/stable/user_guide/indexing.html#returning-a-view-versus-a-copy\n",
      "  self._setitem_single_column(ilocs[0], value, pi)\n"
     ]
    }
   ],
   "source": [
    "#pd.to_datetime(newdf['pub_date'], format='%Y-%m-%dT%H:%M:%S')\n",
    "newdf.loc[:,'pub_date'] = pd.to_datetime(newdf.loc[:,'pub_date'], infer_datetime_format=True, utc=True)\n",
    "newdf.loc[:,'pub_date'] = pd.to_datetime(newdf.loc[:,'pub_date'].dt.strftime('%Y/%m/%d'))\n"
   ]
  },
  {
   "cell_type": "code",
   "execution_count": 39,
   "metadata": {},
   "outputs": [
    {
     "data": {
      "text/html": [
       "<div>\n",
       "<style scoped>\n",
       "    .dataframe tbody tr th:only-of-type {\n",
       "        vertical-align: middle;\n",
       "    }\n",
       "\n",
       "    .dataframe tbody tr th {\n",
       "        vertical-align: top;\n",
       "    }\n",
       "\n",
       "    .dataframe thead th {\n",
       "        text-align: right;\n",
       "    }\n",
       "</style>\n",
       "<table border=\"1\" class=\"dataframe\">\n",
       "  <thead>\n",
       "    <tr style=\"text-align: right;\">\n",
       "      <th></th>\n",
       "      <th>title</th>\n",
       "      <th>url</th>\n",
       "      <th>pub_date</th>\n",
       "      <th>sentiments</th>\n",
       "      <th>relevance</th>\n",
       "    </tr>\n",
       "  </thead>\n",
       "  <tbody>\n",
       "    <tr>\n",
       "      <th>0</th>\n",
       "      <td>Boeing (BA) Secures Deal Worth $9B for 737 MAX...</td>\n",
       "      <td>https://www.entrepreneur.com/article/398004</td>\n",
       "      <td>2021-11-18</td>\n",
       "      <td>-0.609800</td>\n",
       "      <td>0.757056</td>\n",
       "    </tr>\n",
       "    <tr>\n",
       "      <th>0</th>\n",
       "      <td>The Zacks Analyst Blog Highlights: Accenture, ...</td>\n",
       "      <td>https://www.zacks.com/stock/news/1833234/the-z...</td>\n",
       "      <td>2021-11-30</td>\n",
       "      <td>-0.609800</td>\n",
       "      <td>0.757056</td>\n",
       "    </tr>\n",
       "    <tr>\n",
       "      <th>3</th>\n",
       "      <td>The U.S. stock market suffers ugly Black Frida...</td>\n",
       "      <td>https://www.marketwatch.com/story/the-u-s-stoc...</td>\n",
       "      <td>2021-11-28</td>\n",
       "      <td>-2.145731</td>\n",
       "      <td>1.123148</td>\n",
       "    </tr>\n",
       "    <tr>\n",
       "      <th>4</th>\n",
       "      <td>These 3 Stocks Punished the Dow Friday</td>\n",
       "      <td>https://www.fool.com/investing/2021/11/26/thes...</td>\n",
       "      <td>2021-11-26</td>\n",
       "      <td>-0.630478</td>\n",
       "      <td>0.663179</td>\n",
       "    </tr>\n",
       "    <tr>\n",
       "      <th>5</th>\n",
       "      <td>Travel stocks slump and vaccine maker stocks r...</td>\n",
       "      <td>https://www.marketwatch.com/story/travel-stock...</td>\n",
       "      <td>2021-11-26</td>\n",
       "      <td>-0.076893</td>\n",
       "      <td>0.078895</td>\n",
       "    </tr>\n",
       "  </tbody>\n",
       "</table>\n",
       "</div>"
      ],
      "text/plain": [
       "                                               title  \\\n",
       "0  Boeing (BA) Secures Deal Worth $9B for 737 MAX...   \n",
       "0  The Zacks Analyst Blog Highlights: Accenture, ...   \n",
       "3  The U.S. stock market suffers ugly Black Frida...   \n",
       "4             These 3 Stocks Punished the Dow Friday   \n",
       "5  Travel stocks slump and vaccine maker stocks r...   \n",
       "\n",
       "                                                 url   pub_date  sentiments  \\\n",
       "0        https://www.entrepreneur.com/article/398004 2021-11-18   -0.609800   \n",
       "0  https://www.zacks.com/stock/news/1833234/the-z... 2021-11-30   -0.609800   \n",
       "3  https://www.marketwatch.com/story/the-u-s-stoc... 2021-11-28   -2.145731   \n",
       "4  https://www.fool.com/investing/2021/11/26/thes... 2021-11-26   -0.630478   \n",
       "5  https://www.marketwatch.com/story/travel-stock... 2021-11-26   -0.076893   \n",
       "\n",
       "   relevance  \n",
       "0   0.757056  \n",
       "0   0.757056  \n",
       "3   1.123148  \n",
       "4   0.663179  \n",
       "5   0.078895  "
      ]
     },
     "execution_count": 39,
     "metadata": {},
     "output_type": "execute_result"
    }
   ],
   "source": [
    "newdf.head()"
   ]
  },
  {
   "cell_type": "code",
   "execution_count": 40,
   "metadata": {},
   "outputs": [
    {
     "data": {
      "text/html": [
       "<div>\n",
       "<style scoped>\n",
       "    .dataframe tbody tr th:only-of-type {\n",
       "        vertical-align: middle;\n",
       "    }\n",
       "\n",
       "    .dataframe tbody tr th {\n",
       "        vertical-align: top;\n",
       "    }\n",
       "\n",
       "    .dataframe thead th {\n",
       "        text-align: right;\n",
       "    }\n",
       "</style>\n",
       "<table border=\"1\" class=\"dataframe\">\n",
       "  <thead>\n",
       "    <tr style=\"text-align: right;\">\n",
       "      <th></th>\n",
       "      <th>pub_date</th>\n",
       "      <th>sentiments</th>\n",
       "      <th>relevance</th>\n",
       "    </tr>\n",
       "  </thead>\n",
       "  <tbody>\n",
       "    <tr>\n",
       "      <th>0</th>\n",
       "      <td>2021-11-18</td>\n",
       "      <td>-0.609800</td>\n",
       "      <td>0.757056</td>\n",
       "    </tr>\n",
       "    <tr>\n",
       "      <th>0</th>\n",
       "      <td>2021-11-30</td>\n",
       "      <td>-0.609800</td>\n",
       "      <td>0.757056</td>\n",
       "    </tr>\n",
       "    <tr>\n",
       "      <th>3</th>\n",
       "      <td>2021-11-28</td>\n",
       "      <td>-2.145731</td>\n",
       "      <td>1.123148</td>\n",
       "    </tr>\n",
       "    <tr>\n",
       "      <th>4</th>\n",
       "      <td>2021-11-26</td>\n",
       "      <td>-0.630478</td>\n",
       "      <td>0.663179</td>\n",
       "    </tr>\n",
       "    <tr>\n",
       "      <th>5</th>\n",
       "      <td>2021-11-26</td>\n",
       "      <td>-0.076893</td>\n",
       "      <td>0.078895</td>\n",
       "    </tr>\n",
       "  </tbody>\n",
       "</table>\n",
       "</div>"
      ],
      "text/plain": [
       "    pub_date  sentiments  relevance\n",
       "0 2021-11-18   -0.609800   0.757056\n",
       "0 2021-11-30   -0.609800   0.757056\n",
       "3 2021-11-28   -2.145731   1.123148\n",
       "4 2021-11-26   -0.630478   0.663179\n",
       "5 2021-11-26   -0.076893   0.078895"
      ]
     },
     "execution_count": 40,
     "metadata": {},
     "output_type": "execute_result"
    }
   ],
   "source": [
    "plotdf = newdf[['pub_date','sentiments','relevance']]\n",
    "plotdf.head()"
   ]
  },
  {
   "cell_type": "code",
   "execution_count": 41,
   "metadata": {},
   "outputs": [],
   "source": [
    "pt_sn = plotdf.groupby(plotdf['pub_date'])['sentiments'].mean()\n",
    "pt_rl = plotdf.groupby(plotdf['pub_date'])['relevance'].mean()"
   ]
  },
  {
   "cell_type": "code",
   "execution_count": 42,
   "metadata": {},
   "outputs": [],
   "source": [
    "pt_sn = pt_sn.to_frame()\n",
    "pt_rl = pt_rl.to_frame()"
   ]
  },
  {
   "cell_type": "code",
   "execution_count": 43,
   "metadata": {
    "scrolled": true
   },
   "outputs": [],
   "source": [
    "dff = pd.concat([pt_rl, pt_sn], axis=1)\n"
   ]
  },
  {
   "cell_type": "code",
   "execution_count": 44,
   "metadata": {},
   "outputs": [],
   "source": [
    "dff = dff.reset_index()\n",
    "dff = dff.drop([0,1])\n",
    "dff = dff.set_index('pub_date')\n"
   ]
  },
  {
   "cell_type": "code",
   "execution_count": 45,
   "metadata": {},
   "outputs": [],
   "source": [
    "drange='1mo'\n",
    "interval='1d'\n",
    "\n",
    "yheaders = {'x-api-key':cfig.yahoo}\n",
    "url = ('https://yfapi.net/v8/finance/spark?'\n",
    "        'interval='+interval+\n",
    "        '&range='+drange+\n",
    "        '&symbols='+tick.ticker)\n",
    "\n",
    "response = requests.request(\"GET\",url,headers=yheaders)\n",
    "if response.status_code==200:\n",
    "        response = response.json()\n",
    "\n"
   ]
  },
  {
   "cell_type": "code",
   "execution_count": 46,
   "metadata": {},
   "outputs": [],
   "source": [
    "date = response[tick.ticker]['timestamp']\n",
    "price = response[tick.ticker]['close']\n",
    "df2 = pd.DataFrame()\n",
    "df2['date']=date\n",
    "df2.loc[:,'date'] = pd.to_datetime(df2.loc[:,'date'], unit='s')\n",
    "df2.loc[:,'date'] = pd.to_datetime(df2.loc[:,'date'].dt.strftime('%Y/%m/%d'))\n",
    "df2['price']=price\n",
    "df2 = df2.set_index('date')\n"
   ]
  },
  {
   "cell_type": "code",
   "execution_count": 47,
   "metadata": {},
   "outputs": [
    {
     "data": {
      "text/plain": [
       "<AxesSubplot:xlabel='pub_date'>"
      ]
     },
     "execution_count": 47,
     "metadata": {},
     "output_type": "execute_result"
    },
    {
     "data": {
      "image/png": "[encoded data removed]",
      "text/plain": [
       "<Figure size 1440x1440 with 2 Axes>"
      ]
     },
     "metadata": {
      "needs_background": "light"
     },
     "output_type": "display_data"
    }
   ],
   "source": [
    "import matplotlib.pyplot as plt\n",
    "fig, axes = plt.subplots(nrows=2)\n",
    "\n",
    "df2.plot(ax=axes[0], figsize=(20,20))\n",
    "dff.plot(ax=axes[1], figsize=(20,20))"
   ]
  },
  {
   "cell_type": "code",
   "execution_count": 48,
   "metadata": {},
   "outputs": [],
   "source": [
    "drange='3mo'\n",
    "interval='1d'\n",
    "\n",
    "\n",
    "url=('https://yfapi.net/v8/finance/chart/'+tick.ticker+\"?\"+\n",
    "    'comparisons='+tick.ticker+\n",
    "    '&range='+drange+\n",
    "    '&region=US'\n",
    "    '&interval='+interval+\n",
    "    '&lang=en')\n",
    "response = requests.request(\"GET\",url,headers=yheaders)\n",
    "if response.status_code==200:\n",
    "        response = response.json()            "
   ]
  },
  {
   "cell_type": "code",
   "execution_count": 49,
   "metadata": {},
   "outputs": [],
   "source": [
    "date = response['chart']['result'][0]['timestamp']\n",
    "volume = response['chart']['result'][0]['indicators']['quote'][0]['volume']\n",
    "high = response['chart']['result'][0]['indicators']['quote'][0]['high']\n",
    "low = response['chart']['result'][0]['indicators']['quote'][0]['low']\n",
    "opn = response['chart']['result'][0]['indicators']['quote'][0]['open']\n",
    "cls = response['chart']['result'][0]['indicators']['quote'][0]['close']"
   ]
  },
  {
   "cell_type": "code",
   "execution_count": 50,
   "metadata": {},
   "outputs": [],
   "source": [
    "df3 = pd.DataFrame()\n",
    "df3['date']=date\n",
    "df3['high']=high\n",
    "df3['low']=low\n",
    "df3['open']=opn\n",
    "df3['close']=cls\n",
    "df3['volume']=volume\n",
    "df3.loc[:,'date'] = pd.to_datetime(df3.loc[:,'date'], unit='s')\n",
    "df3.loc[:,'date'] = pd.to_datetime(df3.loc[:,'date'].dt.strftime('%Y/%m/%d'))"
   ]
  },
  {
   "cell_type": "code",
   "execution_count": 52,
   "metadata": {},
   "outputs": [
    {
     "name": "stderr",
     "output_type": "stream",
     "text": [
      "C:\\Users\\Hrishikesh Deshmukh\\Anaconda3\\lib\\site-packages\\plotly\\graph_objs\\_deprecations.py:385: DeprecationWarning:\n",
      "\n",
      "plotly.graph_objs.Line is deprecated.\n",
      "Please replace it with one of the following more specific types\n",
      "  - plotly.graph_objs.scatter.Line\n",
      "  - plotly.graph_objs.layout.shape.Line\n",
      "  - etc.\n",
      "\n",
      "\n"
     ]
    },
    {
     "data": {
      "application/vnd.plotly.v1+json": {
       "config": {
        "plotlyServerURL": "https://plot.ly"
       },
       "data": [
        {
         "close": [
          218.1199951171875,
          220.8300018310547,
          218.1699981689453,
          214.24000549316406,
          211.3800048828125,
          213.94000244140625,
          210.3000030517578,
          214.47999572753906,
          211.57000732421875,
          214.22000122070312,
          213.36000061035156,
          213.36000061035156,
          209.5,
          208.50999450683594,
          216.97999572753906,
          221.10000610351562,
          221.38999938964844,
          224.16000366210938,
          218.41000366210938,
          225.36000061035156,
          219.94000244140625,
          226,
          223.7899932861328,
          224.4199981689453,
          224.99000549316406,
          226.47999572753906,
          226.38999938964844,
          226.4499969482422,
          223.57000732421875,
          221.77999877929688,
          217.44000244140625,
          217.0399932861328,
          216.97999572753906,
          215.97000122070312,
          216.1699981689453,
          214.33999633789062,
          212.97000122070312,
          212.8699951171875,
          209.80999755859375,
          206.61000061035156,
          207.85000610351562,
          207.02999877929688,
          214.5800018310547,
          212.77000427246094,
          213.3800048828125,
          213.02999877929688,
          224.4600067138672,
          222.67999267578125,
          220.7899932861328,
          218.5,
          219.3800048828125,
          220.9600067138672,
          233.08999633789062,
          225.8000030517578,
          226.6199951171875,
          227.25,
          214.1300048828125,
          209.89999389648438,
          209.1300048828125,
          210.60000610351562,
          199.2100067138672,
          198.5,
          197.85000610351562
         ],
         "high": [
          221.75999450683594,
          223.83999633789062,
          221.17999267578125,
          216.7100067138672,
          216.0800018310547,
          216.61000061035156,
          215.88999938964844,
          215.63999938964844,
          216.11000061035156,
          214.35000610351562,
          216.30999755859375,
          215.3699951171875,
          212.42999267578125,
          211.75999450683594,
          217.99000549316406,
          222.6199951171875,
          222.41000366210938,
          228.60000610351562,
          224.5800018310547,
          229.94000244140625,
          226.14999389648438,
          226.72000122070312,
          227.97000122070312,
          226.4499969482422,
          225.07000732421875,
          229,
          228.7100067138672,
          232.10000610351562,
          228.66000366210938,
          224.3000030517578,
          222.17999267578125,
          219.61000061035156,
          217.27999877929688,
          217.66000366210938,
          218.66000366210938,
          218.11000061035156,
          216.72000122070312,
          213.97999572753906,
          214.85000610351562,
          212.89999389648438,
          208.74000549316406,
          208.24000549316406,
          214.69000244140625,
          215.72000122070312,
          213.75999450683594,
          214.82000732421875,
          224.5800018310547,
          226.99000549316406,
          222.85000610351562,
          225.67999267578125,
          222.64999389648438,
          223.75,
          233.94000244140625,
          232.9499969482422,
          231.32000732421875,
          231.5,
          225.3300018310547,
          215.02000427246094,
          212.99000549316406,
          211.22000122070312,
          199.4199981689453,
          204.27999877929688,
          198.82000732421875
         ],
         "low": [
          217.6199951171875,
          218.0800018310547,
          217.4600067138672,
          212.1699981689453,
          210.50999450683594,
          210.72000122070312,
          210.1199951171875,
          209.8800048828125,
          210.7100067138672,
          210.32000732421875,
          213.30999755859375,
          211.91000366210938,
          206.52999877929688,
          207.72000122070312,
          209.64999389648438,
          217.14999389648438,
          218.66000366210938,
          223.8800048828125,
          216.4199981689453,
          224.86000061035156,
          219.4600067138672,
          220.60000610351562,
          222,
          222.4199981689453,
          219.1999969482422,
          225.89999389648438,
          225.39999389648438,
          225.32000732421875,
          223.1199951171875,
          219.36000061035156,
          217.0399932861328,
          216.27999877929688,
          214.0500030517578,
          215.27999877929688,
          214.35000610351562,
          213.80999755859375,
          212.5800018310547,
          211.6999969482422,
          208.17999267578125,
          205.63999938964844,
          204.60000610351562,
          205.2899932861328,
          206.80999755859375,
          210.6999969482422,
          210.8699951171875,
          211.8699951171875,
          217.6999969482422,
          222.11000061035156,
          217.5399932861328,
          217.27000427246094,
          218.89999389648438,
          218.89999389648438,
          226.9199981689453,
          225.50999450683594,
          224.1999969482422,
          224.9499969482422,
          213.22999572753906,
          208.9499969482422,
          207.77000427246094,
          206.8699951171875,
          194,
          195.3300018310547,
          193.85000610351562
         ],
         "name": "Price",
         "open": [
          220,
          218.9499969482422,
          219.4499969482422,
          215.91000366210938,
          213.60000610351562,
          211.14999389648438,
          215.16000366210938,
          211.35000610351562,
          215.83999633789062,
          211.7899932861328,
          213.9600067138672,
          213.1199951171875,
          210.80999755859375,
          210.25,
          210,
          217.80999755859375,
          219.1300048828125,
          224,
          222.89999389648438,
          227.8000030517578,
          226.0800018310547,
          222.85000610351562,
          225.67999267578125,
          224.27000427246094,
          221.0800018310547,
          227.33999633789062,
          226.75,
          226.5,
          226,
          224,
          221.07000732421875,
          218.1699981689453,
          216,
          217.47000122070312,
          215.49000549316406,
          216.5399932861328,
          214.60000610351562,
          213.25,
          213.19000244140625,
          212.85000610351562,
          206,
          206.83999633789062,
          207,
          213.8300018310547,
          211.47000122070312,
          213.8000030517578,
          217.6999969482422,
          225.24000549316406,
          222.49000549316406,
          219.36000061035156,
          220.5,
          219.72000122070312,
          227.3699951171875,
          232.94000244140625,
          229.5399932861328,
          230.3000030517578,
          225.07000732421875,
          215,
          211.5,
          207.52000427246094,
          197.57000732421875,
          201.8699951171875,
          196.02000427246094
         ],
         "type": "candlestick",
         "x": [
          "2021-09-01T00:00:00",
          "2021-09-02T00:00:00",
          "2021-09-03T00:00:00",
          "2021-09-07T00:00:00",
          "2021-09-08T00:00:00",
          "2021-09-09T00:00:00",
          "2021-09-10T00:00:00",
          "2021-09-13T00:00:00",
          "2021-09-14T00:00:00",
          "2021-09-15T00:00:00",
          "2021-09-16T00:00:00",
          "2021-09-17T00:00:00",
          "2021-09-20T00:00:00",
          "2021-09-21T00:00:00",
          "2021-09-22T00:00:00",
          "2021-09-23T00:00:00",
          "2021-09-24T00:00:00",
          "2021-09-27T00:00:00",
          "2021-09-28T00:00:00",
          "2021-09-29T00:00:00",
          "2021-09-30T00:00:00",
          "2021-10-01T00:00:00",
          "2021-10-04T00:00:00",
          "2021-10-05T00:00:00",
          "2021-10-06T00:00:00",
          "2021-10-07T00:00:00",
          "2021-10-08T00:00:00",
          "2021-10-11T00:00:00",
          "2021-10-12T00:00:00",
          "2021-10-13T00:00:00",
          "2021-10-14T00:00:00",
          "2021-10-15T00:00:00",
          "2021-10-18T00:00:00",
          "2021-10-19T00:00:00",
          "2021-10-20T00:00:00",
          "2021-10-21T00:00:00",
          "2021-10-22T00:00:00",
          "2021-10-25T00:00:00",
          "2021-10-26T00:00:00",
          "2021-10-27T00:00:00",
          "2021-10-28T00:00:00",
          "2021-10-29T00:00:00",
          "2021-11-01T00:00:00",
          "2021-11-02T00:00:00",
          "2021-11-03T00:00:00",
          "2021-11-04T00:00:00",
          "2021-11-05T00:00:00",
          "2021-11-08T00:00:00",
          "2021-11-09T00:00:00",
          "2021-11-10T00:00:00",
          "2021-11-11T00:00:00",
          "2021-11-12T00:00:00",
          "2021-11-15T00:00:00",
          "2021-11-16T00:00:00",
          "2021-11-17T00:00:00",
          "2021-11-18T00:00:00",
          "2021-11-19T00:00:00",
          "2021-11-22T00:00:00",
          "2021-11-23T00:00:00",
          "2021-11-24T00:00:00",
          "2021-11-26T00:00:00",
          "2021-11-29T00:00:00",
          "2021-11-30T00:00:00"
         ],
         "xaxis": "x",
         "yaxis": "y2"
        },
        {
         "name": "Volume",
         "opacity": 0.2,
         "type": "bar",
         "x": [
          "2021-09-01T00:00:00",
          "2021-09-02T00:00:00",
          "2021-09-03T00:00:00",
          "2021-09-07T00:00:00",
          "2021-09-08T00:00:00",
          "2021-09-09T00:00:00",
          "2021-09-10T00:00:00",
          "2021-09-13T00:00:00",
          "2021-09-14T00:00:00",
          "2021-09-15T00:00:00",
          "2021-09-16T00:00:00",
          "2021-09-17T00:00:00",
          "2021-09-20T00:00:00",
          "2021-09-21T00:00:00",
          "2021-09-22T00:00:00",
          "2021-09-23T00:00:00",
          "2021-09-24T00:00:00",
          "2021-09-27T00:00:00",
          "2021-09-28T00:00:00",
          "2021-09-29T00:00:00",
          "2021-09-30T00:00:00",
          "2021-10-01T00:00:00",
          "2021-10-04T00:00:00",
          "2021-10-05T00:00:00",
          "2021-10-06T00:00:00",
          "2021-10-07T00:00:00",
          "2021-10-08T00:00:00",
          "2021-10-11T00:00:00",
          "2021-10-12T00:00:00",
          "2021-10-13T00:00:00",
          "2021-10-14T00:00:00",
          "2021-10-15T00:00:00",
          "2021-10-18T00:00:00",
          "2021-10-19T00:00:00",
          "2021-10-20T00:00:00",
          "2021-10-21T00:00:00",
          "2021-10-22T00:00:00",
          "2021-10-25T00:00:00",
          "2021-10-26T00:00:00",
          "2021-10-27T00:00:00",
          "2021-10-28T00:00:00",
          "2021-10-29T00:00:00",
          "2021-11-01T00:00:00",
          "2021-11-02T00:00:00",
          "2021-11-03T00:00:00",
          "2021-11-04T00:00:00",
          "2021-11-05T00:00:00",
          "2021-11-08T00:00:00",
          "2021-11-09T00:00:00",
          "2021-11-10T00:00:00",
          "2021-11-11T00:00:00",
          "2021-11-12T00:00:00",
          "2021-11-15T00:00:00",
          "2021-11-16T00:00:00",
          "2021-11-17T00:00:00",
          "2021-11-18T00:00:00",
          "2021-11-19T00:00:00",
          "2021-11-22T00:00:00",
          "2021-11-23T00:00:00",
          "2021-11-24T00:00:00",
          "2021-11-26T00:00:00",
          "2021-11-29T00:00:00",
          "2021-11-30T00:00:00"
         ],
         "xaxis": "x",
         "y": [
          7157400,
          8899500,
          6393500,
          13196100,
          8877600,
          9242800,
          6937100,
          10175900,
          9947000,
          7916300,
          6370900,
          7932700,
          10567400,
          7139000,
          10953000,
          9344600,
          6498200,
          9749200,
          9639800,
          16808000,
          10356200,
          9113600,
          6946100,
          5687300,
          7157600,
          7748500,
          4512400,
          7287000,
          8486800,
          8240200,
          10427300,
          8756200,
          6553500,
          5963400,
          8485200,
          8691500,
          7077600,
          7239100,
          11014500,
          14761700,
          8825500,
          8548300,
          9284900,
          6160200,
          4636100,
          5849600,
          16909300,
          9456100,
          6863700,
          8197600,
          6567300,
          6413500,
          21921900,
          10120200,
          10750900,
          10983700,
          20811900,
          10764300,
          8882800,
          5437600,
          17636600,
          12276200,
          12616800
         ],
         "yaxis": "y"
        },
        {
         "showlegend": false,
         "type": "scatter",
         "x": [
          "2021-09-22T00:00:00",
          "2021-09-23T00:00:00",
          "2021-09-24T00:00:00",
          "2021-09-26T00:00:00",
          "2021-09-27T00:00:00",
          "2021-09-28T00:00:00",
          "2021-09-29T00:00:00",
          "2021-09-30T00:00:00",
          "2021-10-02T00:00:00",
          "2021-10-06T00:00:00",
          "2021-10-07T00:00:00",
          "2021-10-08T00:00:00",
          "2021-10-12T00:00:00",
          "2021-10-13T00:00:00",
          "2021-10-14T00:00:00",
          "2021-10-15T00:00:00",
          "2021-10-18T00:00:00",
          "2021-10-19T00:00:00",
          "2021-10-20T00:00:00",
          "2021-10-21T00:00:00",
          "2021-10-22T00:00:00",
          "2021-10-24T00:00:00",
          "2021-10-25T00:00:00",
          "2021-10-26T00:00:00",
          "2021-10-27T00:00:00",
          "2021-10-28T00:00:00",
          "2021-10-29T00:00:00",
          "2021-10-31T00:00:00",
          "2021-11-01T00:00:00",
          "2021-11-02T00:00:00",
          "2021-11-03T00:00:00",
          "2021-11-04T00:00:00",
          "2021-11-05T00:00:00",
          "2021-11-08T00:00:00",
          "2021-11-09T00:00:00",
          "2021-11-11T00:00:00",
          "2021-11-15T00:00:00",
          "2021-11-16T00:00:00",
          "2021-11-17T00:00:00",
          "2021-11-18T00:00:00",
          "2021-11-19T00:00:00",
          "2021-11-22T00:00:00",
          "2021-11-23T00:00:00",
          "2021-11-24T00:00:00",
          "2021-11-25T00:00:00",
          "2021-11-26T00:00:00",
          "2021-11-28T00:00:00",
          "2021-11-29T00:00:00",
          "2021-11-30T00:00:00"
         ],
         "xaxis": "x2",
         "y": [
          0.9885684027907025,
          0.49041423404021856,
          3.2764029219168154,
          -0.5556500100320768,
          1.215613405785281,
          0.7516237265796134,
          -0.1866860427307564,
          0.6198736340587974,
          0.49766946653603794,
          0.34701565056911593,
          -1.8487604800559443,
          -1.0732634783325183,
          0.08299571736394873,
          -0.6942260986297881,
          0.06708231325708035,
          1.00276431380708,
          1.0603418358676593,
          -0.2392518894516282,
          -3.3005751112346284,
          -1.2758005733130315,
          -0.9939961978352004,
          0.7970894021606308,
          -0.24866652627188324,
          -0.1763355719194512,
          -0.9547386391374021,
          -0.49200947089811414,
          -0.23847056897255303,
          -0.0004035657851567953,
          2.74198592575946,
          -0.8160124218286695,
          -2.1061928059851005,
          -0.5038592788863574,
          0.16301905025658583,
          -1.9465865128369877,
          -4.00999500591267,
          -1.3233797037689203,
          0.27146276956362875,
          -0.8236974857136564,
          -0.26806452777938533,
          -0.6378151016627633,
          -0.6443466047442787,
          0.14965215393779605,
          -0.5691811621228792,
          -0.8295012929830522,
          -0.36928529100885576,
          0.04546754799750749,
          -0.9264303979900186,
          -0.3241141338212338,
          -0.7109663273678504
         ],
         "yaxis": "y3"
        }
       ],
       "layout": {
        "annotations": [
         {
          "font": {
           "size": 16
          },
          "showarrow": false,
          "text": "BA",
          "x": 0.47,
          "xanchor": "center",
          "xref": "paper",
          "y": 1,
          "yanchor": "bottom",
          "yref": "paper"
         },
         {
          "font": {
           "size": 16
          },
          "showarrow": false,
          "text": "Sentiment",
          "x": 0.47,
          "xanchor": "center",
          "xref": "paper",
          "y": 0.2425,
          "yanchor": "bottom",
          "yref": "paper"
         }
        ],
        "template": {
         "data": {
          "bar": [
           {
            "error_x": {
             "color": "#2a3f5f"
            },
            "error_y": {
             "color": "#2a3f5f"
            },
            "marker": {
             "line": {
              "color": "#E5ECF6",
              "width": 0.5
             },
             "pattern": {
              "fillmode": "overlay",
              "size": 10,
              "solidity": 0.2
             }
            },
            "type": "bar"
           }
          ],
          "barpolar": [
           {
            "marker": {
             "line": {
              "color": "#E5ECF6",
              "width": 0.5
             },
             "pattern": {
              "fillmode": "overlay",
              "size": 10,
              "solidity": 0.2
             }
            },
            "type": "barpolar"
           }
          ],
          "carpet": [
           {
            "aaxis": {
             "endlinecolor": "#2a3f5f",
             "gridcolor": "white",
             "linecolor": "white",
             "minorgridcolor": "white",
             "startlinecolor": "#2a3f5f"
            },
            "baxis": {
             "endlinecolor": "#2a3f5f",
             "gridcolor": "white",
             "linecolor": "white",
             "minorgridcolor": "white",
             "startlinecolor": "#2a3f5f"
            },
            "type": "carpet"
           }
          ],
          "choropleth": [
           {
            "colorbar": {
             "outlinewidth": 0,
             "ticks": ""
            },
            "type": "choropleth"
           }
          ],
          "contour": [
           {
            "colorbar": {
             "outlinewidth": 0,
             "ticks": ""
            },
            "colorscale": [
             [
              0,
              "#0d0887"
             ],
             [
              0.1111111111111111,
              "#46039f"
             ],
             [
              0.2222222222222222,
              "#7201a8"
             ],
             [
              0.3333333333333333,
              "#9c179e"
             ],
             [
              0.4444444444444444,
              "#bd3786"
             ],
             [
              0.5555555555555556,
              "#d8576b"
             ],
             [
              0.6666666666666666,
              "#ed7953"
             ],
             [
              0.7777777777777778,
              "#fb9f3a"
             ],
             [
              0.8888888888888888,
              "#fdca26"
             ],
             [
              1,
              "#f0f921"
             ]
            ],
            "type": "contour"
           }
          ],
          "contourcarpet": [
           {
            "colorbar": {
             "outlinewidth": 0,
             "ticks": ""
            },
            "type": "contourcarpet"
           }
          ],
          "heatmap": [
           {
            "colorbar": {
             "outlinewidth": 0,
             "ticks": ""
            },
            "colorscale": [
             [
              0,
              "#0d0887"
             ],
             [
              0.1111111111111111,
              "#46039f"
             ],
             [
              0.2222222222222222,
              "#7201a8"
             ],
             [
              0.3333333333333333,
              "#9c179e"
             ],
             [
              0.4444444444444444,
              "#bd3786"
             ],
             [
              0.5555555555555556,
              "#d8576b"
             ],
             [
              0.6666666666666666,
              "#ed7953"
             ],
             [
              0.7777777777777778,
              "#fb9f3a"
             ],
             [
              0.8888888888888888,
              "#fdca26"
             ],
             [
              1,
              "#f0f921"
             ]
            ],
            "type": "heatmap"
           }
          ],
          "heatmapgl": [
           {
            "colorbar": {
             "outlinewidth": 0,
             "ticks": ""
            },
            "colorscale": [
             [
              0,
              "#0d0887"
             ],
             [
              0.1111111111111111,
              "#46039f"
             ],
             [
              0.2222222222222222,
              "#7201a8"
             ],
             [
              0.3333333333333333,
              "#9c179e"
             ],
             [
              0.4444444444444444,
              "#bd3786"
             ],
             [
              0.5555555555555556,
              "#d8576b"
             ],
             [
              0.6666666666666666,
              "#ed7953"
             ],
             [
              0.7777777777777778,
              "#fb9f3a"
             ],
             [
              0.8888888888888888,
              "#fdca26"
             ],
             [
              1,
              "#f0f921"
             ]
            ],
            "type": "heatmapgl"
           }
          ],
          "histogram": [
           {
            "marker": {
             "pattern": {
              "fillmode": "overlay",
              "size": 10,
              "solidity": 0.2
             }
            },
            "type": "histogram"
           }
          ],
          "histogram2d": [
           {
            "colorbar": {
             "outlinewidth": 0,
             "ticks": ""
            },
            "colorscale": [
             [
              0,
              "#0d0887"
             ],
             [
              0.1111111111111111,
              "#46039f"
             ],
             [
              0.2222222222222222,
              "#7201a8"
             ],
             [
              0.3333333333333333,
              "#9c179e"
             ],
             [
              0.4444444444444444,
              "#bd3786"
             ],
             [
              0.5555555555555556,
              "#d8576b"
             ],
             [
              0.6666666666666666,
              "#ed7953"
             ],
             [
              0.7777777777777778,
              "#fb9f3a"
             ],
             [
              0.8888888888888888,
              "#fdca26"
             ],
             [
              1,
              "#f0f921"
             ]
            ],
            "type": "histogram2d"
           }
          ],
          "histogram2dcontour": [
           {
            "colorbar": {
             "outlinewidth": 0,
             "ticks": ""
            },
            "colorscale": [
             [
              0,
              "#0d0887"
             ],
             [
              0.1111111111111111,
              "#46039f"
             ],
             [
              0.2222222222222222,
              "#7201a8"
             ],
             [
              0.3333333333333333,
              "#9c179e"
             ],
             [
              0.4444444444444444,
              "#bd3786"
             ],
             [
              0.5555555555555556,
              "#d8576b"
             ],
             [
              0.6666666666666666,
              "#ed7953"
             ],
             [
              0.7777777777777778,
              "#fb9f3a"
             ],
             [
              0.8888888888888888,
              "#fdca26"
             ],
             [
              1,
              "#f0f921"
             ]
            ],
            "type": "histogram2dcontour"
           }
          ],
          "mesh3d": [
           {
            "colorbar": {
             "outlinewidth": 0,
             "ticks": ""
            },
            "type": "mesh3d"
           }
          ],
          "parcoords": [
           {
            "line": {
             "colorbar": {
              "outlinewidth": 0,
              "ticks": ""
             }
            },
            "type": "parcoords"
           }
          ],
          "pie": [
           {
            "automargin": true,
            "type": "pie"
           }
          ],
          "scatter": [
           {
            "marker": {
             "colorbar": {
              "outlinewidth": 0,
              "ticks": ""
             }
            },
            "type": "scatter"
           }
          ],
          "scatter3d": [
           {
            "line": {
             "colorbar": {
              "outlinewidth": 0,
              "ticks": ""
             }
            },
            "marker": {
             "colorbar": {
              "outlinewidth": 0,
              "ticks": ""
             }
            },
            "type": "scatter3d"
           }
          ],
          "scattercarpet": [
           {
            "marker": {
             "colorbar": {
              "outlinewidth": 0,
              "ticks": ""
             }
            },
            "type": "scattercarpet"
           }
          ],
          "scattergeo": [
           {
            "marker": {
             "colorbar": {
              "outlinewidth": 0,
              "ticks": ""
             }
            },
            "type": "scattergeo"
           }
          ],
          "scattergl": [
           {
            "marker": {
             "colorbar": {
              "outlinewidth": 0,
              "ticks": ""
             }
            },
            "type": "scattergl"
           }
          ],
          "scattermapbox": [
           {
            "marker": {
             "colorbar": {
              "outlinewidth": 0,
              "ticks": ""
             }
            },
            "type": "scattermapbox"
           }
          ],
          "scatterpolar": [
           {
            "marker": {
             "colorbar": {
              "outlinewidth": 0,
              "ticks": ""
             }
            },
            "type": "scatterpolar"
           }
          ],
          "scatterpolargl": [
           {
            "marker": {
             "colorbar": {
              "outlinewidth": 0,
              "ticks": ""
             }
            },
            "type": "scatterpolargl"
           }
          ],
          "scatterternary": [
           {
            "marker": {
             "colorbar": {
              "outlinewidth": 0,
              "ticks": ""
             }
            },
            "type": "scatterternary"
           }
          ],
          "surface": [
           {
            "colorbar": {
             "outlinewidth": 0,
             "ticks": ""
            },
            "colorscale": [
             [
              0,
              "#0d0887"
             ],
             [
              0.1111111111111111,
              "#46039f"
             ],
             [
              0.2222222222222222,
              "#7201a8"
             ],
             [
              0.3333333333333333,
              "#9c179e"
             ],
             [
              0.4444444444444444,
              "#bd3786"
             ],
             [
              0.5555555555555556,
              "#d8576b"
             ],
             [
              0.6666666666666666,
              "#ed7953"
             ],
             [
              0.7777777777777778,
              "#fb9f3a"
             ],
             [
              0.8888888888888888,
              "#fdca26"
             ],
             [
              1,
              "#f0f921"
             ]
            ],
            "type": "surface"
           }
          ],
          "table": [
           {
            "cells": {
             "fill": {
              "color": "#EBF0F8"
             },
             "line": {
              "color": "white"
             }
            },
            "header": {
             "fill": {
              "color": "#C8D4E3"
             },
             "line": {
              "color": "white"
             }
            },
            "type": "table"
           }
          ]
         },
         "layout": {
          "annotationdefaults": {
           "arrowcolor": "#2a3f5f",
           "arrowhead": 0,
           "arrowwidth": 1
          },
          "autotypenumbers": "strict",
          "coloraxis": {
           "colorbar": {
            "outlinewidth": 0,
            "ticks": ""
           }
          },
          "colorscale": {
           "diverging": [
            [
             0,
             "#8e0152"
            ],
            [
             0.1,
             "#c51b7d"
            ],
            [
             0.2,
             "#de77ae"
            ],
            [
             0.3,
             "#f1b6da"
            ],
            [
             0.4,
             "#fde0ef"
            ],
            [
             0.5,
             "#f7f7f7"
            ],
            [
             0.6,
             "#e6f5d0"
            ],
            [
             0.7,
             "#b8e186"
            ],
            [
             0.8,
             "#7fbc41"
            ],
            [
             0.9,
             "#4d9221"
            ],
            [
             1,
             "#276419"
            ]
           ],
           "sequential": [
            [
             0,
             "#0d0887"
            ],
            [
             0.1111111111111111,
             "#46039f"
            ],
            [
             0.2222222222222222,
             "#7201a8"
            ],
            [
             0.3333333333333333,
             "#9c179e"
            ],
            [
             0.4444444444444444,
             "#bd3786"
            ],
            [
             0.5555555555555556,
             "#d8576b"
            ],
            [
             0.6666666666666666,
             "#ed7953"
            ],
            [
             0.7777777777777778,
             "#fb9f3a"
            ],
            [
             0.8888888888888888,
             "#fdca26"
            ],
            [
             1,
             "#f0f921"
            ]
           ],
           "sequentialminus": [
            [
             0,
             "#0d0887"
            ],
            [
             0.1111111111111111,
             "#46039f"
            ],
            [
             0.2222222222222222,
             "#7201a8"
            ],
            [
             0.3333333333333333,
             "#9c179e"
            ],
            [
             0.4444444444444444,
             "#bd3786"
            ],
            [
             0.5555555555555556,
             "#d8576b"
            ],
            [
             0.6666666666666666,
             "#ed7953"
            ],
            [
             0.7777777777777778,
             "#fb9f3a"
            ],
            [
             0.8888888888888888,
             "#fdca26"
            ],
            [
             1,
             "#f0f921"
            ]
           ]
          },
          "colorway": [
           "#636efa",
           "#EF553B",
           "#00cc96",
           "#ab63fa",
           "#FFA15A",
           "#19d3f3",
           "#FF6692",
           "#B6E880",
           "#FF97FF",
           "#FECB52"
          ],
          "font": {
           "color": "#2a3f5f"
          },
          "geo": {
           "bgcolor": "white",
           "lakecolor": "white",
           "landcolor": "#E5ECF6",
           "showlakes": true,
           "showland": true,
           "subunitcolor": "white"
          },
          "hoverlabel": {
           "align": "left"
          },
          "hovermode": "closest",
          "mapbox": {
           "style": "light"
          },
          "paper_bgcolor": "white",
          "plot_bgcolor": "#E5ECF6",
          "polar": {
           "angularaxis": {
            "gridcolor": "white",
            "linecolor": "white",
            "ticks": ""
           },
           "bgcolor": "#E5ECF6",
           "radialaxis": {
            "gridcolor": "white",
            "linecolor": "white",
            "ticks": ""
           }
          },
          "scene": {
           "xaxis": {
            "backgroundcolor": "#E5ECF6",
            "gridcolor": "white",
            "gridwidth": 2,
            "linecolor": "white",
            "showbackground": true,
            "ticks": "",
            "zerolinecolor": "white"
           },
           "yaxis": {
            "backgroundcolor": "#E5ECF6",
            "gridcolor": "white",
            "gridwidth": 2,
            "linecolor": "white",
            "showbackground": true,
            "ticks": "",
            "zerolinecolor": "white"
           },
           "zaxis": {
            "backgroundcolor": "#E5ECF6",
            "gridcolor": "white",
            "gridwidth": 2,
            "linecolor": "white",
            "showbackground": true,
            "ticks": "",
            "zerolinecolor": "white"
           }
          },
          "shapedefaults": {
           "line": {
            "color": "#2a3f5f"
           }
          },
          "ternary": {
           "aaxis": {
            "gridcolor": "white",
            "linecolor": "white",
            "ticks": ""
           },
           "baxis": {
            "gridcolor": "white",
            "linecolor": "white",
            "ticks": ""
           },
           "bgcolor": "#E5ECF6",
           "caxis": {
            "gridcolor": "white",
            "linecolor": "white",
            "ticks": ""
           }
          },
          "title": {
           "x": 0.05
          },
          "xaxis": {
           "automargin": true,
           "gridcolor": "white",
           "linecolor": "white",
           "ticks": "",
           "title": {
            "standoff": 15
           },
           "zerolinecolor": "white",
           "zerolinewidth": 2
          },
          "yaxis": {
           "automargin": true,
           "gridcolor": "white",
           "linecolor": "white",
           "ticks": "",
           "title": {
            "standoff": 15
           },
           "zerolinecolor": "white",
           "zerolinewidth": 2
          }
         }
        },
        "xaxis": {
         "anchor": "y",
         "domain": [
          0,
          0.94
         ],
         "matches": "x2",
         "rangeslider": {
          "visible": false
         },
         "showticklabels": false
        },
        "xaxis2": {
         "anchor": "y3",
         "domain": [
          0,
          0.94
         ]
        },
        "yaxis": {
         "anchor": "x",
         "domain": [
          0.27249999999999996,
          1
         ]
        },
        "yaxis2": {
         "anchor": "x",
         "overlaying": "y",
         "showgrid": false,
         "side": "right"
        },
        "yaxis3": {
         "anchor": "x2",
         "domain": [
          0,
          0.2425
         ]
        },
        "yaxis4": {
         "anchor": "x2",
         "overlaying": "y3",
         "side": "right"
        }
       }
      }
     },
     "metadata": {},
     "output_type": "display_data"
    }
   ],
   "source": [
    "import plotly.graph_objects as go\n",
    "from plotly.subplots import make_subplots\n",
    "\n",
    "dff=dff.reset_index()\n",
    "\n",
    "fig = make_subplots(rows=2, cols=1, shared_xaxes=True,vertical_spacing=0.03, subplot_titles=(tick.ticker,'Sentiment', 'Volume'), \n",
    "               row_width=[0.3, 0.9], specs=[[{\"secondary_y\": True}],[{\"secondary_y\": True}]])\n",
    "fig.add_trace(go.Candlestick(x=df3['date'],\n",
    "                open=df3['open'], high=df3['high'],\n",
    "                low=df3['low'], close=df3['close'], name=\"Price\"),\n",
    "               secondary_y=True, row=1,col=1)\n",
    "\n",
    "fig.add_trace(go.Bar(x=df3['date'], y=df3['volume'],opacity=0.2, name='Volume'),secondary_y=False)\n",
    "fig.add_trace(go.Line(x=dff['pub_date'], y=dff['sentiments'], showlegend=False), row=2, col=1)\n",
    "fig.update_layout(xaxis_rangeslider_visible=False)\n",
    "fig.layout.yaxis2.showgrid=False\n",
    "fig.show()"
   ]
  },
  {
   "cell_type": "code",
   "execution_count": null,
   "metadata": {},
   "outputs": [],
   "source": []
  }
 ],
 "metadata": {
  "kernelspec": {
   "display_name": "Python 3",
   "language": "python",
   "name": "python3"
  },
  "language_info": {
   "codemirror_mode": {
    "name": "ipython",
    "version": 3
   },
   "file_extension": ".py",
   "mimetype": "text/x-python",
   "name": "python",
   "nbconvert_exporter": "python",
   "pygments_lexer": "ipython3",
   "version": "3.7.3"
  }
 },
 "nbformat": 4,
 "nbformat_minor": 4
}
