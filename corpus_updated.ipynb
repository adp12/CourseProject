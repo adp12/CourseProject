{
 "cells": [
  {
   "cell_type": "code",
   "execution_count": 1,
   "metadata": {},
   "outputs": [],
   "source": [
    "import requests\n",
    "from bs4 import BeautifulSoup\n",
    "import re\n",
    "from datetime import datetime\n",
    "from dateutil import parser as dparser\n",
    "import urllib.parse\n",
    "import timeit\n",
    "\n",
    "import numpy as np\n",
    "import pandas as pd\n",
    "import math\n",
    "from sklearn.feature_extraction.text import TfidfVectorizer\n",
    "from sklearn.feature_extraction.text import CountVectorizer\n",
    "from scipy import sparse\n",
    "\n",
    "from transformers import DistilBertForSequenceClassification, DistilBertTokenizer\n",
    "import torch\n",
    "from transformers import pipeline\n",
    "\n",
    "from util.config import config\n",
    "from util.pyRanker import BM25\n",
    "from util.web_query_v2 import web_query\n",
    "from util.ticker import Ticker\n",
    "import ipywidgets as widgets\n",
    "\n",
    "import dash\n",
    "from dash import html\n",
    "from dash import dcc\n",
    "import plotly.graph_objects as go\n",
    "import plotly.express as px"
   ]
  },
  {
   "cell_type": "code",
   "execution_count": 2,
   "metadata": {},
   "outputs": [],
   "source": [
    "model = DistilBertForSequenceClassification.from_pretrained('distilbert-base-uncased-finetuned-sst-2-english')\n",
    "tokenizer = DistilBertTokenizer.from_pretrained('distilbert-base-uncased-finetuned-sst-2-english')\n",
    "classifier = pipeline(task='sentiment-analysis',model=model,tokenizer=tokenizer)\n",
    "max_tokens = int(tokenizer.model_max_length)"
   ]
  },
  {
   "cell_type": "code",
   "execution_count": 3,
   "metadata": {},
   "outputs": [],
   "source": [
    "#running through sub_docs and outputting sentiment list\n",
    "\n",
    "def get_sentiments(docs):\n",
    "    \n",
    "    c = 0\n",
    "    for x in docs.keys():\n",
    "        c+=len(docs[x])\n",
    "    \n",
    "    pgres = widgets.IntProgress(value=0,min=0,max=c, step=1)\n",
    "    display(pgres)\n",
    "    \n",
    "    sentiments = {}\n",
    "    \n",
    "    for x in docs.keys():\n",
    "        scrs=[]\n",
    "        for y in range(0, len(docs[x])):\n",
    "            \n",
    "            s = classifier(docs[x][y])\n",
    "            scr = s[0]['score']\n",
    "            if s[0]['label']==\"NEGATIVE\":\n",
    "                scr=scr*-1\n",
    "            scrs.append(scr)\n",
    "            pgres.value+=1\n",
    "            pgres.description=str(pgres.value)+\":\"+str(c)\n",
    "        \n",
    "        sentiments[x]=scrs\n",
    "                \n",
    "    return sentiments"
   ]
  },
  {
   "cell_type": "code",
   "execution_count": 4,
   "metadata": {},
   "outputs": [],
   "source": [
    "class Corpus(object):\n",
    "    \n",
    "    #******************************************************************************\n",
    "    #----------------------------------Method---------------------------------------\n",
    "    #******************************************************************************\n",
    "    \n",
    "    #Run the web_query to produce a collection of text documents scraped from the web\n",
    "    \n",
    "    #Use the set_results() function to store the full results in the corpus for processing\n",
    "    \n",
    "    #Use the set_corpus() function to assign the documents scraped from the web to the corpus\n",
    "    \n",
    "    #Sub divide the documents into smaller sub_docs\n",
    "    \n",
    "    #Rank the documents based on relevance to the original query as well as any tags\n",
    "    \n",
    "    #Prune the sub_docs to produce a relevant set\n",
    "    \n",
    "    #\n",
    "    \n",
    "    #******************************************************************************\n",
    "    #******************************************************************************\n",
    "    \n",
    "    def __init__(self):\n",
    "        \n",
    "        #typical corpus data\n",
    "        self.documents = []\n",
    "        self.vocabulary = []\n",
    "        self.number_of_documents = 0\n",
    "        self.vocabulary_size = 0\n",
    "                \n",
    "        #for web results\n",
    "        self.query_results=None\n",
    "        self.max_tokens=512\n",
    "        self.failed = []\n",
    "        \n",
    "        #sub dividing documents\n",
    "        self.tokenizer=None\n",
    "        self.sub_docs=None\n",
    "        self.sub_list=[]\n",
    "        \n",
    "        #queries\n",
    "        self.prime_q=None\n",
    "        self.expanded_q=None        \n",
    "        \n",
    "        #relevance scores\n",
    "        self.document_scores=None\n",
    "        self.subdoc_scores=None\n",
    "        self.title_scores=None\n",
    "        self.sub_list_scores=None\n",
    "                \n",
    "        #pruned data\n",
    "        self.pruned_docs=[]\n",
    "        self.pruned_subdocs={}\n",
    "        \n",
    "        #relevant\n",
    "        self.relevant_set={}\n",
    "        self.relevant_scores={}\n",
    "        self.rel_list_scores=[]\n",
    "        \n",
    "        #sentiments\n",
    "        self.sentiments=None\n",
    "    \n",
    "    \n",
    "    #******************************************************************************\n",
    "    #------------------------------Setting Corpus----------------------------------\n",
    "    #******************************************************************************\n",
    "    \n",
    "    def set_results(self, df):\n",
    "        #dataframe returned from webquery\n",
    "        self.query_results=df\n",
    "    \n",
    "    def set_corpus(self, documents):\n",
    "        self.documents = documents\n",
    "                \n",
    "\n",
    "    def build_corpus_from_file(self, file_path):\n",
    "\n",
    "        f = open(file_path, 'r')\n",
    "        docs = f.readlines()\n",
    "        for d in docs:\n",
    "            self.documents.append(d)\n",
    "        self.number_of_documents = len(docs)\n",
    "\n",
    "        \n",
    "    def build_vocabulary(self, stopwords):\n",
    "\n",
    "        v = set([])\n",
    "        for x in self.documents:\n",
    "            tmp = set(x.split())\n",
    "            tmp = {x for x in tmp if x.lower() not in stopwords}\n",
    "                        \n",
    "            v.update(tmp)\n",
    "        \n",
    "        v = list(v)\n",
    "        self.vocabulary = v\n",
    "        self.vocabulary_size = len(v)\n",
    "    \n",
    "    \n",
    "    #******************************************************************************\n",
    "    #---------------------------------Queries--------------------------------------\n",
    "    #******************************************************************************\n",
    "    \n",
    "    def set_ticker_data(self, ticker):\n",
    "        name = re.sub('(Inc|Company|Corporation|Corp|Co|Incorporated|LLC|,|\\.| )',\"\",str(ticker.name), flags=re.I)\n",
    "        self.ticker_sym = str(ticker.ticker)\n",
    "        self.company_name = str(name)\n",
    "        self.ticker_tags = ticker.tags    \n",
    "    \n",
    "    def build_queries(self, ticker=None, prime='name', prime_w=1, tag_w=0.05, include_gtags=True, gtags_w=0.01, include_btags=True, btags_w=0.01):\n",
    "        \n",
    "        if ticker is not None:\n",
    "            self.set_ticker_data(ticker)\n",
    "        \n",
    "        if prime=='name':\n",
    "            self.prime_q = str(self.company_name)\n",
    "            self.prime_type=1\n",
    "        elif prime=='ticker':\n",
    "            self.prime_q = str(self.ticker_sym)\n",
    "            self.prime_type=2\n",
    "        elif prime=='both':\n",
    "            self.prime_q = str(self.company_name)+\" \"+str(self.ticker_sym)\n",
    "        \n",
    "        gtags = ['investing','analysis','analyst','upgrade','downgrade']\n",
    "        btags = ['sentiment','opinion','outlook']\n",
    "        \n",
    "        exp = []\n",
    "        for t in self.ticker_tags:\n",
    "            exp.append([t, tag_w])\n",
    "        if include_gtags:\n",
    "            for t in gtags:\n",
    "                exp.append([t, gtags_w])\n",
    "        if include_btags:\n",
    "            for t in btags:\n",
    "                exp.append([t, btags_w])\n",
    "        \n",
    "        self.expanded_q=exp\n",
    "    \n",
    "    #******************************************************************************\n",
    "    #------------------------------Sub Dividing-------------------------------------\n",
    "    #******************************************************************************\n",
    "    \n",
    "    def get_pgraphs(self, doc, cutoff, method):\n",
    "        #updated get_pgraphs() with method for cutoff\n",
    "        #cut off method:\n",
    "        #sen: number of sentences\n",
    "        #word: number of words  \n",
    "\n",
    "        pgraphs=[]\n",
    "        freshsoup = re.split('\\n\\n',doc)\n",
    "        for x in range(0,len(freshsoup)):\n",
    "            if method=='word':\n",
    "                words = len(str(freshsoup[x]).strip().split(' ',maxsplit=cutoff))\n",
    "                if words>cutoff:\n",
    "                    pgraphs.append(freshsoup[x])\n",
    "                    \n",
    "            elif method=='sen':\n",
    "                sens = len(re.findall(\"\\.\",str(freshsoup[x]).strip()))\n",
    "                if sens>cutoff:\n",
    "                    pgraphs.append(freshsoup[x])\n",
    "                    \n",
    "        return pgraphs\n",
    "    \n",
    "    def split_doc(self, doc):         \n",
    "        \n",
    "        if len(doc)>0:\n",
    "            avgwrds = 15\n",
    "            estsens = len(doc)/avgwrds\n",
    "        \n",
    "            if len(re.findall('\\.',doc))>=estsens:\n",
    "                cut_point = doc.rfind('.', 0, int(len(doc)/2))\n",
    "                if cut_point<=0:\n",
    "                    cut_point = int(len(doc)/2)\n",
    "            else:\n",
    "                cut_point = int(len(doc)/2)\n",
    "\n",
    "            d1 = doc[0:cut_point]\n",
    "            d2 = doc[cut_point+1:]\n",
    "            \n",
    "            tkns1 = int(len(self.tokenizer(d1)['input_ids']))\n",
    "\n",
    "            if tkns1>self.max_tokens:\n",
    "                self.split_doc(d1)\n",
    "            else:\n",
    "                if len(d1)>0:\n",
    "                    self.subs.append(d1)\n",
    "\n",
    "            tkns2 = int(len(self.tokenizer(d2)['input_ids']))\n",
    "\n",
    "            if tkns2>self.max_tokens:\n",
    "                self.split_doc(d2)\n",
    "            else:\n",
    "                if len(d2)>0:\n",
    "                    self.subs.append(d2)\n",
    "\n",
    "    \n",
    "    def get_subdocs(self, pgraphs):\n",
    "        #Updated get_subdocs with iterative slicing \n",
    "        #Changed to recursive slicing\n",
    "        #ensure sub_docs tokens will not exceed max_tokens for sentiment model\n",
    "        self.subs=[]\n",
    "\n",
    "        for x in range(0, len(pgraphs)):\n",
    "            sen_cnt = len(re.split('\\n|\\. ',pgraphs[x]))\n",
    "            tkns = int(len(tokenizer(pgraphs[x])['input_ids']))\n",
    "\n",
    "            if tkns<self.max_tokens:\n",
    "                self.subs.append(pgraphs[x])\n",
    "            else:\n",
    "                self.split_doc(pgraphs[x])\n",
    "        \n",
    "        return self.subs\n",
    "        \n",
    "    def sub_divide(self, tokenizer, cutoff=1, method='sen'):\n",
    "\n",
    "        #creates a dictionary of sub_docs divided from each document in the corpus\n",
    "        #method: using get_pgraphs() followed by get_subdocs()\n",
    "        #output form: dict{ document_id : [subdoc_1, subdoc_2 ... subdoc_n] }\n",
    "\n",
    "        subbed_data = {}\n",
    "        self.tokenizer=tokenizer\n",
    "        \n",
    "        if len(self.pruned_docs)==0:\n",
    "            self.prune_docs()\n",
    "        \n",
    "        for x in range(0, len(self.documents)):\n",
    "            \n",
    "            #only include documents that made the first relevance cut\n",
    "            if x in self.pruned_docs:\n",
    "                pg = self.get_pgraphs(self.documents[x], cutoff, method)\n",
    "                subs = self.get_subdocs(pg)\n",
    "                subbed_data[x]=subs\n",
    "        \n",
    "        self.sub_docs = subbed_data\n",
    "        self.sub_list=[]\n",
    "        for x in self.sub_docs.keys():\n",
    "            for y in self.sub_docs[x]:\n",
    "                self.sub_list.append(y)\n",
    "        \n",
    "\n",
    "        \n",
    "    #******************************************************************************\n",
    "    #----------------------------------Relevance Scoring---------------------------\n",
    "    #******************************************************************************  \n",
    "    \n",
    "    def rank_docs(self, ranker, min_max=0.02):\n",
    "        query = self.prime_q\n",
    "        scr = ranker.score(query, self.documents)\n",
    "        if np.max(scr)>min_max:\n",
    "            self.document_scores = scr\n",
    "        else:\n",
    "            print('Very low relevance scores, attempting requery')\n",
    "            #rebuilding queries with prime query being alternate of current prime(name or ticker)\n",
    "            if self.prime_type==1:\n",
    "                self.build_queries(prime='ticker')\n",
    "            else:\n",
    "                self.build_queries(prime='name')\n",
    "        \n",
    "        query = self.prime_q\n",
    "        scr = ranker.score(query, self.documents)\n",
    "        if np.max(scr)>min_max:\n",
    "            self.document_scores = scr\n",
    "        else:\n",
    "            print('Scoring on built queries from ticker resulting in unusually low scores')\n",
    "            print('Change query manually in rank_docs function or adjust min_max')\n",
    "        \n",
    "    def rank_subdocs(self, ranker, expanded=False):\n",
    "        sub_vecs={}\n",
    "        \n",
    "        if expanded==False:\n",
    "            query=self.prime_q\n",
    "            for x in self.sub_docs.keys():\n",
    "                sub_vec = ranker.score(query, self.sub_docs[x])\n",
    "                sub_vecs[x]=sub_vec\n",
    "        else:\n",
    "            query = self.expanded_q\n",
    "            for x in self.sub_docs.keys():\n",
    "                sub_vec = ranker.score_expanded(query, self.sub_docs[x])\n",
    "                sub_vecs[x]=sub_vec\n",
    "            \n",
    "        self.subdoc_scores = sub_vecs\n",
    "        \n",
    "        self.sub_list_scores=[]\n",
    "        for x in self.subdoc_scores.keys():\n",
    "            for y in self.subdoc_scores[x]:\n",
    "                self.sub_list_scores.append(y)\n",
    "    \n",
    "    def rank_relevant(self, ranker, expanded=True):\n",
    "        sub_vecs={}\n",
    "        \n",
    "        if expanded==False:\n",
    "            query=self.prime_q\n",
    "            for x in self.relevant_set.keys():\n",
    "                sub_vec = ranker.score(query, self.relevant_set[x])\n",
    "                sub_vecs[x]=sub_vec\n",
    "        else:\n",
    "            query=self.expanded_q\n",
    "            for x in self.relevant_set.keys():\n",
    "                sub_vec = ranker.score_expanded(query, self.relevant_set[x])\n",
    "                sub_vecs[x]=sub_vec\n",
    "            \n",
    "        self.relevant_scores = sub_vecs\n",
    "        \n",
    "        self.rel_list_scores=[]\n",
    "        for x in self.relevant_scores.keys():\n",
    "            for y in self.relevant_scores[x]:\n",
    "                self.rel_list_scores.append(y)\n",
    "       \n",
    "        \n",
    "    #******************************************************************************\n",
    "    #----------------------------Pruning Relevant Set------------------------------\n",
    "    #******************************************************************************\n",
    "    def prune_docs(self, method='finite', cutoff=0):\n",
    "        \n",
    "        '''\n",
    "        method percentile: cutoff is the percentile to lower bound the document scores on\n",
    "        method finite: cutoff is a hard value to cutoff scores on\n",
    "        \n",
    "        store the indexes of the documents that have scores over the cutoff\n",
    "        these indexes will be used in the creation of the subdocs\n",
    "        '''\n",
    "        \n",
    "        if method=='percentile':\n",
    "            p = np.percentile(self.document_scores, cutoff)\n",
    "            cuts = np.where(self.document_scores<p)\n",
    "            \n",
    "            for x in range(0, len(self.documents)):\n",
    "                if x not in cuts:\n",
    "                    self.pruned_docs.append(x)\n",
    "                                                 \n",
    "        elif method=='finite':\n",
    "            for x in range(0, len(self.documents)):\n",
    "                if self.document_scores[x]>cutoff:\n",
    "                    self.pruned_docs.append(x)\n",
    "        \n",
    "        \n",
    "            \n",
    "    def prune_subdocs(self, method='finite', cutoff=0):\n",
    "        \n",
    "        '''\n",
    "        method percentile: cutoff is the percentile to lower bound the document scores on\n",
    "        method finite: cutoff is a hard value to cutoff scores on\n",
    "        \n",
    "        '''\n",
    "        \n",
    "        if method=='percentile':\n",
    "            p = np.percentile(self.sub_list_scores, cutoff)\n",
    "            prune={}\n",
    "            for x in self.sub_docs.keys():\n",
    "                for y in range(0, len(sub_docs[x])):\n",
    "                    if subdoc_scores[x][y]>p:\n",
    "                        if x not in prune.keys():\n",
    "                            prune[x]=[y]\n",
    "                        else:\n",
    "                            prune[x].append(y)\n",
    "            self.pruned_subdocs=prune\n",
    "            \n",
    "        elif method=='finite':\n",
    "            prune={}\n",
    "            for x in self.sub_docs.keys():\n",
    "                for y in range(0, len(self.sub_docs[x])):\n",
    "                    if self.subdoc_scores[x][y]>cutoff:\n",
    "                        if x not in prune.keys():\n",
    "                            prune[x]=[y]\n",
    "                        else:\n",
    "                            prune[x].append(y)\n",
    "            \n",
    "            self.pruned_subdocs=prune\n",
    "        \n",
    "    def make_relevant(self):\n",
    "        for x in self.pruned_subdocs.keys():\n",
    "            self.relevant_set[x]=[]\n",
    "            self.relevant_scores[x]=[]\n",
    "            for y in self.pruned_subdocs[x]:\n",
    "                self.relevant_set[x].append(self.sub_docs[x][y])\n",
    "                self.relevant_scores[x].append(self.subdoc_scores[x][y])\n",
    "        \n",
    "        self.rel_list=[]\n",
    "        for x in self.relevant_set.keys():\n",
    "            for y in self.relevant_set[x]:\n",
    "                self.rel_list.append(y)\n",
    "        \n",
    "    def prune_relevant(self, method='percentile',cutoff=15):\n",
    "        #Relevant is as low as it goes, these will be adjusted directly when pruned\n",
    "        \n",
    "        if method=='percentile':\n",
    "            cut = np.percentile(self.rel_list_scores, cutoff)\n",
    "        else:\n",
    "            cut = cutoff\n",
    "        \n",
    "        subbed_data = self.relevant_set\n",
    "        sub_scores = self.relevant_scores\n",
    "        \n",
    "        for x in self.relevant_set.keys():\n",
    "\n",
    "            subbed_data[x] = [xv if c else None for c, xv in zip(sub_scores[x]>cut, subbed_data[x])]\n",
    "            subbed_data[x] = [y for y in subbed_data[x] if y!=None]\n",
    "            sub_scores[x] = [y for y in sub_scores[x] if y>cut]\n",
    "        \n",
    "        self.relevant_set = {k: v for k, v in subbed_data.items() if len(v) > 0}\n",
    "        self.relevant_scores={k: v for k, v in sub_scores.items() if len(v) > 0}\n",
    "        \n",
    "        self.rel_list=[]\n",
    "        for x in self.relevant_set.keys():\n",
    "            for y in self.relevant_set[x]:\n",
    "                self.rel_list.append(y)\n",
    "        \n",
    " \n"
   ]
  },
  {
   "cell_type": "code",
   "execution_count": 5,
   "metadata": {},
   "outputs": [],
   "source": [
    "fullstart = timeit.default_timer()"
   ]
  },
  {
   "cell_type": "code",
   "execution_count": 6,
   "metadata": {},
   "outputs": [],
   "source": [
    "#pull api keys from the config file\n",
    "cfig=config()"
   ]
  },
  {
   "cell_type": "code",
   "execution_count": 7,
   "metadata": {},
   "outputs": [],
   "source": [
    "tick = Ticker(config=cfig, t=\"MSFT\", source='alpha')"
   ]
  },
  {
   "cell_type": "code",
   "execution_count": 8,
   "metadata": {},
   "outputs": [],
   "source": [
    "#Define Web_query object\n",
    "wq=web_query(cfig)"
   ]
  },
  {
   "cell_type": "code",
   "execution_count": 9,
   "metadata": {},
   "outputs": [
    {
     "name": "stdout",
     "output_type": "stream",
     "text": [
      "Polygon: 500\n",
      "NewsAPI: 100 page: 1\n",
      "Usearch: 50 page: 1\n",
      "Currents: 159 page: 1\n",
      "error on Newsapi page: 2\n",
      "Currents: 0 page: 2\n",
      "Usearch: 50 page: 2\n",
      "error on Newsapi page: 3\n",
      "Currents: 0 page: 3\n",
      "Usearch: 50 page: 3\n",
      "error on Newsapi page: 4\n",
      "Currents: 0 page: 4\n",
      "Usearch: 50 page: 4\n",
      "8.901233000000005\n"
     ]
    }
   ],
   "source": [
    "start = timeit.default_timer()\n",
    "\n",
    "#testq=str(tick.name)\n",
    "\n",
    "d_start=\"9/1/2021\"\n",
    "\n",
    "#query all of the news apis in web_query object\n",
    "#wq.query_all(query=tick.name, ticker=tick.ticker, d_start=d_start, threaded=False, pages=1)\n",
    "\n",
    "#web_query_v2 for ticker object handling and multi-page api requests (when they work)\n",
    "wq.query_all(tickerobj=tick, d_start=d_start, threaded=True, pages=4)\n",
    "\n",
    "#compile results into a singular dataframe\n",
    "wq.compile_results()\n",
    "\n",
    "end = timeit.default_timer()\n",
    "print(end-start)"
   ]
  },
  {
   "cell_type": "code",
   "execution_count": 10,
   "metadata": {
    "scrolled": true
   },
   "outputs": [
    {
     "name": "stdout",
     "output_type": "stream",
     "text": [
      "896\n"
     ]
    }
   ],
   "source": [
    "print(len(wq.results))"
   ]
  },
  {
   "cell_type": "code",
   "execution_count": 11,
   "metadata": {},
   "outputs": [
    {
     "data": {
      "application/vnd.jupyter.widget-view+json": {
       "model_id": "b22dc9486e414b7cb00a44e2c3ef0073",
       "version_major": 2,
       "version_minor": 0
      },
      "text/plain": [
       "IntProgress(value=0, max=896)"
      ]
     },
     "metadata": {},
     "output_type": "display_data"
    },
    {
     "name": "stderr",
     "output_type": "stream",
     "text": [
      "Some characters could not be decoded, and were replaced with REPLACEMENT CHARACTER.\n",
      "Some characters could not be decoded, and were replaced with REPLACEMENT CHARACTER.\n",
      "Some characters could not be decoded, and were replaced with REPLACEMENT CHARACTER.\n"
     ]
    },
    {
     "name": "stdout",
     "output_type": "stream",
     "text": [
      "scrape time: 154.53385160000002\n",
      "time per url: 0.17247081651785717\n"
     ]
    }
   ],
   "source": [
    "start = timeit.default_timer()\n",
    "\n",
    "#scrap text from the results urls to form documents\n",
    "wq.scrape_results(threaded=True, max_docs='max')\n",
    "\n",
    "end = timeit.default_timer()\n",
    "print('scrape time:',end-start)\n",
    "print('time per url:', (end-start)/len(wq.results))"
   ]
  },
  {
   "cell_type": "code",
   "execution_count": 12,
   "metadata": {},
   "outputs": [
    {
     "name": "stdout",
     "output_type": "stream",
     "text": [
      "896\n"
     ]
    }
   ],
   "source": [
    "df = wq.get_results()\n",
    "print(len(df))"
   ]
  },
  {
   "cell_type": "code",
   "execution_count": 13,
   "metadata": {},
   "outputs": [],
   "source": [
    "#build corpus from web query results\n",
    "corpus=Corpus()\n",
    "#store the web query data frame in the corpus for referencing urls and titles\n",
    "corpus.set_results(df)\n",
    "#assign corpus documents as the web query documents\n",
    "corpus.set_corpus(wq.documents)"
   ]
  },
  {
   "cell_type": "code",
   "execution_count": 14,
   "metadata": {},
   "outputs": [
    {
     "name": "stdout",
     "output_type": "stream",
     "text": [
      "Vocabulary size:64338\n",
      "Number of documents:784\n"
     ]
    }
   ],
   "source": [
    "#pull in stop words and build corpus vocabulary \n",
    "stopwords=[]\n",
    "with open('util/stopwords.txt') as f:\n",
    "    stopwords.append(f.read().splitlines())\n",
    "stopwords=stopwords[0]\n",
    "\n",
    "corpus.build_vocabulary(stopwords)\n",
    "\n",
    "print(\"Vocabulary size:\" + str(len(corpus.vocabulary)))\n",
    "print(\"Number of documents:\" + str(len(corpus.documents)))"
   ]
  },
  {
   "cell_type": "code",
   "execution_count": 15,
   "metadata": {},
   "outputs": [],
   "source": [
    "bm25 = BM25(norm='l2', smooth_idf=True, stopwords=stopwords, sublinear_tf=True)\n",
    "bm25.fit(corpus.documents)"
   ]
  },
  {
   "cell_type": "code",
   "execution_count": 16,
   "metadata": {},
   "outputs": [
    {
     "name": "stdout",
     "output_type": "stream",
     "text": [
      "Prime query: Microsoft\n"
     ]
    }
   ],
   "source": [
    "corpus.build_queries(ticker=tick)\n",
    "print('Prime query:',corpus.prime_q)\n",
    "corpus.rank_docs(ranker=bm25)\n",
    "corpus.prune_docs()"
   ]
  },
  {
   "cell_type": "code",
   "execution_count": 17,
   "metadata": {},
   "outputs": [],
   "source": [
    "#bm25.score(corpus.ticker_sym, corpus.documents)"
   ]
  },
  {
   "cell_type": "code",
   "execution_count": 18,
   "metadata": {},
   "outputs": [
    {
     "name": "stderr",
     "output_type": "stream",
     "text": [
      "Token indices sequence length is longer than the specified maximum sequence length for this model (1312 > 512). Running this sequence through the model will result in indexing errors\n"
     ]
    },
    {
     "name": "stdout",
     "output_type": "stream",
     "text": [
      "Sub-docs: 6822\n",
      "Source count: 692\n",
      "45.046459200000015\n"
     ]
    }
   ],
   "source": [
    "start = timeit.default_timer()\n",
    "\n",
    "#create the sub_documents, wrapper to run multiple functions\n",
    "#passing in the tokenizer to save a little on class dependencies\n",
    "\n",
    "corpus.sub_divide(tokenizer=tokenizer, cutoff=2, method='sen')\n",
    "print('Sub-docs:',len(corpus.sub_list))\n",
    "print('Source count:', len(corpus.sub_docs))\n",
    "\n",
    "end = timeit.default_timer()\n",
    "print(end-start)"
   ]
  },
  {
   "cell_type": "code",
   "execution_count": 19,
   "metadata": {},
   "outputs": [],
   "source": [
    "corpus.rank_subdocs(ranker=bm25)"
   ]
  },
  {
   "cell_type": "code",
   "execution_count": 20,
   "metadata": {},
   "outputs": [],
   "source": [
    "corpus.prune_subdocs()"
   ]
  },
  {
   "cell_type": "code",
   "execution_count": 21,
   "metadata": {},
   "outputs": [
    {
     "name": "stdout",
     "output_type": "stream",
     "text": [
      "Number of sub_docs: 6822\n",
      "Number zero ranked: 5057\n",
      "percent of useless subdocs: 74.13 %\n"
     ]
    }
   ],
   "source": [
    "print(\"Number of sub_docs:\",len(corpus.sub_list))\n",
    "t = np.array(corpus.sub_list_scores)\n",
    "z=np.where(t==0.0)\n",
    "print(\"Number zero ranked:\", len(z[0]))\n",
    "print(\"percent of useless subdocs:\", round((len(z[0])/len(corpus.sub_list))*100,2),\"%\")"
   ]
  },
  {
   "cell_type": "code",
   "execution_count": 22,
   "metadata": {},
   "outputs": [
    {
     "name": "stdout",
     "output_type": "stream",
     "text": [
      "relevant sources: 676\n",
      "relevant sub_docs: 1765\n"
     ]
    }
   ],
   "source": [
    "corpus.make_relevant()\n",
    "print('relevant sources:',len(corpus.relevant_set))\n",
    "print('relevant sub_docs:',len(corpus.rel_list))"
   ]
  },
  {
   "cell_type": "code",
   "execution_count": 23,
   "metadata": {},
   "outputs": [],
   "source": [
    "corpus.rank_relevant(ranker=bm25)"
   ]
  },
  {
   "cell_type": "code",
   "execution_count": 24,
   "metadata": {},
   "outputs": [
    {
     "name": "stdout",
     "output_type": "stream",
     "text": [
      "relevant sources: 676\n",
      "relevant sub_docs: 1765\n"
     ]
    }
   ],
   "source": [
    "#corpus.prune_relevant()\n",
    "print('relevant sources:',len(corpus.relevant_set))\n",
    "print('relevant sub_docs:',len(corpus.rel_list))"
   ]
  },
  {
   "cell_type": "code",
   "execution_count": 25,
   "metadata": {},
   "outputs": [
    {
     "name": "stdout",
     "output_type": "stream",
     "text": [
      "676\n"
     ]
    }
   ],
   "source": [
    "relevant_set = corpus.relevant_set\n",
    "relevant_scores = corpus.relevant_scores\n",
    "print(len(relevant_set))"
   ]
  },
  {
   "cell_type": "code",
   "execution_count": 26,
   "metadata": {},
   "outputs": [
    {
     "data": {
      "application/vnd.jupyter.widget-view+json": {
       "model_id": "ff027a134d4a4606ae015ef314960914",
       "version_major": 2,
       "version_minor": 0
      },
      "text/plain": [
       "IntProgress(value=0, max=1765)"
      ]
     },
     "metadata": {},
     "output_type": "display_data"
    },
    {
     "name": "stdout",
     "output_type": "stream",
     "text": [
      "368.098819\n"
     ]
    }
   ],
   "source": [
    "#run the new relevant set through distilled-BERT and get sentiment classifications\n",
    "start = timeit.default_timer()\n",
    "\n",
    "sentiments = get_sentiments(relevant_set)\n",
    "\n",
    "end = timeit.default_timer()\n",
    "print(end-start)"
   ]
  },
  {
   "cell_type": "code",
   "execution_count": 27,
   "metadata": {},
   "outputs": [],
   "source": [
    "lens=[]\n",
    "for x in relevant_set.keys():\n",
    "    for y in range(0, len(relevant_set[x])):\n",
    "        lens.append(len(relevant_set[x][y]))"
   ]
  },
  {
   "cell_type": "code",
   "execution_count": 28,
   "metadata": {},
   "outputs": [],
   "source": [
    "avlen=np.mean(lens)"
   ]
  },
  {
   "cell_type": "code",
   "execution_count": 29,
   "metadata": {},
   "outputs": [],
   "source": [
    "len_weight={}\n",
    "for x in relevant_set.keys():\n",
    "    l=[]\n",
    "    for y in range(0, len(relevant_set[x])):\n",
    "        l.append(len(relevant_set[x][y])/avlen)\n",
    "    len_weight[x]=l"
   ]
  },
  {
   "cell_type": "code",
   "execution_count": 30,
   "metadata": {},
   "outputs": [],
   "source": [
    "adjusted_rel = {}\n",
    "for x in relevant_scores.keys():\n",
    "    l=[]\n",
    "    for y in range(0, len(relevant_scores[x])):\n",
    "        l.append(relevant_scores[x][y] * len_weight[x][y])\n",
    "    adjusted_rel[x]=l"
   ]
  },
  {
   "cell_type": "code",
   "execution_count": 31,
   "metadata": {},
   "outputs": [],
   "source": [
    "rel_scores={}\n",
    "adj_rel_scores={}\n",
    "\n",
    "for x in relevant_scores.keys():\n",
    "    rel_scores[x]=np.mean(relevant_scores[x])\n",
    "    adj_rel_scores[x]=np.mean(adjusted_rel[x])\n",
    "    "
   ]
  },
  {
   "cell_type": "code",
   "execution_count": 110,
   "metadata": {},
   "outputs": [],
   "source": [
    "sents={}\n",
    "for x in sentiments:\n",
    "    sents[x]=np.mean(sentiments[x])"
   ]
  },
  {
   "cell_type": "code",
   "execution_count": 32,
   "metadata": {},
   "outputs": [],
   "source": [
    "rw_scores=[]\n",
    "lrw_scores=[]\n",
    "for x in relevant_scores.keys():\n",
    "    for y in range(0, len(relevant_scores[x])):\n",
    "        rw_scores.append(relevant_scores[x][y] * sentiments[x][y])\n",
    "        lrw_scores.append(adjusted_rel[x][y] * sentiments[x][y])"
   ]
  },
  {
   "cell_type": "code",
   "execution_count": 33,
   "metadata": {},
   "outputs": [],
   "source": [
    "scores={}\n",
    "la_scores={}\n",
    "\n",
    "for x in relevant_scores.keys():\n",
    "    rws=0\n",
    "    lrws=0\n",
    "    for y in range(0, len(relevant_scores[x])):\n",
    "        rws += (relevant_scores[x][y] * sentiments[x][y])\n",
    "        lrws += (adjusted_rel[x][y] * sentiments[x][y])\n",
    "    scores[x]=rws\n",
    "    la_scores[x]=lrws"
   ]
  },
  {
   "cell_type": "code",
   "execution_count": 35,
   "metadata": {},
   "outputs": [
    {
     "name": "stdout",
     "output_type": "stream",
     "text": [
      "Average Relevance weighted Sentiment: -0.0884\n",
      "Average Length adjusted Relevance weighted sentiment: -0.1155\n"
     ]
    }
   ],
   "source": [
    "print(\"Average Relevance weighted Sentiment:\", np.mean(rw_scores).round(4))\n",
    "print(\"Average Length adjusted Relevance weighted sentiment:\", np.mean(lrw_scores).round(4))\n"
   ]
  },
  {
   "cell_type": "code",
   "execution_count": 36,
   "metadata": {},
   "outputs": [
    {
     "data": {
      "text/html": [
       "<div>\n",
       "<style scoped>\n",
       "    .dataframe tbody tr th:only-of-type {\n",
       "        vertical-align: middle;\n",
       "    }\n",
       "\n",
       "    .dataframe tbody tr th {\n",
       "        vertical-align: top;\n",
       "    }\n",
       "\n",
       "    .dataframe thead th {\n",
       "        text-align: right;\n",
       "    }\n",
       "</style>\n",
       "<table border=\"1\" class=\"dataframe\">\n",
       "  <thead>\n",
       "    <tr style=\"text-align: right;\">\n",
       "      <th></th>\n",
       "      <th>title</th>\n",
       "      <th>url</th>\n",
       "      <th>pub_date</th>\n",
       "    </tr>\n",
       "  </thead>\n",
       "  <tbody>\n",
       "    <tr>\n",
       "      <th>0</th>\n",
       "      <td>Should You Buy Bitcoin While It's Still Below ...</td>\n",
       "      <td>https://www.fool.com/investing/2021/12/03/shou...</td>\n",
       "      <td>2021-12-03T16:57:00Z</td>\n",
       "    </tr>\n",
       "    <tr>\n",
       "      <th>1</th>\n",
       "      <td>Equity Futures Holding on to Thursday’s Gains ...</td>\n",
       "      <td>https://www.investing.com/analysis/equity-futu...</td>\n",
       "      <td>2021-12-03T15:40:00Z</td>\n",
       "    </tr>\n",
       "    <tr>\n",
       "      <th>2</th>\n",
       "      <td>U.S. Unemployment Rate Falls Despite Low Jobs ...</td>\n",
       "      <td>https://www.benzinga.com/news/earnings/21/12/2...</td>\n",
       "      <td>2021-12-03T15:18:54Z</td>\n",
       "    </tr>\n",
       "    <tr>\n",
       "      <th>3</th>\n",
       "      <td>Amazon's (AMZN) 18 Projects to Bolster Net-Zer...</td>\n",
       "      <td>https://www.zacks.com/stock/news/1835028/amazo...</td>\n",
       "      <td>2021-12-03T14:16:00Z</td>\n",
       "    </tr>\n",
       "    <tr>\n",
       "      <th>4</th>\n",
       "      <td>Lucid and Nio Are Falling; Is the EV Stock Boo...</td>\n",
       "      <td>https://www.fool.com/investing/2021/12/03/luci...</td>\n",
       "      <td>2021-12-03T14:08:00Z</td>\n",
       "    </tr>\n",
       "  </tbody>\n",
       "</table>\n",
       "</div>"
      ],
      "text/plain": [
       "                                               title  \\\n",
       "0  Should You Buy Bitcoin While It's Still Below ...   \n",
       "1  Equity Futures Holding on to Thursday’s Gains ...   \n",
       "2  U.S. Unemployment Rate Falls Despite Low Jobs ...   \n",
       "3  Amazon's (AMZN) 18 Projects to Bolster Net-Zer...   \n",
       "4  Lucid and Nio Are Falling; Is the EV Stock Boo...   \n",
       "\n",
       "                                                 url              pub_date  \n",
       "0  https://www.fool.com/investing/2021/12/03/shou...  2021-12-03T16:57:00Z  \n",
       "1  https://www.investing.com/analysis/equity-futu...  2021-12-03T15:40:00Z  \n",
       "2  https://www.benzinga.com/news/earnings/21/12/2...  2021-12-03T15:18:54Z  \n",
       "3  https://www.zacks.com/stock/news/1835028/amazo...  2021-12-03T14:16:00Z  \n",
       "4  https://www.fool.com/investing/2021/12/03/luci...  2021-12-03T14:08:00Z  "
      ]
     },
     "execution_count": 36,
     "metadata": {},
     "output_type": "execute_result"
    }
   ],
   "source": [
    "df.head()"
   ]
  },
  {
   "cell_type": "code",
   "execution_count": 112,
   "metadata": {},
   "outputs": [],
   "source": [
    "#need weight adjusted score per source\n",
    "newdf = df\n",
    "newdf['scores'] = pd.Series(scores)\n",
    "newdf['sentiments'] = pd.Series(sents)\n",
    "newdf['relevance'] = pd.Series(rel_scores)"
   ]
  },
  {
   "cell_type": "code",
   "execution_count": 113,
   "metadata": {},
   "outputs": [
    {
     "data": {
      "text/html": [
       "<div>\n",
       "<style scoped>\n",
       "    .dataframe tbody tr th:only-of-type {\n",
       "        vertical-align: middle;\n",
       "    }\n",
       "\n",
       "    .dataframe tbody tr th {\n",
       "        vertical-align: top;\n",
       "    }\n",
       "\n",
       "    .dataframe thead th {\n",
       "        text-align: right;\n",
       "    }\n",
       "</style>\n",
       "<table border=\"1\" class=\"dataframe\">\n",
       "  <thead>\n",
       "    <tr style=\"text-align: right;\">\n",
       "      <th></th>\n",
       "      <th>title</th>\n",
       "      <th>url</th>\n",
       "      <th>pub_date</th>\n",
       "      <th>sentiments</th>\n",
       "      <th>relevance</th>\n",
       "      <th>scores</th>\n",
       "    </tr>\n",
       "  </thead>\n",
       "  <tbody>\n",
       "    <tr>\n",
       "      <th>0</th>\n",
       "      <td>Should You Buy Bitcoin While It's Still Below ...</td>\n",
       "      <td>https://www.fool.com/investing/2021/12/03/shou...</td>\n",
       "      <td>2021-12-03T16:57:00Z</td>\n",
       "      <td>-0.998215</td>\n",
       "      <td>0.103663</td>\n",
       "      <td>-0.103478</td>\n",
       "    </tr>\n",
       "    <tr>\n",
       "      <th>1</th>\n",
       "      <td>Equity Futures Holding on to Thursday’s Gains ...</td>\n",
       "      <td>https://www.investing.com/analysis/equity-futu...</td>\n",
       "      <td>2021-12-03T15:40:00Z</td>\n",
       "      <td>-0.118629</td>\n",
       "      <td>0.132345</td>\n",
       "      <td>0.393822</td>\n",
       "    </tr>\n",
       "    <tr>\n",
       "      <th>2</th>\n",
       "      <td>U.S. Unemployment Rate Falls Despite Low Jobs ...</td>\n",
       "      <td>https://www.benzinga.com/news/earnings/21/12/2...</td>\n",
       "      <td>2021-12-03T15:18:54Z</td>\n",
       "      <td>NaN</td>\n",
       "      <td>NaN</td>\n",
       "      <td>NaN</td>\n",
       "    </tr>\n",
       "    <tr>\n",
       "      <th>3</th>\n",
       "      <td>Amazon's (AMZN) 18 Projects to Bolster Net-Zer...</td>\n",
       "      <td>https://www.zacks.com/stock/news/1835028/amazo...</td>\n",
       "      <td>2021-12-03T14:16:00Z</td>\n",
       "      <td>-0.993074</td>\n",
       "      <td>0.422003</td>\n",
       "      <td>-0.839965</td>\n",
       "    </tr>\n",
       "    <tr>\n",
       "      <th>4</th>\n",
       "      <td>Lucid and Nio Are Falling; Is the EV Stock Boo...</td>\n",
       "      <td>https://www.fool.com/investing/2021/12/03/luci...</td>\n",
       "      <td>2021-12-03T14:08:00Z</td>\n",
       "      <td>-0.764772</td>\n",
       "      <td>0.000000</td>\n",
       "      <td>0.000000</td>\n",
       "    </tr>\n",
       "    <tr>\n",
       "      <th>...</th>\n",
       "      <td>...</td>\n",
       "      <td>...</td>\n",
       "      <td>...</td>\n",
       "      <td>...</td>\n",
       "      <td>...</td>\n",
       "      <td>...</td>\n",
       "    </tr>\n",
       "    <tr>\n",
       "      <th>45</th>\n",
       "      <td>Microsoft Co. (NASDAQ:MSFT) Shares Acquired by...</td>\n",
       "      <td>https://www.americanbankingnews.com/2021/10/11...</td>\n",
       "      <td>2021-10-11T12:42:43</td>\n",
       "      <td>0.995868</td>\n",
       "      <td>0.250879</td>\n",
       "      <td>0.249842</td>\n",
       "    </tr>\n",
       "    <tr>\n",
       "      <th>46</th>\n",
       "      <td>The Chart for Microsoft Corporation (MSFT) Is ...</td>\n",
       "      <td>https://newsheater.com/2021/10/11/the-chart-fo...</td>\n",
       "      <td>2021-10-11T12:24:00</td>\n",
       "      <td>-0.546201</td>\n",
       "      <td>0.176334</td>\n",
       "      <td>-0.329404</td>\n",
       "    </tr>\n",
       "    <tr>\n",
       "      <th>47</th>\n",
       "      <td>Lombard Odier Asset Management USA Corp Takes ...</td>\n",
       "      <td>https://www.tickerreport.com/banking-finance/7...</td>\n",
       "      <td>2021-10-11T11:12:41</td>\n",
       "      <td>-0.984302</td>\n",
       "      <td>0.266632</td>\n",
       "      <td>-0.797446</td>\n",
       "    </tr>\n",
       "    <tr>\n",
       "      <th>48</th>\n",
       "      <td>Roll up the Sleeves! When the bell rang at pre...</td>\n",
       "      <td>https://investchronicle.com/2021/10/11/roll-up...</td>\n",
       "      <td>2021-10-11T11:04:00</td>\n",
       "      <td>NaN</td>\n",
       "      <td>NaN</td>\n",
       "      <td>NaN</td>\n",
       "    </tr>\n",
       "    <tr>\n",
       "      <th>49</th>\n",
       "      <td>Microsoft Co. (NASDAQ:MSFT) Shares Sold by Eve...</td>\n",
       "      <td>https://www.americanbankingnews.com/2021/10/10...</td>\n",
       "      <td>2021-10-10T11:16:41</td>\n",
       "      <td>-0.390191</td>\n",
       "      <td>0.206025</td>\n",
       "      <td>0.820184</td>\n",
       "    </tr>\n",
       "  </tbody>\n",
       "</table>\n",
       "<p>896 rows × 6 columns</p>\n",
       "</div>"
      ],
      "text/plain": [
       "                                                title  \\\n",
       "0   Should You Buy Bitcoin While It's Still Below ...   \n",
       "1   Equity Futures Holding on to Thursday’s Gains ...   \n",
       "2   U.S. Unemployment Rate Falls Despite Low Jobs ...   \n",
       "3   Amazon's (AMZN) 18 Projects to Bolster Net-Zer...   \n",
       "4   Lucid and Nio Are Falling; Is the EV Stock Boo...   \n",
       "..                                                ...   \n",
       "45  Microsoft Co. (NASDAQ:MSFT) Shares Acquired by...   \n",
       "46  The Chart for Microsoft Corporation (MSFT) Is ...   \n",
       "47  Lombard Odier Asset Management USA Corp Takes ...   \n",
       "48  Roll up the Sleeves! When the bell rang at pre...   \n",
       "49  Microsoft Co. (NASDAQ:MSFT) Shares Sold by Eve...   \n",
       "\n",
       "                                                  url              pub_date  \\\n",
       "0   https://www.fool.com/investing/2021/12/03/shou...  2021-12-03T16:57:00Z   \n",
       "1   https://www.investing.com/analysis/equity-futu...  2021-12-03T15:40:00Z   \n",
       "2   https://www.benzinga.com/news/earnings/21/12/2...  2021-12-03T15:18:54Z   \n",
       "3   https://www.zacks.com/stock/news/1835028/amazo...  2021-12-03T14:16:00Z   \n",
       "4   https://www.fool.com/investing/2021/12/03/luci...  2021-12-03T14:08:00Z   \n",
       "..                                                ...                   ...   \n",
       "45  https://www.americanbankingnews.com/2021/10/11...   2021-10-11T12:42:43   \n",
       "46  https://newsheater.com/2021/10/11/the-chart-fo...   2021-10-11T12:24:00   \n",
       "47  https://www.tickerreport.com/banking-finance/7...   2021-10-11T11:12:41   \n",
       "48  https://investchronicle.com/2021/10/11/roll-up...   2021-10-11T11:04:00   \n",
       "49  https://www.americanbankingnews.com/2021/10/10...   2021-10-10T11:16:41   \n",
       "\n",
       "    sentiments  relevance    scores  \n",
       "0    -0.998215   0.103663 -0.103478  \n",
       "1    -0.118629   0.132345  0.393822  \n",
       "2          NaN        NaN       NaN  \n",
       "3    -0.993074   0.422003 -0.839965  \n",
       "4    -0.764772   0.000000  0.000000  \n",
       "..         ...        ...       ...  \n",
       "45    0.995868   0.250879  0.249842  \n",
       "46   -0.546201   0.176334 -0.329404  \n",
       "47   -0.984302   0.266632 -0.797446  \n",
       "48         NaN        NaN       NaN  \n",
       "49   -0.390191   0.206025  0.820184  \n",
       "\n",
       "[896 rows x 6 columns]"
      ]
     },
     "execution_count": 113,
     "metadata": {},
     "output_type": "execute_result"
    }
   ],
   "source": [
    "newdf"
   ]
  },
  {
   "cell_type": "code",
   "execution_count": 114,
   "metadata": {},
   "outputs": [],
   "source": [
    "newdf = newdf.dropna()"
   ]
  },
  {
   "cell_type": "code",
   "execution_count": 115,
   "metadata": {},
   "outputs": [
    {
     "data": {
      "text/html": [
       "<div>\n",
       "<style scoped>\n",
       "    .dataframe tbody tr th:only-of-type {\n",
       "        vertical-align: middle;\n",
       "    }\n",
       "\n",
       "    .dataframe tbody tr th {\n",
       "        vertical-align: top;\n",
       "    }\n",
       "\n",
       "    .dataframe thead th {\n",
       "        text-align: right;\n",
       "    }\n",
       "</style>\n",
       "<table border=\"1\" class=\"dataframe\">\n",
       "  <thead>\n",
       "    <tr style=\"text-align: right;\">\n",
       "      <th></th>\n",
       "      <th>title</th>\n",
       "      <th>url</th>\n",
       "      <th>pub_date</th>\n",
       "      <th>sentiments</th>\n",
       "      <th>relevance</th>\n",
       "      <th>scores</th>\n",
       "    </tr>\n",
       "  </thead>\n",
       "  <tbody>\n",
       "    <tr>\n",
       "      <th>0</th>\n",
       "      <td>Should You Buy Bitcoin While It's Still Below ...</td>\n",
       "      <td>https://www.fool.com/investing/2021/12/03/shou...</td>\n",
       "      <td>2021-12-03T16:57:00Z</td>\n",
       "      <td>-0.998215</td>\n",
       "      <td>0.103663</td>\n",
       "      <td>-0.103478</td>\n",
       "    </tr>\n",
       "    <tr>\n",
       "      <th>1</th>\n",
       "      <td>Equity Futures Holding on to Thursday’s Gains ...</td>\n",
       "      <td>https://www.investing.com/analysis/equity-futu...</td>\n",
       "      <td>2021-12-03T15:40:00Z</td>\n",
       "      <td>-0.118629</td>\n",
       "      <td>0.132345</td>\n",
       "      <td>0.393822</td>\n",
       "    </tr>\n",
       "    <tr>\n",
       "      <th>3</th>\n",
       "      <td>Amazon's (AMZN) 18 Projects to Bolster Net-Zer...</td>\n",
       "      <td>https://www.zacks.com/stock/news/1835028/amazo...</td>\n",
       "      <td>2021-12-03T14:16:00Z</td>\n",
       "      <td>-0.993074</td>\n",
       "      <td>0.422003</td>\n",
       "      <td>-0.839965</td>\n",
       "    </tr>\n",
       "    <tr>\n",
       "      <th>4</th>\n",
       "      <td>Lucid and Nio Are Falling; Is the EV Stock Boo...</td>\n",
       "      <td>https://www.fool.com/investing/2021/12/03/luci...</td>\n",
       "      <td>2021-12-03T14:08:00Z</td>\n",
       "      <td>-0.764772</td>\n",
       "      <td>0.000000</td>\n",
       "      <td>0.000000</td>\n",
       "    </tr>\n",
       "    <tr>\n",
       "      <th>5</th>\n",
       "      <td>Amazon (AMZN) Boosts AWS Offerings With Databa...</td>\n",
       "      <td>https://www.zacks.com/stock/news/1834990/amazo...</td>\n",
       "      <td>2021-12-03T13:37:00Z</td>\n",
       "      <td>-0.929294</td>\n",
       "      <td>0.706147</td>\n",
       "      <td>-1.992133</td>\n",
       "    </tr>\n",
       "  </tbody>\n",
       "</table>\n",
       "</div>"
      ],
      "text/plain": [
       "                                               title  \\\n",
       "0  Should You Buy Bitcoin While It's Still Below ...   \n",
       "1  Equity Futures Holding on to Thursday’s Gains ...   \n",
       "3  Amazon's (AMZN) 18 Projects to Bolster Net-Zer...   \n",
       "4  Lucid and Nio Are Falling; Is the EV Stock Boo...   \n",
       "5  Amazon (AMZN) Boosts AWS Offerings With Databa...   \n",
       "\n",
       "                                                 url              pub_date  \\\n",
       "0  https://www.fool.com/investing/2021/12/03/shou...  2021-12-03T16:57:00Z   \n",
       "1  https://www.investing.com/analysis/equity-futu...  2021-12-03T15:40:00Z   \n",
       "3  https://www.zacks.com/stock/news/1835028/amazo...  2021-12-03T14:16:00Z   \n",
       "4  https://www.fool.com/investing/2021/12/03/luci...  2021-12-03T14:08:00Z   \n",
       "5  https://www.zacks.com/stock/news/1834990/amazo...  2021-12-03T13:37:00Z   \n",
       "\n",
       "   sentiments  relevance    scores  \n",
       "0   -0.998215   0.103663 -0.103478  \n",
       "1   -0.118629   0.132345  0.393822  \n",
       "3   -0.993074   0.422003 -0.839965  \n",
       "4   -0.764772   0.000000  0.000000  \n",
       "5   -0.929294   0.706147 -1.992133  "
      ]
     },
     "execution_count": 115,
     "metadata": {},
     "output_type": "execute_result"
    }
   ],
   "source": [
    "newdf.head()"
   ]
  },
  {
   "cell_type": "code",
   "execution_count": 116,
   "metadata": {},
   "outputs": [
    {
     "name": "stderr",
     "output_type": "stream",
     "text": [
      "C:\\Users\\Tony\\anaconda3\\lib\\site-packages\\pandas\\core\\indexing.py:1745: SettingWithCopyWarning:\n",
      "\n",
      "\n",
      "A value is trying to be set on a copy of a slice from a DataFrame.\n",
      "Try using .loc[row_indexer,col_indexer] = value instead\n",
      "\n",
      "See the caveats in the documentation: https://pandas.pydata.org/pandas-docs/stable/user_guide/indexing.html#returning-a-view-versus-a-copy\n",
      "\n"
     ]
    }
   ],
   "source": [
    "#pd.to_datetime(newdf['pub_date'], format='%Y-%m-%dT%H:%M:%S')\n",
    "newdf.loc[:,'pub_date'] = pd.to_datetime(newdf.loc[:,'pub_date'], infer_datetime_format=True, utc=True)\n",
    "newdf.loc[:,'pub_date'] = pd.to_datetime(newdf.loc[:,'pub_date'].dt.strftime('%Y/%m/%d'))\n"
   ]
  },
  {
   "cell_type": "code",
   "execution_count": 117,
   "metadata": {},
   "outputs": [
    {
     "data": {
      "text/html": [
       "<div>\n",
       "<style scoped>\n",
       "    .dataframe tbody tr th:only-of-type {\n",
       "        vertical-align: middle;\n",
       "    }\n",
       "\n",
       "    .dataframe tbody tr th {\n",
       "        vertical-align: top;\n",
       "    }\n",
       "\n",
       "    .dataframe thead th {\n",
       "        text-align: right;\n",
       "    }\n",
       "</style>\n",
       "<table border=\"1\" class=\"dataframe\">\n",
       "  <thead>\n",
       "    <tr style=\"text-align: right;\">\n",
       "      <th></th>\n",
       "      <th>title</th>\n",
       "      <th>url</th>\n",
       "      <th>pub_date</th>\n",
       "      <th>sentiments</th>\n",
       "      <th>relevance</th>\n",
       "      <th>scores</th>\n",
       "    </tr>\n",
       "  </thead>\n",
       "  <tbody>\n",
       "    <tr>\n",
       "      <th>0</th>\n",
       "      <td>Should You Buy Bitcoin While It's Still Below ...</td>\n",
       "      <td>https://www.fool.com/investing/2021/12/03/shou...</td>\n",
       "      <td>2021-12-03</td>\n",
       "      <td>-0.998215</td>\n",
       "      <td>0.103663</td>\n",
       "      <td>-0.103478</td>\n",
       "    </tr>\n",
       "    <tr>\n",
       "      <th>1</th>\n",
       "      <td>Equity Futures Holding on to Thursday’s Gains ...</td>\n",
       "      <td>https://www.investing.com/analysis/equity-futu...</td>\n",
       "      <td>2021-12-03</td>\n",
       "      <td>-0.118629</td>\n",
       "      <td>0.132345</td>\n",
       "      <td>0.393822</td>\n",
       "    </tr>\n",
       "    <tr>\n",
       "      <th>3</th>\n",
       "      <td>Amazon's (AMZN) 18 Projects to Bolster Net-Zer...</td>\n",
       "      <td>https://www.zacks.com/stock/news/1835028/amazo...</td>\n",
       "      <td>2021-12-03</td>\n",
       "      <td>-0.993074</td>\n",
       "      <td>0.422003</td>\n",
       "      <td>-0.839965</td>\n",
       "    </tr>\n",
       "    <tr>\n",
       "      <th>4</th>\n",
       "      <td>Lucid and Nio Are Falling; Is the EV Stock Boo...</td>\n",
       "      <td>https://www.fool.com/investing/2021/12/03/luci...</td>\n",
       "      <td>2021-12-03</td>\n",
       "      <td>-0.764772</td>\n",
       "      <td>0.000000</td>\n",
       "      <td>0.000000</td>\n",
       "    </tr>\n",
       "    <tr>\n",
       "      <th>5</th>\n",
       "      <td>Amazon (AMZN) Boosts AWS Offerings With Databa...</td>\n",
       "      <td>https://www.zacks.com/stock/news/1834990/amazo...</td>\n",
       "      <td>2021-12-03</td>\n",
       "      <td>-0.929294</td>\n",
       "      <td>0.706147</td>\n",
       "      <td>-1.992133</td>\n",
       "    </tr>\n",
       "  </tbody>\n",
       "</table>\n",
       "</div>"
      ],
      "text/plain": [
       "                                               title  \\\n",
       "0  Should You Buy Bitcoin While It's Still Below ...   \n",
       "1  Equity Futures Holding on to Thursday’s Gains ...   \n",
       "3  Amazon's (AMZN) 18 Projects to Bolster Net-Zer...   \n",
       "4  Lucid and Nio Are Falling; Is the EV Stock Boo...   \n",
       "5  Amazon (AMZN) Boosts AWS Offerings With Databa...   \n",
       "\n",
       "                                                 url   pub_date  sentiments  \\\n",
       "0  https://www.fool.com/investing/2021/12/03/shou... 2021-12-03   -0.998215   \n",
       "1  https://www.investing.com/analysis/equity-futu... 2021-12-03   -0.118629   \n",
       "3  https://www.zacks.com/stock/news/1835028/amazo... 2021-12-03   -0.993074   \n",
       "4  https://www.fool.com/investing/2021/12/03/luci... 2021-12-03   -0.764772   \n",
       "5  https://www.zacks.com/stock/news/1834990/amazo... 2021-12-03   -0.929294   \n",
       "\n",
       "   relevance    scores  \n",
       "0   0.103663 -0.103478  \n",
       "1   0.132345  0.393822  \n",
       "3   0.422003 -0.839965  \n",
       "4   0.000000  0.000000  \n",
       "5   0.706147 -1.992133  "
      ]
     },
     "execution_count": 117,
     "metadata": {},
     "output_type": "execute_result"
    }
   ],
   "source": [
    "newdf.head()"
   ]
  },
  {
   "cell_type": "code",
   "execution_count": 118,
   "metadata": {},
   "outputs": [
    {
     "data": {
      "text/html": [
       "<div>\n",
       "<style scoped>\n",
       "    .dataframe tbody tr th:only-of-type {\n",
       "        vertical-align: middle;\n",
       "    }\n",
       "\n",
       "    .dataframe tbody tr th {\n",
       "        vertical-align: top;\n",
       "    }\n",
       "\n",
       "    .dataframe thead th {\n",
       "        text-align: right;\n",
       "    }\n",
       "</style>\n",
       "<table border=\"1\" class=\"dataframe\">\n",
       "  <thead>\n",
       "    <tr style=\"text-align: right;\">\n",
       "      <th></th>\n",
       "      <th>pub_date</th>\n",
       "      <th>sentiments</th>\n",
       "      <th>relevance</th>\n",
       "      <th>scores</th>\n",
       "    </tr>\n",
       "  </thead>\n",
       "  <tbody>\n",
       "    <tr>\n",
       "      <th>0</th>\n",
       "      <td>2021-12-03</td>\n",
       "      <td>-0.998215</td>\n",
       "      <td>0.103663</td>\n",
       "      <td>-0.103478</td>\n",
       "    </tr>\n",
       "    <tr>\n",
       "      <th>1</th>\n",
       "      <td>2021-12-03</td>\n",
       "      <td>-0.118629</td>\n",
       "      <td>0.132345</td>\n",
       "      <td>0.393822</td>\n",
       "    </tr>\n",
       "    <tr>\n",
       "      <th>3</th>\n",
       "      <td>2021-12-03</td>\n",
       "      <td>-0.993074</td>\n",
       "      <td>0.422003</td>\n",
       "      <td>-0.839965</td>\n",
       "    </tr>\n",
       "    <tr>\n",
       "      <th>4</th>\n",
       "      <td>2021-12-03</td>\n",
       "      <td>-0.764772</td>\n",
       "      <td>0.000000</td>\n",
       "      <td>0.000000</td>\n",
       "    </tr>\n",
       "    <tr>\n",
       "      <th>5</th>\n",
       "      <td>2021-12-03</td>\n",
       "      <td>-0.929294</td>\n",
       "      <td>0.706147</td>\n",
       "      <td>-1.992133</td>\n",
       "    </tr>\n",
       "  </tbody>\n",
       "</table>\n",
       "</div>"
      ],
      "text/plain": [
       "    pub_date  sentiments  relevance    scores\n",
       "0 2021-12-03   -0.998215   0.103663 -0.103478\n",
       "1 2021-12-03   -0.118629   0.132345  0.393822\n",
       "3 2021-12-03   -0.993074   0.422003 -0.839965\n",
       "4 2021-12-03   -0.764772   0.000000  0.000000\n",
       "5 2021-12-03   -0.929294   0.706147 -1.992133"
      ]
     },
     "execution_count": 118,
     "metadata": {},
     "output_type": "execute_result"
    }
   ],
   "source": [
    "plotdf = newdf[['pub_date','sentiments','relevance','scores']]\n",
    "plotdf.head()"
   ]
  },
  {
   "cell_type": "code",
   "execution_count": 119,
   "metadata": {},
   "outputs": [
    {
     "name": "stdout",
     "output_type": "stream",
     "text": [
      "2021-09-01 00:00:00\n",
      "2021-12-03 00:00:00\n"
     ]
    }
   ],
   "source": [
    "print(np.min(plotdf['pub_date']))\n",
    "print(np.max(plotdf['pub_date']))"
   ]
  },
  {
   "cell_type": "code",
   "execution_count": 120,
   "metadata": {},
   "outputs": [],
   "source": [
    "pt_sn = plotdf.groupby(plotdf['pub_date'])['sentiments'].mean()\n",
    "pt_rl = plotdf.groupby(plotdf['pub_date'])['relevance'].mean()\n",
    "pt_sc = plotdf.groupby(plotdf['pub_date'])['scores'].mean()\n",
    "pt_dt = pd.DataFrame()\n",
    "pt_dt = plotdf['sentiments'].groupby(plotdf['pub_date']).count()"
   ]
  },
  {
   "cell_type": "code",
   "execution_count": 121,
   "metadata": {},
   "outputs": [],
   "source": [
    "pt_sn = pt_sn.to_frame()\n",
    "pt_rl = pt_rl.to_frame()\n",
    "pt_sc = pt_sc.to_frame()\n",
    "pt_dt = pt_dt.to_frame().rename(columns={\"sentiments\":\"Volume\"})"
   ]
  },
  {
   "cell_type": "code",
   "execution_count": 129,
   "metadata": {
    "scrolled": true
   },
   "outputs": [],
   "source": [
    "dff = pd.concat([pt_rl, pt_sn, pt_sc, pt_dt], axis=1)\n"
   ]
  },
  {
   "cell_type": "code",
   "execution_count": 130,
   "metadata": {},
   "outputs": [],
   "source": [
    "dff = dff.reset_index()\n",
    "dff = dff.drop([0,1])\n",
    "dff = dff.set_index('pub_date')\n"
   ]
  },
  {
   "cell_type": "code",
   "execution_count": 99,
   "metadata": {},
   "outputs": [],
   "source": [
    "drange='1mo'\n",
    "interval='1d'\n",
    "\n",
    "yheaders = {'x-api-key':cfig.yahoo}\n",
    "url = ('https://yfapi.net/v8/finance/spark?'\n",
    "        'interval='+interval+\n",
    "        '&range='+drange+\n",
    "        '&symbols='+tick.ticker)\n",
    "\n",
    "response = requests.request(\"GET\",url,headers=yheaders)\n",
    "if response.status_code==200:\n",
    "        response = response.json()\n",
    "\n"
   ]
  },
  {
   "cell_type": "code",
   "execution_count": 100,
   "metadata": {},
   "outputs": [],
   "source": [
    "date = response[tick.ticker]['timestamp']\n",
    "price = response[tick.ticker]['close']\n",
    "df2 = pd.DataFrame()\n",
    "df2['date']=date\n",
    "df2.loc[:,'date'] = pd.to_datetime(df2.loc[:,'date'], unit='s')\n",
    "df2.loc[:,'date'] = pd.to_datetime(df2.loc[:,'date'].dt.strftime('%Y/%m/%d'))\n",
    "df2['price']=price\n",
    "df2 = df2.set_index('date')\n"
   ]
  },
  {
   "cell_type": "code",
   "execution_count": 132,
   "metadata": {},
   "outputs": [
    {
     "data": {
      "text/html": [
       "<div>\n",
       "<style scoped>\n",
       "    .dataframe tbody tr th:only-of-type {\n",
       "        vertical-align: middle;\n",
       "    }\n",
       "\n",
       "    .dataframe tbody tr th {\n",
       "        vertical-align: top;\n",
       "    }\n",
       "\n",
       "    .dataframe thead th {\n",
       "        text-align: right;\n",
       "    }\n",
       "</style>\n",
       "<table border=\"1\" class=\"dataframe\">\n",
       "  <thead>\n",
       "    <tr style=\"text-align: right;\">\n",
       "      <th></th>\n",
       "      <th>relevance</th>\n",
       "      <th>sentiments</th>\n",
       "      <th>scores</th>\n",
       "    </tr>\n",
       "    <tr>\n",
       "      <th>pub_date</th>\n",
       "      <th></th>\n",
       "      <th></th>\n",
       "      <th></th>\n",
       "    </tr>\n",
       "  </thead>\n",
       "  <tbody>\n",
       "    <tr>\n",
       "      <th>2021-09-07</th>\n",
       "      <td>0.495515</td>\n",
       "      <td>0.979433</td>\n",
       "      <td>0.538857</td>\n",
       "    </tr>\n",
       "    <tr>\n",
       "      <th>2021-09-08</th>\n",
       "      <td>0.778927</td>\n",
       "      <td>-0.008359</td>\n",
       "      <td>-0.215659</td>\n",
       "    </tr>\n",
       "    <tr>\n",
       "      <th>2021-09-09</th>\n",
       "      <td>0.000000</td>\n",
       "      <td>-0.271194</td>\n",
       "      <td>0.000000</td>\n",
       "    </tr>\n",
       "    <tr>\n",
       "      <th>2021-09-13</th>\n",
       "      <td>0.285944</td>\n",
       "      <td>0.003346</td>\n",
       "      <td>0.079550</td>\n",
       "    </tr>\n",
       "    <tr>\n",
       "      <th>2021-09-14</th>\n",
       "      <td>0.536147</td>\n",
       "      <td>0.003812</td>\n",
       "      <td>0.351092</td>\n",
       "    </tr>\n",
       "  </tbody>\n",
       "</table>\n",
       "</div>"
      ],
      "text/plain": [
       "            relevance  sentiments    scores\n",
       "pub_date                                   \n",
       "2021-09-07   0.495515    0.979433  0.538857\n",
       "2021-09-08   0.778927   -0.008359 -0.215659\n",
       "2021-09-09   0.000000   -0.271194  0.000000\n",
       "2021-09-13   0.285944    0.003346  0.079550\n",
       "2021-09-14   0.536147    0.003812  0.351092"
      ]
     },
     "execution_count": 132,
     "metadata": {},
     "output_type": "execute_result"
    }
   ],
   "source": [
    "tmp = dff[dff.columns[0:3]]\n",
    "tmp.head()"
   ]
  },
  {
   "cell_type": "code",
   "execution_count": 133,
   "metadata": {},
   "outputs": [
    {
     "data": {
      "text/plain": [
       "<AxesSubplot:xlabel='pub_date'>"
      ]
     },
     "execution_count": 133,
     "metadata": {},
     "output_type": "execute_result"
    },
    {
     "data": {
      "image/png": "[encoded data removed]",
      "text/plain": [
       "<Figure size 1440x1440 with 3 Axes>"
      ]
     },
     "metadata": {
      "needs_background": "light"
     },
     "output_type": "display_data"
    }
   ],
   "source": [
    "import matplotlib.pyplot as plt\n",
    "fig, axes = plt.subplots(nrows=3)\n",
    "\n",
    "dff.plot(ax=axes[0], figsize=(20,20))\n",
    "df2.plot(ax=axes[1], figsize=(20,20))\n",
    "tmp.plot(ax=axes[2], figsize=(20,20))"
   ]
  },
  {
   "cell_type": "code",
   "execution_count": 58,
   "metadata": {},
   "outputs": [],
   "source": [
    "drange='6mo'\n",
    "interval='1d'\n",
    "\n",
    "\n",
    "url=('https://yfapi.net/v8/finance/chart/'+tick.ticker+\"?\"+\n",
    "    'comparisons='+tick.ticker+\n",
    "    '&range='+drange+\n",
    "    '&region=US'\n",
    "    '&interval='+interval+\n",
    "    '&lang=en')\n",
    "response = requests.request(\"GET\",url,headers=yheaders)\n",
    "if response.status_code==200:\n",
    "        response = response.json()            "
   ]
  },
  {
   "cell_type": "code",
   "execution_count": 59,
   "metadata": {},
   "outputs": [],
   "source": [
    "date = response['chart']['result'][0]['timestamp']\n",
    "volume = response['chart']['result'][0]['indicators']['quote'][0]['volume']\n",
    "high = response['chart']['result'][0]['indicators']['quote'][0]['high']\n",
    "low = response['chart']['result'][0]['indicators']['quote'][0]['low']\n",
    "opn = response['chart']['result'][0]['indicators']['quote'][0]['open']\n",
    "cls = response['chart']['result'][0]['indicators']['quote'][0]['close']"
   ]
  },
  {
   "cell_type": "code",
   "execution_count": 60,
   "metadata": {},
   "outputs": [],
   "source": [
    "df3 = pd.DataFrame()\n",
    "df3['date']=date\n",
    "df3['high']=high\n",
    "df3['low']=low\n",
    "df3['open']=opn\n",
    "df3['close']=cls\n",
    "df3['volume']=volume\n",
    "df3.loc[:,'date'] = pd.to_datetime(df3.loc[:,'date'], unit='s')\n",
    "df3.loc[:,'date'] = pd.to_datetime(df3.loc[:,'date'].dt.strftime('%Y/%m/%d'))"
   ]
  },
  {
   "cell_type": "code",
   "execution_count": 135,
   "metadata": {},
   "outputs": [],
   "source": [
    "dff=dff.reset_index()"
   ]
  },
  {
   "cell_type": "code",
   "execution_count": 136,
   "metadata": {},
   "outputs": [
    {
     "name": "stderr",
     "output_type": "stream",
     "text": [
      "C:\\Users\\Tony\\anaconda3\\lib\\site-packages\\plotly\\graph_objs\\_deprecations.py:378: DeprecationWarning:\n",
      "\n",
      "plotly.graph_objs.Line is deprecated.\n",
      "Please replace it with one of the following more specific types\n",
      "  - plotly.graph_objs.scatter.Line\n",
      "  - plotly.graph_objs.layout.shape.Line\n",
      "  - etc.\n",
      "\n",
      "\n"
     ]
    },
    {
     "data": {
      "application/vnd.plotly.v1+json": {
       "config": {
        "plotlyServerURL": "https://plot.ly"
       },
       "data": [
        {
         "close": [
          250.7899932861328,
          253.80999755859375,
          252.57000732421875,
          253.58999633789062,
          257.239990234375,
          257.8900146484375,
          259.8900146484375,
          258.3599853515625,
          257.3800048828125,
          260.8999938964844,
          259.42999267578125,
          262.6300048828125,
          265.510009765625,
          265.2699890136719,
          266.69000244140625,
          265.0199890136719,
          268.7200012207031,
          271.3999938964844,
          270.8999938964844,
          271.6000061035156,
          277.6499938964844,
          277.6600036621094,
          279.92999267578125,
          277.4200134277344,
          277.94000244140625,
          277.32000732421875,
          280.9800109863281,
          282.510009765625,
          281.0299987792969,
          280.75,
          277.010009765625,
          279.32000732421875,
          281.3999938964844,
          286.1400146484375,
          289.6700134277344,
          289.04998779296875,
          286.5400085449219,
          286.2200012207031,
          286.5,
          284.9100036621094,
          284.82000732421875,
          287.1199951171875,
          286.510009765625,
          289.5199890136719,
          289.4599914550781,
          288.3299865722656,
          286.44000244140625,
          286.95001220703125,
          289.80999755859375,
          292.8500061035156,
          294.6000061035156,
          293.0799865722656,
          290.7300109863281,
          296.7699890136719,
          304.3599853515625,
          304.6499938964844,
          302.6199951171875,
          302.010009765625,
          299.0899963378906,
          299.7200012207031,
          303.5899963378906,
          301.8800048828125,
          301.8299865722656,
          301.1499938964844,
          301.1400146484375,
          300.17999267578125,
          300.2099914550781,
          297.25,
          295.7099914550781,
          296.989990234375,
          299.7900085449219,
          304.82000732421875,
          305.2200012207031,
          299.8699951171875,
          294.29998779296875,
          294.79998779296875,
          298.5799865722656,
          299.55999755859375,
          299.3500061035156,
          294.1700134277344,
          283.5199890136719,
          284,
          281.9200134277344,
          289.1000061035156,
          283.1099853515625,
          288.760009765625,
          293.1099853515625,
          294.8500061035156,
          294.8500061035156,
          294.2300109863281,
          292.8800048828125,
          296.30999755859375,
          302.75,
          304.2099914550781,
          307.2900085449219,
          308.2300109863281,
          307.4100036621094,
          310.760009765625,
          309.1600036621094,
          308.1300048828125,
          310.1099853515625,
          323.1700134277344,
          324.3500061035156,
          331.6199951171875,
          329.3699951171875,
          333.1300048828125,
          334,
          336.44000244140625,
          336.05999755859375,
          336.989990234375,
          335.95001220703125,
          330.79998779296875,
          332.42999267578125,
          336.7200012207031,
          336.07000732421875,
          339.510009765625,
          339.1199951171875,
          341.2699890136719,
          343.1099853515625,
          339.8299865722656,
          337.67999267578125,
          337.9100036621094,
          329.67999267578125,
          336.6300048828125,
          330.5899963378906,
          330.0799865722656,
          329.489990234375,
          323.010009765625,
          323.010009765625
         ],
         "high": [
          251.64999389648438,
          254.08999633789062,
          256.010009765625,
          255.52999877929688,
          257.4599914550781,
          258.489990234375,
          259.95001220703125,
          259.989990234375,
          260.5799865722656,
          261.75,
          262.29998779296875,
          263.5199890136719,
          265.7900085449219,
          266.8299865722656,
          267.8500061035156,
          267.25,
          268.8999938964844,
          271.6499938964844,
          271.3599853515625,
          271.8399963378906,
          278,
          279.3699951171875,
          280.69000244140625,
          278.7300109863281,
          278.04998779296875,
          279.7699890136719,
          282.8500061035156,
          283.6600036621094,
          282.510009765625,
          284.1000061035156,
          280.3699951171875,
          280.9700012207031,
          281.5199890136719,
          286.4200134277344,
          289.989990234375,
          289.69000244140625,
          289.5799865722656,
          290.1499938964844,
          288.6199951171875,
          286.6600036621094,
          286.7699890136719,
          287.2300109863281,
          287.5899963378906,
          289.6300048828125,
          289.5,
          291.54998779296875,
          289.25,
          288.6600036621094,
          289.9700012207031,
          292.8999938964844,
          294.82000732421875,
          293.42999267578125,
          294.82000732421875,
          297.4700012207031,
          305.8399963378906,
          305.3999938964844,
          305.6499938964844,
          304.5899963378906,
          302.42999267578125,
          300.8699951171875,
          304.2200012207031,
          304.5,
          305.19000244140625,
          303.3599853515625,
          302.6000061035156,
          301.0899963378906,
          300.6099853515625,
          302.1400146484375,
          299.9200134277344,
          298.5400085449219,
          301.3900146484375,
          305.32000732421875,
          305.30999755859375,
          304.5,
          298.7200012207031,
          297.5400085449219,
          300.2200012207031,
          300.8999938964844,
          299.79998779296875,
          296.4700012207031,
          290.7799987792969,
          286.7699890136719,
          287.8299865722656,
          289.9800109863281,
          287.75,
          290.3999938964844,
          293.6300048828125,
          296.6400146484375,
          296.6400146484375,
          297.9700012207031,
          295.44000244140625,
          297.2799987792969,
          303.2699890136719,
          304.45001220703125,
          308.2099914550781,
          309.29998779296875,
          309.70001220703125,
          311.0199890136719,
          311.0899963378906,
          309.3999938964844,
          312.3999938964844,
          326.1000061035156,
          324.8699951171875,
          332,
          331.489990234375,
          333.45001220703125,
          334.8999938964844,
          336.5400085449219,
          338.7900085449219,
          337.6499938964844,
          338.7200012207031,
          334.6300048828125,
          333.7699890136719,
          337.2300109863281,
          337.8800048828125,
          340.6700134277344,
          342.19000244140625,
          342.45001220703125,
          345.1000061035156,
          349.6700134277344,
          339.45001220703125,
          338.1600036621094,
          337.92999267578125,
          339.0299987792969,
          337.7799987792969,
          339.2799987792969,
          333.489990234375,
          332.70001220703125,
          332.70001220703125
         ],
         "low": [
          247.50999450683594,
          249.80999755859375,
          252.50999450683594,
          253.2100067138672,
          253.6699981689453,
          256.6099853515625,
          256.79998779296875,
          257.67999267578125,
          254.4199981689453,
          256.010009765625,
          258.75,
          257.9200134277344,
          262.3999938964844,
          264.42999267578125,
          265.4700012207031,
          264.760009765625,
          265.9100036621094,
          267.9800109863281,
          269.6000061035156,
          269.6000061035156,
          272.5,
          274.29998779296875,
          277.1499938964844,
          274.8699951171875,
          275.32000732421875,
          276.5799865722656,
          277.3900146484375,
          280.54998779296875,
          279.8299865722656,
          279.4599914550781,
          274.45001220703125,
          276.260009765625,
          277.2900085449219,
          283.4200134277344,
          286.5,
          286.6400146484375,
          282.95001220703125,
          283.8299865722656,
          286.0799865722656,
          283.9100036621094,
          283.739990234375,
          284,
          284.6499938964844,
          286.1000061035156,
          287.6199951171875,
          287.80999755859375,
          285.20001220703125,
          285.8599853515625,
          286.3399963378906,
          289.29998779296875,
          290.0199890136719,
          291.0799865722656,
          290.2699890136719,
          288.6400146484375,
          298.05999755859375,
          301.8500061035156,
          302,
          300.4200134277344,
          298.95001220703125,
          296.8299865722656,
          301.05999755859375,
          301.5,
          301.489990234375,
          300.17999267578125,
          300.260009765625,
          298.20001220703125,
          297.4700012207031,
          297,
          295.3800048828125,
          294.0799865722656,
          298.1000061035156,
          301.82000732421875,
          300.760009765625,
          299.5299987792969,
          289.5199890136719,
          294.07000732421875,
          294.510009765625,
          297.5299987792969,
          296.92999267578125,
          292.94000244140625,
          282.75,
          283.010009765625,
          281.6199951171875,
          281.2900085449219,
          280.25,
          284.04998779296875,
          285.510009765625,
          293.9200134277344,
          293.760009765625,
          292.75,
          292.3500061035156,
          293.489990234375,
          297.8299865722656,
          300.5199890136719,
          302.69000244140625,
          307.2200012207031,
          306.1099853515625,
          306.3599853515625,
          307.79998779296875,
          306.4599914550781,
          308.6000061035156,
          316,
          321.3599853515625,
          323.8999938964844,
          326.3699951171875,
          330,
          330.6499938964844,
          329.510009765625,
          334.4200134277344,
          334.44000244140625,
          334.5299987792969,
          329.9200134277344,
          330.510009765625,
          333.7900085449219,
          334.0299987792969,
          335.510009765625,
          338,
          337.1199951171875,
          342.20001220703125,
          339.54998779296875,
          333.55999755859375,
          333.9100036621094,
          328.1199951171875,
          334.739990234375,
          328.989990234375,
          329.3900146484375,
          327.79998779296875,
          318.0299987792969,
          318.0299987792969
         ],
         "name": "Price",
         "open": [
          247.75999450683594,
          249.97999572753906,
          255.16000366210938,
          253.80999755859375,
          254.2899932861328,
          257.989990234375,
          257.8999938964844,
          259.7699890136719,
          259.3999938964844,
          256.07000732421875,
          259.6300048828125,
          259.82000732421875,
          262.7200012207031,
          265.989990234375,
          266.1600036621094,
          266.2300109863281,
          266.19000244140625,
          268.8699951171875,
          270.69000244140625,
          269.6099853515625,
          272.82000732421875,
          278.0299987792969,
          279.3999938964844,
          276.8999938964844,
          275.7200012207031,
          279.1600036621094,
          277.5199890136719,
          282.3500061035156,
          282,
          282.07000732421875,
          278.92999267578125,
          278.0299987792969,
          278.8999938964844,
          283.8399963378906,
          287.3699951171875,
          289,
          289.42999267578125,
          288.989990234375,
          286.239990234375,
          285.1700134277344,
          286.3599853515625,
          285.4200134277344,
          286.2200012207031,
          286.8800048828125,
          288.510009765625,
          289.75,
          288.79998779296875,
          287.2099914550781,
          286.6300048828125,
          289.4800109863281,
          293.19000244140625,
          292.3900146484375,
          292.0400085449219,
          288.69000244140625,
          299.7200012207031,
          303.25,
          305.0199890136719,
          304.29998779296875,
          300.989990234375,
          298.989990234375,
          301.1199951171875,
          304.4200134277344,
          302.8699951171875,
          302.20001220703125,
          300.989990234375,
          301.010009765625,
          299.7799987792969,
          300.82000732421875,
          298.4200134277344,
          297.54998779296875,
          299.55999755859375,
          303.260009765625,
          303.760009765625,
          304.1700134277344,
          296.3299865722656,
          295.69000244140625,
          296.7300109863281,
          298.8500061035156,
          298.2300109863281,
          296.1400146484375,
          289.79998779296875,
          285.1000061035156,
          285.7099914550781,
          282.1199951171875,
          287.3999938964844,
          284.04998779296875,
          285.7799987792969,
          295.17999267578125,
          296.2200012207031,
          292.9200134277344,
          295.3399963378906,
          294.9100036621094,
          299.2099914550781,
          302.3399963378906,
          303.57000732421875,
          308.3500061035156,
          309.2099914550781,
          307.1700134277344,
          310.3999938964844,
          309.3599853515625,
          311,
          316,
          324.3299865722656,
          324.1300048828125,
          331.3599853515625,
          330.30999755859375,
          333.8999938964844,
          332.8900146484375,
          338.510009765625,
          337.29998779296875,
          337.1099853515625,
          334.57000732421875,
          331.25,
          333.9200134277344,
          337.5400085449219,
          335.67999267578125,
          338.94000244140625,
          338.17999267578125,
          342.6400146484375,
          344.6199951171875,
          337.04998779296875,
          336.2799987792969,
          334.3500061035156,
          334.94000244140625,
          335.32000732421875,
          335.1300048828125,
          330.29998779296875,
          331.989990234375,
          331.989990234375
         ],
         "type": "candlestick",
         "x": [
          "2021-06-04T00:00:00",
          "2021-06-07T00:00:00",
          "2021-06-08T00:00:00",
          "2021-06-09T00:00:00",
          "2021-06-10T00:00:00",
          "2021-06-11T00:00:00",
          "2021-06-14T00:00:00",
          "2021-06-15T00:00:00",
          "2021-06-16T00:00:00",
          "2021-06-17T00:00:00",
          "2021-06-18T00:00:00",
          "2021-06-21T00:00:00",
          "2021-06-22T00:00:00",
          "2021-06-23T00:00:00",
          "2021-06-24T00:00:00",
          "2021-06-25T00:00:00",
          "2021-06-28T00:00:00",
          "2021-06-29T00:00:00",
          "2021-06-30T00:00:00",
          "2021-07-01T00:00:00",
          "2021-07-02T00:00:00",
          "2021-07-06T00:00:00",
          "2021-07-07T00:00:00",
          "2021-07-08T00:00:00",
          "2021-07-09T00:00:00",
          "2021-07-12T00:00:00",
          "2021-07-13T00:00:00",
          "2021-07-14T00:00:00",
          "2021-07-15T00:00:00",
          "2021-07-16T00:00:00",
          "2021-07-19T00:00:00",
          "2021-07-20T00:00:00",
          "2021-07-21T00:00:00",
          "2021-07-22T00:00:00",
          "2021-07-23T00:00:00",
          "2021-07-26T00:00:00",
          "2021-07-27T00:00:00",
          "2021-07-28T00:00:00",
          "2021-07-29T00:00:00",
          "2021-07-30T00:00:00",
          "2021-08-02T00:00:00",
          "2021-08-03T00:00:00",
          "2021-08-04T00:00:00",
          "2021-08-05T00:00:00",
          "2021-08-06T00:00:00",
          "2021-08-09T00:00:00",
          "2021-08-10T00:00:00",
          "2021-08-11T00:00:00",
          "2021-08-12T00:00:00",
          "2021-08-13T00:00:00",
          "2021-08-16T00:00:00",
          "2021-08-17T00:00:00",
          "2021-08-18T00:00:00",
          "2021-08-19T00:00:00",
          "2021-08-20T00:00:00",
          "2021-08-23T00:00:00",
          "2021-08-24T00:00:00",
          "2021-08-25T00:00:00",
          "2021-08-26T00:00:00",
          "2021-08-27T00:00:00",
          "2021-08-30T00:00:00",
          "2021-08-31T00:00:00",
          "2021-09-01T00:00:00",
          "2021-09-02T00:00:00",
          "2021-09-03T00:00:00",
          "2021-09-07T00:00:00",
          "2021-09-08T00:00:00",
          "2021-09-09T00:00:00",
          "2021-09-10T00:00:00",
          "2021-09-13T00:00:00",
          "2021-09-14T00:00:00",
          "2021-09-15T00:00:00",
          "2021-09-16T00:00:00",
          "2021-09-17T00:00:00",
          "2021-09-20T00:00:00",
          "2021-09-21T00:00:00",
          "2021-09-22T00:00:00",
          "2021-09-23T00:00:00",
          "2021-09-24T00:00:00",
          "2021-09-27T00:00:00",
          "2021-09-28T00:00:00",
          "2021-09-29T00:00:00",
          "2021-09-30T00:00:00",
          "2021-10-01T00:00:00",
          "2021-10-04T00:00:00",
          "2021-10-05T00:00:00",
          "2021-10-06T00:00:00",
          "2021-10-07T00:00:00",
          "2021-10-08T00:00:00",
          "2021-10-11T00:00:00",
          "2021-10-12T00:00:00",
          "2021-10-13T00:00:00",
          "2021-10-14T00:00:00",
          "2021-10-15T00:00:00",
          "2021-10-18T00:00:00",
          "2021-10-19T00:00:00",
          "2021-10-20T00:00:00",
          "2021-10-21T00:00:00",
          "2021-10-22T00:00:00",
          "2021-10-25T00:00:00",
          "2021-10-26T00:00:00",
          "2021-10-27T00:00:00",
          "2021-10-28T00:00:00",
          "2021-10-29T00:00:00",
          "2021-11-01T00:00:00",
          "2021-11-02T00:00:00",
          "2021-11-03T00:00:00",
          "2021-11-04T00:00:00",
          "2021-11-05T00:00:00",
          "2021-11-08T00:00:00",
          "2021-11-09T00:00:00",
          "2021-11-10T00:00:00",
          "2021-11-11T00:00:00",
          "2021-11-12T00:00:00",
          "2021-11-15T00:00:00",
          "2021-11-16T00:00:00",
          "2021-11-17T00:00:00",
          "2021-11-18T00:00:00",
          "2021-11-19T00:00:00",
          "2021-11-22T00:00:00",
          "2021-11-23T00:00:00",
          "2021-11-24T00:00:00",
          "2021-11-26T00:00:00",
          "2021-11-29T00:00:00",
          "2021-11-30T00:00:00",
          "2021-12-01T00:00:00",
          "2021-12-02T00:00:00",
          "2021-12-03T00:00:00",
          "2021-12-03T00:00:00"
         ],
         "xaxis": "x",
         "yaxis": "y2"
        },
        {
         "name": "Volume",
         "opacity": 0.2,
         "type": "bar",
         "x": [
          "2021-06-04T00:00:00",
          "2021-06-07T00:00:00",
          "2021-06-08T00:00:00",
          "2021-06-09T00:00:00",
          "2021-06-10T00:00:00",
          "2021-06-11T00:00:00",
          "2021-06-14T00:00:00",
          "2021-06-15T00:00:00",
          "2021-06-16T00:00:00",
          "2021-06-17T00:00:00",
          "2021-06-18T00:00:00",
          "2021-06-21T00:00:00",
          "2021-06-22T00:00:00",
          "2021-06-23T00:00:00",
          "2021-06-24T00:00:00",
          "2021-06-25T00:00:00",
          "2021-06-28T00:00:00",
          "2021-06-29T00:00:00",
          "2021-06-30T00:00:00",
          "2021-07-01T00:00:00",
          "2021-07-02T00:00:00",
          "2021-07-06T00:00:00",
          "2021-07-07T00:00:00",
          "2021-07-08T00:00:00",
          "2021-07-09T00:00:00",
          "2021-07-12T00:00:00",
          "2021-07-13T00:00:00",
          "2021-07-14T00:00:00",
          "2021-07-15T00:00:00",
          "2021-07-16T00:00:00",
          "2021-07-19T00:00:00",
          "2021-07-20T00:00:00",
          "2021-07-21T00:00:00",
          "2021-07-22T00:00:00",
          "2021-07-23T00:00:00",
          "2021-07-26T00:00:00",
          "2021-07-27T00:00:00",
          "2021-07-28T00:00:00",
          "2021-07-29T00:00:00",
          "2021-07-30T00:00:00",
          "2021-08-02T00:00:00",
          "2021-08-03T00:00:00",
          "2021-08-04T00:00:00",
          "2021-08-05T00:00:00",
          "2021-08-06T00:00:00",
          "2021-08-09T00:00:00",
          "2021-08-10T00:00:00",
          "2021-08-11T00:00:00",
          "2021-08-12T00:00:00",
          "2021-08-13T00:00:00",
          "2021-08-16T00:00:00",
          "2021-08-17T00:00:00",
          "2021-08-18T00:00:00",
          "2021-08-19T00:00:00",
          "2021-08-20T00:00:00",
          "2021-08-23T00:00:00",
          "2021-08-24T00:00:00",
          "2021-08-25T00:00:00",
          "2021-08-26T00:00:00",
          "2021-08-27T00:00:00",
          "2021-08-30T00:00:00",
          "2021-08-31T00:00:00",
          "2021-09-01T00:00:00",
          "2021-09-02T00:00:00",
          "2021-09-03T00:00:00",
          "2021-09-07T00:00:00",
          "2021-09-08T00:00:00",
          "2021-09-09T00:00:00",
          "2021-09-10T00:00:00",
          "2021-09-13T00:00:00",
          "2021-09-14T00:00:00",
          "2021-09-15T00:00:00",
          "2021-09-16T00:00:00",
          "2021-09-17T00:00:00",
          "2021-09-20T00:00:00",
          "2021-09-21T00:00:00",
          "2021-09-22T00:00:00",
          "2021-09-23T00:00:00",
          "2021-09-24T00:00:00",
          "2021-09-27T00:00:00",
          "2021-09-28T00:00:00",
          "2021-09-29T00:00:00",
          "2021-09-30T00:00:00",
          "2021-10-01T00:00:00",
          "2021-10-04T00:00:00",
          "2021-10-05T00:00:00",
          "2021-10-06T00:00:00",
          "2021-10-07T00:00:00",
          "2021-10-08T00:00:00",
          "2021-10-11T00:00:00",
          "2021-10-12T00:00:00",
          "2021-10-13T00:00:00",
          "2021-10-14T00:00:00",
          "2021-10-15T00:00:00",
          "2021-10-18T00:00:00",
          "2021-10-19T00:00:00",
          "2021-10-20T00:00:00",
          "2021-10-21T00:00:00",
          "2021-10-22T00:00:00",
          "2021-10-25T00:00:00",
          "2021-10-26T00:00:00",
          "2021-10-27T00:00:00",
          "2021-10-28T00:00:00",
          "2021-10-29T00:00:00",
          "2021-11-01T00:00:00",
          "2021-11-02T00:00:00",
          "2021-11-03T00:00:00",
          "2021-11-04T00:00:00",
          "2021-11-05T00:00:00",
          "2021-11-08T00:00:00",
          "2021-11-09T00:00:00",
          "2021-11-10T00:00:00",
          "2021-11-11T00:00:00",
          "2021-11-12T00:00:00",
          "2021-11-15T00:00:00",
          "2021-11-16T00:00:00",
          "2021-11-17T00:00:00",
          "2021-11-18T00:00:00",
          "2021-11-19T00:00:00",
          "2021-11-22T00:00:00",
          "2021-11-23T00:00:00",
          "2021-11-24T00:00:00",
          "2021-11-26T00:00:00",
          "2021-11-29T00:00:00",
          "2021-11-30T00:00:00",
          "2021-12-01T00:00:00",
          "2021-12-02T00:00:00",
          "2021-12-03T00:00:00",
          "2021-12-03T00:00:00"
         ],
         "xaxis": "x",
         "y": [
          25281100,
          23079200,
          22455000,
          17937600,
          24563600,
          18999700,
          19150500,
          18038900,
          27220000,
          27565500,
          37202200,
          26696100,
          24694100,
          19518700,
          21446900,
          25611100,
          19590000,
          19937800,
          21656500,
          16725300,
          26458000,
          31565600,
          23260000,
          24618600,
          23916700,
          18931700,
          26120100,
          23113700,
          22604200,
          26186800,
          32935600,
          26259700,
          24364300,
          23384100,
          22768100,
          23176100,
          33604100,
          33566900,
          18168300,
          20940900,
          16267400,
          17879000,
          16191300,
          13900200,
          16585200,
          16117600,
          18616600,
          13955900,
          14561300,
          18231400,
          22507600,
          20075300,
          21813000,
          29850500,
          40796100,
          22830200,
          18175800,
          20006100,
          17666100,
          22597000,
          16348100,
          26285300,
          18983800,
          16285600,
          14747900,
          17180400,
          15046800,
          19927000,
          19619400,
          23652900,
          21853400,
          28356300,
          19550800,
          41372500,
          38278700,
          22364100,
          26626300,
          18604600,
          14999000,
          23571700,
          43186200,
          26353700,
          32325800,
          30086300,
          31350700,
          24993000,
          28002600,
          20430500,
          17680300,
          19298600,
          17974100,
          23416300,
          27262900,
          25374700,
          22729300,
          17682100,
          16537100,
          16918100,
          17449300,
          17554500,
          28107300,
          52588700,
          26297900,
          34744900,
          27073200,
          26487100,
          21500100,
          23992200,
          22564000,
          20897000,
          21307400,
          25500900,
          16849800,
          23822000,
          16723000,
          20886800,
          19053400,
          22463500,
          21963400,
          31031100,
          30427600,
          21661300,
          24217200,
          28563500,
          42885600,
          33337600,
          30766000,
          40852342,
          40852342
         ],
         "yaxis": "y"
        },
        {
         "showlegend": false,
         "type": "scatter",
         "x": [
          "2021-09-07T00:00:00",
          "2021-09-08T00:00:00",
          "2021-09-09T00:00:00",
          "2021-09-13T00:00:00",
          "2021-09-14T00:00:00",
          "2021-09-15T00:00:00",
          "2021-09-16T00:00:00",
          "2021-09-17T00:00:00",
          "2021-09-20T00:00:00",
          "2021-09-21T00:00:00",
          "2021-09-22T00:00:00",
          "2021-09-23T00:00:00",
          "2021-09-24T00:00:00",
          "2021-09-26T00:00:00",
          "2021-09-27T00:00:00",
          "2021-09-28T00:00:00",
          "2021-09-29T00:00:00",
          "2021-09-30T00:00:00",
          "2021-10-01T00:00:00",
          "2021-10-03T00:00:00",
          "2021-10-04T00:00:00",
          "2021-10-05T00:00:00",
          "2021-10-06T00:00:00",
          "2021-10-07T00:00:00",
          "2021-10-08T00:00:00",
          "2021-10-10T00:00:00",
          "2021-10-11T00:00:00",
          "2021-10-12T00:00:00",
          "2021-10-13T00:00:00",
          "2021-10-14T00:00:00",
          "2021-10-15T00:00:00",
          "2021-10-16T00:00:00",
          "2021-10-17T00:00:00",
          "2021-10-18T00:00:00",
          "2021-10-19T00:00:00",
          "2021-10-20T00:00:00",
          "2021-10-21T00:00:00",
          "2021-10-22T00:00:00",
          "2021-10-23T00:00:00",
          "2021-10-24T00:00:00",
          "2021-10-25T00:00:00",
          "2021-10-26T00:00:00",
          "2021-10-27T00:00:00",
          "2021-10-28T00:00:00",
          "2021-10-29T00:00:00",
          "2021-10-30T00:00:00",
          "2021-10-31T00:00:00",
          "2021-11-01T00:00:00",
          "2021-11-02T00:00:00",
          "2021-11-03T00:00:00",
          "2021-11-04T00:00:00",
          "2021-11-05T00:00:00",
          "2021-11-06T00:00:00",
          "2021-11-07T00:00:00",
          "2021-11-08T00:00:00",
          "2021-11-09T00:00:00",
          "2021-11-10T00:00:00",
          "2021-11-11T00:00:00",
          "2021-11-12T00:00:00",
          "2021-11-13T00:00:00",
          "2021-11-14T00:00:00",
          "2021-11-15T00:00:00",
          "2021-11-16T00:00:00",
          "2021-11-17T00:00:00",
          "2021-11-18T00:00:00",
          "2021-11-19T00:00:00",
          "2021-11-20T00:00:00",
          "2021-11-21T00:00:00",
          "2021-11-22T00:00:00",
          "2021-11-23T00:00:00",
          "2021-11-24T00:00:00",
          "2021-11-25T00:00:00",
          "2021-11-26T00:00:00",
          "2021-11-27T00:00:00",
          "2021-11-28T00:00:00",
          "2021-11-29T00:00:00",
          "2021-11-30T00:00:00",
          "2021-12-01T00:00:00",
          "2021-12-02T00:00:00",
          "2021-12-03T00:00:00"
         ],
         "xaxis": "x2",
         "y": [
          0.5388571915358182,
          -0.21565888720197768,
          0,
          0.07954984101874987,
          0.3510923853915279,
          -0.0033691917160308025,
          -0.648526311111678,
          0.503156524543591,
          -0.05214029546504485,
          -0.1924502036874992,
          0.5202181888972259,
          1.0110097601066619,
          -0.18067526917763455,
          -0.09135456174787256,
          -0.2718457974121086,
          -0.2821913308947195,
          -0.21705893919434593,
          -0.12615012187821448,
          0.6906967888837247,
          1.5112749652993789,
          -0.0977731793586896,
          -0.36106560575025776,
          -0.06938115584716528,
          -0.26601738782029294,
          -0.761172910846027,
          0.9428911901962532,
          -0.007836183264122143,
          0.19202948627251998,
          -0.10305075999055112,
          0.30773746473038743,
          -0.26503896675772204,
          -0.23803011795321893,
          -0.24671949453475386,
          -0.342638443699104,
          -0.26541475583111135,
          -0.14925684252496232,
          -0.15881374097632955,
          0.013797300272385812,
          -0.19355056885134575,
          0.18523753514223923,
          -0.041924598385458936,
          -0.10089166523557781,
          -0.13340447191998145,
          0.24913485741934896,
          0.30234479602184905,
          -0.10584949831354153,
          0.2195019763283021,
          -0.008657899998990304,
          -0.09425896653238373,
          0.03165518513449699,
          0.29804286119633844,
          0.08929970947288433,
          -0.3791872023325552,
          0,
          0.11629853278218652,
          -0.18327198855698273,
          0.03469803558723554,
          -0.07390024225721119,
          0.15681299467295512,
          0.04825729789380057,
          -0.08211193057342853,
          -0.05675807642187091,
          -0.15200130395194028,
          -0.07227405470646824,
          0.0020380432416155503,
          -0.1406898981765527,
          0.36289963695746724,
          0.052127659469558295,
          -0.12004183135906336,
          0.09917277698028575,
          -0.2579386225743076,
          0.1404014156200599,
          0.030144866390526392,
          -0.19206898885513335,
          -0.2409917980133887,
          -0.03732239211144126,
          0.01344617065315068,
          -0.24004788301297333,
          -0.19640451284430568,
          -0.14573292594019366
         ],
         "yaxis": "y3"
        },
        {
         "name": "Used News Volume",
         "opacity": 0.2,
         "type": "bar",
         "x": [
          "2021-09-07T00:00:00",
          "2021-09-08T00:00:00",
          "2021-09-09T00:00:00",
          "2021-09-13T00:00:00",
          "2021-09-14T00:00:00",
          "2021-09-15T00:00:00",
          "2021-09-16T00:00:00",
          "2021-09-17T00:00:00",
          "2021-09-20T00:00:00",
          "2021-09-21T00:00:00",
          "2021-09-22T00:00:00",
          "2021-09-23T00:00:00",
          "2021-09-24T00:00:00",
          "2021-09-26T00:00:00",
          "2021-09-27T00:00:00",
          "2021-09-28T00:00:00",
          "2021-09-29T00:00:00",
          "2021-09-30T00:00:00",
          "2021-10-01T00:00:00",
          "2021-10-03T00:00:00",
          "2021-10-04T00:00:00",
          "2021-10-05T00:00:00",
          "2021-10-06T00:00:00",
          "2021-10-07T00:00:00",
          "2021-10-08T00:00:00",
          "2021-10-10T00:00:00",
          "2021-10-11T00:00:00",
          "2021-10-12T00:00:00",
          "2021-10-13T00:00:00",
          "2021-10-14T00:00:00",
          "2021-10-15T00:00:00",
          "2021-10-16T00:00:00",
          "2021-10-17T00:00:00",
          "2021-10-18T00:00:00",
          "2021-10-19T00:00:00",
          "2021-10-20T00:00:00",
          "2021-10-21T00:00:00",
          "2021-10-22T00:00:00",
          "2021-10-23T00:00:00",
          "2021-10-24T00:00:00",
          "2021-10-25T00:00:00",
          "2021-10-26T00:00:00",
          "2021-10-27T00:00:00",
          "2021-10-28T00:00:00",
          "2021-10-29T00:00:00",
          "2021-10-30T00:00:00",
          "2021-10-31T00:00:00",
          "2021-11-01T00:00:00",
          "2021-11-02T00:00:00",
          "2021-11-03T00:00:00",
          "2021-11-04T00:00:00",
          "2021-11-05T00:00:00",
          "2021-11-06T00:00:00",
          "2021-11-07T00:00:00",
          "2021-11-08T00:00:00",
          "2021-11-09T00:00:00",
          "2021-11-10T00:00:00",
          "2021-11-11T00:00:00",
          "2021-11-12T00:00:00",
          "2021-11-13T00:00:00",
          "2021-11-14T00:00:00",
          "2021-11-15T00:00:00",
          "2021-11-16T00:00:00",
          "2021-11-17T00:00:00",
          "2021-11-18T00:00:00",
          "2021-11-19T00:00:00",
          "2021-11-20T00:00:00",
          "2021-11-21T00:00:00",
          "2021-11-22T00:00:00",
          "2021-11-23T00:00:00",
          "2021-11-24T00:00:00",
          "2021-11-25T00:00:00",
          "2021-11-26T00:00:00",
          "2021-11-27T00:00:00",
          "2021-11-28T00:00:00",
          "2021-11-29T00:00:00",
          "2021-11-30T00:00:00",
          "2021-12-01T00:00:00",
          "2021-12-02T00:00:00",
          "2021-12-03T00:00:00"
         ],
         "xaxis": "x3",
         "y": [
          2,
          2,
          3,
          2,
          2,
          6,
          1,
          2,
          2,
          3,
          3,
          1,
          3,
          2,
          1,
          4,
          2,
          2,
          1,
          1,
          5,
          4,
          3,
          2,
          2,
          2,
          5,
          7,
          3,
          6,
          3,
          7,
          6,
          5,
          6,
          8,
          10,
          23,
          14,
          5,
          29,
          36,
          45,
          24,
          28,
          15,
          11,
          25,
          11,
          12,
          16,
          9,
          7,
          3,
          14,
          11,
          11,
          14,
          13,
          8,
          6,
          14,
          31,
          23,
          16,
          18,
          6,
          7,
          14,
          17,
          14,
          5,
          11,
          4,
          5,
          15,
          11,
          13,
          12,
          101
         ],
         "yaxis": "y5"
        }
       ],
       "layout": {
        "annotations": [
         {
          "font": {
           "size": 16
          },
          "showarrow": false,
          "text": "MSFT",
          "x": 0.47,
          "xanchor": "center",
          "xref": "paper",
          "y": 1,
          "yanchor": "bottom",
          "yref": "paper"
         },
         {
          "font": {
           "size": 16
          },
          "showarrow": false,
          "text": "Sentiment_Score",
          "x": 0.47,
          "xanchor": "center",
          "xref": "paper",
          "y": 0.3539130434782609,
          "yanchor": "bottom",
          "yref": "paper"
         },
         {
          "font": {
           "size": 16
          },
          "showarrow": false,
          "text": "Used News Volume",
          "x": 0.47,
          "xanchor": "center",
          "xref": "paper",
          "y": 0.16695652173913045,
          "yanchor": "bottom",
          "yref": "paper"
         }
        ],
        "height": 750,
        "template": {
         "data": {
          "bar": [
           {
            "error_x": {
             "color": "#2a3f5f"
            },
            "error_y": {
             "color": "#2a3f5f"
            },
            "marker": {
             "line": {
              "color": "#E5ECF6",
              "width": 0.5
             },
             "pattern": {
              "fillmode": "overlay",
              "size": 10,
              "solidity": 0.2
             }
            },
            "type": "bar"
           }
          ],
          "barpolar": [
           {
            "marker": {
             "line": {
              "color": "#E5ECF6",
              "width": 0.5
             },
             "pattern": {
              "fillmode": "overlay",
              "size": 10,
              "solidity": 0.2
             }
            },
            "type": "barpolar"
           }
          ],
          "carpet": [
           {
            "aaxis": {
             "endlinecolor": "#2a3f5f",
             "gridcolor": "white",
             "linecolor": "white",
             "minorgridcolor": "white",
             "startlinecolor": "#2a3f5f"
            },
            "baxis": {
             "endlinecolor": "#2a3f5f",
             "gridcolor": "white",
             "linecolor": "white",
             "minorgridcolor": "white",
             "startlinecolor": "#2a3f5f"
            },
            "type": "carpet"
           }
          ],
          "choropleth": [
           {
            "colorbar": {
             "outlinewidth": 0,
             "ticks": ""
            },
            "type": "choropleth"
           }
          ],
          "contour": [
           {
            "colorbar": {
             "outlinewidth": 0,
             "ticks": ""
            },
            "colorscale": [
             [
              0,
              "#0d0887"
             ],
             [
              0.1111111111111111,
              "#46039f"
             ],
             [
              0.2222222222222222,
              "#7201a8"
             ],
             [
              0.3333333333333333,
              "#9c179e"
             ],
             [
              0.4444444444444444,
              "#bd3786"
             ],
             [
              0.5555555555555556,
              "#d8576b"
             ],
             [
              0.6666666666666666,
              "#ed7953"
             ],
             [
              0.7777777777777778,
              "#fb9f3a"
             ],
             [
              0.8888888888888888,
              "#fdca26"
             ],
             [
              1,
              "#f0f921"
             ]
            ],
            "type": "contour"
           }
          ],
          "contourcarpet": [
           {
            "colorbar": {
             "outlinewidth": 0,
             "ticks": ""
            },
            "type": "contourcarpet"
           }
          ],
          "heatmap": [
           {
            "colorbar": {
             "outlinewidth": 0,
             "ticks": ""
            },
            "colorscale": [
             [
              0,
              "#0d0887"
             ],
             [
              0.1111111111111111,
              "#46039f"
             ],
             [
              0.2222222222222222,
              "#7201a8"
             ],
             [
              0.3333333333333333,
              "#9c179e"
             ],
             [
              0.4444444444444444,
              "#bd3786"
             ],
             [
              0.5555555555555556,
              "#d8576b"
             ],
             [
              0.6666666666666666,
              "#ed7953"
             ],
             [
              0.7777777777777778,
              "#fb9f3a"
             ],
             [
              0.8888888888888888,
              "#fdca26"
             ],
             [
              1,
              "#f0f921"
             ]
            ],
            "type": "heatmap"
           }
          ],
          "heatmapgl": [
           {
            "colorbar": {
             "outlinewidth": 0,
             "ticks": ""
            },
            "colorscale": [
             [
              0,
              "#0d0887"
             ],
             [
              0.1111111111111111,
              "#46039f"
             ],
             [
              0.2222222222222222,
              "#7201a8"
             ],
             [
              0.3333333333333333,
              "#9c179e"
             ],
             [
              0.4444444444444444,
              "#bd3786"
             ],
             [
              0.5555555555555556,
              "#d8576b"
             ],
             [
              0.6666666666666666,
              "#ed7953"
             ],
             [
              0.7777777777777778,
              "#fb9f3a"
             ],
             [
              0.8888888888888888,
              "#fdca26"
             ],
             [
              1,
              "#f0f921"
             ]
            ],
            "type": "heatmapgl"
           }
          ],
          "histogram": [
           {
            "marker": {
             "pattern": {
              "fillmode": "overlay",
              "size": 10,
              "solidity": 0.2
             }
            },
            "type": "histogram"
           }
          ],
          "histogram2d": [
           {
            "colorbar": {
             "outlinewidth": 0,
             "ticks": ""
            },
            "colorscale": [
             [
              0,
              "#0d0887"
             ],
             [
              0.1111111111111111,
              "#46039f"
             ],
             [
              0.2222222222222222,
              "#7201a8"
             ],
             [
              0.3333333333333333,
              "#9c179e"
             ],
             [
              0.4444444444444444,
              "#bd3786"
             ],
             [
              0.5555555555555556,
              "#d8576b"
             ],
             [
              0.6666666666666666,
              "#ed7953"
             ],
             [
              0.7777777777777778,
              "#fb9f3a"
             ],
             [
              0.8888888888888888,
              "#fdca26"
             ],
             [
              1,
              "#f0f921"
             ]
            ],
            "type": "histogram2d"
           }
          ],
          "histogram2dcontour": [
           {
            "colorbar": {
             "outlinewidth": 0,
             "ticks": ""
            },
            "colorscale": [
             [
              0,
              "#0d0887"
             ],
             [
              0.1111111111111111,
              "#46039f"
             ],
             [
              0.2222222222222222,
              "#7201a8"
             ],
             [
              0.3333333333333333,
              "#9c179e"
             ],
             [
              0.4444444444444444,
              "#bd3786"
             ],
             [
              0.5555555555555556,
              "#d8576b"
             ],
             [
              0.6666666666666666,
              "#ed7953"
             ],
             [
              0.7777777777777778,
              "#fb9f3a"
             ],
             [
              0.8888888888888888,
              "#fdca26"
             ],
             [
              1,
              "#f0f921"
             ]
            ],
            "type": "histogram2dcontour"
           }
          ],
          "mesh3d": [
           {
            "colorbar": {
             "outlinewidth": 0,
             "ticks": ""
            },
            "type": "mesh3d"
           }
          ],
          "parcoords": [
           {
            "line": {
             "colorbar": {
              "outlinewidth": 0,
              "ticks": ""
             }
            },
            "type": "parcoords"
           }
          ],
          "pie": [
           {
            "automargin": true,
            "type": "pie"
           }
          ],
          "scatter": [
           {
            "marker": {
             "colorbar": {
              "outlinewidth": 0,
              "ticks": ""
             }
            },
            "type": "scatter"
           }
          ],
          "scatter3d": [
           {
            "line": {
             "colorbar": {
              "outlinewidth": 0,
              "ticks": ""
             }
            },
            "marker": {
             "colorbar": {
              "outlinewidth": 0,
              "ticks": ""
             }
            },
            "type": "scatter3d"
           }
          ],
          "scattercarpet": [
           {
            "marker": {
             "colorbar": {
              "outlinewidth": 0,
              "ticks": ""
             }
            },
            "type": "scattercarpet"
           }
          ],
          "scattergeo": [
           {
            "marker": {
             "colorbar": {
              "outlinewidth": 0,
              "ticks": ""
             }
            },
            "type": "scattergeo"
           }
          ],
          "scattergl": [
           {
            "marker": {
             "colorbar": {
              "outlinewidth": 0,
              "ticks": ""
             }
            },
            "type": "scattergl"
           }
          ],
          "scattermapbox": [
           {
            "marker": {
             "colorbar": {
              "outlinewidth": 0,
              "ticks": ""
             }
            },
            "type": "scattermapbox"
           }
          ],
          "scatterpolar": [
           {
            "marker": {
             "colorbar": {
              "outlinewidth": 0,
              "ticks": ""
             }
            },
            "type": "scatterpolar"
           }
          ],
          "scatterpolargl": [
           {
            "marker": {
             "colorbar": {
              "outlinewidth": 0,
              "ticks": ""
             }
            },
            "type": "scatterpolargl"
           }
          ],
          "scatterternary": [
           {
            "marker": {
             "colorbar": {
              "outlinewidth": 0,
              "ticks": ""
             }
            },
            "type": "scatterternary"
           }
          ],
          "surface": [
           {
            "colorbar": {
             "outlinewidth": 0,
             "ticks": ""
            },
            "colorscale": [
             [
              0,
              "#0d0887"
             ],
             [
              0.1111111111111111,
              "#46039f"
             ],
             [
              0.2222222222222222,
              "#7201a8"
             ],
             [
              0.3333333333333333,
              "#9c179e"
             ],
             [
              0.4444444444444444,
              "#bd3786"
             ],
             [
              0.5555555555555556,
              "#d8576b"
             ],
             [
              0.6666666666666666,
              "#ed7953"
             ],
             [
              0.7777777777777778,
              "#fb9f3a"
             ],
             [
              0.8888888888888888,
              "#fdca26"
             ],
             [
              1,
              "#f0f921"
             ]
            ],
            "type": "surface"
           }
          ],
          "table": [
           {
            "cells": {
             "fill": {
              "color": "#EBF0F8"
             },
             "line": {
              "color": "white"
             }
            },
            "header": {
             "fill": {
              "color": "#C8D4E3"
             },
             "line": {
              "color": "white"
             }
            },
            "type": "table"
           }
          ]
         },
         "layout": {
          "annotationdefaults": {
           "arrowcolor": "#2a3f5f",
           "arrowhead": 0,
           "arrowwidth": 1
          },
          "autotypenumbers": "strict",
          "coloraxis": {
           "colorbar": {
            "outlinewidth": 0,
            "ticks": ""
           }
          },
          "colorscale": {
           "diverging": [
            [
             0,
             "#8e0152"
            ],
            [
             0.1,
             "#c51b7d"
            ],
            [
             0.2,
             "#de77ae"
            ],
            [
             0.3,
             "#f1b6da"
            ],
            [
             0.4,
             "#fde0ef"
            ],
            [
             0.5,
             "#f7f7f7"
            ],
            [
             0.6,
             "#e6f5d0"
            ],
            [
             0.7,
             "#b8e186"
            ],
            [
             0.8,
             "#7fbc41"
            ],
            [
             0.9,
             "#4d9221"
            ],
            [
             1,
             "#276419"
            ]
           ],
           "sequential": [
            [
             0,
             "#0d0887"
            ],
            [
             0.1111111111111111,
             "#46039f"
            ],
            [
             0.2222222222222222,
             "#7201a8"
            ],
            [
             0.3333333333333333,
             "#9c179e"
            ],
            [
             0.4444444444444444,
             "#bd3786"
            ],
            [
             0.5555555555555556,
             "#d8576b"
            ],
            [
             0.6666666666666666,
             "#ed7953"
            ],
            [
             0.7777777777777778,
             "#fb9f3a"
            ],
            [
             0.8888888888888888,
             "#fdca26"
            ],
            [
             1,
             "#f0f921"
            ]
           ],
           "sequentialminus": [
            [
             0,
             "#0d0887"
            ],
            [
             0.1111111111111111,
             "#46039f"
            ],
            [
             0.2222222222222222,
             "#7201a8"
            ],
            [
             0.3333333333333333,
             "#9c179e"
            ],
            [
             0.4444444444444444,
             "#bd3786"
            ],
            [
             0.5555555555555556,
             "#d8576b"
            ],
            [
             0.6666666666666666,
             "#ed7953"
            ],
            [
             0.7777777777777778,
             "#fb9f3a"
            ],
            [
             0.8888888888888888,
             "#fdca26"
            ],
            [
             1,
             "#f0f921"
            ]
           ]
          },
          "colorway": [
           "#636efa",
           "#EF553B",
           "#00cc96",
           "#ab63fa",
           "#FFA15A",
           "#19d3f3",
           "#FF6692",
           "#B6E880",
           "#FF97FF",
           "#FECB52"
          ],
          "font": {
           "color": "#2a3f5f"
          },
          "geo": {
           "bgcolor": "white",
           "lakecolor": "white",
           "landcolor": "#E5ECF6",
           "showlakes": true,
           "showland": true,
           "subunitcolor": "white"
          },
          "hoverlabel": {
           "align": "left"
          },
          "hovermode": "closest",
          "mapbox": {
           "style": "light"
          },
          "paper_bgcolor": "white",
          "plot_bgcolor": "#E5ECF6",
          "polar": {
           "angularaxis": {
            "gridcolor": "white",
            "linecolor": "white",
            "ticks": ""
           },
           "bgcolor": "#E5ECF6",
           "radialaxis": {
            "gridcolor": "white",
            "linecolor": "white",
            "ticks": ""
           }
          },
          "scene": {
           "xaxis": {
            "backgroundcolor": "#E5ECF6",
            "gridcolor": "white",
            "gridwidth": 2,
            "linecolor": "white",
            "showbackground": true,
            "ticks": "",
            "zerolinecolor": "white"
           },
           "yaxis": {
            "backgroundcolor": "#E5ECF6",
            "gridcolor": "white",
            "gridwidth": 2,
            "linecolor": "white",
            "showbackground": true,
            "ticks": "",
            "zerolinecolor": "white"
           },
           "zaxis": {
            "backgroundcolor": "#E5ECF6",
            "gridcolor": "white",
            "gridwidth": 2,
            "linecolor": "white",
            "showbackground": true,
            "ticks": "",
            "zerolinecolor": "white"
           }
          },
          "shapedefaults": {
           "line": {
            "color": "#2a3f5f"
           }
          },
          "ternary": {
           "aaxis": {
            "gridcolor": "white",
            "linecolor": "white",
            "ticks": ""
           },
           "baxis": {
            "gridcolor": "white",
            "linecolor": "white",
            "ticks": ""
           },
           "bgcolor": "#E5ECF6",
           "caxis": {
            "gridcolor": "white",
            "linecolor": "white",
            "ticks": ""
           }
          },
          "title": {
           "x": 0.05
          },
          "xaxis": {
           "automargin": true,
           "gridcolor": "white",
           "linecolor": "white",
           "ticks": "",
           "title": {
            "standoff": 15
           },
           "zerolinecolor": "white",
           "zerolinewidth": 2
          },
          "yaxis": {
           "automargin": true,
           "gridcolor": "white",
           "linecolor": "white",
           "ticks": "",
           "title": {
            "standoff": 15
           },
           "zerolinecolor": "white",
           "zerolinewidth": 2
          }
         }
        },
        "width": 1000,
        "xaxis": {
         "anchor": "y",
         "domain": [
          0,
          0.94
         ],
         "matches": "x3",
         "rangeslider": {
          "visible": false
         },
         "showticklabels": false
        },
        "xaxis2": {
         "anchor": "y3",
         "domain": [
          0,
          0.94
         ],
         "matches": "x3",
         "showticklabels": false
        },
        "xaxis3": {
         "anchor": "y5",
         "domain": [
          0,
          0.94
         ]
        },
        "yaxis": {
         "anchor": "x",
         "domain": [
          0.3739130434782609,
          1
         ]
        },
        "yaxis2": {
         "anchor": "x",
         "overlaying": "y",
         "showgrid": false,
         "side": "right"
        },
        "yaxis3": {
         "anchor": "x2",
         "domain": [
          0.18695652173913044,
          0.3539130434782609
         ]
        },
        "yaxis4": {
         "anchor": "x2",
         "overlaying": "y3",
         "side": "right"
        },
        "yaxis5": {
         "anchor": "x3",
         "domain": [
          0,
          0.16695652173913045
         ]
        },
        "yaxis6": {
         "anchor": "x3",
         "overlaying": "y5",
         "side": "right"
        }
       }
      },
      "text/html": [
       "<div>                            <div id=\"f696252d-d2d2-42c1-a007-9d9b29aaf71a\" class=\"plotly-graph-div\" style=\"height:750px; width:1000px;\"></div>            <script type=\"text/javascript\">                require([\"plotly\"], function(Plotly) {                    window.PLOTLYENV=window.PLOTLYENV || {};                                    if (document.getElementById(\"f696252d-d2d2-42c1-a007-9d9b29aaf71a\")) {                    Plotly.newPlot(                        \"f696252d-d2d2-42c1-a007-9d9b29aaf71a\",                        [{\"close\":[250.7899932861328,253.80999755859375,252.57000732421875,253.58999633789062,257.239990234375,257.8900146484375,259.8900146484375,258.3599853515625,257.3800048828125,260.8999938964844,259.42999267578125,262.6300048828125,265.510009765625,265.2699890136719,266.69000244140625,265.0199890136719,268.7200012207031,271.3999938964844,270.8999938964844,271.6000061035156,277.6499938964844,277.6600036621094,279.92999267578125,277.4200134277344,277.94000244140625,277.32000732421875,280.9800109863281,282.510009765625,281.0299987792969,280.75,277.010009765625,279.32000732421875,281.3999938964844,286.1400146484375,289.6700134277344,289.04998779296875,286.5400085449219,286.2200012207031,286.5,284.9100036621094,284.82000732421875,287.1199951171875,286.510009765625,289.5199890136719,289.4599914550781,288.3299865722656,286.44000244140625,286.95001220703125,289.80999755859375,292.8500061035156,294.6000061035156,293.0799865722656,290.7300109863281,296.7699890136719,304.3599853515625,304.6499938964844,302.6199951171875,302.010009765625,299.0899963378906,299.7200012207031,303.5899963378906,301.8800048828125,301.8299865722656,301.1499938964844,301.1400146484375,300.17999267578125,300.2099914550781,297.25,295.7099914550781,296.989990234375,299.7900085449219,304.82000732421875,305.2200012207031,299.8699951171875,294.29998779296875,294.79998779296875,298.5799865722656,299.55999755859375,299.3500061035156,294.1700134277344,283.5199890136719,284.0,281.9200134277344,289.1000061035156,283.1099853515625,288.760009765625,293.1099853515625,294.8500061035156,294.8500061035156,294.2300109863281,292.8800048828125,296.30999755859375,302.75,304.2099914550781,307.2900085449219,308.2300109863281,307.4100036621094,310.760009765625,309.1600036621094,308.1300048828125,310.1099853515625,323.1700134277344,324.3500061035156,331.6199951171875,329.3699951171875,333.1300048828125,334.0,336.44000244140625,336.05999755859375,336.989990234375,335.95001220703125,330.79998779296875,332.42999267578125,336.7200012207031,336.07000732421875,339.510009765625,339.1199951171875,341.2699890136719,343.1099853515625,339.8299865722656,337.67999267578125,337.9100036621094,329.67999267578125,336.6300048828125,330.5899963378906,330.0799865722656,329.489990234375,323.010009765625,323.010009765625],\"high\":[251.64999389648438,254.08999633789062,256.010009765625,255.52999877929688,257.4599914550781,258.489990234375,259.95001220703125,259.989990234375,260.5799865722656,261.75,262.29998779296875,263.5199890136719,265.7900085449219,266.8299865722656,267.8500061035156,267.25,268.8999938964844,271.6499938964844,271.3599853515625,271.8399963378906,278.0,279.3699951171875,280.69000244140625,278.7300109863281,278.04998779296875,279.7699890136719,282.8500061035156,283.6600036621094,282.510009765625,284.1000061035156,280.3699951171875,280.9700012207031,281.5199890136719,286.4200134277344,289.989990234375,289.69000244140625,289.5799865722656,290.1499938964844,288.6199951171875,286.6600036621094,286.7699890136719,287.2300109863281,287.5899963378906,289.6300048828125,289.5,291.54998779296875,289.25,288.6600036621094,289.9700012207031,292.8999938964844,294.82000732421875,293.42999267578125,294.82000732421875,297.4700012207031,305.8399963378906,305.3999938964844,305.6499938964844,304.5899963378906,302.42999267578125,300.8699951171875,304.2200012207031,304.5,305.19000244140625,303.3599853515625,302.6000061035156,301.0899963378906,300.6099853515625,302.1400146484375,299.9200134277344,298.5400085449219,301.3900146484375,305.32000732421875,305.30999755859375,304.5,298.7200012207031,297.5400085449219,300.2200012207031,300.8999938964844,299.79998779296875,296.4700012207031,290.7799987792969,286.7699890136719,287.8299865722656,289.9800109863281,287.75,290.3999938964844,293.6300048828125,296.6400146484375,296.6400146484375,297.9700012207031,295.44000244140625,297.2799987792969,303.2699890136719,304.45001220703125,308.2099914550781,309.29998779296875,309.70001220703125,311.0199890136719,311.0899963378906,309.3999938964844,312.3999938964844,326.1000061035156,324.8699951171875,332.0,331.489990234375,333.45001220703125,334.8999938964844,336.5400085449219,338.7900085449219,337.6499938964844,338.7200012207031,334.6300048828125,333.7699890136719,337.2300109863281,337.8800048828125,340.6700134277344,342.19000244140625,342.45001220703125,345.1000061035156,349.6700134277344,339.45001220703125,338.1600036621094,337.92999267578125,339.0299987792969,337.7799987792969,339.2799987792969,333.489990234375,332.70001220703125,332.70001220703125],\"low\":[247.50999450683594,249.80999755859375,252.50999450683594,253.2100067138672,253.6699981689453,256.6099853515625,256.79998779296875,257.67999267578125,254.4199981689453,256.010009765625,258.75,257.9200134277344,262.3999938964844,264.42999267578125,265.4700012207031,264.760009765625,265.9100036621094,267.9800109863281,269.6000061035156,269.6000061035156,272.5,274.29998779296875,277.1499938964844,274.8699951171875,275.32000732421875,276.5799865722656,277.3900146484375,280.54998779296875,279.8299865722656,279.4599914550781,274.45001220703125,276.260009765625,277.2900085449219,283.4200134277344,286.5,286.6400146484375,282.95001220703125,283.8299865722656,286.0799865722656,283.9100036621094,283.739990234375,284.0,284.6499938964844,286.1000061035156,287.6199951171875,287.80999755859375,285.20001220703125,285.8599853515625,286.3399963378906,289.29998779296875,290.0199890136719,291.0799865722656,290.2699890136719,288.6400146484375,298.05999755859375,301.8500061035156,302.0,300.4200134277344,298.95001220703125,296.8299865722656,301.05999755859375,301.5,301.489990234375,300.17999267578125,300.260009765625,298.20001220703125,297.4700012207031,297.0,295.3800048828125,294.0799865722656,298.1000061035156,301.82000732421875,300.760009765625,299.5299987792969,289.5199890136719,294.07000732421875,294.510009765625,297.5299987792969,296.92999267578125,292.94000244140625,282.75,283.010009765625,281.6199951171875,281.2900085449219,280.25,284.04998779296875,285.510009765625,293.9200134277344,293.760009765625,292.75,292.3500061035156,293.489990234375,297.8299865722656,300.5199890136719,302.69000244140625,307.2200012207031,306.1099853515625,306.3599853515625,307.79998779296875,306.4599914550781,308.6000061035156,316.0,321.3599853515625,323.8999938964844,326.3699951171875,330.0,330.6499938964844,329.510009765625,334.4200134277344,334.44000244140625,334.5299987792969,329.9200134277344,330.510009765625,333.7900085449219,334.0299987792969,335.510009765625,338.0,337.1199951171875,342.20001220703125,339.54998779296875,333.55999755859375,333.9100036621094,328.1199951171875,334.739990234375,328.989990234375,329.3900146484375,327.79998779296875,318.0299987792969,318.0299987792969],\"name\":\"Price\",\"open\":[247.75999450683594,249.97999572753906,255.16000366210938,253.80999755859375,254.2899932861328,257.989990234375,257.8999938964844,259.7699890136719,259.3999938964844,256.07000732421875,259.6300048828125,259.82000732421875,262.7200012207031,265.989990234375,266.1600036621094,266.2300109863281,266.19000244140625,268.8699951171875,270.69000244140625,269.6099853515625,272.82000732421875,278.0299987792969,279.3999938964844,276.8999938964844,275.7200012207031,279.1600036621094,277.5199890136719,282.3500061035156,282.0,282.07000732421875,278.92999267578125,278.0299987792969,278.8999938964844,283.8399963378906,287.3699951171875,289.0,289.42999267578125,288.989990234375,286.239990234375,285.1700134277344,286.3599853515625,285.4200134277344,286.2200012207031,286.8800048828125,288.510009765625,289.75,288.79998779296875,287.2099914550781,286.6300048828125,289.4800109863281,293.19000244140625,292.3900146484375,292.0400085449219,288.69000244140625,299.7200012207031,303.25,305.0199890136719,304.29998779296875,300.989990234375,298.989990234375,301.1199951171875,304.4200134277344,302.8699951171875,302.20001220703125,300.989990234375,301.010009765625,299.7799987792969,300.82000732421875,298.4200134277344,297.54998779296875,299.55999755859375,303.260009765625,303.760009765625,304.1700134277344,296.3299865722656,295.69000244140625,296.7300109863281,298.8500061035156,298.2300109863281,296.1400146484375,289.79998779296875,285.1000061035156,285.7099914550781,282.1199951171875,287.3999938964844,284.04998779296875,285.7799987792969,295.17999267578125,296.2200012207031,292.9200134277344,295.3399963378906,294.9100036621094,299.2099914550781,302.3399963378906,303.57000732421875,308.3500061035156,309.2099914550781,307.1700134277344,310.3999938964844,309.3599853515625,311.0,316.0,324.3299865722656,324.1300048828125,331.3599853515625,330.30999755859375,333.8999938964844,332.8900146484375,338.510009765625,337.29998779296875,337.1099853515625,334.57000732421875,331.25,333.9200134277344,337.5400085449219,335.67999267578125,338.94000244140625,338.17999267578125,342.6400146484375,344.6199951171875,337.04998779296875,336.2799987792969,334.3500061035156,334.94000244140625,335.32000732421875,335.1300048828125,330.29998779296875,331.989990234375,331.989990234375],\"x\":[\"2021-06-04T00:00:00\",\"2021-06-07T00:00:00\",\"2021-06-08T00:00:00\",\"2021-06-09T00:00:00\",\"2021-06-10T00:00:00\",\"2021-06-11T00:00:00\",\"2021-06-14T00:00:00\",\"2021-06-15T00:00:00\",\"2021-06-16T00:00:00\",\"2021-06-17T00:00:00\",\"2021-06-18T00:00:00\",\"2021-06-21T00:00:00\",\"2021-06-22T00:00:00\",\"2021-06-23T00:00:00\",\"2021-06-24T00:00:00\",\"2021-06-25T00:00:00\",\"2021-06-28T00:00:00\",\"2021-06-29T00:00:00\",\"2021-06-30T00:00:00\",\"2021-07-01T00:00:00\",\"2021-07-02T00:00:00\",\"2021-07-06T00:00:00\",\"2021-07-07T00:00:00\",\"2021-07-08T00:00:00\",\"2021-07-09T00:00:00\",\"2021-07-12T00:00:00\",\"2021-07-13T00:00:00\",\"2021-07-14T00:00:00\",\"2021-07-15T00:00:00\",\"2021-07-16T00:00:00\",\"2021-07-19T00:00:00\",\"2021-07-20T00:00:00\",\"2021-07-21T00:00:00\",\"2021-07-22T00:00:00\",\"2021-07-23T00:00:00\",\"2021-07-26T00:00:00\",\"2021-07-27T00:00:00\",\"2021-07-28T00:00:00\",\"2021-07-29T00:00:00\",\"2021-07-30T00:00:00\",\"2021-08-02T00:00:00\",\"2021-08-03T00:00:00\",\"2021-08-04T00:00:00\",\"2021-08-05T00:00:00\",\"2021-08-06T00:00:00\",\"2021-08-09T00:00:00\",\"2021-08-10T00:00:00\",\"2021-08-11T00:00:00\",\"2021-08-12T00:00:00\",\"2021-08-13T00:00:00\",\"2021-08-16T00:00:00\",\"2021-08-17T00:00:00\",\"2021-08-18T00:00:00\",\"2021-08-19T00:00:00\",\"2021-08-20T00:00:00\",\"2021-08-23T00:00:00\",\"2021-08-24T00:00:00\",\"2021-08-25T00:00:00\",\"2021-08-26T00:00:00\",\"2021-08-27T00:00:00\",\"2021-08-30T00:00:00\",\"2021-08-31T00:00:00\",\"2021-09-01T00:00:00\",\"2021-09-02T00:00:00\",\"2021-09-03T00:00:00\",\"2021-09-07T00:00:00\",\"2021-09-08T00:00:00\",\"2021-09-09T00:00:00\",\"2021-09-10T00:00:00\",\"2021-09-13T00:00:00\",\"2021-09-14T00:00:00\",\"2021-09-15T00:00:00\",\"2021-09-16T00:00:00\",\"2021-09-17T00:00:00\",\"2021-09-20T00:00:00\",\"2021-09-21T00:00:00\",\"2021-09-22T00:00:00\",\"2021-09-23T00:00:00\",\"2021-09-24T00:00:00\",\"2021-09-27T00:00:00\",\"2021-09-28T00:00:00\",\"2021-09-29T00:00:00\",\"2021-09-30T00:00:00\",\"2021-10-01T00:00:00\",\"2021-10-04T00:00:00\",\"2021-10-05T00:00:00\",\"2021-10-06T00:00:00\",\"2021-10-07T00:00:00\",\"2021-10-08T00:00:00\",\"2021-10-11T00:00:00\",\"2021-10-12T00:00:00\",\"2021-10-13T00:00:00\",\"2021-10-14T00:00:00\",\"2021-10-15T00:00:00\",\"2021-10-18T00:00:00\",\"2021-10-19T00:00:00\",\"2021-10-20T00:00:00\",\"2021-10-21T00:00:00\",\"2021-10-22T00:00:00\",\"2021-10-25T00:00:00\",\"2021-10-26T00:00:00\",\"2021-10-27T00:00:00\",\"2021-10-28T00:00:00\",\"2021-10-29T00:00:00\",\"2021-11-01T00:00:00\",\"2021-11-02T00:00:00\",\"2021-11-03T00:00:00\",\"2021-11-04T00:00:00\",\"2021-11-05T00:00:00\",\"2021-11-08T00:00:00\",\"2021-11-09T00:00:00\",\"2021-11-10T00:00:00\",\"2021-11-11T00:00:00\",\"2021-11-12T00:00:00\",\"2021-11-15T00:00:00\",\"2021-11-16T00:00:00\",\"2021-11-17T00:00:00\",\"2021-11-18T00:00:00\",\"2021-11-19T00:00:00\",\"2021-11-22T00:00:00\",\"2021-11-23T00:00:00\",\"2021-11-24T00:00:00\",\"2021-11-26T00:00:00\",\"2021-11-29T00:00:00\",\"2021-11-30T00:00:00\",\"2021-12-01T00:00:00\",\"2021-12-02T00:00:00\",\"2021-12-03T00:00:00\",\"2021-12-03T00:00:00\"],\"type\":\"candlestick\",\"xaxis\":\"x\",\"yaxis\":\"y2\"},{\"name\":\"Volume\",\"opacity\":0.2,\"x\":[\"2021-06-04T00:00:00\",\"2021-06-07T00:00:00\",\"2021-06-08T00:00:00\",\"2021-06-09T00:00:00\",\"2021-06-10T00:00:00\",\"2021-06-11T00:00:00\",\"2021-06-14T00:00:00\",\"2021-06-15T00:00:00\",\"2021-06-16T00:00:00\",\"2021-06-17T00:00:00\",\"2021-06-18T00:00:00\",\"2021-06-21T00:00:00\",\"2021-06-22T00:00:00\",\"2021-06-23T00:00:00\",\"2021-06-24T00:00:00\",\"2021-06-25T00:00:00\",\"2021-06-28T00:00:00\",\"2021-06-29T00:00:00\",\"2021-06-30T00:00:00\",\"2021-07-01T00:00:00\",\"2021-07-02T00:00:00\",\"2021-07-06T00:00:00\",\"2021-07-07T00:00:00\",\"2021-07-08T00:00:00\",\"2021-07-09T00:00:00\",\"2021-07-12T00:00:00\",\"2021-07-13T00:00:00\",\"2021-07-14T00:00:00\",\"2021-07-15T00:00:00\",\"2021-07-16T00:00:00\",\"2021-07-19T00:00:00\",\"2021-07-20T00:00:00\",\"2021-07-21T00:00:00\",\"2021-07-22T00:00:00\",\"2021-07-23T00:00:00\",\"2021-07-26T00:00:00\",\"2021-07-27T00:00:00\",\"2021-07-28T00:00:00\",\"2021-07-29T00:00:00\",\"2021-07-30T00:00:00\",\"2021-08-02T00:00:00\",\"2021-08-03T00:00:00\",\"2021-08-04T00:00:00\",\"2021-08-05T00:00:00\",\"2021-08-06T00:00:00\",\"2021-08-09T00:00:00\",\"2021-08-10T00:00:00\",\"2021-08-11T00:00:00\",\"2021-08-12T00:00:00\",\"2021-08-13T00:00:00\",\"2021-08-16T00:00:00\",\"2021-08-17T00:00:00\",\"2021-08-18T00:00:00\",\"2021-08-19T00:00:00\",\"2021-08-20T00:00:00\",\"2021-08-23T00:00:00\",\"2021-08-24T00:00:00\",\"2021-08-25T00:00:00\",\"2021-08-26T00:00:00\",\"2021-08-27T00:00:00\",\"2021-08-30T00:00:00\",\"2021-08-31T00:00:00\",\"2021-09-01T00:00:00\",\"2021-09-02T00:00:00\",\"2021-09-03T00:00:00\",\"2021-09-07T00:00:00\",\"2021-09-08T00:00:00\",\"2021-09-09T00:00:00\",\"2021-09-10T00:00:00\",\"2021-09-13T00:00:00\",\"2021-09-14T00:00:00\",\"2021-09-15T00:00:00\",\"2021-09-16T00:00:00\",\"2021-09-17T00:00:00\",\"2021-09-20T00:00:00\",\"2021-09-21T00:00:00\",\"2021-09-22T00:00:00\",\"2021-09-23T00:00:00\",\"2021-09-24T00:00:00\",\"2021-09-27T00:00:00\",\"2021-09-28T00:00:00\",\"2021-09-29T00:00:00\",\"2021-09-30T00:00:00\",\"2021-10-01T00:00:00\",\"2021-10-04T00:00:00\",\"2021-10-05T00:00:00\",\"2021-10-06T00:00:00\",\"2021-10-07T00:00:00\",\"2021-10-08T00:00:00\",\"2021-10-11T00:00:00\",\"2021-10-12T00:00:00\",\"2021-10-13T00:00:00\",\"2021-10-14T00:00:00\",\"2021-10-15T00:00:00\",\"2021-10-18T00:00:00\",\"2021-10-19T00:00:00\",\"2021-10-20T00:00:00\",\"2021-10-21T00:00:00\",\"2021-10-22T00:00:00\",\"2021-10-25T00:00:00\",\"2021-10-26T00:00:00\",\"2021-10-27T00:00:00\",\"2021-10-28T00:00:00\",\"2021-10-29T00:00:00\",\"2021-11-01T00:00:00\",\"2021-11-02T00:00:00\",\"2021-11-03T00:00:00\",\"2021-11-04T00:00:00\",\"2021-11-05T00:00:00\",\"2021-11-08T00:00:00\",\"2021-11-09T00:00:00\",\"2021-11-10T00:00:00\",\"2021-11-11T00:00:00\",\"2021-11-12T00:00:00\",\"2021-11-15T00:00:00\",\"2021-11-16T00:00:00\",\"2021-11-17T00:00:00\",\"2021-11-18T00:00:00\",\"2021-11-19T00:00:00\",\"2021-11-22T00:00:00\",\"2021-11-23T00:00:00\",\"2021-11-24T00:00:00\",\"2021-11-26T00:00:00\",\"2021-11-29T00:00:00\",\"2021-11-30T00:00:00\",\"2021-12-01T00:00:00\",\"2021-12-02T00:00:00\",\"2021-12-03T00:00:00\",\"2021-12-03T00:00:00\"],\"y\":[25281100,23079200,22455000,17937600,24563600,18999700,19150500,18038900,27220000,27565500,37202200,26696100,24694100,19518700,21446900,25611100,19590000,19937800,21656500,16725300,26458000,31565600,23260000,24618600,23916700,18931700,26120100,23113700,22604200,26186800,32935600,26259700,24364300,23384100,22768100,23176100,33604100,33566900,18168300,20940900,16267400,17879000,16191300,13900200,16585200,16117600,18616600,13955900,14561300,18231400,22507600,20075300,21813000,29850500,40796100,22830200,18175800,20006100,17666100,22597000,16348100,26285300,18983800,16285600,14747900,17180400,15046800,19927000,19619400,23652900,21853400,28356300,19550800,41372500,38278700,22364100,26626300,18604600,14999000,23571700,43186200,26353700,32325800,30086300,31350700,24993000,28002600,20430500,17680300,19298600,17974100,23416300,27262900,25374700,22729300,17682100,16537100,16918100,17449300,17554500,28107300,52588700,26297900,34744900,27073200,26487100,21500100,23992200,22564000,20897000,21307400,25500900,16849800,23822000,16723000,20886800,19053400,22463500,21963400,31031100,30427600,21661300,24217200,28563500,42885600,33337600,30766000,40852342,40852342],\"type\":\"bar\",\"xaxis\":\"x\",\"yaxis\":\"y\"},{\"showlegend\":false,\"x\":[\"2021-09-07T00:00:00\",\"2021-09-08T00:00:00\",\"2021-09-09T00:00:00\",\"2021-09-13T00:00:00\",\"2021-09-14T00:00:00\",\"2021-09-15T00:00:00\",\"2021-09-16T00:00:00\",\"2021-09-17T00:00:00\",\"2021-09-20T00:00:00\",\"2021-09-21T00:00:00\",\"2021-09-22T00:00:00\",\"2021-09-23T00:00:00\",\"2021-09-24T00:00:00\",\"2021-09-26T00:00:00\",\"2021-09-27T00:00:00\",\"2021-09-28T00:00:00\",\"2021-09-29T00:00:00\",\"2021-09-30T00:00:00\",\"2021-10-01T00:00:00\",\"2021-10-03T00:00:00\",\"2021-10-04T00:00:00\",\"2021-10-05T00:00:00\",\"2021-10-06T00:00:00\",\"2021-10-07T00:00:00\",\"2021-10-08T00:00:00\",\"2021-10-10T00:00:00\",\"2021-10-11T00:00:00\",\"2021-10-12T00:00:00\",\"2021-10-13T00:00:00\",\"2021-10-14T00:00:00\",\"2021-10-15T00:00:00\",\"2021-10-16T00:00:00\",\"2021-10-17T00:00:00\",\"2021-10-18T00:00:00\",\"2021-10-19T00:00:00\",\"2021-10-20T00:00:00\",\"2021-10-21T00:00:00\",\"2021-10-22T00:00:00\",\"2021-10-23T00:00:00\",\"2021-10-24T00:00:00\",\"2021-10-25T00:00:00\",\"2021-10-26T00:00:00\",\"2021-10-27T00:00:00\",\"2021-10-28T00:00:00\",\"2021-10-29T00:00:00\",\"2021-10-30T00:00:00\",\"2021-10-31T00:00:00\",\"2021-11-01T00:00:00\",\"2021-11-02T00:00:00\",\"2021-11-03T00:00:00\",\"2021-11-04T00:00:00\",\"2021-11-05T00:00:00\",\"2021-11-06T00:00:00\",\"2021-11-07T00:00:00\",\"2021-11-08T00:00:00\",\"2021-11-09T00:00:00\",\"2021-11-10T00:00:00\",\"2021-11-11T00:00:00\",\"2021-11-12T00:00:00\",\"2021-11-13T00:00:00\",\"2021-11-14T00:00:00\",\"2021-11-15T00:00:00\",\"2021-11-16T00:00:00\",\"2021-11-17T00:00:00\",\"2021-11-18T00:00:00\",\"2021-11-19T00:00:00\",\"2021-11-20T00:00:00\",\"2021-11-21T00:00:00\",\"2021-11-22T00:00:00\",\"2021-11-23T00:00:00\",\"2021-11-24T00:00:00\",\"2021-11-25T00:00:00\",\"2021-11-26T00:00:00\",\"2021-11-27T00:00:00\",\"2021-11-28T00:00:00\",\"2021-11-29T00:00:00\",\"2021-11-30T00:00:00\",\"2021-12-01T00:00:00\",\"2021-12-02T00:00:00\",\"2021-12-03T00:00:00\"],\"y\":[0.5388571915358182,-0.21565888720197768,0.0,0.07954984101874987,0.3510923853915279,-0.0033691917160308025,-0.648526311111678,0.503156524543591,-0.05214029546504485,-0.1924502036874992,0.5202181888972259,1.0110097601066619,-0.18067526917763455,-0.09135456174787256,-0.2718457974121086,-0.2821913308947195,-0.21705893919434593,-0.12615012187821448,0.6906967888837247,1.5112749652993789,-0.0977731793586896,-0.36106560575025776,-0.06938115584716528,-0.26601738782029294,-0.761172910846027,0.9428911901962532,-0.007836183264122143,0.19202948627251998,-0.10305075999055112,0.30773746473038743,-0.26503896675772204,-0.23803011795321893,-0.24671949453475386,-0.342638443699104,-0.26541475583111135,-0.14925684252496232,-0.15881374097632955,0.013797300272385812,-0.19355056885134575,0.18523753514223923,-0.041924598385458936,-0.10089166523557781,-0.13340447191998145,0.24913485741934896,0.30234479602184905,-0.10584949831354153,0.2195019763283021,-0.008657899998990304,-0.09425896653238373,0.03165518513449699,0.29804286119633844,0.08929970947288433,-0.3791872023325552,0.0,0.11629853278218652,-0.18327198855698273,0.03469803558723554,-0.07390024225721119,0.15681299467295512,0.04825729789380057,-0.08211193057342853,-0.05675807642187091,-0.15200130395194028,-0.07227405470646824,0.0020380432416155503,-0.1406898981765527,0.36289963695746724,0.052127659469558295,-0.12004183135906336,0.09917277698028575,-0.2579386225743076,0.1404014156200599,0.030144866390526392,-0.19206898885513335,-0.2409917980133887,-0.03732239211144126,0.01344617065315068,-0.24004788301297333,-0.19640451284430568,-0.14573292594019366],\"type\":\"scatter\",\"xaxis\":\"x2\",\"yaxis\":\"y3\"},{\"name\":\"Used News Volume\",\"opacity\":0.2,\"x\":[\"2021-09-07T00:00:00\",\"2021-09-08T00:00:00\",\"2021-09-09T00:00:00\",\"2021-09-13T00:00:00\",\"2021-09-14T00:00:00\",\"2021-09-15T00:00:00\",\"2021-09-16T00:00:00\",\"2021-09-17T00:00:00\",\"2021-09-20T00:00:00\",\"2021-09-21T00:00:00\",\"2021-09-22T00:00:00\",\"2021-09-23T00:00:00\",\"2021-09-24T00:00:00\",\"2021-09-26T00:00:00\",\"2021-09-27T00:00:00\",\"2021-09-28T00:00:00\",\"2021-09-29T00:00:00\",\"2021-09-30T00:00:00\",\"2021-10-01T00:00:00\",\"2021-10-03T00:00:00\",\"2021-10-04T00:00:00\",\"2021-10-05T00:00:00\",\"2021-10-06T00:00:00\",\"2021-10-07T00:00:00\",\"2021-10-08T00:00:00\",\"2021-10-10T00:00:00\",\"2021-10-11T00:00:00\",\"2021-10-12T00:00:00\",\"2021-10-13T00:00:00\",\"2021-10-14T00:00:00\",\"2021-10-15T00:00:00\",\"2021-10-16T00:00:00\",\"2021-10-17T00:00:00\",\"2021-10-18T00:00:00\",\"2021-10-19T00:00:00\",\"2021-10-20T00:00:00\",\"2021-10-21T00:00:00\",\"2021-10-22T00:00:00\",\"2021-10-23T00:00:00\",\"2021-10-24T00:00:00\",\"2021-10-25T00:00:00\",\"2021-10-26T00:00:00\",\"2021-10-27T00:00:00\",\"2021-10-28T00:00:00\",\"2021-10-29T00:00:00\",\"2021-10-30T00:00:00\",\"2021-10-31T00:00:00\",\"2021-11-01T00:00:00\",\"2021-11-02T00:00:00\",\"2021-11-03T00:00:00\",\"2021-11-04T00:00:00\",\"2021-11-05T00:00:00\",\"2021-11-06T00:00:00\",\"2021-11-07T00:00:00\",\"2021-11-08T00:00:00\",\"2021-11-09T00:00:00\",\"2021-11-10T00:00:00\",\"2021-11-11T00:00:00\",\"2021-11-12T00:00:00\",\"2021-11-13T00:00:00\",\"2021-11-14T00:00:00\",\"2021-11-15T00:00:00\",\"2021-11-16T00:00:00\",\"2021-11-17T00:00:00\",\"2021-11-18T00:00:00\",\"2021-11-19T00:00:00\",\"2021-11-20T00:00:00\",\"2021-11-21T00:00:00\",\"2021-11-22T00:00:00\",\"2021-11-23T00:00:00\",\"2021-11-24T00:00:00\",\"2021-11-25T00:00:00\",\"2021-11-26T00:00:00\",\"2021-11-27T00:00:00\",\"2021-11-28T00:00:00\",\"2021-11-29T00:00:00\",\"2021-11-30T00:00:00\",\"2021-12-01T00:00:00\",\"2021-12-02T00:00:00\",\"2021-12-03T00:00:00\"],\"y\":[2,2,3,2,2,6,1,2,2,3,3,1,3,2,1,4,2,2,1,1,5,4,3,2,2,2,5,7,3,6,3,7,6,5,6,8,10,23,14,5,29,36,45,24,28,15,11,25,11,12,16,9,7,3,14,11,11,14,13,8,6,14,31,23,16,18,6,7,14,17,14,5,11,4,5,15,11,13,12,101],\"type\":\"bar\",\"xaxis\":\"x3\",\"yaxis\":\"y5\"}],                        {\"template\":{\"data\":{\"bar\":[{\"error_x\":{\"color\":\"#2a3f5f\"},\"error_y\":{\"color\":\"#2a3f5f\"},\"marker\":{\"line\":{\"color\":\"#E5ECF6\",\"width\":0.5},\"pattern\":{\"fillmode\":\"overlay\",\"size\":10,\"solidity\":0.2}},\"type\":\"bar\"}],\"barpolar\":[{\"marker\":{\"line\":{\"color\":\"#E5ECF6\",\"width\":0.5},\"pattern\":{\"fillmode\":\"overlay\",\"size\":10,\"solidity\":0.2}},\"type\":\"barpolar\"}],\"carpet\":[{\"aaxis\":{\"endlinecolor\":\"#2a3f5f\",\"gridcolor\":\"white\",\"linecolor\":\"white\",\"minorgridcolor\":\"white\",\"startlinecolor\":\"#2a3f5f\"},\"baxis\":{\"endlinecolor\":\"#2a3f5f\",\"gridcolor\":\"white\",\"linecolor\":\"white\",\"minorgridcolor\":\"white\",\"startlinecolor\":\"#2a3f5f\"},\"type\":\"carpet\"}],\"choropleth\":[{\"colorbar\":{\"outlinewidth\":0,\"ticks\":\"\"},\"type\":\"choropleth\"}],\"contour\":[{\"colorbar\":{\"outlinewidth\":0,\"ticks\":\"\"},\"colorscale\":[[0.0,\"#0d0887\"],[0.1111111111111111,\"#46039f\"],[0.2222222222222222,\"#7201a8\"],[0.3333333333333333,\"#9c179e\"],[0.4444444444444444,\"#bd3786\"],[0.5555555555555556,\"#d8576b\"],[0.6666666666666666,\"#ed7953\"],[0.7777777777777778,\"#fb9f3a\"],[0.8888888888888888,\"#fdca26\"],[1.0,\"#f0f921\"]],\"type\":\"contour\"}],\"contourcarpet\":[{\"colorbar\":{\"outlinewidth\":0,\"ticks\":\"\"},\"type\":\"contourcarpet\"}],\"heatmap\":[{\"colorbar\":{\"outlinewidth\":0,\"ticks\":\"\"},\"colorscale\":[[0.0,\"#0d0887\"],[0.1111111111111111,\"#46039f\"],[0.2222222222222222,\"#7201a8\"],[0.3333333333333333,\"#9c179e\"],[0.4444444444444444,\"#bd3786\"],[0.5555555555555556,\"#d8576b\"],[0.6666666666666666,\"#ed7953\"],[0.7777777777777778,\"#fb9f3a\"],[0.8888888888888888,\"#fdca26\"],[1.0,\"#f0f921\"]],\"type\":\"heatmap\"}],\"heatmapgl\":[{\"colorbar\":{\"outlinewidth\":0,\"ticks\":\"\"},\"colorscale\":[[0.0,\"#0d0887\"],[0.1111111111111111,\"#46039f\"],[0.2222222222222222,\"#7201a8\"],[0.3333333333333333,\"#9c179e\"],[0.4444444444444444,\"#bd3786\"],[0.5555555555555556,\"#d8576b\"],[0.6666666666666666,\"#ed7953\"],[0.7777777777777778,\"#fb9f3a\"],[0.8888888888888888,\"#fdca26\"],[1.0,\"#f0f921\"]],\"type\":\"heatmapgl\"}],\"histogram\":[{\"marker\":{\"pattern\":{\"fillmode\":\"overlay\",\"size\":10,\"solidity\":0.2}},\"type\":\"histogram\"}],\"histogram2d\":[{\"colorbar\":{\"outlinewidth\":0,\"ticks\":\"\"},\"colorscale\":[[0.0,\"#0d0887\"],[0.1111111111111111,\"#46039f\"],[0.2222222222222222,\"#7201a8\"],[0.3333333333333333,\"#9c179e\"],[0.4444444444444444,\"#bd3786\"],[0.5555555555555556,\"#d8576b\"],[0.6666666666666666,\"#ed7953\"],[0.7777777777777778,\"#fb9f3a\"],[0.8888888888888888,\"#fdca26\"],[1.0,\"#f0f921\"]],\"type\":\"histogram2d\"}],\"histogram2dcontour\":[{\"colorbar\":{\"outlinewidth\":0,\"ticks\":\"\"},\"colorscale\":[[0.0,\"#0d0887\"],[0.1111111111111111,\"#46039f\"],[0.2222222222222222,\"#7201a8\"],[0.3333333333333333,\"#9c179e\"],[0.4444444444444444,\"#bd3786\"],[0.5555555555555556,\"#d8576b\"],[0.6666666666666666,\"#ed7953\"],[0.7777777777777778,\"#fb9f3a\"],[0.8888888888888888,\"#fdca26\"],[1.0,\"#f0f921\"]],\"type\":\"histogram2dcontour\"}],\"mesh3d\":[{\"colorbar\":{\"outlinewidth\":0,\"ticks\":\"\"},\"type\":\"mesh3d\"}],\"parcoords\":[{\"line\":{\"colorbar\":{\"outlinewidth\":0,\"ticks\":\"\"}},\"type\":\"parcoords\"}],\"pie\":[{\"automargin\":true,\"type\":\"pie\"}],\"scatter\":[{\"marker\":{\"colorbar\":{\"outlinewidth\":0,\"ticks\":\"\"}},\"type\":\"scatter\"}],\"scatter3d\":[{\"line\":{\"colorbar\":{\"outlinewidth\":0,\"ticks\":\"\"}},\"marker\":{\"colorbar\":{\"outlinewidth\":0,\"ticks\":\"\"}},\"type\":\"scatter3d\"}],\"scattercarpet\":[{\"marker\":{\"colorbar\":{\"outlinewidth\":0,\"ticks\":\"\"}},\"type\":\"scattercarpet\"}],\"scattergeo\":[{\"marker\":{\"colorbar\":{\"outlinewidth\":0,\"ticks\":\"\"}},\"type\":\"scattergeo\"}],\"scattergl\":[{\"marker\":{\"colorbar\":{\"outlinewidth\":0,\"ticks\":\"\"}},\"type\":\"scattergl\"}],\"scattermapbox\":[{\"marker\":{\"colorbar\":{\"outlinewidth\":0,\"ticks\":\"\"}},\"type\":\"scattermapbox\"}],\"scatterpolar\":[{\"marker\":{\"colorbar\":{\"outlinewidth\":0,\"ticks\":\"\"}},\"type\":\"scatterpolar\"}],\"scatterpolargl\":[{\"marker\":{\"colorbar\":{\"outlinewidth\":0,\"ticks\":\"\"}},\"type\":\"scatterpolargl\"}],\"scatterternary\":[{\"marker\":{\"colorbar\":{\"outlinewidth\":0,\"ticks\":\"\"}},\"type\":\"scatterternary\"}],\"surface\":[{\"colorbar\":{\"outlinewidth\":0,\"ticks\":\"\"},\"colorscale\":[[0.0,\"#0d0887\"],[0.1111111111111111,\"#46039f\"],[0.2222222222222222,\"#7201a8\"],[0.3333333333333333,\"#9c179e\"],[0.4444444444444444,\"#bd3786\"],[0.5555555555555556,\"#d8576b\"],[0.6666666666666666,\"#ed7953\"],[0.7777777777777778,\"#fb9f3a\"],[0.8888888888888888,\"#fdca26\"],[1.0,\"#f0f921\"]],\"type\":\"surface\"}],\"table\":[{\"cells\":{\"fill\":{\"color\":\"#EBF0F8\"},\"line\":{\"color\":\"white\"}},\"header\":{\"fill\":{\"color\":\"#C8D4E3\"},\"line\":{\"color\":\"white\"}},\"type\":\"table\"}]},\"layout\":{\"annotationdefaults\":{\"arrowcolor\":\"#2a3f5f\",\"arrowhead\":0,\"arrowwidth\":1},\"autotypenumbers\":\"strict\",\"coloraxis\":{\"colorbar\":{\"outlinewidth\":0,\"ticks\":\"\"}},\"colorscale\":{\"diverging\":[[0,\"#8e0152\"],[0.1,\"#c51b7d\"],[0.2,\"#de77ae\"],[0.3,\"#f1b6da\"],[0.4,\"#fde0ef\"],[0.5,\"#f7f7f7\"],[0.6,\"#e6f5d0\"],[0.7,\"#b8e186\"],[0.8,\"#7fbc41\"],[0.9,\"#4d9221\"],[1,\"#276419\"]],\"sequential\":[[0.0,\"#0d0887\"],[0.1111111111111111,\"#46039f\"],[0.2222222222222222,\"#7201a8\"],[0.3333333333333333,\"#9c179e\"],[0.4444444444444444,\"#bd3786\"],[0.5555555555555556,\"#d8576b\"],[0.6666666666666666,\"#ed7953\"],[0.7777777777777778,\"#fb9f3a\"],[0.8888888888888888,\"#fdca26\"],[1.0,\"#f0f921\"]],\"sequentialminus\":[[0.0,\"#0d0887\"],[0.1111111111111111,\"#46039f\"],[0.2222222222222222,\"#7201a8\"],[0.3333333333333333,\"#9c179e\"],[0.4444444444444444,\"#bd3786\"],[0.5555555555555556,\"#d8576b\"],[0.6666666666666666,\"#ed7953\"],[0.7777777777777778,\"#fb9f3a\"],[0.8888888888888888,\"#fdca26\"],[1.0,\"#f0f921\"]]},\"colorway\":[\"#636efa\",\"#EF553B\",\"#00cc96\",\"#ab63fa\",\"#FFA15A\",\"#19d3f3\",\"#FF6692\",\"#B6E880\",\"#FF97FF\",\"#FECB52\"],\"font\":{\"color\":\"#2a3f5f\"},\"geo\":{\"bgcolor\":\"white\",\"lakecolor\":\"white\",\"landcolor\":\"#E5ECF6\",\"showlakes\":true,\"showland\":true,\"subunitcolor\":\"white\"},\"hoverlabel\":{\"align\":\"left\"},\"hovermode\":\"closest\",\"mapbox\":{\"style\":\"light\"},\"paper_bgcolor\":\"white\",\"plot_bgcolor\":\"#E5ECF6\",\"polar\":{\"angularaxis\":{\"gridcolor\":\"white\",\"linecolor\":\"white\",\"ticks\":\"\"},\"bgcolor\":\"#E5ECF6\",\"radialaxis\":{\"gridcolor\":\"white\",\"linecolor\":\"white\",\"ticks\":\"\"}},\"scene\":{\"xaxis\":{\"backgroundcolor\":\"#E5ECF6\",\"gridcolor\":\"white\",\"gridwidth\":2,\"linecolor\":\"white\",\"showbackground\":true,\"ticks\":\"\",\"zerolinecolor\":\"white\"},\"yaxis\":{\"backgroundcolor\":\"#E5ECF6\",\"gridcolor\":\"white\",\"gridwidth\":2,\"linecolor\":\"white\",\"showbackground\":true,\"ticks\":\"\",\"zerolinecolor\":\"white\"},\"zaxis\":{\"backgroundcolor\":\"#E5ECF6\",\"gridcolor\":\"white\",\"gridwidth\":2,\"linecolor\":\"white\",\"showbackground\":true,\"ticks\":\"\",\"zerolinecolor\":\"white\"}},\"shapedefaults\":{\"line\":{\"color\":\"#2a3f5f\"}},\"ternary\":{\"aaxis\":{\"gridcolor\":\"white\",\"linecolor\":\"white\",\"ticks\":\"\"},\"baxis\":{\"gridcolor\":\"white\",\"linecolor\":\"white\",\"ticks\":\"\"},\"bgcolor\":\"#E5ECF6\",\"caxis\":{\"gridcolor\":\"white\",\"linecolor\":\"white\",\"ticks\":\"\"}},\"title\":{\"x\":0.05},\"xaxis\":{\"automargin\":true,\"gridcolor\":\"white\",\"linecolor\":\"white\",\"ticks\":\"\",\"title\":{\"standoff\":15},\"zerolinecolor\":\"white\",\"zerolinewidth\":2},\"yaxis\":{\"automargin\":true,\"gridcolor\":\"white\",\"linecolor\":\"white\",\"ticks\":\"\",\"title\":{\"standoff\":15},\"zerolinecolor\":\"white\",\"zerolinewidth\":2}}},\"xaxis\":{\"anchor\":\"y\",\"domain\":[0.0,0.94],\"matches\":\"x3\",\"showticklabels\":false,\"rangeslider\":{\"visible\":false}},\"yaxis\":{\"anchor\":\"x\",\"domain\":[0.3739130434782609,1.0]},\"yaxis2\":{\"anchor\":\"x\",\"overlaying\":\"y\",\"side\":\"right\",\"showgrid\":false},\"xaxis2\":{\"anchor\":\"y3\",\"domain\":[0.0,0.94],\"matches\":\"x3\",\"showticklabels\":false},\"yaxis3\":{\"anchor\":\"x2\",\"domain\":[0.18695652173913044,0.3539130434782609]},\"yaxis4\":{\"anchor\":\"x2\",\"overlaying\":\"y3\",\"side\":\"right\"},\"xaxis3\":{\"anchor\":\"y5\",\"domain\":[0.0,0.94]},\"yaxis5\":{\"anchor\":\"x3\",\"domain\":[0.0,0.16695652173913045]},\"yaxis6\":{\"anchor\":\"x3\",\"overlaying\":\"y5\",\"side\":\"right\"},\"annotations\":[{\"font\":{\"size\":16},\"showarrow\":false,\"text\":\"MSFT\",\"x\":0.47,\"xanchor\":\"center\",\"xref\":\"paper\",\"y\":1.0,\"yanchor\":\"bottom\",\"yref\":\"paper\"},{\"font\":{\"size\":16},\"showarrow\":false,\"text\":\"Sentiment_Score\",\"x\":0.47,\"xanchor\":\"center\",\"xref\":\"paper\",\"y\":0.3539130434782609,\"yanchor\":\"bottom\",\"yref\":\"paper\"},{\"font\":{\"size\":16},\"showarrow\":false,\"text\":\"Used News Volume\",\"x\":0.47,\"xanchor\":\"center\",\"xref\":\"paper\",\"y\":0.16695652173913045,\"yanchor\":\"bottom\",\"yref\":\"paper\"}],\"width\":1000,\"height\":750},                        {\"responsive\": true}                    ).then(function(){\n",
       "                            \n",
       "var gd = document.getElementById('f696252d-d2d2-42c1-a007-9d9b29aaf71a');\n",
       "var x = new MutationObserver(function (mutations, observer) {{\n",
       "        var display = window.getComputedStyle(gd).display;\n",
       "        if (!display || display === 'none') {{\n",
       "            console.log([gd, 'removed!']);\n",
       "            Plotly.purge(gd);\n",
       "            observer.disconnect();\n",
       "        }}\n",
       "}});\n",
       "\n",
       "// Listen for the removal of the full notebook cells\n",
       "var notebookContainer = gd.closest('#notebook-container');\n",
       "if (notebookContainer) {{\n",
       "    x.observe(notebookContainer, {childList: true});\n",
       "}}\n",
       "\n",
       "// Listen for the clearing of the current output cell\n",
       "var outputEl = gd.closest('.output');\n",
       "if (outputEl) {{\n",
       "    x.observe(outputEl, {childList: true});\n",
       "}}\n",
       "\n",
       "                        })                };                });            </script>        </div>"
      ]
     },
     "metadata": {},
     "output_type": "display_data"
    }
   ],
   "source": [
    "import plotly.graph_objects as go\n",
    "from plotly.subplots import make_subplots\n",
    "\n",
    "fig = make_subplots(rows=3, cols=1, shared_xaxes=True,vertical_spacing=0.02, subplot_titles=(tick.ticker,'Sentiment_Score', 'Used News Volume'), \n",
    "               row_width=[0.4, 0.4, 1.5], specs=[[{\"secondary_y\": True}],[{\"secondary_y\": True}],[{\"secondary_y\": True}]])\n",
    "fig.add_trace(go.Candlestick(x=df3['date'],\n",
    "                open=df3['open'], high=df3['high'],\n",
    "                low=df3['low'], close=df3['close'], name=\"Price\"),\n",
    "               secondary_y=True, row=1,col=1)\n",
    "\n",
    "fig.add_trace(go.Bar(x=df3['date'], y=df3['volume'],opacity=0.2, name='Volume'),secondary_y=False)\n",
    "fig.add_trace(go.Line(x=dff['pub_date'], y=dff['scores'], showlegend=False), row=2, col=1)\n",
    "fig.add_trace(go.Bar(x=dff['pub_date'],y=dff['Volume'],opacity=0.2, name='Used News Volume'),row=3, col=1)\n",
    "fig.update_layout(xaxis_rangeslider_visible=False, width=1000, height=750)\n",
    "fig.layout.yaxis2.showgrid=False\n",
    "fig.show()"
   ]
  },
  {
   "cell_type": "code",
   "execution_count": 57,
   "metadata": {
    "scrolled": true
   },
   "outputs": [
    {
     "name": "stdout",
     "output_type": "stream",
     "text": [
      "Full compile, sub-divide, analyze and graph time: 603.2418914\n"
     ]
    }
   ],
   "source": [
    "fullstop = timeit.default_timer()\n"
   ]
  },
  {
   "cell_type": "code",
   "execution_count": 68,
   "metadata": {},
   "outputs": [
    {
     "name": "stdout",
     "output_type": "stream",
     "text": [
      "Tiny Report\n",
      "Full compile, sub-divide, analyze and graph time: 10.05 minutes\n",
      "Urls scraped: 784\n",
      "Relevant Subdocs created: 1765\n"
     ]
    }
   ],
   "source": [
    "print('Tiny Report')\n",
    "print('Full compile, sub-divide, analyze and graph time:', round((fullstop-fullstart)/60,2), \"minutes\")\n",
    "print('Urls scraped:', len(corpus.documents))\n",
    "print('Relevant Subdocs created:', len(corpus.rel_list))"
   ]
  },
  {
   "cell_type": "code",
   "execution_count": null,
   "metadata": {},
   "outputs": [],
   "source": []
  }
 ],
 "metadata": {
  "kernelspec": {
   "display_name": "Python 3",
   "language": "python",
   "name": "python3"
  },
  "language_info": {
   "codemirror_mode": {
    "name": "ipython",
    "version": 3
   },
   "file_extension": ".py",
   "mimetype": "text/x-python",
   "name": "python",
   "nbconvert_exporter": "python",
   "pygments_lexer": "ipython3",
   "version": "3.8.5"
  }
 },
 "nbformat": 4,
 "nbformat_minor": 4
}
