{
 "cells": [
  {
   "cell_type": "code",
   "execution_count": 1,
   "metadata": {},
   "outputs": [],
   "source": [
    "import requests\n",
    "from bs4 import BeautifulSoup\n",
    "import re\n",
    "from datetime import datetime\n",
    "from dateutil import parser as dparser\n",
    "import urllib.parse\n",
    "import timeit\n",
    "\n",
    "import numpy as np\n",
    "import pandas as pd\n",
    "import math\n",
    "from sklearn.feature_extraction.text import TfidfVectorizer\n",
    "from sklearn.feature_extraction.text import CountVectorizer\n",
    "from sklearn.model_selection import train_test_split\n",
    "from scipy import sparse\n",
    "from datasets import load_dataset, DatasetDict, load_metric\n",
    "\n",
    "from transformers import DistilBertForSequenceClassification, DistilBertTokenizer, DataCollatorWithPadding, TrainingArguments\n",
    "import torch\n",
    "from transformers import pipeline, Trainer\n",
    "\n",
    "from util.config import config\n",
    "from util.pyRanker import BM25\n",
    "from util.web_query_v2 import web_query\n",
    "from util.ticker import Ticker\n",
    "import ipywidgets as widgets\n",
    "\n",
    "import dash\n",
    "from dash import html\n",
    "from dash import dcc\n",
    "import plotly.graph_objects as go\n",
    "import plotly.express as px\n",
    "import plotly.graph_objects as go\n",
    "from plotly.subplots import make_subplots"
   ]
  },
  {
   "cell_type": "code",
   "execution_count": 2,
   "metadata": {},
   "outputs": [],
   "source": [
    "model = DistilBertForSequenceClassification.from_pretrained('distilbert-base-uncased-finetuned-sst-2-english')\n",
    "tokenizer = DistilBertTokenizer.from_pretrained('distilbert-base-uncased-finetuned-sst-2-english')\n",
    "classifier = pipeline(task='sentiment-analysis',model=model,tokenizer=tokenizer)\n",
    "max_tokens = int(tokenizer.model_max_length)"
   ]
  },
  {
   "cell_type": "code",
   "execution_count": 3,
   "metadata": {},
   "outputs": [
    {
     "name": "stderr",
     "output_type": "stream",
     "text": [
      "Reusing dataset financial_phrasebank (C:\\Users\\rahul\\.cache\\huggingface\\datasets\\financial_phrasebank\\sentences_66agree\\1.0.0\\a6d468761d4e0c8ae215c77367e1092bead39deb08fbf4bffd7c0a6991febbf0)\n"
     ]
    },
    {
     "data": {
      "application/vnd.jupyter.widget-view+json": {
       "model_id": "f6567e7dcbb74da8b244b77cdcad3df3",
       "version_major": 2,
       "version_minor": 0
      },
      "text/plain": [
       "  0%|          | 0/1 [00:00<?, ?it/s]"
      ]
     },
     "metadata": {},
     "output_type": "display_data"
    },
    {
     "name": "stderr",
     "output_type": "stream",
     "text": [
      "Loading cached processed dataset at C:\\Users\\rahul\\.cache\\huggingface\\datasets\\financial_phrasebank\\sentences_66agree\\1.0.0\\a6d468761d4e0c8ae215c77367e1092bead39deb08fbf4bffd7c0a6991febbf0\\cache-4e0666b22dba4755.arrow\n",
      "Loading cached processed dataset at C:\\Users\\rahul\\.cache\\huggingface\\datasets\\financial_phrasebank\\sentences_66agree\\1.0.0\\a6d468761d4e0c8ae215c77367e1092bead39deb08fbf4bffd7c0a6991febbf0\\cache-019abd29eeade3b4.arrow\n",
      "Loading cached processed dataset at C:\\Users\\rahul\\.cache\\huggingface\\datasets\\financial_phrasebank\\sentences_66agree\\1.0.0\\a6d468761d4e0c8ae215c77367e1092bead39deb08fbf4bffd7c0a6991febbf0\\cache-ec3e9a7a9cb89ff5.arrow\n"
     ]
    },
    {
     "name": "stdout",
     "output_type": "stream",
     "text": [
      "[1, 1, 1, 1, 1, 1, 1, 1, 1, 1, 1, 1, 1, 1, 1, 1, 1, 1, 1, 1, 1, 1, 1, 1, 1, 1, 1, 1, 1, 1, 1, 1, 1, 1, 1, 1, 1, 1, 1, 1, 1, 1, 1, 1, 1, 1, 1, 1, 1, 1, 1, 1, 1, 1, 1, 1, 1, 1, 1, 1, 1, 1, 1, 1, 1, 1, 1, 1, 1, 1, 1, 1, 1, 1, 1, 1, 1, 1, 1, 1, 1, 1, 1, 1, 1, 1, 1, 1, 1, 1, 1, 1, 1, 1, 1, 1, 1, 1, 1, 1, 1, 1, 1, 1, 1, 1, 1, 1, 1, 1, 1, 1, 1, 1, 1, 1, 1, 1, 1, 1, 1, 1, 1, 1, 1, 1, 1, 1, 1, 1, 1, 1, 1, 1, 1, 1, 1, 1, 1, 1, 1, 1, 1, 1, 1, 1, 1, 1, 1, 1, 1, 1, 1, 1, 1, 1, 1, 1, 1, 1, 1, 1, 1, 1, 1, 1, 1, 1, 1, 1, 1, 1, 1, 1, 1, 1, 1, 1, 1, 1, 1, 1, 1, 1, 1, 1, 1, 1, 1, 1, 1, 1, 1, 1, 1, 1, 1, 1, 1, 1, 1, 1, 1, 1, 1, 1, 1, 1, 1, 1, 1, 1, 1, 1, 1, 1, 1, 1, 1, 1, 1, 1, 1, 1, 1, 1, 1, 1, 1, 1, 1, 1, 1, 1, 1, 1, 1, 1, 1, 1, 1, 1, 1, 1, 1, 1, 1, 1, 1, 1, 1, 1, 1, 1, 1, 1, 1, 1, 1, 1, 1, 1, 1, 1, 1, 1, 1, 1, 1, 1, 1, 1, 1, 1, 1, 1, 1, 1, 1, 1, 1, 1, 1, 1, 1, 1, 1, 1, 1, 1, 1, 1, 1, 1, 1, 1, 1, 1, 1, 1, 1, 1, 1, 1, 1, 1, 1, 1, 1, 1, 1, 1, 1, 1, 1, 1, 1, 1, 1, 1, 1, 1, 1, 1, 1, 1, 1, 1, 1, 1, 1, 1, 1, 1, 1, 1, 1, 1, 1, 1, 1, 1, 1, 1, 1, 1, 1, 1, 1, 0, 1, 1, 1, 1, 1, 1, 1, 1, 1, 1, 1, 1, 1, 1, 1, 1, 1, 1, 1, 1, 1, 1, 1, 1, 1, 0, 1, 0, 0, 0, 1, 1, 1, 1, 1, 1, 1, 1, 1, 1, 1, 1, 1, 1, 1, 1, 1, 1, 1, 1, 1, 1, 1, 1, 1, 1, 1, 1, 1, 1, 1, 1, 1, 1, 1, 1, 1, 1, 1, 1, 1, 1, 1, 1, 1, 1, 1, 1, 1, 1, 1, 1, 1, 1, 1, 1, 1, 1, 1, 1, 1, 1, 1, 1, 1, 1, 1, 1, 1, 1, 1, 1, 1, 1, 1, 1, 1, 1, 1, 1, 1, 1, 1, 1, 1, 1, 1, 1, 1, 1, 1, 0, 0, 0, 0, 0, 0, 0, 0, 0, 0, 0, 0, 0, 0, 0, 0, 1, 1, 1, 1, 1, 1, 1, 0, 0, 0, 0, 0, 0, 1, 1, 1, 1, 1, 1, 1, 0, 1, 1, 1, 1, 1, 1, 1, 1, 1, 1, 1, 1, 1, 1, 1, 0, 0, 0, 0, 0, 0, 1, 1, 1, 1, 1, 1, 1, 1, 1, 1, 1, 1, 1, 1, 1, 1, 1, 1, 1, 1, 1, 1, 1, 1, 1, 1, 1, 1, 1, 1, 1, 1, 1, 1, 1, 1, 1, 1, 1, 1, 1, 1, 1, 1, 1, 1, 1, 1, 1, 1, 1, 1, 1, 1, 1, 1, 1, 1, 1, 1, 1, 1, 1, 1, 1, 1, 1, 1, 1, 1, 1, 1, 1, 1, 1, 1, 1, 1, 1, 1, 1, 1, 1, 1, 1, 1, 1, 1, 1, 1, 1, 1, 1, 1, 1, 1, 1, 1, 1, 1, 1, 1, 1, 1, 1, 1, 1, 1, 1, 1, 1, 1, 1, 1, 1, 1, 1, 1, 1, 1, 1, 1, 1, 1, 1, 1, 1, 1, 1, 1, 1, 1, 1, 1, 1, 1, 1, 1, 1, 1, 1, 1, 1, 1, 1, 1, 1, 1, 1, 1, 1, 1, 1, 1, 1, 1, 1, 1, 1, 1, 1, 1, 1, 1, 1, 1, 1, 1, 1, 1, 1, 1, 1, 1, 1, 1, 1, 1, 1, 1, 1, 1, 1, 1, 1, 1, 1, 1, 1, 1, 1, 1, 1, 1, 1, 1, 1, 1, 1, 1, 1, 1, 1, 1, 1, 1, 1, 1, 1, 1, 1, 1, 1, 1, 1, 1, 1, 1, 1, 1, 1, 1, 1, 1, 1, 1, 1, 1, 1, 1, 1, 1, 1, 1, 1, 1, 1, 1, 1, 1, 1, 1, 1, 0, 1, 0, 1, 1, 1, 1, 1, 1, 1, 1, 1, 1, 1, 1, 1, 1, 1, 1, 1, 1, 1, 1, 1, 1, 1, 0, 1, 1, 1, 0, 1, 1, 1, 1, 1, 1, 1, 1, 1, 1, 1, 1, 1, 1, 1, 0, 0, 0, 0, 0, 1, 0, 0, 1, 1, 1, 1, 1, 1, 1, 1, 1, 1, 1, 1, 1, 1, 1, 1, 1, 1, 1, 1, 1, 1, 1, 1, 1, 1, 1, 1, 1, 1, 1, 1, 1, 1, 1, 1, 1, 1, 1, 1, 1, 1, 1, 1, 1, 1, 1, 1, 1, 1, 1, 1, 1, 1, 1, 1, 1, 1, 1, 1, 1, 1, 1, 1, 1, 1, 1, 1, 1, 1, 1, 1, 1, 0, 1, 1, 1, 1, 1, 1, 1, 1, 1, 1, 1, 1, 1, 1, 1, 1, 1, 1, 1, 0, 1, 0, 0, 1, 1, 1, 1, 1, 1, 1, 1, 1, 1, 1, 1, 1, 1, 1, 0, 0, 0, 0, 0, 0, 1, 1, 1, 0, 0, 1, 1, 1, 1, 1, 1, 1, 1, 1, 1, 1, 1, 1, 1, 1, 1, 1, 1, 1, 1, 1, 1, 1, 1, 1, 1, 1, 1, 1, 1, 1, 1, 1, 1, 1, 1, 1, 1, 1, 1, 1, 1, 1, 1, 1, 1, 1, 1, 1, 1, 1, 1, 1, 1, 1, 1, 1, 1, 1, 1, 1, 1, 1, 1, 1, 1, 1, 1, 1, 1, 1, 1, 1, 1, 1, 1, 1, 1, 1, 1, 1, 1, 1, 1, 1, 1, 1, 1, 1, 1, 1, 1, 1, 1, 1, 1, 1, 1, 1, 1, 1, 1, 1, 1, 1, 1, 1, 1, 1, 1, 1, 1, 1, 1, 1, 1, 1, 1, 1, 1, 1, 1, 1, 1, 1, 1, 1, 1, 1, 1, 1, 1, 1, 1, 1, 1, 1, 1, 1, 1, 1, 1, 1, 1, 1, 1, 1, 1, 1, 1, 1, 1, 1, 1, 1, 1, 1, 1, 1, 1, 1, 1, 1, 1, 1, 1, 1, 1, 1, 1, 1, 1, 1, 1, 1, 1, 1, 1, 0, 1, 0, 0, 1, 1, 1, 0, 1, 1, 0, 0, 0, 0, 0, 0, 0, 0, 0, 1, 1, 1, 1, 1, 0, 1, 1, 1, 0, 1, 1, 1, 1, 1, 0, 0, 0, 0, 0, 1, 0, 1, 0, 1, 0, 1, 0, 1, 0, 1, 0, 1, 0, 1, 1, 1, 1, 1, 1, 0, 0, 0, 0, 0, 0, 0, 0, 0, 0, 0, 0, 0, 0, 0, 0, 0, 0, 0, 0, 0, 0, 0, 0, 0, 0, 0, 0, 0, 0, 0, 0, 0, 0, 0, 0, 0, 0, 0, 0, 0, 0, 0, 0, 0, 0, 0, 0, 0, 0, 0, 0, 0, 0, 0, 0, 0, 0, 0, 0, 0, 0, 0, 0, 0, 0, 0, 0, 0, 0, 0, 0, 0, 0, 0, 1, 1, 1, 1, 1, 1, 1, 1, 1, 1, 1, 1, 1, 1, 1, 1, 1, 1, 1, 1, 1, 0, 0, 0, 0, 0, 0, 0, 0, 0, 0, 0, 0, 0, 0, 0, 0, 0, 0, 0, 0, 0, 0, 0, 0, 0, 0, 0, 0, 0, 0, 0, 0, 0, 0, 0, 0, 0, 0, 0, 0, 0, 0, 0, 0, 0, 0, 0, 0, 0, 0, 0, 0, 0, 0, 0, 0, 0, 0, 0, 0, 0, 0, 0, 0, 0, 0, 0, 0, 0, 0, 0, 0, 0, 0, 0, 0, 0, 0, 0, 0, 0, 0, 0, 0, 0, 0, 0, 0, 0, 0, 0, 0, 0, 0, 0, 0, 0, 0, 0, 0, 0, 0, 0, 0, 0, 0, 0, 0, 0, 0, 0, 0, 0, 0, 0, 0, 0, 1, 1, 1, 1, 1, 1, 1, 1, 1, 1, 1, 1, 1, 1, 1, 1, 1, 1, 1, 1, 1, 1, 1, 1, 1, 1, 1, 1, 1, 1, 1, 1, 0, 1, 0, 0, 0, 0, 0, 1, 0, 1, 0, 1, 0, 0, 0, 0, 0, 0, 0, 0, 0, 0, 0, 0, 0, 0, 0, 0, 0, 1, 1, 0, 0, 1, 0, 0, 0, 0, 0, 0, 1, 0, 0, 0, 0, 0, 0, 0, 1, 0, 0, 0, 0, 0, 0, 0, 0, 0, 0, 0, 0, 0, 0, 0, 0, 0, 0, 0, 0, 0, 0, 0, 0, 0, 0, 0, 0, 0, 0, 0, 0, 0, 0, 0, 0, 0, 0, 0, 0, 0, 0, 0, 0, 0, 0, 0, 0, 0, 0, 0, 0, 0, 0, 0, 0, 0, 0, 0, 0, 0, 0, 0, 0, 0, 0, 0, 0, 0, 0, 0, 0, 0, 0, 0, 0, 0, 0, 0, 0, 0, 0, 0, 0, 0, 0, 0, 0, 0, 0, 0, 0, 0, 0, 0, 0, 0, 0, 0, 0, 0, 0, 0, 0, 0, 0, 0, 0, 0, 0, 0, 0, 0, 0, 0, 0, 0, 0, 0, 0, 0, 0, 0, 0, 0, 0, 0, 0, 0, 0, 0, 0, 0, 0, 0, 0, 0, 0, 0, 0, 0, 0, 0, 0, 0, 0, 0, 0, 0, 0, 0, 0, 0, 0, 1, 1, 0, 0, 0, 0, 0, 1, 1, 0, 0, 0, 0, 0, 0, 0, 0, 0, 0, 0, 0, 0, 0, 0, 0, 0, 0, 0, 0, 0, 0, 0, 0, 0, 0, 0, 0, 0, 0, 0, 0, 0, 0, 0, 0, 0, 0, 0]\n",
      "DatasetDict({\n",
      "    train: Dataset({\n",
      "        features: ['attention_mask', 'input_ids', 'label', 'sentence'],\n",
      "        num_rows: 1513\n",
      "    })\n",
      "    test: Dataset({\n",
      "        features: ['attention_mask', 'input_ids', 'label', 'sentence'],\n",
      "        num_rows: 169\n",
      "    })\n",
      "})\n"
     ]
    },
    {
     "name": "stderr",
     "output_type": "stream",
     "text": [
      "The following columns in the training set  don't have a corresponding argument in `DistilBertForSequenceClassification.forward` and have been ignored: sentence.\n",
      "***** Running training *****\n",
      "  Num examples = 1513\n",
      "  Num Epochs = 3\n",
      "  Instantaneous batch size per device = 8\n",
      "  Total train batch size (w. parallel, distributed & accumulation) = 8\n",
      "  Gradient Accumulation steps = 1\n",
      "  Total optimization steps = 570\n"
     ]
    },
    {
     "data": {
      "text/html": [
       "\n",
       "    <div>\n",
       "      \n",
       "      <progress value='570' max='570' style='width:300px; height:20px; vertical-align: middle;'></progress>\n",
       "      [570/570 17:20, Epoch 3/3]\n",
       "    </div>\n",
       "    <table border=\"1\" class=\"dataframe\">\n",
       "  <thead>\n",
       "    <tr style=\"text-align: left;\">\n",
       "      <th>Step</th>\n",
       "      <th>Training Loss</th>\n",
       "    </tr>\n",
       "  </thead>\n",
       "  <tbody>\n",
       "    <tr>\n",
       "      <td>500</td>\n",
       "      <td>0.108200</td>\n",
       "    </tr>\n",
       "  </tbody>\n",
       "</table><p>"
      ],
      "text/plain": [
       "<IPython.core.display.HTML object>"
      ]
     },
     "metadata": {},
     "output_type": "display_data"
    },
    {
     "name": "stderr",
     "output_type": "stream",
     "text": [
      "Saving model checkpoint to test-trainer\\checkpoint-500\n",
      "Configuration saved in test-trainer\\checkpoint-500\\config.json\n",
      "Model weights saved in test-trainer\\checkpoint-500\\pytorch_model.bin\n",
      "tokenizer config file saved in test-trainer\\checkpoint-500\\tokenizer_config.json\n",
      "Special tokens file saved in test-trainer\\checkpoint-500\\special_tokens_map.json\n",
      "\n",
      "\n",
      "Training completed. Do not forget to share your model on huggingface.co/models =)\n",
      "\n",
      "\n"
     ]
    },
    {
     "data": {
      "text/plain": [
       "TrainOutput(global_step=570, training_loss=0.09987983954580207, metrics={'train_runtime': 1042.0894, 'train_samples_per_second': 4.356, 'train_steps_per_second': 0.547, 'total_flos': 93947586714396.0, 'train_loss': 0.09987983954580207, 'epoch': 3.0})"
      ]
     },
     "execution_count": 3,
     "metadata": {},
     "output_type": "execute_result"
    }
   ],
   "source": [
    "#LOADING IN CUSTOM DATASET TO FINE TUNE ACCURACY OF MODEL\n",
    "#needs verification whether it fits/work with the current model as the labels for the 2 models (pos, neg) are different\n",
    "#\n",
    "dataset = load_dataset(\n",
    "   'financial_phrasebank', 'sentences_66agree')\n",
    "\n",
    "#modifying dataset to fit format of pre-trained model\n",
    "custom_data = dataset['train']\n",
    "custom_data = custom_data.filter(lambda example: example['label'] % 2 == 0)\n",
    "\n",
    "#more modification\n",
    "def add_prefix(example):\n",
    "    if example['label'] == 2:\n",
    "        example['label'] = example['label'] - 1\n",
    "    return example\n",
    "\n",
    "#mapping in changes to dataset - 0 is negative, 1 is positive\n",
    "custom_data = custom_data.map(add_prefix)\n",
    "#print(custom_data['label'])\n",
    "        \n",
    "#tokenizer for processing data\n",
    "def tokenize_function(examples):\n",
    "    return tokenizer(examples[\"sentence\"], padding=True, truncation=True)\n",
    "\n",
    "#mapping and splitting up custom data into training and testing\n",
    "tokenized_datasets = custom_data.map(tokenize_function, batched=True)\n",
    "tokenized_datasets = tokenized_datasets.train_test_split(test_size=0.1)\n",
    "\n",
    "valid_set = DatasetDict({\n",
    "    'train': tokenized_datasets['train'],\n",
    "    'test': tokenized_datasets['test']})\n",
    "#print(valid_set)\n",
    "\n",
    "data_collator = DataCollatorWithPadding(tokenizer=tokenizer)\n",
    "\n",
    "#error handling\n",
    "columns_to_return = ['input_ids', 'label', 'attention_mask']\n",
    "valid_set.set_format(type='torch', columns=columns_to_return)\n",
    "\n",
    "#print(valid_set)\n",
    "#train model with new data and report accuracy\n",
    "training_args = TrainingArguments(\"test-trainer\")\n",
    "metric = load_metric(\"accuracy\")\n",
    "\n",
    "#accuracy metrics\n",
    "def compute_metrics(eval_pred):\n",
    "    logits, labels = eval_pred\n",
    "    predictions = np.argmax(logits, axis=-1)\n",
    "    return metric.compute(predictions=predictions, references=labels)\n",
    "\n",
    "#fine tuning the model with custom dataset\n",
    "trainer = Trainer(\n",
    "    model,\n",
    "    training_args,\n",
    "    train_dataset=valid_set['train'],\n",
    "    eval_dataset=valid_set['test'],\n",
    "    data_collator=data_collator,\n",
    "    tokenizer=tokenizer,\n",
    "    compute_metrics=compute_metrics\n",
    ")\n",
    "trainer.train()\n",
    "\n",
    "#check in future to see if this is feasible and makes sense with the current pre-trained model"
   ]
  },
  {
   "cell_type": "code",
   "execution_count": 4,
   "metadata": {},
   "outputs": [],
   "source": [
    "#running through sub_docs and outputting sentiment list\n",
    "\n",
    "def get_sentiments(docs):\n",
    "    \n",
    "    c = 0\n",
    "    for x in docs.keys():\n",
    "        c+=len(docs[x])\n",
    "    \n",
    "    pgres = widgets.IntProgress(value=0,min=0,max=c, step=1)\n",
    "    display(pgres)\n",
    "    \n",
    "    sentiments = {}\n",
    "    \n",
    "    for x in docs.keys():\n",
    "        scrs=[]\n",
    "        for y in range(0, len(docs[x])):\n",
    "            \n",
    "            s = classifier(docs[x][y])\n",
    "            scr = s[0]['score']\n",
    "            if s[0]['label']==\"NEGATIVE\":\n",
    "                scr=scr*-1\n",
    "            scrs.append(scr)\n",
    "            pgres.value+=1\n",
    "            pgres.description=str(pgres.value)+\":\"+str(c)\n",
    "        \n",
    "        sentiments[x]=scrs\n",
    "                \n",
    "    return sentiments"
   ]
  },
  {
   "cell_type": "code",
   "execution_count": 5,
   "metadata": {},
   "outputs": [],
   "source": [
    "class Corpus(object):\n",
    "    \n",
    "    #******************************************************************************\n",
    "    #----------------------------------Method---------------------------------------\n",
    "    #******************************************************************************\n",
    "    \n",
    "    #Run the web_query to produce a collection of text documents scraped from the web\n",
    "    \n",
    "    #Use the set_results() function to store the full results in the corpus for processing\n",
    "    \n",
    "    #Use the set_corpus() function to assign the documents scraped from the web to the corpus\n",
    "    \n",
    "    #Sub divide the documents into smaller sub_docs\n",
    "    \n",
    "    #Rank the documents based on relevance to the original query as well as any tags\n",
    "    \n",
    "    #Prune the sub_docs to produce a relevant set\n",
    "    \n",
    "    #\n",
    "    \n",
    "    #******************************************************************************\n",
    "    #******************************************************************************\n",
    "    \n",
    "    def __init__(self):\n",
    "        \n",
    "        #typical corpus data\n",
    "        self.documents = []\n",
    "        self.vocabulary = []\n",
    "        self.number_of_documents = 0\n",
    "        self.vocabulary_size = 0\n",
    "                \n",
    "        #for web results\n",
    "        self.query_results=None\n",
    "        self.max_tokens=512\n",
    "        self.failed = []\n",
    "        \n",
    "        #sub dividing documents\n",
    "        self.tokenizer=None\n",
    "        self.sub_docs=None\n",
    "        self.sub_list=[]\n",
    "        \n",
    "        #queries\n",
    "        self.prime_q=None\n",
    "        self.expanded_q=None        \n",
    "        \n",
    "        #relevance scores\n",
    "        self.document_scores=None\n",
    "        self.subdoc_scores=None\n",
    "        self.title_scores=None\n",
    "        self.sub_list_scores=None\n",
    "                \n",
    "        #pruned data\n",
    "        self.pruned_docs=[]\n",
    "        self.pruned_subdocs={}\n",
    "        \n",
    "        #relevant\n",
    "        self.relevant_set={}\n",
    "        self.relevant_scores={}\n",
    "        self.rel_list_scores=[]\n",
    "        \n",
    "        #sentiments\n",
    "        self.sentiments=None\n",
    "    \n",
    "    \n",
    "    #******************************************************************************\n",
    "    #------------------------------Setting Corpus----------------------------------\n",
    "    #******************************************************************************\n",
    "    \n",
    "    def set_results(self, df):\n",
    "        #dataframe returned from webquery\n",
    "        self.query_results=df\n",
    "    \n",
    "    def set_corpus(self, documents):\n",
    "        self.documents = documents\n",
    "                \n",
    "\n",
    "    def build_corpus_from_file(self, file_path):\n",
    "\n",
    "        f = open(file_path, 'r')\n",
    "        docs = f.readlines()\n",
    "        for d in docs:\n",
    "            self.documents.append(d)\n",
    "        self.number_of_documents = len(docs)\n",
    "\n",
    "        \n",
    "    def build_vocabulary(self, stopwords):\n",
    "\n",
    "        v = set([])\n",
    "        for x in self.documents:\n",
    "            tmp = set(x.split())\n",
    "            tmp = {x for x in tmp if x.lower() not in stopwords}\n",
    "                        \n",
    "            v.update(tmp)\n",
    "        \n",
    "        v = list(v)\n",
    "        self.vocabulary = v\n",
    "        self.vocabulary_size = len(v)\n",
    "    \n",
    "    \n",
    "    #******************************************************************************\n",
    "    #---------------------------------Queries--------------------------------------\n",
    "    #******************************************************************************\n",
    "    \n",
    "    def set_ticker_data(self, ticker):\n",
    "        name = re.sub('(Inc|Company|Corporation|Corp|Co|Incorporated|LLC|,|\\.| )',\"\",str(ticker.name), flags=re.I)\n",
    "        self.ticker_sym = str(ticker.ticker)\n",
    "        self.company_name = str(name)\n",
    "        self.ticker_tags = ticker.tags    \n",
    "    \n",
    "    def build_queries(self, ticker=None, prime='name', prime_w=1, tag_w=0.05, include_gtags=True, gtags_w=0.01, include_btags=True, btags_w=0.01):\n",
    "        \n",
    "        if ticker is not None:\n",
    "            self.set_ticker_data(ticker)\n",
    "        \n",
    "        if prime=='name':\n",
    "            self.prime_q = str(self.company_name)\n",
    "            self.prime_type=1\n",
    "        elif prime=='ticker':\n",
    "            self.prime_q = str(self.ticker_sym)\n",
    "            self.prime_type=2\n",
    "        elif prime=='both':\n",
    "            self.prime_q = str(self.company_name)+\" \"+str(self.ticker_sym)\n",
    "        \n",
    "        gtags = ['investing','analysis','analyst','upgrade','downgrade']\n",
    "        btags = ['sentiment','opinion','outlook']\n",
    "        \n",
    "        exp = []\n",
    "        for t in self.ticker_tags:\n",
    "            exp.append([t, tag_w])\n",
    "        if include_gtags:\n",
    "            for t in gtags:\n",
    "                exp.append([t, gtags_w])\n",
    "        if include_btags:\n",
    "            for t in btags:\n",
    "                exp.append([t, btags_w])\n",
    "        \n",
    "        self.expanded_q=exp\n",
    "    \n",
    "    #******************************************************************************\n",
    "    #------------------------------Sub Dividing-------------------------------------\n",
    "    #******************************************************************************\n",
    "    \n",
    "    def get_pgraphs(self, doc, cutoff, method):\n",
    "        #updated get_pgraphs() with method for cutoff\n",
    "        #cut off method:\n",
    "        #sen: number of sentences\n",
    "        #word: number of words  \n",
    "\n",
    "        pgraphs=[]\n",
    "        freshsoup = re.split('\\n\\n',doc)\n",
    "        for x in range(0,len(freshsoup)):\n",
    "            if method=='word':\n",
    "                words = len(str(freshsoup[x]).strip().split(' ',maxsplit=cutoff))\n",
    "                if words>cutoff:\n",
    "                    pgraphs.append(freshsoup[x])\n",
    "                    \n",
    "            elif method=='sen':\n",
    "                sens = len(re.findall(\"\\.\",str(freshsoup[x]).strip()))\n",
    "                if sens>cutoff:\n",
    "                    pgraphs.append(freshsoup[x])\n",
    "                    \n",
    "        return pgraphs\n",
    "    \n",
    "    def split_doc(self, doc):         \n",
    "        \n",
    "        if len(doc)>0:\n",
    "            avgwrds = 15\n",
    "            estsens = len(doc)/avgwrds\n",
    "        \n",
    "            if len(re.findall('\\.',doc))>=estsens:\n",
    "                cut_point = doc.rfind('.', 0, int(len(doc)/2))\n",
    "                if cut_point<=0:\n",
    "                    cut_point = int(len(doc)/2)\n",
    "            else:\n",
    "                cut_point = int(len(doc)/2)\n",
    "\n",
    "            d1 = doc[0:cut_point]\n",
    "            d2 = doc[cut_point+1:]\n",
    "            \n",
    "            tkns1 = int(len(self.tokenizer(d1)['input_ids']))\n",
    "\n",
    "            if tkns1>self.max_tokens:\n",
    "                self.split_doc(d1)\n",
    "            else:\n",
    "                if len(d1)>0:\n",
    "                    self.subs.append(d1)\n",
    "\n",
    "            tkns2 = int(len(self.tokenizer(d2)['input_ids']))\n",
    "\n",
    "            if tkns2>self.max_tokens:\n",
    "                self.split_doc(d2)\n",
    "            else:\n",
    "                if len(d2)>0:\n",
    "                    self.subs.append(d2)\n",
    "\n",
    "    \n",
    "    def get_subdocs(self, pgraphs):\n",
    "        #Updated get_subdocs with iterative slicing \n",
    "        #Changed to recursive slicing\n",
    "        #ensure sub_docs tokens will not exceed max_tokens for sentiment model\n",
    "        self.subs=[]\n",
    "\n",
    "        for x in range(0, len(pgraphs)):\n",
    "            sen_cnt = len(re.split('\\n|\\. ',pgraphs[x]))\n",
    "            tkns = int(len(tokenizer(pgraphs[x])['input_ids']))\n",
    "\n",
    "            if tkns<self.max_tokens:\n",
    "                self.subs.append(pgraphs[x])\n",
    "            else:\n",
    "                self.split_doc(pgraphs[x])\n",
    "        \n",
    "        return self.subs\n",
    "        \n",
    "    def sub_divide(self, tokenizer, cutoff=1, method='sen'):\n",
    "\n",
    "        #creates a dictionary of sub_docs divided from each document in the corpus\n",
    "        #method: using get_pgraphs() followed by get_subdocs()\n",
    "        #output form: dict{ document_id : [subdoc_1, subdoc_2 ... subdoc_n] }\n",
    "\n",
    "        subbed_data = {}\n",
    "        self.tokenizer=tokenizer\n",
    "        \n",
    "        if len(self.pruned_docs)==0:\n",
    "            self.prune_docs()\n",
    "        \n",
    "        for x in range(0, len(self.documents)):\n",
    "            \n",
    "            #only include documents that made the first relevance cut\n",
    "            if x in self.pruned_docs:\n",
    "                pg = self.get_pgraphs(self.documents[x], cutoff, method)\n",
    "                subs = self.get_subdocs(pg)\n",
    "                subbed_data[x]=subs\n",
    "        \n",
    "        self.sub_docs = subbed_data\n",
    "        self.sub_list=[]\n",
    "        for x in self.sub_docs.keys():\n",
    "            for y in self.sub_docs[x]:\n",
    "                self.sub_list.append(y)\n",
    "        \n",
    "\n",
    "        \n",
    "    #******************************************************************************\n",
    "    #----------------------------------Relevance Scoring---------------------------\n",
    "    #******************************************************************************  \n",
    "    \n",
    "    def rank_docs(self, ranker, min_max=0.02):\n",
    "        query = self.prime_q\n",
    "        scr = ranker.score(query, self.documents)\n",
    "        if np.max(scr)>min_max:\n",
    "            self.document_scores = scr\n",
    "        else:\n",
    "            print('Very low relevance scores, attempting requery')\n",
    "            #rebuilding queries with prime query being alternate of current prime(name or ticker)\n",
    "            if self.prime_type==1:\n",
    "                self.build_queries(prime='ticker')\n",
    "            else:\n",
    "                self.build_queries(prime='name')\n",
    "        \n",
    "        query = self.prime_q\n",
    "        scr = ranker.score(query, self.documents)\n",
    "        if np.max(scr)>min_max:\n",
    "            self.document_scores = scr\n",
    "        else:\n",
    "            print('Scoring on built queries from ticker resulting in unusually low scores')\n",
    "            print('Change query manually in rank_docs function or adjust min_max')\n",
    "        \n",
    "    def rank_subdocs(self, ranker, expanded=False):\n",
    "        sub_vecs={}\n",
    "        \n",
    "        if expanded==False:\n",
    "            query=self.prime_q\n",
    "            for x in self.sub_docs.keys():\n",
    "                sub_vec = ranker.score(query, self.sub_docs[x])\n",
    "                sub_vecs[x]=sub_vec\n",
    "        else:\n",
    "            query = self.expanded_q\n",
    "            for x in self.sub_docs.keys():\n",
    "                sub_vec = ranker.score_expanded(query, self.sub_docs[x])\n",
    "                sub_vecs[x]=sub_vec\n",
    "            \n",
    "        self.subdoc_scores = sub_vecs\n",
    "        \n",
    "        self.sub_list_scores=[]\n",
    "        for x in self.subdoc_scores.keys():\n",
    "            for y in self.subdoc_scores[x]:\n",
    "                self.sub_list_scores.append(y)\n",
    "    \n",
    "    def rank_relevant(self, ranker, expanded=True):\n",
    "        sub_vecs={}\n",
    "        \n",
    "        if expanded==False:\n",
    "            query=self.prime_q\n",
    "            for x in self.relevant_set.keys():\n",
    "                sub_vec = ranker.score(query, self.relevant_set[x])\n",
    "                sub_vecs[x]=sub_vec\n",
    "        else:\n",
    "            query=self.expanded_q\n",
    "            for x in self.relevant_set.keys():\n",
    "                sub_vec = ranker.score_expanded(query, self.relevant_set[x])\n",
    "                sub_vecs[x]=sub_vec\n",
    "            \n",
    "        self.relevant_scores = sub_vecs\n",
    "        \n",
    "        self.rel_list_scores=[]\n",
    "        for x in self.relevant_scores.keys():\n",
    "            for y in self.relevant_scores[x]:\n",
    "                self.rel_list_scores.append(y)\n",
    "       \n",
    "        \n",
    "    #******************************************************************************\n",
    "    #----------------------------Pruning Relevant Set------------------------------\n",
    "    #******************************************************************************\n",
    "    def prune_docs(self, method='finite', cutoff=0):\n",
    "        \n",
    "        '''\n",
    "        method percentile: cutoff is the percentile to lower bound the document scores on\n",
    "        method finite: cutoff is a hard value to cutoff scores on\n",
    "        \n",
    "        store the indexes of the documents that have scores over the cutoff\n",
    "        these indexes will be used in the creation of the subdocs\n",
    "        '''\n",
    "        \n",
    "        if method=='percentile':\n",
    "            p = np.percentile(self.document_scores, cutoff)\n",
    "            cuts = np.where(self.document_scores<p)\n",
    "            \n",
    "            for x in range(0, len(self.documents)):\n",
    "                if x not in cuts:\n",
    "                    self.pruned_docs.append(x)\n",
    "                                                 \n",
    "        elif method=='finite':\n",
    "            for x in range(0, len(self.documents)):\n",
    "                if self.document_scores[x]>cutoff:\n",
    "                    self.pruned_docs.append(x)\n",
    "        \n",
    "        \n",
    "            \n",
    "    def prune_subdocs(self, method='finite', cutoff=0):\n",
    "        \n",
    "        '''\n",
    "        method percentile: cutoff is the percentile to lower bound the document scores on\n",
    "        method finite: cutoff is a hard value to cutoff scores on\n",
    "        \n",
    "        '''\n",
    "        \n",
    "        if method=='percentile':\n",
    "            p = np.percentile(self.sub_list_scores, cutoff)\n",
    "            prune={}\n",
    "            for x in self.sub_docs.keys():\n",
    "                for y in range(0, len(sub_docs[x])):\n",
    "                    if subdoc_scores[x][y]>p:\n",
    "                        if x not in prune.keys():\n",
    "                            prune[x]=[y]\n",
    "                        else:\n",
    "                            prune[x].append(y)\n",
    "            self.pruned_subdocs=prune\n",
    "            \n",
    "        elif method=='finite':\n",
    "            prune={}\n",
    "            for x in self.sub_docs.keys():\n",
    "                for y in range(0, len(self.sub_docs[x])):\n",
    "                    if self.subdoc_scores[x][y]>cutoff:\n",
    "                        if x not in prune.keys():\n",
    "                            prune[x]=[y]\n",
    "                        else:\n",
    "                            prune[x].append(y)\n",
    "            \n",
    "            self.pruned_subdocs=prune\n",
    "        \n",
    "    def make_relevant(self):\n",
    "        for x in self.pruned_subdocs.keys():\n",
    "            self.relevant_set[x]=[]\n",
    "            self.relevant_scores[x]=[]\n",
    "            for y in self.pruned_subdocs[x]:\n",
    "                self.relevant_set[x].append(self.sub_docs[x][y])\n",
    "                self.relevant_scores[x].append(self.subdoc_scores[x][y])\n",
    "        \n",
    "        self.rel_list=[]\n",
    "        for x in self.relevant_set.keys():\n",
    "            for y in self.relevant_set[x]:\n",
    "                self.rel_list.append(y)\n",
    "        \n",
    "    def prune_relevant(self, method='percentile',cutoff=15):\n",
    "        #Relevant is as low as it goes, these will be adjusted directly when pruned\n",
    "        \n",
    "        if method=='percentile':\n",
    "            cut = np.percentile(self.rel_list_scores, cutoff)\n",
    "        else:\n",
    "            cut = cutoff\n",
    "        \n",
    "        subbed_data = self.relevant_set\n",
    "        sub_scores = self.relevant_scores\n",
    "        \n",
    "        for x in self.relevant_set.keys():\n",
    "\n",
    "            subbed_data[x] = [xv if c else None for c, xv in zip(sub_scores[x]>cut, subbed_data[x])]\n",
    "            subbed_data[x] = [y for y in subbed_data[x] if y!=None]\n",
    "            sub_scores[x] = [y for y in sub_scores[x] if y>cut]\n",
    "        \n",
    "        self.relevant_set = {k: v for k, v in subbed_data.items() if len(v) > 0}\n",
    "        self.relevant_scores={k: v for k, v in sub_scores.items() if len(v) > 0}\n",
    "        \n",
    "        self.rel_list=[]\n",
    "        for x in self.relevant_set.keys():\n",
    "            for y in self.relevant_set[x]:\n",
    "                self.rel_list.append(y)\n",
    "        \n",
    " \n"
   ]
  },
  {
   "cell_type": "code",
   "execution_count": 6,
   "metadata": {},
   "outputs": [],
   "source": [
    "fullstart = timeit.default_timer()"
   ]
  },
  {
   "cell_type": "code",
   "execution_count": 7,
   "metadata": {},
   "outputs": [],
   "source": [
    "#pull api keys from the config file\n",
    "cfig=config()"
   ]
  },
  {
   "cell_type": "code",
   "execution_count": 8,
   "metadata": {},
   "outputs": [],
   "source": [
    "tick = Ticker(config=cfig, t=\"MSFT\", source='alpha')"
   ]
  },
  {
   "cell_type": "code",
   "execution_count": 9,
   "metadata": {},
   "outputs": [],
   "source": [
    "#Define Web_query object\n",
    "wq=web_query(cfig)"
   ]
  },
  {
   "cell_type": "code",
   "execution_count": 10,
   "metadata": {},
   "outputs": [
    {
     "name": "stdout",
     "output_type": "stream",
     "text": [
      "NewsAPI: 100 page: 1\n",
      "Polygon: 200\n",
      "Currents: 164 page: 1\n",
      "Usearch: 50 page: 1\n",
      "error on Newsapi page: 2\n",
      "Currents: 0 page: 2\n",
      "Usearch: 50 page: 2\n",
      "error on Newsapi page: 3\n",
      "Currents: 0 page: 3\n",
      "Usearch: 50 page: 3\n",
      "error on Newsapi page: 4\n",
      "Currents: 0 page: 4\n",
      "Usearch: 50 page: 4\n",
      "8.405953100000033\n"
     ]
    }
   ],
   "source": [
    "start = timeit.default_timer()\n",
    "\n",
    "#testq=str(tick.name)\n",
    "\n",
    "d_start=\"9/1/2021\"\n",
    "\n",
    "#query all of the news apis in web_query object\n",
    "#wq.query_all(query=tick.name, ticker=tick.ticker, d_start=d_start, threaded=False, pages=1)\n",
    "\n",
    "#web_query_v2 for ticker object handling and multi-page api requests (when they work)\n",
    "wq.query_all(tickerobj=tick, d_start=d_start, threaded=True, pages=4)\n",
    "\n",
    "#compile results into a singular dataframe\n",
    "wq.compile_results()\n",
    "\n",
    "end = timeit.default_timer()\n",
    "print(end-start)"
   ]
  },
  {
   "cell_type": "code",
   "execution_count": 11,
   "metadata": {
    "scrolled": true
   },
   "outputs": [
    {
     "name": "stdout",
     "output_type": "stream",
     "text": [
      "625\n"
     ]
    }
   ],
   "source": [
    "print(len(wq.results))"
   ]
  },
  {
   "cell_type": "code",
   "execution_count": 12,
   "metadata": {},
   "outputs": [
    {
     "data": {
      "application/vnd.jupyter.widget-view+json": {
       "model_id": "e1afe9cca0374d3bab3ca2e5d472b5d8",
       "version_major": 2,
       "version_minor": 0
      },
      "text/plain": [
       "IntProgress(value=0, max=625)"
      ]
     },
     "metadata": {},
     "output_type": "display_data"
    },
    {
     "name": "stdout",
     "output_type": "stream",
     "text": [
      "scrape time: 53.90686819999996\n",
      "time per url: 0.08625098911999994\n"
     ]
    }
   ],
   "source": [
    "start = timeit.default_timer()\n",
    "\n",
    "#scrap text from the results urls to form documents\n",
    "wq.scrape_results(threaded=True, max_docs='max')\n",
    "\n",
    "end = timeit.default_timer()\n",
    "print('scrape time:',end-start)\n",
    "print('time per url:', (end-start)/len(wq.results))"
   ]
  },
  {
   "cell_type": "code",
   "execution_count": 13,
   "metadata": {},
   "outputs": [
    {
     "name": "stdout",
     "output_type": "stream",
     "text": [
      "625\n"
     ]
    }
   ],
   "source": [
    "df = wq.get_results()\n",
    "print(len(df))"
   ]
  },
  {
   "cell_type": "code",
   "execution_count": 14,
   "metadata": {},
   "outputs": [],
   "source": [
    "#build corpus from web query results\n",
    "corpus=Corpus()\n",
    "#store the web query data frame in the corpus for referencing urls and titles\n",
    "corpus.set_results(df)\n",
    "#assign corpus documents as the web query documents\n",
    "corpus.set_corpus(wq.documents)"
   ]
  },
  {
   "cell_type": "code",
   "execution_count": 15,
   "metadata": {},
   "outputs": [
    {
     "name": "stdout",
     "output_type": "stream",
     "text": [
      "Vocabulary size:49838\n",
      "Number of documents:547\n"
     ]
    }
   ],
   "source": [
    "#pull in stop words and build corpus vocabulary \n",
    "stopwords=[]\n",
    "with open('util/stopwords.txt') as f:\n",
    "    stopwords.append(f.read().splitlines())\n",
    "stopwords=stopwords[0]\n",
    "\n",
    "corpus.build_vocabulary(stopwords)\n",
    "\n",
    "print(\"Vocabulary size:\" + str(len(corpus.vocabulary)))\n",
    "print(\"Number of documents:\" + str(len(corpus.documents)))"
   ]
  },
  {
   "cell_type": "code",
   "execution_count": 16,
   "metadata": {},
   "outputs": [],
   "source": [
    "bm25 = BM25(norm='l2', smooth_idf=True, stopwords=stopwords, sublinear_tf=True)\n",
    "bm25.fit(corpus.documents)"
   ]
  },
  {
   "cell_type": "code",
   "execution_count": 17,
   "metadata": {},
   "outputs": [
    {
     "name": "stdout",
     "output_type": "stream",
     "text": [
      "Prime query: Microsoft\n"
     ]
    }
   ],
   "source": [
    "corpus.build_queries(ticker=tick)\n",
    "print('Prime query:',corpus.prime_q)\n",
    "corpus.rank_docs(ranker=bm25)\n",
    "corpus.prune_docs()"
   ]
  },
  {
   "cell_type": "code",
   "execution_count": 18,
   "metadata": {},
   "outputs": [],
   "source": [
    "#bm25.score(corpus.ticker_sym, corpus.documents)"
   ]
  },
  {
   "cell_type": "code",
   "execution_count": 19,
   "metadata": {},
   "outputs": [
    {
     "name": "stderr",
     "output_type": "stream",
     "text": [
      "Token indices sequence length is longer than the specified maximum sequence length for this model (1157 > 512). Running this sequence through the model will result in indexing errors\n"
     ]
    },
    {
     "name": "stdout",
     "output_type": "stream",
     "text": [
      "Sub-docs: 4480\n",
      "Source count: 450\n",
      "24.68065989999991\n"
     ]
    }
   ],
   "source": [
    "start = timeit.default_timer()\n",
    "\n",
    "#create the sub_documents, wrapper to run multiple functions\n",
    "#passing in the tokenizer to save a little on class dependencies\n",
    "\n",
    "corpus.sub_divide(tokenizer=tokenizer, cutoff=2, method='sen')\n",
    "print('Sub-docs:',len(corpus.sub_list))\n",
    "print('Source count:', len(corpus.sub_docs))\n",
    "\n",
    "end = timeit.default_timer()\n",
    "print(end-start)"
   ]
  },
  {
   "cell_type": "code",
   "execution_count": 20,
   "metadata": {},
   "outputs": [],
   "source": [
    "corpus.rank_subdocs(ranker=bm25)"
   ]
  },
  {
   "cell_type": "code",
   "execution_count": 21,
   "metadata": {},
   "outputs": [],
   "source": [
    "corpus.prune_subdocs()"
   ]
  },
  {
   "cell_type": "code",
   "execution_count": 22,
   "metadata": {},
   "outputs": [
    {
     "name": "stdout",
     "output_type": "stream",
     "text": [
      "Number of sub_docs: 4480\n",
      "Number zero ranked: 3144\n",
      "percent of useless subdocs: 70.18 %\n"
     ]
    }
   ],
   "source": [
    "print(\"Number of sub_docs:\",len(corpus.sub_list))\n",
    "t = np.array(corpus.sub_list_scores)\n",
    "z=np.where(t==0.0)\n",
    "print(\"Number zero ranked:\", len(z[0]))\n",
    "print(\"percent of useless subdocs:\", round((len(z[0])/len(corpus.sub_list))*100,2),\"%\")"
   ]
  },
  {
   "cell_type": "code",
   "execution_count": 23,
   "metadata": {},
   "outputs": [
    {
     "name": "stdout",
     "output_type": "stream",
     "text": [
      "relevant sources: 431\n",
      "relevant sub_docs: 1336\n"
     ]
    }
   ],
   "source": [
    "corpus.make_relevant()\n",
    "print('relevant sources:',len(corpus.relevant_set))\n",
    "print('relevant sub_docs:',len(corpus.rel_list))"
   ]
  },
  {
   "cell_type": "code",
   "execution_count": 24,
   "metadata": {},
   "outputs": [],
   "source": [
    "corpus.rank_relevant(ranker=bm25)"
   ]
  },
  {
   "cell_type": "code",
   "execution_count": 25,
   "metadata": {},
   "outputs": [
    {
     "name": "stdout",
     "output_type": "stream",
     "text": [
      "relevant sources: 431\n",
      "relevant sub_docs: 1336\n"
     ]
    }
   ],
   "source": [
    "#corpus.prune_relevant()\n",
    "print('relevant sources:',len(corpus.relevant_set))\n",
    "print('relevant sub_docs:',len(corpus.rel_list))"
   ]
  },
  {
   "cell_type": "code",
   "execution_count": 26,
   "metadata": {},
   "outputs": [
    {
     "name": "stdout",
     "output_type": "stream",
     "text": [
      "431\n"
     ]
    }
   ],
   "source": [
    "relevant_set = corpus.relevant_set\n",
    "relevant_scores = corpus.relevant_scores\n",
    "print(len(relevant_set))"
   ]
  },
  {
   "cell_type": "code",
   "execution_count": 27,
   "metadata": {},
   "outputs": [
    {
     "data": {
      "application/vnd.jupyter.widget-view+json": {
       "model_id": "bbd01c1eaece47df89afe6e2cf707869",
       "version_major": 2,
       "version_minor": 0
      },
      "text/plain": [
       "IntProgress(value=0, max=1336)"
      ]
     },
     "metadata": {},
     "output_type": "display_data"
    },
    {
     "name": "stdout",
     "output_type": "stream",
     "text": [
      "350.3034679\n"
     ]
    }
   ],
   "source": [
    "#run the new relevant set through distilled-BERT and get sentiment classifications\n",
    "start = timeit.default_timer()\n",
    "\n",
    "sentiments = get_sentiments(relevant_set)\n",
    "\n",
    "end = timeit.default_timer()\n",
    "print(end-start)"
   ]
  },
  {
   "cell_type": "code",
   "execution_count": 28,
   "metadata": {},
   "outputs": [],
   "source": [
    "lens=[]\n",
    "for x in relevant_set.keys():\n",
    "    for y in range(0, len(relevant_set[x])):\n",
    "        lens.append(len(relevant_set[x][y]))"
   ]
  },
  {
   "cell_type": "code",
   "execution_count": 29,
   "metadata": {},
   "outputs": [],
   "source": [
    "avlen=np.mean(lens)"
   ]
  },
  {
   "cell_type": "code",
   "execution_count": 30,
   "metadata": {},
   "outputs": [],
   "source": [
    "len_weight={}\n",
    "for x in relevant_set.keys():\n",
    "    l=[]\n",
    "    for y in range(0, len(relevant_set[x])):\n",
    "        l.append(len(relevant_set[x][y])/avlen)\n",
    "    len_weight[x]=l"
   ]
  },
  {
   "cell_type": "code",
   "execution_count": 31,
   "metadata": {},
   "outputs": [],
   "source": [
    "adjusted_rel = {}\n",
    "for x in relevant_scores.keys():\n",
    "    l=[]\n",
    "    for y in range(0, len(relevant_scores[x])):\n",
    "        l.append(relevant_scores[x][y] * len_weight[x][y])\n",
    "    adjusted_rel[x]=l"
   ]
  },
  {
   "cell_type": "code",
   "execution_count": 32,
   "metadata": {},
   "outputs": [],
   "source": [
    "rel_scores={}\n",
    "adj_rel_scores={}\n",
    "\n",
    "for x in relevant_scores.keys():\n",
    "    rel_scores[x]=np.mean(relevant_scores[x])\n",
    "    adj_rel_scores[x]=np.mean(adjusted_rel[x])\n",
    "    "
   ]
  },
  {
   "cell_type": "code",
   "execution_count": 33,
   "metadata": {},
   "outputs": [],
   "source": [
    "sents={}\n",
    "for x in sentiments:\n",
    "    sents[x]=np.mean(sentiments[x])"
   ]
  },
  {
   "cell_type": "code",
   "execution_count": 34,
   "metadata": {},
   "outputs": [],
   "source": [
    "rw_scores=[]\n",
    "lrw_scores=[]\n",
    "for x in relevant_scores.keys():\n",
    "    for y in range(0, len(relevant_scores[x])):\n",
    "        rw_scores.append(relevant_scores[x][y] * sentiments[x][y])\n",
    "        lrw_scores.append(adjusted_rel[x][y] * sentiments[x][y])"
   ]
  },
  {
   "cell_type": "code",
   "execution_count": 35,
   "metadata": {},
   "outputs": [],
   "source": [
    "scores={}\n",
    "la_scores={}\n",
    "\n",
    "for x in relevant_scores.keys():\n",
    "    rws=0\n",
    "    lrws=0\n",
    "    for y in range(0, len(relevant_scores[x])):\n",
    "        rws += (relevant_scores[x][y] * sentiments[x][y])\n",
    "        lrws += (adjusted_rel[x][y] * sentiments[x][y])\n",
    "    scores[x]=rws\n",
    "    la_scores[x]=lrws"
   ]
  },
  {
   "cell_type": "code",
   "execution_count": 36,
   "metadata": {},
   "outputs": [
    {
     "name": "stdout",
     "output_type": "stream",
     "text": [
      "Average Relevance weighted Sentiment: 0.1842\n",
      "Average Length adjusted Relevance weighted sentiment: 0.2301\n"
     ]
    }
   ],
   "source": [
    "print(\"Average Relevance weighted Sentiment:\", np.mean(rw_scores).round(4))\n",
    "print(\"Average Length adjusted Relevance weighted sentiment:\", np.mean(lrw_scores).round(4))\n"
   ]
  },
  {
   "cell_type": "code",
   "execution_count": 37,
   "metadata": {},
   "outputs": [
    {
     "data": {
      "text/html": [
       "<div>\n",
       "<style scoped>\n",
       "    .dataframe tbody tr th:only-of-type {\n",
       "        vertical-align: middle;\n",
       "    }\n",
       "\n",
       "    .dataframe tbody tr th {\n",
       "        vertical-align: top;\n",
       "    }\n",
       "\n",
       "    .dataframe thead th {\n",
       "        text-align: right;\n",
       "    }\n",
       "</style>\n",
       "<table border=\"1\" class=\"dataframe\">\n",
       "  <thead>\n",
       "    <tr style=\"text-align: right;\">\n",
       "      <th></th>\n",
       "      <th>title</th>\n",
       "      <th>url</th>\n",
       "      <th>pub_date</th>\n",
       "    </tr>\n",
       "  </thead>\n",
       "  <tbody>\n",
       "    <tr>\n",
       "      <th>0</th>\n",
       "      <td>European UCaaS Market Growth Opportunities Rep...</td>\n",
       "      <td>https://www.businesswire.com/news/home/2021120...</td>\n",
       "      <td>2021-12-06T17:54:08Z</td>\n",
       "    </tr>\n",
       "    <tr>\n",
       "      <th>1</th>\n",
       "      <td>New Report Claims Apple Is In For A Bumper 202...</td>\n",
       "      <td>https://www.redmondpie.com/new-report-claims-a...</td>\n",
       "      <td>2021-12-06T17:52:33Z</td>\n",
       "    </tr>\n",
       "    <tr>\n",
       "      <th>2</th>\n",
       "      <td>Kremlin-Backed Hackers Still Stealing U.S. Dat...</td>\n",
       "      <td>https://www.newsweek.com/kremlin-backed-hacker...</td>\n",
       "      <td>2021-12-06T17:47:35Z</td>\n",
       "    </tr>\n",
       "    <tr>\n",
       "      <th>3</th>\n",
       "      <td>PlayStation could launch its own version of Xb...</td>\n",
       "      <td>https://www.independent.co.uk/life-style/gadge...</td>\n",
       "      <td>2021-12-06T17:45:46Z</td>\n",
       "    </tr>\n",
       "    <tr>\n",
       "      <th>4</th>\n",
       "      <td>The Worldwide Cloud Services Industry is Expec...</td>\n",
       "      <td>https://www.prnewswire.com/news-releases/the-w...</td>\n",
       "      <td>2021-12-06T17:45:00Z</td>\n",
       "    </tr>\n",
       "  </tbody>\n",
       "</table>\n",
       "</div>"
      ],
      "text/plain": [
       "                                               title  \\\n",
       "0  European UCaaS Market Growth Opportunities Rep...   \n",
       "1  New Report Claims Apple Is In For A Bumper 202...   \n",
       "2  Kremlin-Backed Hackers Still Stealing U.S. Dat...   \n",
       "3  PlayStation could launch its own version of Xb...   \n",
       "4  The Worldwide Cloud Services Industry is Expec...   \n",
       "\n",
       "                                                 url              pub_date  \n",
       "0  https://www.businesswire.com/news/home/2021120...  2021-12-06T17:54:08Z  \n",
       "1  https://www.redmondpie.com/new-report-claims-a...  2021-12-06T17:52:33Z  \n",
       "2  https://www.newsweek.com/kremlin-backed-hacker...  2021-12-06T17:47:35Z  \n",
       "3  https://www.independent.co.uk/life-style/gadge...  2021-12-06T17:45:46Z  \n",
       "4  https://www.prnewswire.com/news-releases/the-w...  2021-12-06T17:45:00Z  "
      ]
     },
     "execution_count": 37,
     "metadata": {},
     "output_type": "execute_result"
    }
   ],
   "source": [
    "df.head()"
   ]
  },
  {
   "cell_type": "code",
   "execution_count": 38,
   "metadata": {},
   "outputs": [],
   "source": [
    "#need weight adjusted score per source\n",
    "newdf = df\n",
    "newdf['scores'] = pd.Series(scores)\n",
    "newdf['sentiments'] = pd.Series(sents)\n",
    "newdf['relevance'] = pd.Series(rel_scores)"
   ]
  },
  {
   "cell_type": "code",
   "execution_count": 39,
   "metadata": {},
   "outputs": [
    {
     "data": {
      "text/html": [
       "<div>\n",
       "<style scoped>\n",
       "    .dataframe tbody tr th:only-of-type {\n",
       "        vertical-align: middle;\n",
       "    }\n",
       "\n",
       "    .dataframe tbody tr th {\n",
       "        vertical-align: top;\n",
       "    }\n",
       "\n",
       "    .dataframe thead th {\n",
       "        text-align: right;\n",
       "    }\n",
       "</style>\n",
       "<table border=\"1\" class=\"dataframe\">\n",
       "  <thead>\n",
       "    <tr style=\"text-align: right;\">\n",
       "      <th></th>\n",
       "      <th>title</th>\n",
       "      <th>url</th>\n",
       "      <th>pub_date</th>\n",
       "      <th>scores</th>\n",
       "      <th>sentiments</th>\n",
       "      <th>relevance</th>\n",
       "    </tr>\n",
       "  </thead>\n",
       "  <tbody>\n",
       "    <tr>\n",
       "      <th>0</th>\n",
       "      <td>European UCaaS Market Growth Opportunities Rep...</td>\n",
       "      <td>https://www.businesswire.com/news/home/2021120...</td>\n",
       "      <td>2021-12-06T17:54:08Z</td>\n",
       "      <td>-1.099412</td>\n",
       "      <td>-0.542592</td>\n",
       "      <td>0.452360</td>\n",
       "    </tr>\n",
       "    <tr>\n",
       "      <th>1</th>\n",
       "      <td>New Report Claims Apple Is In For A Bumper 202...</td>\n",
       "      <td>https://www.redmondpie.com/new-report-claims-a...</td>\n",
       "      <td>2021-12-06T17:52:33Z</td>\n",
       "      <td>0.337532</td>\n",
       "      <td>0.999912</td>\n",
       "      <td>0.337562</td>\n",
       "    </tr>\n",
       "    <tr>\n",
       "      <th>2</th>\n",
       "      <td>Kremlin-Backed Hackers Still Stealing U.S. Dat...</td>\n",
       "      <td>https://www.newsweek.com/kremlin-backed-hacker...</td>\n",
       "      <td>2021-12-06T17:47:35Z</td>\n",
       "      <td>NaN</td>\n",
       "      <td>NaN</td>\n",
       "      <td>NaN</td>\n",
       "    </tr>\n",
       "    <tr>\n",
       "      <th>3</th>\n",
       "      <td>PlayStation could launch its own version of Xb...</td>\n",
       "      <td>https://www.independent.co.uk/life-style/gadge...</td>\n",
       "      <td>2021-12-06T17:45:46Z</td>\n",
       "      <td>0.000000</td>\n",
       "      <td>0.999865</td>\n",
       "      <td>0.000000</td>\n",
       "    </tr>\n",
       "    <tr>\n",
       "      <th>4</th>\n",
       "      <td>The Worldwide Cloud Services Industry is Expec...</td>\n",
       "      <td>https://www.prnewswire.com/news-releases/the-w...</td>\n",
       "      <td>2021-12-06T17:45:00Z</td>\n",
       "      <td>0.222978</td>\n",
       "      <td>0.964981</td>\n",
       "      <td>0.231069</td>\n",
       "    </tr>\n",
       "    <tr>\n",
       "      <th>...</th>\n",
       "      <td>...</td>\n",
       "      <td>...</td>\n",
       "      <td>...</td>\n",
       "      <td>...</td>\n",
       "      <td>...</td>\n",
       "      <td>...</td>\n",
       "    </tr>\n",
       "    <tr>\n",
       "      <th>45</th>\n",
       "      <td>Axiom Investors LLC DE Has $310.23 Million Sta...</td>\n",
       "      <td>https://www.americanbankingnews.com/2021/10/13...</td>\n",
       "      <td>2021-10-13T08:04:41</td>\n",
       "      <td>0.000000</td>\n",
       "      <td>0.012755</td>\n",
       "      <td>0.000000</td>\n",
       "    </tr>\n",
       "    <tr>\n",
       "      <th>46</th>\n",
       "      <td>TRB Advisors LP Increases Stock Holdings in Mi...</td>\n",
       "      <td>https://theenterpriseleader.com/2021/10/12/trb...</td>\n",
       "      <td>2021-10-12T11:06:42</td>\n",
       "      <td>0.317742</td>\n",
       "      <td>0.329731</td>\n",
       "      <td>0.279079</td>\n",
       "    </tr>\n",
       "    <tr>\n",
       "      <th>47</th>\n",
       "      <td>Pinnacle Holdings LLC Sells 69 Shares of Micro...</td>\n",
       "      <td>https://www.tickerreport.com/banking-finance/7...</td>\n",
       "      <td>2021-10-12T09:10:41</td>\n",
       "      <td>0.438102</td>\n",
       "      <td>-0.016872</td>\n",
       "      <td>0.226751</td>\n",
       "    </tr>\n",
       "    <tr>\n",
       "      <th>48</th>\n",
       "      <td>Ensign Peak Advisors Inc Reduces Holdings in M...</td>\n",
       "      <td>https://www.tickerreport.com/banking-finance/7...</td>\n",
       "      <td>2021-10-12T09:10:41</td>\n",
       "      <td>-0.548814</td>\n",
       "      <td>-0.015381</td>\n",
       "      <td>0.274675</td>\n",
       "    </tr>\n",
       "    <tr>\n",
       "      <th>49</th>\n",
       "      <td>Liberty Wealth Management LLC Increases Stock ...</td>\n",
       "      <td>https://www.tickerreport.com/banking-finance/7...</td>\n",
       "      <td>2021-10-12T08:38:44</td>\n",
       "      <td>0.121129</td>\n",
       "      <td>0.518092</td>\n",
       "      <td>0.233799</td>\n",
       "    </tr>\n",
       "  </tbody>\n",
       "</table>\n",
       "<p>625 rows × 6 columns</p>\n",
       "</div>"
      ],
      "text/plain": [
       "                                                title  \\\n",
       "0   European UCaaS Market Growth Opportunities Rep...   \n",
       "1   New Report Claims Apple Is In For A Bumper 202...   \n",
       "2   Kremlin-Backed Hackers Still Stealing U.S. Dat...   \n",
       "3   PlayStation could launch its own version of Xb...   \n",
       "4   The Worldwide Cloud Services Industry is Expec...   \n",
       "..                                                ...   \n",
       "45  Axiom Investors LLC DE Has $310.23 Million Sta...   \n",
       "46  TRB Advisors LP Increases Stock Holdings in Mi...   \n",
       "47  Pinnacle Holdings LLC Sells 69 Shares of Micro...   \n",
       "48  Ensign Peak Advisors Inc Reduces Holdings in M...   \n",
       "49  Liberty Wealth Management LLC Increases Stock ...   \n",
       "\n",
       "                                                  url              pub_date  \\\n",
       "0   https://www.businesswire.com/news/home/2021120...  2021-12-06T17:54:08Z   \n",
       "1   https://www.redmondpie.com/new-report-claims-a...  2021-12-06T17:52:33Z   \n",
       "2   https://www.newsweek.com/kremlin-backed-hacker...  2021-12-06T17:47:35Z   \n",
       "3   https://www.independent.co.uk/life-style/gadge...  2021-12-06T17:45:46Z   \n",
       "4   https://www.prnewswire.com/news-releases/the-w...  2021-12-06T17:45:00Z   \n",
       "..                                                ...                   ...   \n",
       "45  https://www.americanbankingnews.com/2021/10/13...   2021-10-13T08:04:41   \n",
       "46  https://theenterpriseleader.com/2021/10/12/trb...   2021-10-12T11:06:42   \n",
       "47  https://www.tickerreport.com/banking-finance/7...   2021-10-12T09:10:41   \n",
       "48  https://www.tickerreport.com/banking-finance/7...   2021-10-12T09:10:41   \n",
       "49  https://www.tickerreport.com/banking-finance/7...   2021-10-12T08:38:44   \n",
       "\n",
       "      scores  sentiments  relevance  \n",
       "0  -1.099412   -0.542592   0.452360  \n",
       "1   0.337532    0.999912   0.337562  \n",
       "2        NaN         NaN        NaN  \n",
       "3   0.000000    0.999865   0.000000  \n",
       "4   0.222978    0.964981   0.231069  \n",
       "..       ...         ...        ...  \n",
       "45  0.000000    0.012755   0.000000  \n",
       "46  0.317742    0.329731   0.279079  \n",
       "47  0.438102   -0.016872   0.226751  \n",
       "48 -0.548814   -0.015381   0.274675  \n",
       "49  0.121129    0.518092   0.233799  \n",
       "\n",
       "[625 rows x 6 columns]"
      ]
     },
     "execution_count": 39,
     "metadata": {},
     "output_type": "execute_result"
    }
   ],
   "source": [
    "newdf"
   ]
  },
  {
   "cell_type": "code",
   "execution_count": 40,
   "metadata": {},
   "outputs": [],
   "source": [
    "newdf = newdf.dropna()"
   ]
  },
  {
   "cell_type": "code",
   "execution_count": 41,
   "metadata": {},
   "outputs": [
    {
     "data": {
      "text/html": [
       "<div>\n",
       "<style scoped>\n",
       "    .dataframe tbody tr th:only-of-type {\n",
       "        vertical-align: middle;\n",
       "    }\n",
       "\n",
       "    .dataframe tbody tr th {\n",
       "        vertical-align: top;\n",
       "    }\n",
       "\n",
       "    .dataframe thead th {\n",
       "        text-align: right;\n",
       "    }\n",
       "</style>\n",
       "<table border=\"1\" class=\"dataframe\">\n",
       "  <thead>\n",
       "    <tr style=\"text-align: right;\">\n",
       "      <th></th>\n",
       "      <th>title</th>\n",
       "      <th>url</th>\n",
       "      <th>pub_date</th>\n",
       "      <th>scores</th>\n",
       "      <th>sentiments</th>\n",
       "      <th>relevance</th>\n",
       "    </tr>\n",
       "  </thead>\n",
       "  <tbody>\n",
       "    <tr>\n",
       "      <th>0</th>\n",
       "      <td>European UCaaS Market Growth Opportunities Rep...</td>\n",
       "      <td>https://www.businesswire.com/news/home/2021120...</td>\n",
       "      <td>2021-12-06T17:54:08Z</td>\n",
       "      <td>-1.099412</td>\n",
       "      <td>-0.542592</td>\n",
       "      <td>0.452360</td>\n",
       "    </tr>\n",
       "    <tr>\n",
       "      <th>1</th>\n",
       "      <td>New Report Claims Apple Is In For A Bumper 202...</td>\n",
       "      <td>https://www.redmondpie.com/new-report-claims-a...</td>\n",
       "      <td>2021-12-06T17:52:33Z</td>\n",
       "      <td>0.337532</td>\n",
       "      <td>0.999912</td>\n",
       "      <td>0.337562</td>\n",
       "    </tr>\n",
       "    <tr>\n",
       "      <th>3</th>\n",
       "      <td>PlayStation could launch its own version of Xb...</td>\n",
       "      <td>https://www.independent.co.uk/life-style/gadge...</td>\n",
       "      <td>2021-12-06T17:45:46Z</td>\n",
       "      <td>0.000000</td>\n",
       "      <td>0.999865</td>\n",
       "      <td>0.000000</td>\n",
       "    </tr>\n",
       "    <tr>\n",
       "      <th>4</th>\n",
       "      <td>The Worldwide Cloud Services Industry is Expec...</td>\n",
       "      <td>https://www.prnewswire.com/news-releases/the-w...</td>\n",
       "      <td>2021-12-06T17:45:00Z</td>\n",
       "      <td>0.222978</td>\n",
       "      <td>0.964981</td>\n",
       "      <td>0.231069</td>\n",
       "    </tr>\n",
       "    <tr>\n",
       "      <th>5</th>\n",
       "      <td>Zoom Video Communications: Time To Zoom In</td>\n",
       "      <td>https://seekingalpha.com/article/4473639-zoom-...</td>\n",
       "      <td>2021-12-06T17:40:38Z</td>\n",
       "      <td>0.140195</td>\n",
       "      <td>0.999819</td>\n",
       "      <td>0.070109</td>\n",
       "    </tr>\n",
       "  </tbody>\n",
       "</table>\n",
       "</div>"
      ],
      "text/plain": [
       "                                               title  \\\n",
       "0  European UCaaS Market Growth Opportunities Rep...   \n",
       "1  New Report Claims Apple Is In For A Bumper 202...   \n",
       "3  PlayStation could launch its own version of Xb...   \n",
       "4  The Worldwide Cloud Services Industry is Expec...   \n",
       "5         Zoom Video Communications: Time To Zoom In   \n",
       "\n",
       "                                                 url              pub_date  \\\n",
       "0  https://www.businesswire.com/news/home/2021120...  2021-12-06T17:54:08Z   \n",
       "1  https://www.redmondpie.com/new-report-claims-a...  2021-12-06T17:52:33Z   \n",
       "3  https://www.independent.co.uk/life-style/gadge...  2021-12-06T17:45:46Z   \n",
       "4  https://www.prnewswire.com/news-releases/the-w...  2021-12-06T17:45:00Z   \n",
       "5  https://seekingalpha.com/article/4473639-zoom-...  2021-12-06T17:40:38Z   \n",
       "\n",
       "     scores  sentiments  relevance  \n",
       "0 -1.099412   -0.542592   0.452360  \n",
       "1  0.337532    0.999912   0.337562  \n",
       "3  0.000000    0.999865   0.000000  \n",
       "4  0.222978    0.964981   0.231069  \n",
       "5  0.140195    0.999819   0.070109  "
      ]
     },
     "execution_count": 41,
     "metadata": {},
     "output_type": "execute_result"
    }
   ],
   "source": [
    "newdf.head()"
   ]
  },
  {
   "cell_type": "code",
   "execution_count": 42,
   "metadata": {},
   "outputs": [
    {
     "name": "stderr",
     "output_type": "stream",
     "text": [
      "C:\\Users\\rahul\\Anaconda3\\lib\\site-packages\\pandas\\core\\indexing.py:1745: SettingWithCopyWarning: \n",
      "A value is trying to be set on a copy of a slice from a DataFrame.\n",
      "Try using .loc[row_indexer,col_indexer] = value instead\n",
      "\n",
      "See the caveats in the documentation: https://pandas.pydata.org/pandas-docs/stable/user_guide/indexing.html#returning-a-view-versus-a-copy\n",
      "  isetter(ilocs[0], value)\n"
     ]
    }
   ],
   "source": [
    "#pd.to_datetime(newdf['pub_date'], format='%Y-%m-%dT%H:%M:%S')\n",
    "newdf.loc[:,'pub_date'] = pd.to_datetime(newdf.loc[:,'pub_date'], infer_datetime_format=True, utc=True)\n",
    "newdf.loc[:,'pub_date'] = pd.to_datetime(newdf.loc[:,'pub_date'].dt.strftime('%Y/%m/%d'))\n"
   ]
  },
  {
   "cell_type": "code",
   "execution_count": 43,
   "metadata": {},
   "outputs": [
    {
     "data": {
      "text/html": [
       "<div>\n",
       "<style scoped>\n",
       "    .dataframe tbody tr th:only-of-type {\n",
       "        vertical-align: middle;\n",
       "    }\n",
       "\n",
       "    .dataframe tbody tr th {\n",
       "        vertical-align: top;\n",
       "    }\n",
       "\n",
       "    .dataframe thead th {\n",
       "        text-align: right;\n",
       "    }\n",
       "</style>\n",
       "<table border=\"1\" class=\"dataframe\">\n",
       "  <thead>\n",
       "    <tr style=\"text-align: right;\">\n",
       "      <th></th>\n",
       "      <th>title</th>\n",
       "      <th>url</th>\n",
       "      <th>pub_date</th>\n",
       "      <th>scores</th>\n",
       "      <th>sentiments</th>\n",
       "      <th>relevance</th>\n",
       "    </tr>\n",
       "  </thead>\n",
       "  <tbody>\n",
       "    <tr>\n",
       "      <th>0</th>\n",
       "      <td>European UCaaS Market Growth Opportunities Rep...</td>\n",
       "      <td>https://www.businesswire.com/news/home/2021120...</td>\n",
       "      <td>2021-12-06</td>\n",
       "      <td>-1.099412</td>\n",
       "      <td>-0.542592</td>\n",
       "      <td>0.452360</td>\n",
       "    </tr>\n",
       "    <tr>\n",
       "      <th>1</th>\n",
       "      <td>New Report Claims Apple Is In For A Bumper 202...</td>\n",
       "      <td>https://www.redmondpie.com/new-report-claims-a...</td>\n",
       "      <td>2021-12-06</td>\n",
       "      <td>0.337532</td>\n",
       "      <td>0.999912</td>\n",
       "      <td>0.337562</td>\n",
       "    </tr>\n",
       "    <tr>\n",
       "      <th>3</th>\n",
       "      <td>PlayStation could launch its own version of Xb...</td>\n",
       "      <td>https://www.independent.co.uk/life-style/gadge...</td>\n",
       "      <td>2021-12-06</td>\n",
       "      <td>0.000000</td>\n",
       "      <td>0.999865</td>\n",
       "      <td>0.000000</td>\n",
       "    </tr>\n",
       "    <tr>\n",
       "      <th>4</th>\n",
       "      <td>The Worldwide Cloud Services Industry is Expec...</td>\n",
       "      <td>https://www.prnewswire.com/news-releases/the-w...</td>\n",
       "      <td>2021-12-06</td>\n",
       "      <td>0.222978</td>\n",
       "      <td>0.964981</td>\n",
       "      <td>0.231069</td>\n",
       "    </tr>\n",
       "    <tr>\n",
       "      <th>5</th>\n",
       "      <td>Zoom Video Communications: Time To Zoom In</td>\n",
       "      <td>https://seekingalpha.com/article/4473639-zoom-...</td>\n",
       "      <td>2021-12-06</td>\n",
       "      <td>0.140195</td>\n",
       "      <td>0.999819</td>\n",
       "      <td>0.070109</td>\n",
       "    </tr>\n",
       "  </tbody>\n",
       "</table>\n",
       "</div>"
      ],
      "text/plain": [
       "                                               title  \\\n",
       "0  European UCaaS Market Growth Opportunities Rep...   \n",
       "1  New Report Claims Apple Is In For A Bumper 202...   \n",
       "3  PlayStation could launch its own version of Xb...   \n",
       "4  The Worldwide Cloud Services Industry is Expec...   \n",
       "5         Zoom Video Communications: Time To Zoom In   \n",
       "\n",
       "                                                 url   pub_date    scores  \\\n",
       "0  https://www.businesswire.com/news/home/2021120... 2021-12-06 -1.099412   \n",
       "1  https://www.redmondpie.com/new-report-claims-a... 2021-12-06  0.337532   \n",
       "3  https://www.independent.co.uk/life-style/gadge... 2021-12-06  0.000000   \n",
       "4  https://www.prnewswire.com/news-releases/the-w... 2021-12-06  0.222978   \n",
       "5  https://seekingalpha.com/article/4473639-zoom-... 2021-12-06  0.140195   \n",
       "\n",
       "   sentiments  relevance  \n",
       "0   -0.542592   0.452360  \n",
       "1    0.999912   0.337562  \n",
       "3    0.999865   0.000000  \n",
       "4    0.964981   0.231069  \n",
       "5    0.999819   0.070109  "
      ]
     },
     "execution_count": 43,
     "metadata": {},
     "output_type": "execute_result"
    }
   ],
   "source": [
    "newdf.head()"
   ]
  },
  {
   "cell_type": "code",
   "execution_count": 44,
   "metadata": {},
   "outputs": [
    {
     "data": {
      "text/html": [
       "<div>\n",
       "<style scoped>\n",
       "    .dataframe tbody tr th:only-of-type {\n",
       "        vertical-align: middle;\n",
       "    }\n",
       "\n",
       "    .dataframe tbody tr th {\n",
       "        vertical-align: top;\n",
       "    }\n",
       "\n",
       "    .dataframe thead th {\n",
       "        text-align: right;\n",
       "    }\n",
       "</style>\n",
       "<table border=\"1\" class=\"dataframe\">\n",
       "  <thead>\n",
       "    <tr style=\"text-align: right;\">\n",
       "      <th></th>\n",
       "      <th>pub_date</th>\n",
       "      <th>sentiments</th>\n",
       "      <th>relevance</th>\n",
       "      <th>scores</th>\n",
       "    </tr>\n",
       "  </thead>\n",
       "  <tbody>\n",
       "    <tr>\n",
       "      <th>0</th>\n",
       "      <td>2021-12-06</td>\n",
       "      <td>-0.542592</td>\n",
       "      <td>0.452360</td>\n",
       "      <td>-1.099412</td>\n",
       "    </tr>\n",
       "    <tr>\n",
       "      <th>1</th>\n",
       "      <td>2021-12-06</td>\n",
       "      <td>0.999912</td>\n",
       "      <td>0.337562</td>\n",
       "      <td>0.337532</td>\n",
       "    </tr>\n",
       "    <tr>\n",
       "      <th>3</th>\n",
       "      <td>2021-12-06</td>\n",
       "      <td>0.999865</td>\n",
       "      <td>0.000000</td>\n",
       "      <td>0.000000</td>\n",
       "    </tr>\n",
       "    <tr>\n",
       "      <th>4</th>\n",
       "      <td>2021-12-06</td>\n",
       "      <td>0.964981</td>\n",
       "      <td>0.231069</td>\n",
       "      <td>0.222978</td>\n",
       "    </tr>\n",
       "    <tr>\n",
       "      <th>5</th>\n",
       "      <td>2021-12-06</td>\n",
       "      <td>0.999819</td>\n",
       "      <td>0.070109</td>\n",
       "      <td>0.140195</td>\n",
       "    </tr>\n",
       "  </tbody>\n",
       "</table>\n",
       "</div>"
      ],
      "text/plain": [
       "    pub_date  sentiments  relevance    scores\n",
       "0 2021-12-06   -0.542592   0.452360 -1.099412\n",
       "1 2021-12-06    0.999912   0.337562  0.337532\n",
       "3 2021-12-06    0.999865   0.000000  0.000000\n",
       "4 2021-12-06    0.964981   0.231069  0.222978\n",
       "5 2021-12-06    0.999819   0.070109  0.140195"
      ]
     },
     "execution_count": 44,
     "metadata": {},
     "output_type": "execute_result"
    }
   ],
   "source": [
    "plotdf = newdf[['pub_date','sentiments','relevance','scores']]\n",
    "plotdf.head()"
   ]
  },
  {
   "cell_type": "code",
   "execution_count": 45,
   "metadata": {},
   "outputs": [
    {
     "name": "stdout",
     "output_type": "stream",
     "text": [
      "2021-09-01 00:00:00\n",
      "2021-12-06 00:00:00\n"
     ]
    }
   ],
   "source": [
    "print(np.min(plotdf['pub_date']))\n",
    "print(np.max(plotdf['pub_date']))"
   ]
  },
  {
   "cell_type": "code",
   "execution_count": 46,
   "metadata": {},
   "outputs": [],
   "source": [
    "pt_sn = plotdf.groupby(plotdf['pub_date'])['sentiments'].mean()\n",
    "pt_rl = plotdf.groupby(plotdf['pub_date'])['relevance'].mean()\n",
    "pt_sc = plotdf.groupby(plotdf['pub_date'])['scores'].mean()\n",
    "pt_dt = pd.DataFrame()\n",
    "pt_dt = plotdf['sentiments'].groupby(plotdf['pub_date']).count()"
   ]
  },
  {
   "cell_type": "code",
   "execution_count": 47,
   "metadata": {},
   "outputs": [],
   "source": [
    "pt_sn = pt_sn.to_frame()\n",
    "pt_rl = pt_rl.to_frame()\n",
    "pt_sc = pt_sc.to_frame()\n",
    "pt_dt = pt_dt.to_frame().rename(columns={\"sentiments\":\"Volume\"})"
   ]
  },
  {
   "cell_type": "code",
   "execution_count": 48,
   "metadata": {
    "scrolled": true
   },
   "outputs": [],
   "source": [
    "dff = pd.concat([pt_rl, pt_sn, pt_sc, pt_dt], axis=1)\n"
   ]
  },
  {
   "cell_type": "code",
   "execution_count": 49,
   "metadata": {},
   "outputs": [],
   "source": [
    "dff = dff.reset_index()\n",
    "dff = dff.drop([0,1])\n",
    "dff = dff.set_index('pub_date')\n"
   ]
  },
  {
   "cell_type": "code",
   "execution_count": 50,
   "metadata": {},
   "outputs": [],
   "source": [
    "drange='1mo'\n",
    "interval='1d'\n",
    "\n",
    "yheaders = {'x-api-key':cfig.yahoo}\n",
    "url = ('https://yfapi.net/v8/finance/spark?'\n",
    "        'interval='+interval+\n",
    "        '&range='+drange+\n",
    "        '&symbols='+tick.ticker)\n",
    "\n",
    "response = requests.request(\"GET\",url,headers=yheaders)\n",
    "if response.status_code==200:\n",
    "        response = response.json()\n",
    "\n"
   ]
  },
  {
   "cell_type": "code",
   "execution_count": 51,
   "metadata": {},
   "outputs": [],
   "source": [
    "date = response[tick.ticker]['timestamp']\n",
    "price = response[tick.ticker]['close']\n",
    "df2 = pd.DataFrame()\n",
    "df2['date']=date\n",
    "df2.loc[:,'date'] = pd.to_datetime(df2.loc[:,'date'], unit='s')\n",
    "df2.loc[:,'date'] = pd.to_datetime(df2.loc[:,'date'].dt.strftime('%Y/%m/%d'))\n",
    "df2['price']=price\n",
    "df2 = df2.set_index('date')\n"
   ]
  },
  {
   "cell_type": "code",
   "execution_count": 52,
   "metadata": {},
   "outputs": [
    {
     "data": {
      "text/html": [
       "<div>\n",
       "<style scoped>\n",
       "    .dataframe tbody tr th:only-of-type {\n",
       "        vertical-align: middle;\n",
       "    }\n",
       "\n",
       "    .dataframe tbody tr th {\n",
       "        vertical-align: top;\n",
       "    }\n",
       "\n",
       "    .dataframe thead th {\n",
       "        text-align: right;\n",
       "    }\n",
       "</style>\n",
       "<table border=\"1\" class=\"dataframe\">\n",
       "  <thead>\n",
       "    <tr style=\"text-align: right;\">\n",
       "      <th></th>\n",
       "      <th>relevance</th>\n",
       "      <th>sentiments</th>\n",
       "      <th>scores</th>\n",
       "    </tr>\n",
       "    <tr>\n",
       "      <th>pub_date</th>\n",
       "      <th></th>\n",
       "      <th></th>\n",
       "      <th></th>\n",
       "    </tr>\n",
       "  </thead>\n",
       "  <tbody>\n",
       "    <tr>\n",
       "      <th>2021-09-07</th>\n",
       "      <td>0.088146</td>\n",
       "      <td>-0.007058</td>\n",
       "      <td>-0.087626</td>\n",
       "    </tr>\n",
       "    <tr>\n",
       "      <th>2021-09-08</th>\n",
       "      <td>0.141232</td>\n",
       "      <td>0.999199</td>\n",
       "      <td>0.141205</td>\n",
       "    </tr>\n",
       "    <tr>\n",
       "      <th>2021-09-09</th>\n",
       "      <td>0.549150</td>\n",
       "      <td>0.604001</td>\n",
       "      <td>0.871174</td>\n",
       "    </tr>\n",
       "    <tr>\n",
       "      <th>2021-09-13</th>\n",
       "      <td>0.470764</td>\n",
       "      <td>0.491024</td>\n",
       "      <td>0.199041</td>\n",
       "    </tr>\n",
       "    <tr>\n",
       "      <th>2021-09-14</th>\n",
       "      <td>0.169245</td>\n",
       "      <td>0.971007</td>\n",
       "      <td>0.675990</td>\n",
       "    </tr>\n",
       "  </tbody>\n",
       "</table>\n",
       "</div>"
      ],
      "text/plain": [
       "            relevance  sentiments    scores\n",
       "pub_date                                   \n",
       "2021-09-07   0.088146   -0.007058 -0.087626\n",
       "2021-09-08   0.141232    0.999199  0.141205\n",
       "2021-09-09   0.549150    0.604001  0.871174\n",
       "2021-09-13   0.470764    0.491024  0.199041\n",
       "2021-09-14   0.169245    0.971007  0.675990"
      ]
     },
     "execution_count": 52,
     "metadata": {},
     "output_type": "execute_result"
    }
   ],
   "source": [
    "tmp = dff[dff.columns[0:3]]\n",
    "tmp.head()"
   ]
  },
  {
   "cell_type": "code",
   "execution_count": 53,
   "metadata": {},
   "outputs": [
    {
     "data": {
      "text/plain": [
       "<AxesSubplot:xlabel='pub_date'>"
      ]
     },
     "execution_count": 53,
     "metadata": {},
     "output_type": "execute_result"
    },
    {
     "data": {
      "image/png": "[encoded data removed]",
      "text/plain": [
       "<Figure size 1440x1440 with 3 Axes>"
      ]
     },
     "metadata": {
      "needs_background": "light"
     },
     "output_type": "display_data"
    }
   ],
   "source": [
    "import matplotlib.pyplot as plt\n",
    "fig, axes = plt.subplots(nrows=3)\n",
    "\n",
    "dff.plot(ax=axes[0], figsize=(20,20))\n",
    "df2.plot(ax=axes[1], figsize=(20,20))\n",
    "tmp.plot(ax=axes[2], figsize=(20,20))"
   ]
  },
  {
   "cell_type": "code",
   "execution_count": 54,
   "metadata": {},
   "outputs": [],
   "source": [
    "drange='6mo'\n",
    "interval='1d'\n",
    "\n",
    "\n",
    "url=('https://yfapi.net/v8/finance/chart/'+tick.ticker+\"?\"+\n",
    "    'comparisons='+tick.ticker+\n",
    "    '&range='+drange+\n",
    "    '&region=US'\n",
    "    '&interval='+interval+\n",
    "    '&lang=en')\n",
    "response = requests.request(\"GET\",url,headers=yheaders)\n",
    "if response.status_code==200:\n",
    "        response = response.json()            "
   ]
  },
  {
   "cell_type": "code",
   "execution_count": 55,
   "metadata": {},
   "outputs": [],
   "source": [
    "date = response['chart']['result'][0]['timestamp']\n",
    "volume = response['chart']['result'][0]['indicators']['quote'][0]['volume']\n",
    "high = response['chart']['result'][0]['indicators']['quote'][0]['high']\n",
    "low = response['chart']['result'][0]['indicators']['quote'][0]['low']\n",
    "opn = response['chart']['result'][0]['indicators']['quote'][0]['open']\n",
    "cls = response['chart']['result'][0]['indicators']['quote'][0]['close']"
   ]
  },
  {
   "cell_type": "code",
   "execution_count": 56,
   "metadata": {},
   "outputs": [],
   "source": [
    "df3 = pd.DataFrame()\n",
    "df3['date']=date\n",
    "df3['high']=high\n",
    "df3['low']=low\n",
    "df3['open']=opn\n",
    "df3['close']=cls\n",
    "df3['volume']=volume\n",
    "df3.loc[:,'date'] = pd.to_datetime(df3.loc[:,'date'], unit='s')\n",
    "df3.loc[:,'date'] = pd.to_datetime(df3.loc[:,'date'].dt.strftime('%Y/%m/%d'))"
   ]
  },
  {
   "cell_type": "code",
   "execution_count": 57,
   "metadata": {},
   "outputs": [],
   "source": [
    "dff=dff.reset_index()"
   ]
  },
  {
   "cell_type": "code",
   "execution_count": 128,
   "metadata": {},
   "outputs": [
    {
     "name": "stdout",
     "output_type": "stream",
     "text": [
      "Dash is running on http://127.0.0.1:8050/\n",
      "\n",
      "Dash is running on http://127.0.0.1:8050/\n",
      "\n",
      "Dash is running on http://127.0.0.1:8050/\n",
      "\n",
      "Dash is running on http://127.0.0.1:8050/\n",
      "\n",
      "Dash is running on http://127.0.0.1:8050/\n",
      "\n",
      "Dash is running on http://127.0.0.1:8050/\n",
      "\n",
      "Dash is running on http://127.0.0.1:8050/\n",
      "\n",
      "Dash is running on http://127.0.0.1:8050/\n",
      "\n",
      "Dash is running on http://127.0.0.1:8050/\n",
      "\n",
      "Dash is running on http://127.0.0.1:8050/\n",
      "\n",
      "Dash is running on http://127.0.0.1:8050/\n",
      "\n",
      " * Serving Flask app '__main__' (lazy loading)\n",
      " * Environment: production\n",
      "\u001b[31m   WARNING: This is a development server. Do not use it in a production deployment.\u001b[0m\n",
      "\u001b[2m   Use a production WSGI server instead.\u001b[0m\n",
      " * Debug mode: off\n"
     ]
    },
    {
     "name": "stderr",
     "output_type": "stream",
     "text": [
      " * Running on http://127.0.0.1:8050/ (Press CTRL+C to quit)\n",
      "127.0.0.1 - - [06/Dec/2021 18:14:17] \"GET / HTTP/1.1\" 200 -\n",
      "127.0.0.1 - - [06/Dec/2021 18:14:18] \"GET /_dash-layout HTTP/1.1\" 200 -\n",
      "127.0.0.1 - - [06/Dec/2021 18:14:18] \"GET /_dash-dependencies HTTP/1.1\" 200 -\n",
      "127.0.0.1 - - [06/Dec/2021 18:14:18] \"GET /_favicon.ico?v=2.0.0 HTTP/1.1\" 200 -\n",
      "127.0.0.1 - - [06/Dec/2021 18:14:18] \"GET /_dash-component-suites/dash/dcc/async-plotlyjs.js HTTP/1.1\" 200 -\n",
      "127.0.0.1 - - [06/Dec/2021 18:14:18] \"GET /_dash-component-suites/dash/dcc/async-graph.js HTTP/1.1\" 200 -\n"
     ]
    }
   ],
   "source": [
    "app = dash.Dash()\n",
    "\n",
    "def make_stock_chart():\n",
    "    fig = make_subplots(rows=3, cols=1, shared_xaxes=True,vertical_spacing=0.02, subplot_titles=(tick.ticker,'Sentiment_Score', 'Used News Volume'), \n",
    "               row_width=[0.4, 0.4, 1.5], specs=[[{\"secondary_y\": True}],[{\"secondary_y\": True}],[{\"secondary_y\": True}]])\n",
    "    fig.add_trace(go.Candlestick(x=df3['date'],\n",
    "                open=df3['open'], high=df3['high'],\n",
    "                low=df3['low'], close=df3['close'], name=\"Price\"),\n",
    "               secondary_y=True, row=1,col=1)\n",
    "\n",
    "    fig.add_trace(go.Bar(x=df3['date'], y=df3['volume'],opacity=0.2, name='Volume'),secondary_y=False)\n",
    "    fig.add_trace(go.Line(x=dff['pub_date'], y=dff['scores'], showlegend=False), row=2, col=1)\n",
    "    fig.add_trace(go.Bar(x=dff['pub_date'],y=dff['Volume'],opacity=0.2, name='Used News Volume'),row=3, col=1)\n",
    "    fig.update_layout(xaxis_rangeslider_visible=False, width=1000, height=750)\n",
    "    fig.layout.yaxis2.showgrid=False\n",
    "    return fig\n",
    "\n",
    "app.layout = html.Div(id = 'parent', children = [\n",
    "    html.H1(id = 'H1', children = 'Financial News Sentiment Analysis of ' + tick.ticker, style = {'textAlign':'center',\\\n",
    "                                            'marginTop':40,'marginBottom':40}),\n",
    "\n",
    "        \n",
    "        dcc.Graph(id = 'line_plot', figure = make_stock_chart())    \n",
    "    ])\n",
    "\n",
    "app.run_server()"
   ]
  },
  {
   "cell_type": "code",
   "execution_count": null,
   "metadata": {
    "scrolled": true
   },
   "outputs": [],
   "source": [
    "fullstop = timeit.default_timer()\n"
   ]
  },
  {
   "cell_type": "code",
   "execution_count": null,
   "metadata": {},
   "outputs": [],
   "source": [
    "print('Tiny Report')\n",
    "print('Full compile, sub-divide, analyze and graph time:', round((fullstop-fullstart)/60,2), \"minutes\")\n",
    "print('Urls scraped:', len(corpus.documents))\n",
    "print('Relevant Subdocs created:', len(corpus.rel_list))"
   ]
  },
  {
   "cell_type": "code",
   "execution_count": null,
   "metadata": {},
   "outputs": [],
   "source": []
  }
 ],
 "metadata": {
  "kernelspec": {
   "display_name": "Python 3",
   "language": "python",
   "name": "python3"
  },
  "language_info": {
   "codemirror_mode": {
    "name": "ipython",
    "version": 3
   },
   "file_extension": ".py",
   "mimetype": "text/x-python",
   "name": "python",
   "nbconvert_exporter": "python",
   "pygments_lexer": "ipython3",
   "version": "3.8.5"
  }
 },
 "nbformat": 4,
 "nbformat_minor": 4
}
