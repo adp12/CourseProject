{
 "cells": [
  {
   "cell_type": "code",
   "execution_count": 84,
   "metadata": {},
   "outputs": [],
   "source": [
    "import requests\n",
    "import datetime\n",
    "from transformers import pipeline\n",
    "from bs4 import BeautifulSoup\n",
    "from config import config\n",
    "from pyBM25 import BM25\n",
    "from sklearn.feature_extraction.text import TfidfVectorizer\n",
    "from sklearn.feature_extraction.text import CountVectorizer\n",
    "import re"
   ]
  },
  {
   "cell_type": "code",
   "execution_count": 2,
   "metadata": {},
   "outputs": [],
   "source": [
    "cfig = config()\n",
    "polykey = cfig.polygon"
   ]
  },
  {
   "cell_type": "code",
   "execution_count": 83,
   "metadata": {},
   "outputs": [],
   "source": [
    "stopwords=[]\n",
    "with open('stopwords.txt') as f:\n",
    "    stopwords.append(f.read().splitlines())"
   ]
  },
  {
   "cell_type": "code",
   "execution_count": 7,
   "metadata": {
    "collapsed": true
   },
   "outputs": [
    {
     "ename": "NameError",
     "evalue": "name 'stop_words' is not defined",
     "output_type": "error",
     "traceback": [
      "\u001b[1;31m---------------------------------------------------------------------------\u001b[0m",
      "\u001b[1;31mNameError\u001b[0m                                 Traceback (most recent call last)",
      "\u001b[1;32m<ipython-input-7-2b2bb2498084>\u001b[0m in \u001b[0;36m<module>\u001b[1;34m\u001b[0m\n\u001b[1;32m----> 1\u001b[1;33m \u001b[0mbm25\u001b[0m \u001b[1;33m=\u001b[0m \u001b[0mBM25\u001b[0m\u001b[1;33m(\u001b[0m\u001b[0mstopwords\u001b[0m\u001b[1;33m=\u001b[0m\u001b[0mstop_words\u001b[0m\u001b[1;33m)\u001b[0m\u001b[1;33m\u001b[0m\u001b[1;33m\u001b[0m\u001b[0m\n\u001b[0m",
      "\u001b[1;31mNameError\u001b[0m: name 'stop_words' is not defined"
     ]
    }
   ],
   "source": [
    "bm25 = BM25(stopwords=stop_words)"
   ]
  },
  {
   "cell_type": "code",
   "execution_count": 146,
   "metadata": {},
   "outputs": [],
   "source": [
    "ticker = \"CMG\"\n",
    "published = \"11/01/2021\"\n",
    "r_lim = \"100\""
   ]
  },
  {
   "cell_type": "code",
   "execution_count": 147,
   "metadata": {},
   "outputs": [],
   "source": [
    "#Polygon ticker information request\n",
    "url = ('https://api.polygon.io/v1/meta/symbols/'\n",
    "      +ticker+'/'\n",
    "      +'company?'\n",
    "      'apikey='+polykey\n",
    "      )"
   ]
  },
  {
   "cell_type": "code",
   "execution_count": 148,
   "metadata": {},
   "outputs": [],
   "source": [
    "response = requests.get(url)\n",
    "if response.status_code==200:\n",
    "    response = response.json()\n",
    "else:\n",
    "    print(response.status_code)"
   ]
  },
  {
   "cell_type": "code",
   "execution_count": 149,
   "metadata": {
    "scrolled": true
   },
   "outputs": [
    {
     "name": "stdout",
     "output_type": "stream",
     "text": [
      "logo\n",
      "listdate\n",
      "cik\n",
      "bloomberg\n",
      "figi\n",
      "lei\n",
      "sic\n",
      "country\n",
      "industry\n",
      "sector\n",
      "marketcap\n",
      "employees\n",
      "phone\n",
      "ceo\n",
      "url\n",
      "description\n",
      "exchange\n",
      "name\n",
      "symbol\n",
      "exchangeSymbol\n",
      "hq_address\n",
      "hq_state\n",
      "hq_country\n",
      "type\n",
      "updated\n",
      "tags\n",
      "similar\n",
      "active\n"
     ]
    }
   ],
   "source": [
    "#Show available items\n",
    "for k,v in response.items():\n",
    "    print(k)"
   ]
  },
  {
   "cell_type": "code",
   "execution_count": 150,
   "metadata": {},
   "outputs": [
    {
     "name": "stdout",
     "output_type": "stream",
     "text": [
      "usa\n"
     ]
    }
   ],
   "source": [
    "print(response['country'])"
   ]
  },
  {
   "cell_type": "code",
   "execution_count": 151,
   "metadata": {},
   "outputs": [
    {
     "name": "stdout",
     "output_type": "stream",
     "text": [
      "['Consumer Cyclical', 'Restaurants']\n"
     ]
    }
   ],
   "source": [
    "print(response['tags'])"
   ]
  },
  {
   "cell_type": "code",
   "execution_count": 152,
   "metadata": {},
   "outputs": [
    {
     "name": "stdout",
     "output_type": "stream",
     "text": [
      "['PZZA', 'JACK', 'DENN', 'BJRI', 'MCD', 'YUM', 'DPZ', 'FRGI']\n"
     ]
    }
   ],
   "source": [
    "print(response['similar'])"
   ]
  },
  {
   "cell_type": "code",
   "execution_count": 153,
   "metadata": {},
   "outputs": [],
   "source": [
    "#Polygon news request for ticker\n",
    "url = ('https://api.polygon.io/v2/reference/news?'\n",
    "      'ticker='+ticker+'&'\n",
    "      'published_utc/gte='+published+'&'\n",
    "      'limit='+r_lim+'&'\n",
    "      'sort=published_utc&'\n",
    "      'apikey='+polykey\n",
    "      )"
   ]
  },
  {
   "cell_type": "code",
   "execution_count": 154,
   "metadata": {},
   "outputs": [],
   "source": [
    "response = requests.get(url)\n",
    "if response.status_code==200:\n",
    "    response = response.json()\n",
    "else:\n",
    "    print(response.status_code)"
   ]
  },
  {
   "cell_type": "code",
   "execution_count": 155,
   "metadata": {},
   "outputs": [
    {
     "name": "stdout",
     "output_type": "stream",
     "text": [
      "{'id': 'LzRZxvltYXnR-MLwDAegdL7yDZ9zHzKy_cR1kzlKPYI', 'publisher': {'name': 'The Motley Fool', 'homepage_url': 'https://www.fool.com/', 'logo_url': 'https://s3.polygon.io/public/assets/news/logos/themotleyfool.svg', 'favicon_url': 'https://s3.polygon.io/public/assets/news/favicons/themotleyfool.ico'}, 'title': \"Here's a Chart Every McDonald's Investor Should See\", 'author': 'newsfeedback@fool.com (Demitri Kalogeropoulos)', 'published_utc': '2021-11-12T15:11:00Z', 'article_url': 'https://www.fool.com/investing/2021/11/12/heres-a-chart-every-mcdonalds-investor-should-see/', 'tickers': ['MCD', 'YUM', 'CMG', 'DPZ', 'QSR'], 'amp_url': 'https://www.fool.com/amp/investing/2021/11/12/heres-a-chart-every-mcdonalds-investor-should-see/', 'image_url': 'https://g.foolcdn.com/editorial/images/650334/fast-food-to-go.jpg', 'description': 'The fast-food titan leads the industry with more than just its global reach.', 'keywords': ['investing']}\n"
     ]
    }
   ],
   "source": [
    "print(response['results'][0])"
   ]
  },
  {
   "cell_type": "code",
   "execution_count": 156,
   "metadata": {
    "scrolled": true
   },
   "outputs": [
    {
     "name": "stdout",
     "output_type": "stream",
     "text": [
      "id\n",
      "publisher\n",
      "title\n",
      "author\n",
      "published_utc\n",
      "article_url\n",
      "tickers\n",
      "amp_url\n",
      "image_url\n",
      "description\n",
      "keywords\n"
     ]
    }
   ],
   "source": [
    "for i in response['results'][0]:\n",
    "    print(i)"
   ]
  },
  {
   "cell_type": "code",
   "execution_count": 157,
   "metadata": {},
   "outputs": [
    {
     "name": "stdout",
     "output_type": "stream",
     "text": [
      "['investing']\n"
     ]
    }
   ],
   "source": [
    "print(response['results'][0]['keywords'])"
   ]
  },
  {
   "cell_type": "code",
   "execution_count": 158,
   "metadata": {},
   "outputs": [
    {
     "name": "stdout",
     "output_type": "stream",
     "text": [
      "2021-11-12T15:11:00Z\n"
     ]
    }
   ],
   "source": [
    "print(response['results'][0]['published_utc'])"
   ]
  },
  {
   "cell_type": "code",
   "execution_count": 159,
   "metadata": {},
   "outputs": [
    {
     "name": "stdout",
     "output_type": "stream",
     "text": [
      "The fast-food titan leads the industry with more than just its global reach.\n"
     ]
    }
   ],
   "source": [
    "print(response['results'][0]['description'])"
   ]
  },
  {
   "cell_type": "code",
   "execution_count": 160,
   "metadata": {},
   "outputs": [
    {
     "name": "stdout",
     "output_type": "stream",
     "text": [
      "https://www.fool.com/investing/2021/11/12/heres-a-chart-every-mcdonalds-investor-should-see/\n",
      "https://www.fool.com/investing/2021/11/09/3-stocks-that-made-a-big-comeback/\n",
      "https://www.fool.com/investing/2021/11/09/3--things-to-know-before-buying-chipotle-stock/\n",
      "https://seekingalpha.com/article/4467272-wall-street-breakfast-general-electric-is-splitting-up-podcast-by-pimm-fox\n",
      "https://www.fool.com/investing/2021/11/09/1-number-you-missed-from-chipotle-q3-earnings/\n",
      "https://www.fool.com/investing/2021/11/09/1-tasty-reason-for-chipotles-success/\n",
      "https://seekingalpha.com/article/4467248-wall-street-breakfast-winning-workers\n",
      "https://www.fool.com/investing/2021/11/06/my-3-favorite-stocks-right-now/\n",
      "https://www.marketwatch.com/story/a-jog-down-memory-lane-shows-the-factor-that-mattered-most-to-driving-stocks-and-it-sure-wasnt-interest-rates-11636109264\n",
      "https://www.zacks.com/commentary/1823259/bear-of-the-day-yum-china-yumc\n",
      "https://www.marketwatch.com/story/roblox-sheds-more-than-1-billion-in-market-cap-after-outage-that-could-have-cost-millions-11635792411\n",
      "https://www.benzinga.com/news/21/10/23778870/roblox-outage-lasts-all-weekend-and-its-not-chipotles-fault-what-investors-should-know\n",
      "https://www.marketwatch.com/story/its-like-being-ripped-into-two-chipotle-workers-overwhelmed-by-online-orders-and-furious-customers-11635422149\n",
      "https://www.marketwatch.com/story/weekend-reads-facebook-goes-meta-whats-in-a-name-11635523462\n",
      "https://www.fool.com/investing/2021/10/29/the-jobs-report-and-other-stock-market-news/\n",
      "https://www.investing.com/analysis/starbucks-stumbled-hard-200606818\n",
      "https://www.zacks.com/stock/news/1819640/is-invesco-sp-500-equal-weight-consumer-discretionary-etf-rcd-a-strong-etf-right-now\n",
      "https://www.fool.com/investing/2021/10/28/news-from-tesla-chipotle-netflix-and-more/\n",
      "https://www.zacks.com/stock/news/1818994/zacks-market-edge-highlights-amazon-chipotle-lululemon-voo-and-qqq\n",
      "https://www.fool.com/investing/2021/10/28/3-stocks-that-could-struggle-amidst-the-global-lab/\n",
      "https://www.fool.com/investing/2021/10/28/3-stocks-that-can-thrive-in-periods-of-high-inflat/\n",
      "https://www.zacks.com/stock/news/1818072/can-you-get-rich-off-basic-stock-index-etfs\n",
      "https://www.fool.com/investing/2021/10/27/why-chipotles-most-important-number-could-be-6000/\n",
      "https://www.fool.com/investing/2021/10/26/chipotle-is-a-forever-stock-q3-earnings-show-why/\n",
      "https://www.fool.com/investing/2021/10/25/is-nerdwallet-worth-5-billion/\n",
      "https://www.marketwatch.com/story/companies-are-upping-their-food-game-to-lure-back-skittish-employees-11635183416\n",
      "https://www.fool.com/investing/2021/10/25/should-you-buy-the-dip-in-chipotle-stock/\n",
      "https://www.investing.com/analysis/sp-500-futures-slightly-higher-as-benchmark-index-builds-on-7day-win-streak-200606001\n",
      "https://www.zacks.com/stock/news/1815100/chipotle-cmg-q3-earnings-beat-estimates-increase-yy\n",
      "https://www.benzinga.com/news/earnings/21/10/23509340/former-president-trumps-social-media-spac-bursts-onto-the-scene-in-ipo-debut\n",
      "https://seekingalpha.com/article/4461392-wall-street-breakfast-us-home-sales-surge-podcast\n",
      "https://www.marketwatch.com/story/chipotle-earnings-boosted-by-brisket-online-sales-and-returning-customers-11634849039\n",
      "https://seekingalpha.com/article/4461368-wall-street-breakfast-ad-mageddon\n",
      "https://www.investing.com/analysis/time-to-buy-apollo-global-management-stock-200605974\n",
      "https://www.fool.com/earnings/call-transcripts/2021/10/21/chipotle-mexican-grill-inc-cmg-q3-2021-earnings-ca/\n",
      "https://www.zacks.com/stock/news/1814697/snap-tumbles-25-on-q3-sales-miss-cmg-beats-intc-mixed\n",
      "https://www.zacks.com/stock/news/1814669/chipotle-mexican-grill-cmg-q3-earnings-and-revenues-surpass-estimates\n",
      "https://www.zacks.com/commentary/1814373/bear-of-the-day-brinker-eat\n",
      "https://www.zacks.com/stock/news/1814308/yum-china-yumc-boosts-digital-space-opens-digital-rd-center\n",
      "https://www.benzinga.com/news/earnings/21/10/23489888/economic-reports-reflect-labor-shortages-and-moderate-economic-growth\n",
      "https://www.benzinga.com/news/21/10/23474707/5-things-you-might-not-know-about-chipotle-mexican-grill-ceo-brian-niccol\n",
      "https://www.zacks.com/stock/news/1814254/jack-in-the-box-jack-to-expand-presence-with-new-agreements\n",
      "https://www.marketwatch.com/story/next-year-will-be-tricky-for-stockholders-so-follow-this-road-map-says-rbcs-top-strategist-lori-calvasina-11634815172\n",
      "https://www.zacks.com/stock/news/1813821/5-hot-earnings-charts\n",
      "https://www.fool.com/investing/2021/10/19/mcdonalds-earnings-what-to-watch/\n",
      "https://www.zacks.com/stock/news/1812470/factors-setting-the-tone-for-chipotle-cmg-q3-earnings\n",
      "https://www.fool.com/investing/2021/10/18/chipotle-earnings-3-numbers-investors-need-to-watc/\n",
      "https://invezz.com/news/2021/10/18/nationwide-visits-to-quick-service-restaurants-still-arent-back-to-pre-pandemic-levels/\n",
      "https://www.marketwatch.com/story/the-dow-is-on-track-for-its-best-october-in-6-years-and-third-quarter-earnings-are-strong-so-far-what-could-go-wrong-11634405448\n",
      "https://seekingalpha.com/article/4460259-wall-street-breakfast-week-ahead\n",
      "https://www.fool.com/investing/2021/10/17/1-stock-to-avoid-this-week/\n",
      "https://seekingalpha.com/article/4460205-stocks-to-watch-tesla-netflix-and-intel-headline-huge-week-of-earnings\n",
      "https://www.fool.com/investing/2021/10/16/heres-why-chipotles-most-important-number-could-be/\n",
      "https://www.marketwatch.com/story/stock-futures-rise-following-s-p-500s-best-day-since-march-as-retail-sales-report-looms-11634292820\n",
      "https://www.fool.com/investing/2021/10/15/things-chipotle-shareholders-know-earnings/\n",
      "https://www.zacks.com/stock/news/1810729/chipotle-mexican-grill-cmg-reports-next-week-wall-street-expects-earnings-growth\n",
      "https://www.fool.com/investing/2021/10/14/should-you-buy-sell-or-hold-chipotle-stock/\n",
      "https://www.fool.com/investing/2021/10/14/smart-investors-paying-attention-to-important-data/\n",
      "https://www.zacks.com/stock/news/1810532/papa-johns-pzza-gains-from-focus-on-expansion-debt-high\n",
      "https://www.fool.com/investing/2021/10/14/chipotle-q3-earnings-heres-what-investors-need-to/\n",
      "https://www.fool.com/investing/2021/10/13/the-best-stock-to-buy-if-youre-worried-inflation/\n",
      "https://www.fool.com/investing/2021/10/13/quarterly-earnings-10-q-reports-where-to-find-them/\n",
      "https://www.zacks.com/stock/news/1809646/shake-shack-shak-banks-on-expansion-efforts-amid-high-costs\n",
      "https://www.fool.com/investing/2021/10/12/want-to-beat-warren-buffett-look-2-hot-stocks/\n",
      "https://www.zacks.com/stock/news/1809151/expansion-efforts-to-aid-restaurant-brands-qsr-traffic-low\n",
      "https://www.zacks.com/stock/news/1808896/the-zacks-analyst-blog-highlights-yeti-holdings-chipotle-mexican-grill-dennys-mastercraft-boat-and-mcdonalds\n",
      "https://www.zacks.com/stock/news/1808895/the-zacks-analyst-blog-highlights-chipotle-mexican-grill-starbucks-mcdonalds-dominos-pizza-and-dennys\n",
      "https://www.zacks.com/stock/news/1808744/should-you-invest-in-the-invesco-sp-500-equal-weight-consumer-discretionary-etf-rcd\n",
      "https://www.zacks.com/stock/news/1808396/why-chipotle-cmg-could-beat-earnings-estimates-again\n",
      "https://www.benzinga.com/analyst-ratings/analyst-color/21/10/23296884/loup-sees-land-grab-among-food-delivery-companies-what-investors-should-know\n",
      "https://www.marketwatch.com/story/what-teens-want-nike-gear-chipotle-burritos-and-snapchat-11633546684\n",
      "https://www.fool.com/investing/2021/10/08/earnings-2-growth-stocks-to-watch-in-october/\n",
      "https://www.zacks.com/stock/news/1808218/5-solid-stocks-to-buy-ahead-of-a-promising-holiday-season\n",
      "https://www.zacks.com/stock/news/1808065/the-zacks-analyst-blog-highlights-avis-budget-group-yeti-holdings-concentrix-chipotle-mexican-grill-and-dennys\n",
      "https://www.zacks.com/stock/news/1808079/5-restaurant-stocks-to-buy-for-the-upcoming-holiday-season\n",
      "https://seekingalpha.com/article/4458934-nothing-available-at-any-price\n",
      "https://www.zacks.com/stock/news/1807571/looking-for-a-growth-stock-3-reasons-why-chipotle-cmg-is-a-solid-choice\n",
      "https://www.zacks.com/stock/news/1807448/mcdonalds-mcd-sharpening-competitive-edge-heres-how\n",
      "https://www.zacks.com/stock/news/1807099/the-zacks-analyst-blog-highlights-crocs-chipotle-mexican-grill-churchill-downs-yeti-holdings-and-dominos-pizza\n",
      "https://www.zacks.com/stock/news/1807131/5-stocks-to-buy-on-continued-expansion-in-services-activity\n",
      "https://www.zacks.com/stock/news/1806211/starbucks-sbux-up-27-in-the-past-year-more-room-to-run\n",
      "https://www.zacks.com/stock/news/1806204/cheesecake-factory-cake-rises-57-in-a-year-heres-why\n",
      "https://www.zacks.com/stock/news/1805995/septembers-services-pmi-confirms-us-recovery-5-top-picks\n",
      "https://www.zacks.com/stock/news/1804557/chipotle-cmg-shares-up-32-ytd-more-room-for-upside\n",
      "https://www.fool.com/investing/2021/10/01/why-apps-matter/\n",
      "https://www.fool.com/investing/2021/10/01/3-stocks-to-buy-if-they-take-a-dip/\n",
      "https://www.zacks.com/stock/news/1803201/starbucks-sbux-rewards-shareholders-with-nearly-9-dividend-hike\n",
      "https://www.zacks.com/stock/news/1803019/papa-johns-pzza-to-expand-in-texas-with-sun-holdings-tie-up\n",
      "https://www.zacks.com/stock/news/1802991/heres-why-you-should-invest-in-jack-in-the-box-jack-now\n",
      "https://www.zacks.com/stock/news/1801898/yum-brands-yum-banks-on-expansion-efforts-costs-high\n",
      "https://www.fool.com/investing/2021/09/28/better-reopening-stocks-chipotle-stock-starbucks/\n",
      "https://www.fool.com/investing/2021/09/28/chipotle-stock-is-hitting-record-highs-can-it-go-e/\n",
      "https://www.zacks.com/stock/news/1801323/bjs-restaurants-bjri-banks-on-off-premise-sales-costs-high\n",
      "https://www.fool.com/investing/2021/09/26/warren-buffett-would-love-3-unstoppable-stocks/\n",
      "https://www.fool.com/investing/2021/09/26/why-starbucks-is-still-a-top-restaurant-stock/\n",
      "https://www.zacks.com/stock/news/1800668/mcdonalds-mcd-rewards-shareholders-with-7-dividend-hike\n",
      "https://www.zacks.com/stock/news/1800163/darden-dri-stock-up-on-q1-earnings-beat-upbeat-view\n",
      "https://www.zacks.com/stock/news/1800109/yum-brands-yum-pizza-hut-to-hire-40k-employees-by-2021-end\n",
      "https://www.zacks.com/stock/news/1800107/yum-china-yumc-lavazza-plan-to-open-1k-lavazza-cafes-in-china\n",
      "https://www.fool.com/investing/2021/09/22/chipotle-is-ready-to-risk-it-for-the-brisket/\n"
     ]
    }
   ],
   "source": [
    "for i in response['results']:\n",
    "    print(i['article_url'])"
   ]
  },
  {
   "cell_type": "code",
   "execution_count": null,
   "metadata": {},
   "outputs": [],
   "source": [
    "def query_polygon(ticker, d_start, d_end, pages=1, pageSize=200):\n",
    "    \n",
    "    url = ('https://api.polygon.io/v2/reference/news?'\n",
    "      'ticker='+ticker\n",
    "      '&published_utc/gte='+d_start\n",
    "      '&published_utc/lte='+d_end\n",
    "      '&limit='+pageSize\n",
    "      '&sort=published_utc'\n",
    "      '&apikey='+polykey)\n",
    "    \n",
    "    response = requests.get(url)\n",
    "    if response.status_code==200:\n",
    "        response = response.json()"
   ]
  }
 ],
 "metadata": {
  "kernelspec": {
   "display_name": "Python 3",
   "language": "python",
   "name": "python3"
  },
  "language_info": {
   "codemirror_mode": {
    "name": "ipython",
    "version": 3
   },
   "file_extension": ".py",
   "mimetype": "text/x-python",
   "name": "python",
   "nbconvert_exporter": "python",
   "pygments_lexer": "ipython3",
   "version": "3.8.5"
  }
 },
 "nbformat": 4,
 "nbformat_minor": 4
}
