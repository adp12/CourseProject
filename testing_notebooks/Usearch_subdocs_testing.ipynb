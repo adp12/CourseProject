{
 "cells": [
  {
   "cell_type": "code",
   "execution_count": 8,
   "metadata": {},
   "outputs": [],
   "source": [
    "import requests\n",
    "import numpy as np\n",
    "from sklearn.feature_extraction.text import TfidfVectorizer\n",
    "from scipy import sparse\n",
    "from bs4 import BeautifulSoup\n",
    "import re\n",
    "from transformers import DistilBertForSequenceClassification, DistilBertTokenizer\n",
    "import torch\n",
    "from transformers import pipeline\n",
    "from util.config import config\n",
    "from util.pyBM25 import BM25"
   ]
  },
  {
   "cell_type": "code",
   "execution_count": 51,
   "metadata": {},
   "outputs": [],
   "source": [
    "model = DistilBertForSequenceClassification.from_pretrained('distilbert-base-uncased-finetuned-sst-2-english')\n",
    "tokenizer = DistilBertTokenizer.from_pretrained('distilbert-base-uncased-finetuned-sst-2-english')\n",
    "classifier = pipeline(task='sentiment-analysis',model=model,tokenizer=tokenizer)\n",
    "max_tokens = int(tokenizer.model_max_length)"
   ]
  },
  {
   "cell_type": "code",
   "execution_count": 9,
   "metadata": {},
   "outputs": [],
   "source": [
    "stopwords=[]\n",
    "with open('util/stopwords.txt') as f:\n",
    "    stopwords.append(f.read().splitlines())"
   ]
  },
  {
   "cell_type": "code",
   "execution_count": 10,
   "metadata": {},
   "outputs": [
    {
     "name": "stdout",
     "output_type": "stream",
     "text": [
      "431\n"
     ]
    }
   ],
   "source": [
    "print(len(stopwords[0]))"
   ]
  },
  {
   "cell_type": "code",
   "execution_count": 3,
   "metadata": {},
   "outputs": [
    {
     "ename": "NameError",
     "evalue": "name 'BM25' is not defined",
     "output_type": "error",
     "traceback": [
      "\u001b[1;31m---------------------------------------------------------------------------\u001b[0m",
      "\u001b[1;31mNameError\u001b[0m                                 Traceback (most recent call last)",
      "\u001b[1;32m<ipython-input-3-1413fcd39715>\u001b[0m in \u001b[0;36m<module>\u001b[1;34m\u001b[0m\n\u001b[1;32m----> 1\u001b[1;33m \u001b[0mbm25\u001b[0m \u001b[1;33m=\u001b[0m \u001b[0mBM25\u001b[0m\u001b[1;33m(\u001b[0m\u001b[0mstopwords\u001b[0m\u001b[1;33m=\u001b[0m\u001b[0mstopwords\u001b[0m\u001b[1;33m)\u001b[0m\u001b[1;33m\u001b[0m\u001b[1;33m\u001b[0m\u001b[0m\n\u001b[0m",
      "\u001b[1;31mNameError\u001b[0m: name 'BM25' is not defined"
     ]
    }
   ],
   "source": [
    "bm25 = BM25(stopwords=stopwords)"
   ]
  },
  {
   "cell_type": "code",
   "execution_count": null,
   "metadata": {},
   "outputs": [],
   "source": [
    "def query_Usearch(query, d_start, d_end, pages=1, pageSize=150):\n",
    "    url = \"https://contextualwebsearch-websearch-v1.p.rapidapi.com/api/search/NewsSearchAPI\"\n",
    "    querystring = {\"q\":query,\n",
    "                   \"pageNumber\":\"1\",\n",
    "                   \"pageSize\":\"150\",\n",
    "                   \"autoCorrect\":\"false\",\n",
    "                   \"fromPublishedDate\":d_start,\n",
    "                   \"toPublishedDate\":d_end}\n",
    "\n",
    "    headers = {\n",
    "        'x-rapidapi-host': \"contextualwebsearch-websearch-v1.p.rapidapi.com\",\n",
    "        'x-rapidapi-key': \"954c6fbd55msh55107080293cea6p148e40jsn1db2b31b95fd\"\n",
    "        }\n",
    "\n",
    "    response = requests.request(\"GET\", url, headers=headers, params=querystring)\n",
    "    \n",
    "    "
   ]
  },
  {
   "cell_type": "code",
   "execution_count": 17,
   "metadata": {},
   "outputs": [],
   "source": [
    "url = \"https://contextualwebsearch-websearch-v1.p.rapidapi.com/api/search/NewsSearchAPI\"\n",
    "\n",
    "q = \"PLUG\"\n",
    "d_from =\"11/01/2021\"\n",
    "d_to = \"null\"\n",
    "\n",
    "querystring = {\"q\":q,\"pageNumber\":\"1\",\"pageSize\":\"150\",\"autoCorrect\":\"false\",\"fromPublishedDate\":d_from,\"toPublishedDate\":d_to}\n",
    "\n",
    "headers = {\n",
    "    'x-rapidapi-host': \"contextualwebsearch-websearch-v1.p.rapidapi.com\",\n",
    "    'x-rapidapi-key': \"954c6fbd55msh55107080293cea6p148e40jsn1db2b31b95fd\"\n",
    "    }\n",
    "\n",
    "response = requests.request(\"GET\", url, headers=headers, params=querystring)\n"
   ]
  },
  {
   "cell_type": "code",
   "execution_count": 18,
   "metadata": {},
   "outputs": [],
   "source": [
    "response = response.json()"
   ]
  },
  {
   "cell_type": "code",
   "execution_count": 19,
   "metadata": {},
   "outputs": [
    {
     "name": "stdout",
     "output_type": "stream",
     "text": [
      "id\n",
      "title\n",
      "url\n",
      "description\n",
      "body\n",
      "snippet\n",
      "keywords\n",
      "language\n",
      "isSafe\n",
      "datePublished\n",
      "provider\n",
      "image\n"
     ]
    }
   ],
   "source": [
    "for i in response['value'][0]:\n",
    "    print(i)"
   ]
  },
  {
   "cell_type": "code",
   "execution_count": 20,
   "metadata": {},
   "outputs": [],
   "source": [
    "corpus=[]\n",
    "for i in response['value']:\n",
    "    corpus.append(i['body'])"
   ]
  },
  {
   "cell_type": "code",
   "execution_count": 13,
   "metadata": {
    "scrolled": true
   },
   "outputs": [
    {
     "name": "stdout",
     "output_type": "stream",
     "text": [
      "2021-11-12T13:24:00\n"
     ]
    }
   ],
   "source": [
    "print(response['value'][0]['datePublished'])"
   ]
  },
  {
   "cell_type": "code",
   "execution_count": 21,
   "metadata": {
    "scrolled": true
   },
   "outputs": [
    {
     "name": "stdout",
     "output_type": "stream",
     "text": [
      "https://www.androidcentral.com/amazon-smart-plug-review\n",
      "https://insideevs.com/news/547155/france-plugin-car-sales-october2021/\n",
      "http://fool.com/investing/2021/11/11/why-plug-power-bloom-fuelcell-energy-just-popped/\n",
      "https://mybigplunge.com/startups/zomato-pulls-the-plug-on-international-operations/\n",
      "https://www.drive.com.au/news/porsche-911-hybrid-wont-be-a-plug-in-says-company-ceo-report/\n",
      "https://www.nasdaq.com/articles/plug-crosses-above-average-analyst-target-2021-11-12\n",
      "https://www.thisismoney.co.uk/money/markets/article-10192897/Footsie-giant-Johnson-Matthey-pulls-plug-electric-car-batteries.html\n",
      "https://www.cbc.ca/news/canada/manitoba/springfield-icehawks-hockey-tournament-cancelled-covid-19-1.6245962?cmp=rss\n",
      "https://stockcharts.com/articles/dont_ignore_this_chart/2021/11/plug-in-your-batteries-755.html\n",
      "https://www.fonegiant.com/products/iphone-11-64gb-green-unlocked-excellent-condition\n",
      "https://eurweb.com/2021/11/11/jeffcars-coms-review-2021-bmw-x5-xdrive45e-plug-in/\n",
      "http://bnnbloomberg.ca/nigeria-says-foreign-experts-needed-to-plug-oil-spill-in-delta-1.1680309\n",
      "https://www.stuff.co.nz/waikato-times/waikato-top-stories/126946326/hamilton-gardens-arts-festival-plugs-22200-funding-shortfall.html\n",
      "http://edmontonjournal.com/opinion/columnists/varcoe-the-tides-are-shifting-alberta-makes-giant-steps-in-tech-but-gaps-remain-in-ecosystem\n",
      "http://edmontonjournal.com/opinion/columnists/varcoe-the-tides-are-shifting-alberta-makes-giant-steps-in-tech-but-gaps-remain-in-ecosystem/wcm/b65ff7b3-cfd8-42ad-8dbb-940bbcaa230e\n",
      "https://www.exploreclarion.com/2021/11/11/comically-incorrect-plugs/\n",
      "http://suffolkfreepress.co.uk/beccles/plans-to-plug-productivity-gap-voiced-by-suffolk-bosses-9225286/\n",
      "https://www.westernjournal.com/plugs/\n",
      "https://news.yahoo.com/plug-play-topeka-channels-silicon-222744832.html\n",
      "https://www.wibw.com/2021/11/10/gtp-plug-play-celebrate-new-animal-health-start-ups/\n",
      "https://www.wenatcheeworld.com/news/plug-in-nov-11/article_16b77456-425a-11ec-aab0-df5c180ff016.html\n",
      "https://www.fool.com/investing/2021/11/10/why-plug-power-dropped-then-popped-quickly-today/?source=iedfolrf0000001\n",
      "https://bgr.com/deals/black-friday-started-early-for-tp-link-kasa-smart-plugs-and-people-are-flipping-out/\n",
      "https://arstechnica.com/?p=1811823\n",
      "https://www.easternherald.com/2021/11/10/hills-pet-nutrition-partners-with-bond-pet-foods-inc-to-develop-a-craft-meat-protein-produced-through-precision-fermentation/\n",
      "https://theinventory.com/control-all-your-smart-devices-outside-with-this-16-ka-1848030444\n",
      "https://eurweb.com/2021/11/10/jeffcars-coms-review-2021-toyota-prius-prime-limited-plug-in/\n",
      "http://oneindia.com/india/to-plug-critical-vulnerability-along-china-border-indian-army-seeks-new-radar-3333863.html?ref_medium=desktop&ref_source=oi-en&ref_campaign=topic-article\n",
      "https://www.techradar.com/news/do-smart-plugs-save-energy-and-why-they-can-stop-you-wasting-money\n",
      "https://finance.yahoo.com/m/3d2f2d1f-9a94-30f8-a83a-14488f1e2e20/plug-power-plug-q3-2021.html\n",
      "https://seekingalpha.com/article/4467734-plug-power-inc-plug-ceo-andy-marsh-on-q3-2021-results-earnings-call-transcript?source=feed_all_articles\n",
      "https://www.marketwatch.com/articles/plug-power-raises-guidance-the-stock-drops-anyway-51636497449?mod=home-page\n",
      "https://www.marketwatch.com/articles/plug-power-stock-earnings-51636497449?mod=home-page\n",
      "https://www.fool.com/investing/2021/11/09/ballard-power-bloom-energy-nikola-stocks-drop/?source=iedfolrf0000001\n",
      "https://timesofmalta.com/articles/view/shopify-plug-in-introduced-to-ecabs-fastdrop-platform.913614\n",
      "https://arstechnica.com/?p=1811536\n",
      "https://nesn.com/2021/11/tom-brady-responds-to-aaron-rodgers-question-with-shameless-plug/\n",
      "https://www.refinery29.com/en-us/2021/11/10740548/maude-cone-butt-plug\n",
      "https://in.pcmag.com/smart-plugs/146046/kasa-smart-wi-fi-outdoor-plug-in-dimmer-kp-405\n",
      "https://www.mixonline.com/technology/reviews/plug-ins/neold-v76u73-preamp-compressor-plug-in-a-real-world-review\n",
      "https://insideevs.com/news/546198/uk-plugin-car-sales-october2021/\n",
      "https://trailer-wiring-diagram.com/7-core-trailer-wiring-diagram/narva-trailer-plug-wiring-diagram-7-core-trailer-wiring-diagram/\n",
      "https://investorplace.com/2021/11/plug-powers-rally-is-just-beginning/\n",
      "https://www.prweb.com/releases/autonomous_holds_7_day_launch_event_with_savings_up_to_6k_for_plug_and_play_building/prweb18317826.htm\n",
      "http://zacks.com/stock/research/plug/brokerage-reports?searchby=ticker&amp;t=plug&amp;type=brk&amp;page=16\n",
      "http://zacks.com/stock/research/plug/all-news?page=11&t=plug\n",
      "http://kuow.org/stories/in-new-climate-order-inslee-says-washington-state-vehicles-to-plug-in\n",
      "https://investorplace.com/2021/11/fuel-cell-stocks-alert-what-is-going-on-with-plug-and-fcel-stocks-today/\n",
      "https://codelist.biz/2021/11/08/the-mitsubishi-outlander-phev-opens-november-with-a-discount/\n",
      "https://www.newswise.com/articles/view/760416/?sc=c7\n"
     ]
    }
   ],
   "source": [
    "for i in response['value']:\n",
    "    print(i['url'])"
   ]
  },
  {
   "cell_type": "code",
   "execution_count": 24,
   "metadata": {},
   "outputs": [
    {
     "name": "stdout",
     "output_type": "stream",
     "text": [
      "[1.52834383 0.57214766 1.61320328 0.2482312  1.56571111 5.94731821\n",
      " 0.         0.51002331 1.68786242 0.44283014 2.10741846 0.41328758\n",
      " 0.         1.44072037 1.47475431 3.73282215 0.21124267 0.\n",
      " 0.51334896 0.54884515 0.         3.14755982 0.33132302 2.05499386\n",
      " 2.79773621 0.55152728 1.54427807 0.32162401 0.         0.\n",
      " 5.7444067  0.46901852 0.45509539 0.35007765 0.37263726 0.54020961\n",
      " 0.32786252 0.41316584 2.61183031 1.3931969  0.55287433 1.92157792\n",
      " 3.03400972 0.99937391 3.27967445 3.27967445 0.16926132 1.65236416\n",
      " 0.44309356 0.53008327]\n"
     ]
    }
   ],
   "source": [
    "q = \"Plug Power Inc\"\n",
    "bm25 = BM25()\n",
    "bm25.fit(corpus)\n",
    "result_vec = bm25.transform(q, corpus)\n",
    "print(result_vec)"
   ]
  },
  {
   "cell_type": "code",
   "execution_count": 28,
   "metadata": {},
   "outputs": [
    {
     "name": "stdout",
     "output_type": "stream",
     "text": [
      "[0.         0.         0.         0.         1.60615814 0.\n",
      " 2.29717741 0.         2.6389479  0.         0.         0.\n",
      " 0.         1.59355096 1.58522242 0.         0.         0.\n",
      " 0.         0.         0.         0.         0.         0.\n",
      " 2.30536037 0.         0.         0.         0.         0.\n",
      " 0.         2.09118818 1.97413543 0.         0.         0.\n",
      " 0.         0.         0.         0.         0.         0.\n",
      " 0.         0.         0.         0.         0.         1.9047118\n",
      " 0.         0.        ]\n"
     ]
    }
   ],
   "source": [
    "q = \"Technology\"\n",
    "bm25 = BM25()\n",
    "bm25.fit(corpus)\n",
    "result_vec = bm25.transform(q, corpus)\n",
    "print(result_vec)"
   ]
  },
  {
   "cell_type": "code",
   "execution_count": 27,
   "metadata": {},
   "outputs": [
    {
     "name": "stdout",
     "output_type": "stream",
     "text": [
      "https://www.nasdaq.com/articles/plug-crosses-above-average-analyst-target-2021-11-12\n"
     ]
    }
   ],
   "source": [
    "print(response['value'][np.argmax(result_vec)]['url'])"
   ]
  },
  {
   "cell_type": "code",
   "execution_count": 25,
   "metadata": {},
   "outputs": [
    {
     "name": "stdout",
     "output_type": "stream",
     "text": [
      "1.5283438269894027 https://www.androidcentral.com/amazon-smart-plug-review\n",
      "0.5721476595861023 https://insideevs.com/news/547155/france-plugin-car-sales-october2021/\n",
      "1.61320327859121 http://fool.com/investing/2021/11/11/why-plug-power-bloom-fuelcell-energy-just-popped/\n",
      "0.2482312011274162 https://mybigplunge.com/startups/zomato-pulls-the-plug-on-international-operations/\n",
      "1.5657111115187639 https://www.drive.com.au/news/porsche-911-hybrid-wont-be-a-plug-in-says-company-ceo-report/\n",
      "5.947318207937107 https://www.nasdaq.com/articles/plug-crosses-above-average-analyst-target-2021-11-12\n",
      "0.0 https://www.thisismoney.co.uk/money/markets/article-10192897/Footsie-giant-Johnson-Matthey-pulls-plug-electric-car-batteries.html\n",
      "0.5100233070924018 https://www.cbc.ca/news/canada/manitoba/springfield-icehawks-hockey-tournament-cancelled-covid-19-1.6245962?cmp=rss\n",
      "1.6878624232148256 https://stockcharts.com/articles/dont_ignore_this_chart/2021/11/plug-in-your-batteries-755.html\n",
      "0.44283013552729716 https://www.fonegiant.com/products/iphone-11-64gb-green-unlocked-excellent-condition\n",
      "2.1074184614445866 https://eurweb.com/2021/11/11/jeffcars-coms-review-2021-bmw-x5-xdrive45e-plug-in/\n",
      "0.4132875819101718 http://bnnbloomberg.ca/nigeria-says-foreign-experts-needed-to-plug-oil-spill-in-delta-1.1680309\n",
      "0.0 https://www.stuff.co.nz/waikato-times/waikato-top-stories/126946326/hamilton-gardens-arts-festival-plugs-22200-funding-shortfall.html\n",
      "1.4407203688732615 http://edmontonjournal.com/opinion/columnists/varcoe-the-tides-are-shifting-alberta-makes-giant-steps-in-tech-but-gaps-remain-in-ecosystem\n",
      "1.4747543090825206 http://edmontonjournal.com/opinion/columnists/varcoe-the-tides-are-shifting-alberta-makes-giant-steps-in-tech-but-gaps-remain-in-ecosystem/wcm/b65ff7b3-cfd8-42ad-8dbb-940bbcaa230e\n",
      "3.7328221491647886 https://www.exploreclarion.com/2021/11/11/comically-incorrect-plugs/\n",
      "0.21124267364282226 http://suffolkfreepress.co.uk/beccles/plans-to-plug-productivity-gap-voiced-by-suffolk-bosses-9225286/\n",
      "0.0 https://www.westernjournal.com/plugs/\n",
      "0.5133489618057271 https://news.yahoo.com/plug-play-topeka-channels-silicon-222744832.html\n",
      "0.5488451490151416 https://www.wibw.com/2021/11/10/gtp-plug-play-celebrate-new-animal-health-start-ups/\n",
      "0.0 https://www.wenatcheeworld.com/news/plug-in-nov-11/article_16b77456-425a-11ec-aab0-df5c180ff016.html\n",
      "3.147559824170847 https://www.fool.com/investing/2021/11/10/why-plug-power-dropped-then-popped-quickly-today/?source=iedfolrf0000001\n",
      "0.3313230221950817 https://bgr.com/deals/black-friday-started-early-for-tp-link-kasa-smart-plugs-and-people-are-flipping-out/\n",
      "2.054993859226156 https://arstechnica.com/?p=1811823\n",
      "2.797736209506465 https://www.easternherald.com/2021/11/10/hills-pet-nutrition-partners-with-bond-pet-foods-inc-to-develop-a-craft-meat-protein-produced-through-precision-fermentation/\n",
      "0.5515272807248726 https://theinventory.com/control-all-your-smart-devices-outside-with-this-16-ka-1848030444\n",
      "1.5442780724073812 https://eurweb.com/2021/11/10/jeffcars-coms-review-2021-toyota-prius-prime-limited-plug-in/\n",
      "0.3216240124559068 http://oneindia.com/india/to-plug-critical-vulnerability-along-china-border-indian-army-seeks-new-radar-3333863.html?ref_medium=desktop&ref_source=oi-en&ref_campaign=topic-article\n",
      "0.0 https://www.techradar.com/news/do-smart-plugs-save-energy-and-why-they-can-stop-you-wasting-money\n",
      "0.0 https://finance.yahoo.com/m/3d2f2d1f-9a94-30f8-a83a-14488f1e2e20/plug-power-plug-q3-2021.html\n",
      "5.744406697788758 https://seekingalpha.com/article/4467734-plug-power-inc-plug-ceo-andy-marsh-on-q3-2021-results-earnings-call-transcript?source=feed_all_articles\n",
      "0.4690185232762487 https://www.marketwatch.com/articles/plug-power-raises-guidance-the-stock-drops-anyway-51636497449?mod=home-page\n",
      "0.45509539088442624 https://www.marketwatch.com/articles/plug-power-stock-earnings-51636497449?mod=home-page\n",
      "0.35007765350178455 https://www.fool.com/investing/2021/11/09/ballard-power-bloom-energy-nikola-stocks-drop/?source=iedfolrf0000001\n",
      "0.3726372635158054 https://timesofmalta.com/articles/view/shopify-plug-in-introduced-to-ecabs-fastdrop-platform.913614\n",
      "0.5402096104110022 https://arstechnica.com/?p=1811536\n",
      "0.32786252301517455 https://nesn.com/2021/11/tom-brady-responds-to-aaron-rodgers-question-with-shameless-plug/\n",
      "0.4131658370364337 https://www.refinery29.com/en-us/2021/11/10740548/maude-cone-butt-plug\n",
      "2.611830311450227 https://in.pcmag.com/smart-plugs/146046/kasa-smart-wi-fi-outdoor-plug-in-dimmer-kp-405\n",
      "1.393196898810399 https://www.mixonline.com/technology/reviews/plug-ins/neold-v76u73-preamp-compressor-plug-in-a-real-world-review\n",
      "0.5528743259073152 https://insideevs.com/news/546198/uk-plugin-car-sales-october2021/\n",
      "1.9215779215105557 https://trailer-wiring-diagram.com/7-core-trailer-wiring-diagram/narva-trailer-plug-wiring-diagram-7-core-trailer-wiring-diagram/\n",
      "3.0340097200617375 https://investorplace.com/2021/11/plug-powers-rally-is-just-beginning/\n",
      "0.9993739077673672 https://www.prweb.com/releases/autonomous_holds_7_day_launch_event_with_savings_up_to_6k_for_plug_and_play_building/prweb18317826.htm\n",
      "3.279674445483069 http://zacks.com/stock/research/plug/brokerage-reports?searchby=ticker&amp;t=plug&amp;type=brk&amp;page=16\n",
      "3.279674445483069 http://zacks.com/stock/research/plug/all-news?page=11&t=plug\n",
      "0.16926132255182144 http://kuow.org/stories/in-new-climate-order-inslee-says-washington-state-vehicles-to-plug-in\n",
      "1.652364164239581 https://investorplace.com/2021/11/fuel-cell-stocks-alert-what-is-going-on-with-plug-and-fcel-stocks-today/\n",
      "0.4430935574644851 https://codelist.biz/2021/11/08/the-mitsubishi-outlander-phev-opens-november-with-a-discount/\n",
      "0.5300832662095254 https://www.newswise.com/articles/view/760416/?sc=c7\n"
     ]
    }
   ],
   "source": [
    "for i in range(0, len(response['value'])):\n",
    "    print(result_vec[i],response['value'][i]['url'])\n",
    "    "
   ]
  },
  {
   "cell_type": "code",
   "execution_count": 132,
   "metadata": {},
   "outputs": [],
   "source": [
    "# from requests_html import AsyncHTMLSession\n",
    "# session = AsyncHTMLSession()\n",
    "# r = session.get(uurl)\n",
    "# r = r.result()\n",
    "# print(r.html.text)"
   ]
  },
  {
   "cell_type": "code",
   "execution_count": 71,
   "metadata": {},
   "outputs": [],
   "source": [
    "def build_corpus_fromurl(url_list):\n",
    "    corpus = []\n",
    "    headers = {\"User-Agent\":\"Mozilla/5.0\"}\n",
    "    for i in url_list:\n",
    "        response = requests.get(url=i['url'],headers=headers)\n",
    "        if response.status_code==200:\n",
    "            soup = BeautifulSoup(response.content, 'html.parser')\n",
    "            corpus.append(soup.get_text())\n",
    "    return corpus"
   ]
  },
  {
   "cell_type": "code",
   "execution_count": 14,
   "metadata": {},
   "outputs": [],
   "source": [
    "#corpus = build_corpus_fromurl(response['value'])"
   ]
  },
  {
   "cell_type": "code",
   "execution_count": null,
   "metadata": {},
   "outputs": [],
   "source": []
  },
  {
   "cell_type": "code",
   "execution_count": 72,
   "metadata": {},
   "outputs": [],
   "source": [
    "def get_pgraphs(soup):\n",
    "    pgraphs=[]\n",
    "    #Checking for \n",
    "    #Searching for html paragraphs\n",
    "    if soup.find('p')!=None:\n",
    "        freshsoup = BeautifulSoup(str(soup(\"p\")),'html.parser')\n",
    "        for p in freshsoup(\"p\"):\n",
    "            pgraphs.append(p.get_text())\n",
    "    else:\n",
    "        freshsoup = re.split('\\n\\n',soup.get_text())\n",
    "        for x in range(0,len(freshsoup)):\n",
    "            if len(freshsoup[x])>3:\n",
    "                pgraphs.append(freshsoup[x])\n",
    "    return pgraphs"
   ]
  },
  {
   "cell_type": "code",
   "execution_count": 80,
   "metadata": {
    "scrolled": true
   },
   "outputs": [],
   "source": [
    "def get_subdocs(pgraphs, max_tokens, min_sen=4):\n",
    "    sub_docs=[]\n",
    "\n",
    "    for x in range(0, len(pgraphs)):\n",
    "        sen_cnt = len(re.split('\\n|\\. ',pgraphs[x]))\n",
    "        tkns = int(len(tokenizer(pgraphs[x])['input_ids']))\n",
    "        \n",
    "        if tkns>=max_tokens:\n",
    "                cut_point = pgraphs[x].rfind(\".\",0,int(len(pgraphs[x])/2))+1\n",
    "                sen2 = pgraphs[x][cut_point:]\n",
    "                sen = pgraphs[x][0:cut_point]\n",
    "                # Recursively call get_subdocs by splitting the paragraph in half, if there are too many tokens\n",
    "                get_subdocs(sen, max_tokens)\n",
    "                get_subdocs(sen2, max_tokens)\n",
    "                #sub_docs.append(sen)\n",
    "                #sub_docs.append(sen2)\n",
    "        else:\n",
    "            sub_docs.append(pgraphs[x])\n",
    "        \n",
    "\n",
    "    \n",
    "    return sub_docs"
   ]
  },
  {
   "cell_type": "code",
   "execution_count": 81,
   "metadata": {
    "scrolled": true
   },
   "outputs": [
    {
     "name": "stdout",
     "output_type": "stream",
     "text": [
      "https://www.fool.com/investing/2021/11/09/ballard-power-bloom-energy-nikola-stocks-drop/?source=iedfolrf0000001\n",
      "96\n",
      "85\n",
      "65\n",
      "https://timesofmalta.com/articles/view/shopify-plug-in-introduced-to-ecabs-fastdrop-platform.913614\n",
      "78\n",
      "67\n",
      "https://arstechnica.com/?p=1811536\n",
      "56\n",
      "73\n",
      "73\n",
      "37\n",
      "https://nesn.com/2021/11/tom-brady-responds-to-aaron-rodgers-question-with-shameless-plug/\n",
      "24\n",
      "https://www.refinery29.com/en-us/2021/11/10740548/maude-cone-butt-plug?utm_source=feed&utm_medium=rss\n",
      "11\n",
      "377\n",
      "384\n",
      "30\n",
      "https://in.pcmag.com/smart-plugs/146046/kasa-smart-wi-fi-outdoor-plug-in-dimmer-kp-405\n",
      "165\n",
      "138\n",
      "104\n",
      "183\n",
      "83\n",
      "135\n",
      "102\n",
      "153\n",
      "https://insideevs.com/news/546198/uk-plugin-car-sales-october2021/\n",
      "53\n",
      "29\n",
      "66\n",
      "35\n",
      "27\n",
      "https://trailer-wiring-diagram.com/7-core-trailer-wiring-diagram/narva-trailer-plug-wiring-diagram-7-core-trailer-wiring-diagram/\n",
      "https://investorplace.com/2021/11/plug-powers-rally-is-just-beginning/\n",
      "12\n",
      "79\n",
      "91\n",
      "99\n",
      "54\n",
      "109\n",
      "80\n",
      "62\n",
      "125\n",
      "20\n",
      "37\n",
      "https://www.prweb.com/releases/autonomous_holds_7_day_launch_event_with_savings_up_to_6k_for_plug_and_play_building/prweb18317826.htm\n",
      "http://zacks.com/stock/research/plug/brokerage-reports?searchby=ticker&amp;t=plug&amp;type=brk&amp;page=16\n",
      "17\n",
      "10\n",
      "19\n",
      "10\n",
      "10\n",
      "10\n",
      "http://zacks.com/stock/research/plug/all-news?page=11&t=plug\n",
      "47\n",
      "26\n",
      "30\n",
      "27\n",
      "76\n",
      "60\n",
      "38\n",
      "26\n",
      "43\n",
      "26\n",
      "http://kuow.org/stories/in-new-climate-order-inslee-says-washington-state-vehicles-to-plug-in\n",
      "62\n",
      "https://www.wenatcheeworld.com/news/plug-in-nov-9-10/article_50916d34-40c6-11ec-be26-c7c2e5c4fde2.html\n",
      "https://investorplace.com/2021/11/fuel-cell-stocks-alert-what-is-going-on-with-plug-and-fcel-stocks-today/\n",
      "56\n",
      "72\n",
      "54\n",
      "https://codelist.biz/2021/11/08/the-mitsubishi-outlander-phev-opens-november-with-a-discount/\n",
      "68\n",
      "80\n",
      "https://www.newswise.com/articles/view/760416/?sc=c7\n",
      "303\n",
      "379\n",
      "71\n",
      "111\n",
      "202\n",
      "145\n",
      "71\n",
      "111\n",
      "202\n",
      "145\n",
      "https://www.zacks.com/stock/chart/plug/price-eps-surprise?icid=chart-plug-price-eps-surprise\n",
      "31\n",
      "11\n",
      "8\n",
      "7\n",
      "https://www.plantengineering.com/articles/plug-and-play-robot-ecosystems-on-the-rise/\n",
      "102\n",
      "101\n",
      "18\n",
      "35\n",
      "74\n",
      "41\n",
      "45\n",
      "66\n",
      "49\n",
      "98\n",
      "100\n",
      "85\n",
      "https://theisleofthanetnews.com/2021/11/07/pie-factory-music-relaunches-soundcheck-campaign-to-plug-gap-in-mental-health-support-for-young-people/\n",
      "47\n",
      "https://insideevs.com/news/545467/norway-plugin-car-sales-ctober2021/\n",
      "42\n",
      "42\n",
      "40\n",
      "36\n",
      "https://www.medpagetoday.com/meetingcoverage/tct/95492\n",
      "105\n",
      "63\n",
      "87\n",
      "56\n",
      "39\n",
      "http://industryfocus@fool.com/investing/2021/11/05/why-plug-and-nikola-dropped-bloom-energy-popped/\n",
      "65\n",
      "35\n",
      "87\n",
      "https://www.thisismoney.co.uk/money/cars/article-10170265/RAY-MASSEY-Peugeots-plug-hybrid-308-make-green-envy.html\n",
      "38\n",
      "23\n",
      "32\n",
      "30\n",
      "53\n",
      "31\n",
      "8\n",
      "57\n",
      "https://banyanhill.com/peloton-plug-powerful-ev-rvs-go-brrrr/\n",
      "28\n",
      "10\n",
      "105\n",
      "42\n",
      "36\n",
      "62\n",
      "66\n",
      "52\n",
      "50\n",
      "63\n",
      "https://www.greenentrepreneur.com/article/395734\n",
      "47\n",
      "90\n",
      "399\n",
      "19\n",
      "153\n",
      "101\n",
      "https://www1.cbn.com/cbnnews/2021/november/texas-just-found-an-innovative-way-to-plug-border-gaps-and-channel-illegal-migrants-to-authorities\n",
      "51\n",
      "68\n",
      "http://www.lightreading.com/asia/xiaomi-plugs-cool-new-phone-liquid-cooling-tech-/d/d-id/773316?image_number=1\n",
      "https://www.benzinga.com/general/education/21/11/23894716/is-plug-powers-stock-overvalued-or-undervalued\n",
      "37\n",
      "32\n",
      "64\n",
      "88\n",
      "83\n",
      "105\n",
      "45\n",
      "32\n",
      "https://news.yahoo.com/plug-powers-stock-overvalued-undervalued-165008655.html\n",
      "37\n",
      "32\n",
      "64\n",
      "88\n",
      "83\n",
      "105\n",
      "45\n",
      "32\n",
      "https://www.energylivenews.com/2021/11/04/plug-in-vehicle-registrations-keep-soaring-in-worst-october-for-car-industry-in-30-years/\n",
      "39\n",
      "23\n",
      "28\n",
      "https://www.businessinsider.com/labor-shortage-jewelry-store-retirement-washington-seattle-employment-jobs-2021-11\n",
      "27\n",
      "79\n",
      "https://www.fleetpoint.org/carandvannews/car/smmt-monthly-car-sales/plug-in-car-performance-holds-steady-despite-overall-registrations-falling/\n",
      "66\n",
      "64\n",
      "68\n",
      "104\n",
      "104\n",
      "86\n",
      "https://jerseyeveningpost.com/news/uk-news/2021/11/04/uk-car-industry-suffers-worst-october-in-30-years/\n",
      "15\n",
      "31\n",
      "21\n",
      "53\n",
      "https://news.yahoo.com/smmt-car-sales-october-uk-093127807.html\n",
      "66\n",
      "64\n",
      "76\n",
      "https://www.fleetpoint.org/electric-vehicles-2/plug-in-hybrid/more-plug-in-vehicles-to-be-registered-in-2021-than-the-whole-of-the-last-decade/\n",
      "42\n",
      "116\n",
      "70\n",
      "61\n",
      "46\n",
      "121\n",
      "100\n",
      "https://cardealermagazine.co.uk/publish/new-car-registrations-slumped-by-nearly-25-per-cent-in-october-but-plug-in-cars-provided-some-positivity/240706\n",
      "29\n",
      "52\n",
      "54\n",
      "67\n",
      "https://www.thesun.co.uk/sport/16626767/sam-bird-formula-e-jaguar-bmw-audi-mercedes/\n",
      "29\n",
      "https://www.thestar.co.uk/lifestyle/cars/ford-ranger-plug-in-hybrid-undergoes-extreme-testing-ahead-of-reveal-date-3443523\n",
      "51\n",
      "https://www.hudsonstarobserver.com/where-can-i-plug-in-my-vehicle/article_d703b4a2-3cbc-11ec-b684-0b85d772ae76.html\n",
      "https://www.prnewswire.com/news-releases/thinking-about-buying-stock-in-phunware-fuelcell-energy-timber-pharmaceuticals-plug-power-or-workhorse-group-301415447.html\n",
      "46\n",
      "https://newsheater.com/2021/11/03/mobile-telesystems-public-joint-stock-company-mbt-upgraded-issued-by-wall-street-gurus/\n",
      "95\n",
      "https://www.einpresswire.com/article/555441263/automotive-electric-oil-pump-market-hybrid-electric-vehicle-hev-and-plug-in-hybrid-electric-vehicle-phev-by-2026\n",
      "144\n",
      "https://www.toronto.com/community-story/10510894-review-2021-ford-escape-plug-in-hybrid/\n",
      "https://www.investorsalley.com/plug-stock-price-breaks-40-for-the-first-time-since-march/\n",
      "46\n",
      "78\n",
      "59\n",
      "27\n",
      "https://jamaica-gleaner.com/article/business/20211103/sales-platform-developer-hopes-plug-post-pandemic-online-boom\n",
      "58\n",
      "36\n",
      "41\n",
      "83\n",
      "83\n",
      "47\n",
      "67\n",
      "45\n",
      "https://www.news.com.au/technology/motoring/motoring-news/peugeot-to-launch-two-plugin-hybrid-vehicles-in-australia/news-story/598aab2d4ff9d677389a5be5d9b1dce8\n",
      "38\n",
      "19\n",
      "33\n",
      "36\n",
      "41\n",
      "34\n",
      "20\n",
      "https://www.drive.com.au/news/2022-peugeot-508-price-and-specs-gt-plug-in-hybrid-arrives-from-76990/\n",
      "45\n",
      "70\n",
      "48\n",
      "https://www.drive.com.au/news/2022-peugeot-3008-price-and-specs-gt-sport-plug-in-hybrid-added-from-79990/\n",
      "25\n",
      "39\n",
      "66\n",
      "85\n",
      "84\n",
      "64\n",
      "https://investorplace.com/2021/11/7-stocks-to-buy-that-could-benefit-from-the-roaring-tesla-rally/\n",
      "76\n",
      "89\n",
      "73\n",
      "45\n"
     ]
    }
   ],
   "source": [
    "doc_cutoff = 0.25\n",
    "subdoc_cutoff = 0\n",
    "\n",
    "for i in response['value']:\n",
    "    print(i['url'])\n",
    "    headers = {\"User-Agent\":\"Mozilla/5.0\"}\n",
    "    uspon = requests.get(url=i['url'],headers=headers)\n",
    "    if uspon.status_code==200:\n",
    "        soup = BeautifulSoup(uspon.content, 'html.parser')\n",
    "\n",
    "        pgraphs = get_pgraphs(soup)\n",
    "        sub_docs = get_subdocs(pgraphs,max_tokens)\n",
    "        \n",
    "        bm25.fit(sub_docs)\n",
    "        result_vec = bm25.transform(q, sub_docs)\n",
    "        \n",
    "        sentiments = []\n",
    "        for x in range(0,len(sub_docs)):\n",
    "            if result_vec[x]>0:\n",
    "                print(len(tokenizer(sub_docs[x])['input_ids']))\n",
    "                s = classifier(sub_docs[x])\n",
    "                scr = s[0]['score']\n",
    "                if s[0]['label']==\"NEGATIVE\":\n",
    "                    scr=scr*-1\n",
    "                sentiments.append(scr)\n",
    "    else:\n",
    "        print(uspon.status_code)"
   ]
  },
  {
   "cell_type": "code",
   "execution_count": 82,
   "metadata": {},
   "outputs": [
    {
     "name": "stdout",
     "output_type": "stream",
     "text": [
      "[-0.981147289276123, -0.9988498687744141, 0.9922612309455872, 0.9609275460243225]\n"
     ]
    }
   ],
   "source": [
    "print(sentiments)"
   ]
  },
  {
   "cell_type": "code",
   "execution_count": 184,
   "metadata": {},
   "outputs": [
    {
     "name": "stdout",
     "output_type": "stream",
     "text": [
      "[0.0433606  0.04105189 0.03070828 0.        ]\n",
      "Length:  4\n",
      "Mean Score:  0.028780191640045347\n",
      "Median Score:  0.03588008440179806\n"
     ]
    }
   ],
   "source": [
    "q = \"PLUG\"\n",
    "bm25 = BM25()\n",
    "bm25.fit(corpus)\n",
    "result_vec = bm25.transform(q, subs)\n",
    "print(result_vec)\n",
    "print(\"Length: \",len(result_vec))\n",
    "print(\"Mean Score: \",np.mean(result_vec))\n",
    "print(\"Median Score: \", np.median(result_vec))"
   ]
  },
  {
   "cell_type": "code",
   "execution_count": null,
   "metadata": {},
   "outputs": [],
   "source": []
  }
 ],
 "metadata": {
  "kernelspec": {
   "display_name": "Python 3",
   "language": "python",
   "name": "python3"
  },
  "language_info": {
   "codemirror_mode": {
    "name": "ipython",
    "version": 3
   },
   "file_extension": ".py",
   "mimetype": "text/x-python",
   "name": "python",
   "nbconvert_exporter": "python",
   "pygments_lexer": "ipython3",
   "version": "3.8.5"
  }
 },
 "nbformat": 4,
 "nbformat_minor": 4
}
