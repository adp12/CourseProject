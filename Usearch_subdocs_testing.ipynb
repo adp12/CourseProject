{
 "cells": [
  {
   "cell_type": "code",
   "execution_count": 2,
   "metadata": {},
   "outputs": [],
   "source": [
    "import requests\n",
    "import numpy as np\n",
    "from sklearn.feature_extraction.text import TfidfVectorizer\n",
    "from scipy import sparse\n",
    "from bs4 import BeautifulSoup\n",
    "import re\n",
    "from transformers import DistilBertForSequenceClassification, DistilBertTokenizer\n",
    "import torch\n",
    "from transformers import pipeline\n",
    "from config import config\n",
    "from pyBM25 import BM25"
   ]
  },
  {
   "cell_type": "code",
   "execution_count": 51,
   "metadata": {},
   "outputs": [],
   "source": [
    "model = DistilBertForSequenceClassification.from_pretrained('distilbert-base-uncased-finetuned-sst-2-english')\n",
    "tokenizer = DistilBertTokenizer.from_pretrained('distilbert-base-uncased-finetuned-sst-2-english')\n",
    "classifier = pipeline(task='sentiment-analysis',model=model,tokenizer=tokenizer)\n",
    "max_tokens = int(tokenizer.model_max_length)"
   ]
  },
  {
   "cell_type": "code",
   "execution_count": 4,
   "metadata": {},
   "outputs": [],
   "source": [
    "stopwords=[]\n",
    "with open('stopwords.txt') as f:\n",
    "    stopwords.append(f.read().splitlines())"
   ]
  },
  {
   "cell_type": "code",
   "execution_count": 6,
   "metadata": {},
   "outputs": [],
   "source": [
    "bm25 = BM25(stopwords=stopwords)"
   ]
  },
  {
   "cell_type": "code",
   "execution_count": 64,
   "metadata": {},
   "outputs": [],
   "source": [
    "url = \"https://contextualwebsearch-websearch-v1.p.rapidapi.com/api/search/NewsSearchAPI\"\n",
    "\n",
    "q = \"PLUG\"\n",
    "d_from =\"11/01/2021\"\n",
    "d_to = \"null\"\n",
    "\n",
    "querystring = {\"q\":q,\"pageNumber\":\"1\",\"pageSize\":\"150\",\"autoCorrect\":\"false\",\"fromPublishedDate\":d_from,\"toPublishedDate\":d_to}\n",
    "\n",
    "headers = {\n",
    "    'x-rapidapi-host': \"contextualwebsearch-websearch-v1.p.rapidapi.com\",\n",
    "    'x-rapidapi-key': \"954c6fbd55msh55107080293cea6p148e40jsn1db2b31b95fd\"\n",
    "    }\n",
    "\n",
    "response = requests.request(\"GET\", url, headers=headers, params=querystring)\n"
   ]
  },
  {
   "cell_type": "code",
   "execution_count": 65,
   "metadata": {},
   "outputs": [],
   "source": [
    "response = response.json()"
   ]
  },
  {
   "cell_type": "code",
   "execution_count": 66,
   "metadata": {},
   "outputs": [
    {
     "name": "stdout",
     "output_type": "stream",
     "text": [
      "id\n",
      "title\n",
      "url\n",
      "description\n",
      "body\n",
      "snippet\n",
      "keywords\n",
      "language\n",
      "isSafe\n",
      "datePublished\n",
      "provider\n",
      "image\n"
     ]
    }
   ],
   "source": [
    "for i in response['value'][0]:\n",
    "    print(i)"
   ]
  },
  {
   "cell_type": "code",
   "execution_count": 67,
   "metadata": {},
   "outputs": [],
   "source": [
    "corpus=[]\n",
    "for i in response['value']:\n",
    "    corpus.append(i['body'])"
   ]
  },
  {
   "cell_type": "code",
   "execution_count": 68,
   "metadata": {
    "scrolled": true
   },
   "outputs": [
    {
     "name": "stdout",
     "output_type": "stream",
     "text": [
      "Why Ballard Power Bloom Energy and Nikola Stocks All Dropped Today -- But Plug Didn't\n"
     ]
    }
   ],
   "source": [
    "print(response['value'][0]['title'])"
   ]
  },
  {
   "cell_type": "code",
   "execution_count": 69,
   "metadata": {
    "scrolled": true
   },
   "outputs": [
    {
     "name": "stdout",
     "output_type": "stream",
     "text": [
      "https://www.fool.com/investing/2021/11/09/ballard-power-bloom-energy-nikola-stocks-drop/?source=iedfolrf0000001\n",
      "https://timesofmalta.com/articles/view/shopify-plug-in-introduced-to-ecabs-fastdrop-platform.913614\n",
      "https://arstechnica.com/?p=1811536\n",
      "https://nesn.com/2021/11/tom-brady-responds-to-aaron-rodgers-question-with-shameless-plug/\n",
      "https://www.refinery29.com/en-us/2021/11/10740548/maude-cone-butt-plug?utm_source=feed&utm_medium=rss\n",
      "https://in.pcmag.com/smart-plugs/146046/kasa-smart-wi-fi-outdoor-plug-in-dimmer-kp-405\n",
      "https://insideevs.com/news/546198/uk-plugin-car-sales-october2021/\n",
      "https://trailer-wiring-diagram.com/7-core-trailer-wiring-diagram/narva-trailer-plug-wiring-diagram-7-core-trailer-wiring-diagram/\n",
      "https://investorplace.com/2021/11/plug-powers-rally-is-just-beginning/\n",
      "https://www.prweb.com/releases/autonomous_holds_7_day_launch_event_with_savings_up_to_6k_for_plug_and_play_building/prweb18317826.htm\n",
      "http://zacks.com/stock/research/plug/brokerage-reports?searchby=ticker&amp;t=plug&amp;type=brk&amp;page=16\n",
      "http://zacks.com/stock/research/plug/all-news?page=11&t=plug\n",
      "http://kuow.org/stories/in-new-climate-order-inslee-says-washington-state-vehicles-to-plug-in\n",
      "https://www.wenatcheeworld.com/news/plug-in-nov-9-10/article_50916d34-40c6-11ec-be26-c7c2e5c4fde2.html\n",
      "https://investorplace.com/2021/11/fuel-cell-stocks-alert-what-is-going-on-with-plug-and-fcel-stocks-today/\n",
      "https://codelist.biz/2021/11/08/the-mitsubishi-outlander-phev-opens-november-with-a-discount/\n",
      "https://www.newswise.com/articles/view/760416/?sc=c7\n",
      "https://www.zacks.com/stock/chart/plug/price-eps-surprise?icid=chart-plug-price-eps-surprise\n",
      "https://www.plantengineering.com/articles/plug-and-play-robot-ecosystems-on-the-rise/\n",
      "https://theisleofthanetnews.com/2021/11/07/pie-factory-music-relaunches-soundcheck-campaign-to-plug-gap-in-mental-health-support-for-young-people/\n",
      "https://insideevs.com/news/545467/norway-plugin-car-sales-ctober2021/\n",
      "https://www.medpagetoday.com/meetingcoverage/tct/95492\n",
      "http://industryfocus@fool.com/investing/2021/11/05/why-plug-and-nikola-dropped-bloom-energy-popped/\n",
      "https://www.thisismoney.co.uk/money/cars/article-10170265/RAY-MASSEY-Peugeots-plug-hybrid-308-make-green-envy.html\n",
      "https://banyanhill.com/peloton-plug-powerful-ev-rvs-go-brrrr/\n",
      "https://www.greenentrepreneur.com/article/395734\n",
      "https://www1.cbn.com/cbnnews/2021/november/texas-just-found-an-innovative-way-to-plug-border-gaps-and-channel-illegal-migrants-to-authorities\n",
      "http://www.lightreading.com/asia/xiaomi-plugs-cool-new-phone-liquid-cooling-tech-/d/d-id/773316?image_number=1\n",
      "https://www.benzinga.com/general/education/21/11/23894716/is-plug-powers-stock-overvalued-or-undervalued\n",
      "https://news.yahoo.com/plug-powers-stock-overvalued-undervalued-165008655.html\n",
      "https://www.energylivenews.com/2021/11/04/plug-in-vehicle-registrations-keep-soaring-in-worst-october-for-car-industry-in-30-years/\n",
      "https://www.businessinsider.com/labor-shortage-jewelry-store-retirement-washington-seattle-employment-jobs-2021-11\n",
      "https://www.fleetpoint.org/carandvannews/car/smmt-monthly-car-sales/plug-in-car-performance-holds-steady-despite-overall-registrations-falling/\n",
      "https://jerseyeveningpost.com/news/uk-news/2021/11/04/uk-car-industry-suffers-worst-october-in-30-years/\n",
      "https://news.yahoo.com/smmt-car-sales-october-uk-093127807.html\n",
      "https://www.fleetpoint.org/electric-vehicles-2/plug-in-hybrid/more-plug-in-vehicles-to-be-registered-in-2021-than-the-whole-of-the-last-decade/\n",
      "https://cardealermagazine.co.uk/publish/new-car-registrations-slumped-by-nearly-25-per-cent-in-october-but-plug-in-cars-provided-some-positivity/240706\n",
      "https://www.thesun.co.uk/sport/16626767/sam-bird-formula-e-jaguar-bmw-audi-mercedes/\n",
      "https://www.thestar.co.uk/lifestyle/cars/ford-ranger-plug-in-hybrid-undergoes-extreme-testing-ahead-of-reveal-date-3443523\n",
      "https://www.hudsonstarobserver.com/where-can-i-plug-in-my-vehicle/article_d703b4a2-3cbc-11ec-b684-0b85d772ae76.html\n",
      "https://www.prnewswire.com/news-releases/thinking-about-buying-stock-in-phunware-fuelcell-energy-timber-pharmaceuticals-plug-power-or-workhorse-group-301415447.html\n",
      "https://newsheater.com/2021/11/03/mobile-telesystems-public-joint-stock-company-mbt-upgraded-issued-by-wall-street-gurus/\n",
      "https://www.einpresswire.com/article/555441263/automotive-electric-oil-pump-market-hybrid-electric-vehicle-hev-and-plug-in-hybrid-electric-vehicle-phev-by-2026\n",
      "https://www.toronto.com/community-story/10510894-review-2021-ford-escape-plug-in-hybrid/\n",
      "https://www.investorsalley.com/plug-stock-price-breaks-40-for-the-first-time-since-march/\n",
      "https://jamaica-gleaner.com/article/business/20211103/sales-platform-developer-hopes-plug-post-pandemic-online-boom\n",
      "https://www.news.com.au/technology/motoring/motoring-news/peugeot-to-launch-two-plugin-hybrid-vehicles-in-australia/news-story/598aab2d4ff9d677389a5be5d9b1dce8\n",
      "https://www.drive.com.au/news/2022-peugeot-508-price-and-specs-gt-plug-in-hybrid-arrives-from-76990/\n",
      "https://www.drive.com.au/news/2022-peugeot-3008-price-and-specs-gt-sport-plug-in-hybrid-added-from-79990/\n",
      "https://investorplace.com/2021/11/7-stocks-to-buy-that-could-benefit-from-the-roaring-tesla-rally/\n"
     ]
    }
   ],
   "source": [
    "for i in response['value']:\n",
    "    print(i['url'])"
   ]
  },
  {
   "cell_type": "code",
   "execution_count": 70,
   "metadata": {},
   "outputs": [
    {
     "name": "stdout",
     "output_type": "stream",
     "text": [
      "[0.29185733 0.30904349 0.43654851 0.27129046 0.34126776 0.4615587\n",
      " 0.44669564 0.         0.46142567 0.154225   0.         0.\n",
      " 0.14630514 0.         0.3196947  0.36464667 0.4305363  0.\n",
      " 0.31081692 0.159021   0.40221191 0.33664041 0.34165752 0.31142481\n",
      " 0.40628177 0.37634468 0.31851863 0.         0.45862815 0.45920416\n",
      " 0.3951347  0.20223834 0.36562126 0.40979027 0.38542192 0.43247627\n",
      " 0.30043076 0.         0.21721695 0.         0.         0.15677092\n",
      " 0.22156069 0.27645681 0.37265274 0.41062643 0.43978796 0.36206374\n",
      " 0.36522505 0.29027189]\n"
     ]
    }
   ],
   "source": [
    "q = \"PLUG\"\n",
    "bm25 = BM25()\n",
    "bm25.fit(corpus)\n",
    "result_vec = bm25.transform(q, corpus)\n",
    "print(result_vec)"
   ]
  },
  {
   "cell_type": "code",
   "execution_count": 132,
   "metadata": {},
   "outputs": [],
   "source": [
    "# from requests_html import AsyncHTMLSession\n",
    "# session = AsyncHTMLSession()\n",
    "# r = session.get(uurl)\n",
    "# r = r.result()\n",
    "# print(r.html.text)"
   ]
  },
  {
   "cell_type": "code",
   "execution_count": 71,
   "metadata": {},
   "outputs": [],
   "source": [
    "def build_corpus_fromurl(url_list):\n",
    "    corpus = []\n",
    "    headers = {\"User-Agent\":\"Mozilla/5.0\"}\n",
    "    for i in url_list:\n",
    "        response = requests.get(url=i['url'],headers=headers)\n",
    "        if response.status_code==200:\n",
    "            soup = BeautifulSoup(response.content, 'html.parser')\n",
    "            corpus.append(soup.get_text())\n",
    "    return corpus"
   ]
  },
  {
   "cell_type": "code",
   "execution_count": 14,
   "metadata": {},
   "outputs": [],
   "source": [
    "#corpus = build_corpus_fromurl(response['value'])"
   ]
  },
  {
   "cell_type": "code",
   "execution_count": 72,
   "metadata": {},
   "outputs": [],
   "source": [
    "def get_pgraphs(soup):\n",
    "    pgraphs=[]\n",
    "    if soup.find('p')!=None:\n",
    "        freshsoup = BeautifulSoup(str(soup(\"p\")),'html.parser')\n",
    "        for p in freshsoup(\"p\"):\n",
    "            pgraphs.append(p.get_text())\n",
    "    else:\n",
    "        freshsoup = re.split('\\n\\n',soup.get_text())\n",
    "        for x in range(0,len(freshsoup)):\n",
    "            if len(freshsoup[x])>3:\n",
    "                pgraphs.append(freshsoup[x])\n",
    "    return pgraphs"
   ]
  },
  {
   "cell_type": "code",
   "execution_count": 80,
   "metadata": {
    "scrolled": true
   },
   "outputs": [],
   "source": [
    "def get_subdocs(pgraphs, max_tokens, min_sen=4):\n",
    "    sub_docs=[]\n",
    "\n",
    "    for x in range(0, len(pgraphs)):\n",
    "        sen_cnt = len(re.split('\\n|\\. ',pgraphs[x]))\n",
    "        tkns = int(len(tokenizer(pgraphs[x])['input_ids']))\n",
    "        \n",
    "        if tkns>=max_tokens:\n",
    "                cut_point = pgraphs[x].rfind(\".\",0,int(len(pgraphs[x])/2))+1\n",
    "                sen2 = pgraphs[x][cut_point:]\n",
    "                sen = pgraphs[x][0:cut_point]\n",
    "                sub_docs.append(sen)\n",
    "                sub_docs.append(sen2)\n",
    "        else:\n",
    "            sub_docs.append(pgraphs[x])\n",
    "        \n",
    "\n",
    "    \n",
    "    return sub_docs"
   ]
  },
  {
   "cell_type": "code",
   "execution_count": 81,
   "metadata": {
    "scrolled": true
   },
   "outputs": [
    {
     "name": "stdout",
     "output_type": "stream",
     "text": [
      "https://www.fool.com/investing/2021/11/09/ballard-power-bloom-energy-nikola-stocks-drop/?source=iedfolrf0000001\n",
      "96\n",
      "85\n",
      "65\n",
      "https://timesofmalta.com/articles/view/shopify-plug-in-introduced-to-ecabs-fastdrop-platform.913614\n",
      "78\n",
      "67\n",
      "https://arstechnica.com/?p=1811536\n",
      "56\n",
      "73\n",
      "73\n",
      "37\n",
      "https://nesn.com/2021/11/tom-brady-responds-to-aaron-rodgers-question-with-shameless-plug/\n",
      "24\n",
      "https://www.refinery29.com/en-us/2021/11/10740548/maude-cone-butt-plug?utm_source=feed&utm_medium=rss\n",
      "11\n",
      "377\n",
      "384\n",
      "30\n",
      "https://in.pcmag.com/smart-plugs/146046/kasa-smart-wi-fi-outdoor-plug-in-dimmer-kp-405\n",
      "165\n",
      "138\n",
      "104\n",
      "183\n",
      "83\n",
      "135\n",
      "102\n",
      "153\n",
      "https://insideevs.com/news/546198/uk-plugin-car-sales-october2021/\n",
      "53\n",
      "29\n",
      "66\n",
      "35\n",
      "27\n",
      "https://trailer-wiring-diagram.com/7-core-trailer-wiring-diagram/narva-trailer-plug-wiring-diagram-7-core-trailer-wiring-diagram/\n",
      "https://investorplace.com/2021/11/plug-powers-rally-is-just-beginning/\n",
      "12\n",
      "79\n",
      "91\n",
      "99\n",
      "54\n",
      "109\n",
      "80\n",
      "62\n",
      "125\n",
      "20\n",
      "37\n",
      "https://www.prweb.com/releases/autonomous_holds_7_day_launch_event_with_savings_up_to_6k_for_plug_and_play_building/prweb18317826.htm\n",
      "http://zacks.com/stock/research/plug/brokerage-reports?searchby=ticker&amp;t=plug&amp;type=brk&amp;page=16\n",
      "17\n",
      "10\n",
      "19\n",
      "10\n",
      "10\n",
      "10\n",
      "http://zacks.com/stock/research/plug/all-news?page=11&t=plug\n",
      "47\n",
      "26\n",
      "30\n",
      "27\n",
      "76\n",
      "60\n",
      "38\n",
      "26\n",
      "43\n",
      "26\n",
      "http://kuow.org/stories/in-new-climate-order-inslee-says-washington-state-vehicles-to-plug-in\n",
      "62\n",
      "https://www.wenatcheeworld.com/news/plug-in-nov-9-10/article_50916d34-40c6-11ec-be26-c7c2e5c4fde2.html\n",
      "https://investorplace.com/2021/11/fuel-cell-stocks-alert-what-is-going-on-with-plug-and-fcel-stocks-today/\n",
      "56\n",
      "72\n",
      "54\n",
      "https://codelist.biz/2021/11/08/the-mitsubishi-outlander-phev-opens-november-with-a-discount/\n",
      "68\n",
      "80\n",
      "https://www.newswise.com/articles/view/760416/?sc=c7\n",
      "303\n",
      "379\n",
      "71\n",
      "111\n",
      "202\n",
      "145\n",
      "71\n",
      "111\n",
      "202\n",
      "145\n",
      "https://www.zacks.com/stock/chart/plug/price-eps-surprise?icid=chart-plug-price-eps-surprise\n",
      "31\n",
      "11\n",
      "8\n",
      "7\n",
      "https://www.plantengineering.com/articles/plug-and-play-robot-ecosystems-on-the-rise/\n",
      "102\n",
      "101\n",
      "18\n",
      "35\n",
      "74\n",
      "41\n",
      "45\n",
      "66\n",
      "49\n",
      "98\n",
      "100\n",
      "85\n",
      "https://theisleofthanetnews.com/2021/11/07/pie-factory-music-relaunches-soundcheck-campaign-to-plug-gap-in-mental-health-support-for-young-people/\n",
      "47\n",
      "https://insideevs.com/news/545467/norway-plugin-car-sales-ctober2021/\n",
      "42\n",
      "42\n",
      "40\n",
      "36\n",
      "https://www.medpagetoday.com/meetingcoverage/tct/95492\n",
      "105\n",
      "63\n",
      "87\n",
      "56\n",
      "39\n",
      "http://industryfocus@fool.com/investing/2021/11/05/why-plug-and-nikola-dropped-bloom-energy-popped/\n",
      "65\n",
      "35\n",
      "87\n",
      "https://www.thisismoney.co.uk/money/cars/article-10170265/RAY-MASSEY-Peugeots-plug-hybrid-308-make-green-envy.html\n",
      "38\n",
      "23\n",
      "32\n",
      "30\n",
      "53\n",
      "31\n",
      "8\n",
      "57\n",
      "https://banyanhill.com/peloton-plug-powerful-ev-rvs-go-brrrr/\n",
      "28\n",
      "10\n",
      "105\n",
      "42\n",
      "36\n",
      "62\n",
      "66\n",
      "52\n",
      "50\n",
      "63\n",
      "https://www.greenentrepreneur.com/article/395734\n",
      "47\n",
      "90\n",
      "399\n",
      "19\n",
      "153\n",
      "101\n",
      "https://www1.cbn.com/cbnnews/2021/november/texas-just-found-an-innovative-way-to-plug-border-gaps-and-channel-illegal-migrants-to-authorities\n",
      "51\n",
      "68\n",
      "http://www.lightreading.com/asia/xiaomi-plugs-cool-new-phone-liquid-cooling-tech-/d/d-id/773316?image_number=1\n",
      "https://www.benzinga.com/general/education/21/11/23894716/is-plug-powers-stock-overvalued-or-undervalued\n",
      "37\n",
      "32\n",
      "64\n",
      "88\n",
      "83\n",
      "105\n",
      "45\n",
      "32\n",
      "https://news.yahoo.com/plug-powers-stock-overvalued-undervalued-165008655.html\n",
      "37\n",
      "32\n",
      "64\n",
      "88\n",
      "83\n",
      "105\n",
      "45\n",
      "32\n",
      "https://www.energylivenews.com/2021/11/04/plug-in-vehicle-registrations-keep-soaring-in-worst-october-for-car-industry-in-30-years/\n",
      "39\n",
      "23\n",
      "28\n",
      "https://www.businessinsider.com/labor-shortage-jewelry-store-retirement-washington-seattle-employment-jobs-2021-11\n",
      "27\n",
      "79\n",
      "https://www.fleetpoint.org/carandvannews/car/smmt-monthly-car-sales/plug-in-car-performance-holds-steady-despite-overall-registrations-falling/\n",
      "66\n",
      "64\n",
      "68\n",
      "104\n",
      "104\n",
      "86\n",
      "https://jerseyeveningpost.com/news/uk-news/2021/11/04/uk-car-industry-suffers-worst-october-in-30-years/\n",
      "15\n",
      "31\n",
      "21\n",
      "53\n",
      "https://news.yahoo.com/smmt-car-sales-october-uk-093127807.html\n",
      "66\n",
      "64\n",
      "76\n",
      "https://www.fleetpoint.org/electric-vehicles-2/plug-in-hybrid/more-plug-in-vehicles-to-be-registered-in-2021-than-the-whole-of-the-last-decade/\n",
      "42\n",
      "116\n",
      "70\n",
      "61\n",
      "46\n",
      "121\n",
      "100\n",
      "https://cardealermagazine.co.uk/publish/new-car-registrations-slumped-by-nearly-25-per-cent-in-october-but-plug-in-cars-provided-some-positivity/240706\n",
      "29\n",
      "52\n",
      "54\n",
      "67\n",
      "https://www.thesun.co.uk/sport/16626767/sam-bird-formula-e-jaguar-bmw-audi-mercedes/\n",
      "29\n",
      "https://www.thestar.co.uk/lifestyle/cars/ford-ranger-plug-in-hybrid-undergoes-extreme-testing-ahead-of-reveal-date-3443523\n",
      "51\n",
      "https://www.hudsonstarobserver.com/where-can-i-plug-in-my-vehicle/article_d703b4a2-3cbc-11ec-b684-0b85d772ae76.html\n",
      "https://www.prnewswire.com/news-releases/thinking-about-buying-stock-in-phunware-fuelcell-energy-timber-pharmaceuticals-plug-power-or-workhorse-group-301415447.html\n",
      "46\n",
      "https://newsheater.com/2021/11/03/mobile-telesystems-public-joint-stock-company-mbt-upgraded-issued-by-wall-street-gurus/\n",
      "95\n",
      "https://www.einpresswire.com/article/555441263/automotive-electric-oil-pump-market-hybrid-electric-vehicle-hev-and-plug-in-hybrid-electric-vehicle-phev-by-2026\n",
      "144\n",
      "https://www.toronto.com/community-story/10510894-review-2021-ford-escape-plug-in-hybrid/\n",
      "https://www.investorsalley.com/plug-stock-price-breaks-40-for-the-first-time-since-march/\n",
      "46\n",
      "78\n",
      "59\n",
      "27\n",
      "https://jamaica-gleaner.com/article/business/20211103/sales-platform-developer-hopes-plug-post-pandemic-online-boom\n",
      "58\n",
      "36\n",
      "41\n",
      "83\n",
      "83\n",
      "47\n",
      "67\n",
      "45\n",
      "https://www.news.com.au/technology/motoring/motoring-news/peugeot-to-launch-two-plugin-hybrid-vehicles-in-australia/news-story/598aab2d4ff9d677389a5be5d9b1dce8\n",
      "38\n",
      "19\n",
      "33\n",
      "36\n",
      "41\n",
      "34\n",
      "20\n",
      "https://www.drive.com.au/news/2022-peugeot-508-price-and-specs-gt-plug-in-hybrid-arrives-from-76990/\n",
      "45\n",
      "70\n",
      "48\n",
      "https://www.drive.com.au/news/2022-peugeot-3008-price-and-specs-gt-sport-plug-in-hybrid-added-from-79990/\n",
      "25\n",
      "39\n",
      "66\n",
      "85\n",
      "84\n",
      "64\n",
      "https://investorplace.com/2021/11/7-stocks-to-buy-that-could-benefit-from-the-roaring-tesla-rally/\n",
      "76\n",
      "89\n",
      "73\n",
      "45\n"
     ]
    }
   ],
   "source": [
    "doc_cutoff = 0.25\n",
    "subdoc_cutoff = 0\n",
    "\n",
    "for i in response['value']:\n",
    "    print(i['url'])\n",
    "    headers = {\"User-Agent\":\"Mozilla/5.0\"}\n",
    "    uspon = requests.get(url=i['url'],headers=headers)\n",
    "    if uspon.status_code==200:\n",
    "        soup = BeautifulSoup(uspon.content, 'html.parser')\n",
    "\n",
    "        pgraphs = get_pgraphs(soup)\n",
    "        sub_docs = get_subdocs(pgraphs,max_tokens)\n",
    "        \n",
    "        bm25.fit(sub_docs)\n",
    "        result_vec = bm25.transform(q, sub_docs)\n",
    "        \n",
    "        sentiments = []\n",
    "        for x in range(0,len(sub_docs)):\n",
    "            if result_vec[x]>0:\n",
    "                print(len(tokenizer(sub_docs[x])['input_ids']))\n",
    "                s = classifier(sub_docs[x])\n",
    "                scr = s[0]['score']\n",
    "                if s[0]['label']==\"NEGATIVE\":\n",
    "                    scr=scr*-1\n",
    "                sentiments.append(scr)\n",
    "    else:\n",
    "        print(uspon.status_code)"
   ]
  },
  {
   "cell_type": "code",
   "execution_count": 82,
   "metadata": {},
   "outputs": [
    {
     "name": "stdout",
     "output_type": "stream",
     "text": [
      "[-0.981147289276123, -0.9988498687744141, 0.9922612309455872, 0.9609275460243225]\n"
     ]
    }
   ],
   "source": [
    "print(sentiments)"
   ]
  },
  {
   "cell_type": "code",
   "execution_count": 184,
   "metadata": {},
   "outputs": [
    {
     "name": "stdout",
     "output_type": "stream",
     "text": [
      "[0.0433606  0.04105189 0.03070828 0.        ]\n",
      "Length:  4\n",
      "Mean Score:  0.028780191640045347\n",
      "Median Score:  0.03588008440179806\n"
     ]
    }
   ],
   "source": [
    "q = \"PLUG\"\n",
    "bm25 = BM25()\n",
    "bm25.fit(corpus)\n",
    "result_vec = bm25.transform(q, subs)\n",
    "print(result_vec)\n",
    "print(\"Length: \",len(result_vec))\n",
    "print(\"Mean Score: \",np.mean(result_vec))\n",
    "print(\"Median Score: \", np.median(result_vec))"
   ]
  },
  {
   "cell_type": "code",
   "execution_count": null,
   "metadata": {},
   "outputs": [],
   "source": []
  }
 ],
 "metadata": {
  "kernelspec": {
   "display_name": "Python 3",
   "language": "python",
   "name": "python3"
  },
  "language_info": {
   "codemirror_mode": {
    "name": "ipython",
    "version": 3
   },
   "file_extension": ".py",
   "mimetype": "text/x-python",
   "name": "python",
   "nbconvert_exporter": "python",
   "pygments_lexer": "ipython3",
   "version": "3.8.5"
  }
 },
 "nbformat": 4,
 "nbformat_minor": 4
}
