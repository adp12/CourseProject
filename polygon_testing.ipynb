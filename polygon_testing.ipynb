{
 "cells": [
  {
   "cell_type": "code",
   "execution_count": 1,
   "metadata": {},
   "outputs": [],
   "source": [
    "import requests\n",
    "import datetime\n",
    "from transformers import pipeline\n",
    "from bs4 import BeautifulSoup\n",
    "from config import config\n",
    "from pyBM25 import BM25"
   ]
  },
  {
   "cell_type": "code",
   "execution_count": 35,
   "metadata": {},
   "outputs": [],
   "source": [
    "cfig = config()\n",
    "polykey = cfig.polygon"
   ]
  },
  {
   "cell_type": "code",
   "execution_count": 36,
   "metadata": {},
   "outputs": [],
   "source": [
    "ticker = \"PLUG\"\n",
    "published = \"11/01/2021\"\n",
    "r_lim = \"100\""
   ]
  },
  {
   "cell_type": "code",
   "execution_count": 37,
   "metadata": {},
   "outputs": [],
   "source": [
    "#Polygon ticker information request\n",
    "url = ('https://api.polygon.io/v1/meta/symbols/'\n",
    "      +ticker+'/'\n",
    "      +'company?'\n",
    "      'apikey='+polykey\n",
    "      )"
   ]
  },
  {
   "cell_type": "code",
   "execution_count": 3,
   "metadata": {},
   "outputs": [],
   "source": [
    "stopwords=[]\n",
    "with open('stopwords.txt') as f:\n",
    "    stopwords.append(f.read().splitlines())"
   ]
  },
  {
   "cell_type": "code",
   "execution_count": 4,
   "metadata": {},
   "outputs": [],
   "source": [
    "bm25 = BM25(stopwords=stop_words)"
   ]
  },
  {
   "cell_type": "code",
   "execution_count": 38,
   "metadata": {},
   "outputs": [],
   "source": [
    "response = requests.get(url)\n",
    "if response.status_code==200:\n",
    "    response = response.json()\n",
    "else:\n",
    "    print(response.status_code)"
   ]
  },
  {
   "cell_type": "code",
   "execution_count": 39,
   "metadata": {
    "scrolled": true
   },
   "outputs": [
    {
     "name": "stdout",
     "output_type": "stream",
     "text": [
      "logo\n",
      "listdate\n",
      "cik\n",
      "bloomberg\n",
      "figi\n",
      "lei\n",
      "sic\n",
      "country\n",
      "industry\n",
      "sector\n",
      "marketcap\n",
      "employees\n",
      "phone\n",
      "ceo\n",
      "url\n",
      "description\n",
      "exchange\n",
      "name\n",
      "symbol\n",
      "exchangeSymbol\n",
      "hq_address\n",
      "hq_state\n",
      "hq_country\n",
      "type\n",
      "updated\n",
      "tags\n",
      "similar\n",
      "active\n"
     ]
    }
   ],
   "source": [
    "#Show available items\n",
    "for k,v in response.items():\n",
    "    print(k)"
   ]
  },
  {
   "cell_type": "code",
   "execution_count": null,
   "metadata": {},
   "outputs": [],
   "source": []
  },
  {
   "cell_type": "code",
   "execution_count": 40,
   "metadata": {},
   "outputs": [
    {
     "name": "stdout",
     "output_type": "stream",
     "text": [
      "Plug Power Inc.\n"
     ]
    }
   ],
   "source": [
    "print(response['name'])"
   ]
  },
  {
   "cell_type": "code",
   "execution_count": 41,
   "metadata": {},
   "outputs": [
    {
     "name": "stdout",
     "output_type": "stream",
     "text": [
      "['Technology', 'Electronic Components', 'Computer Hardware']\n"
     ]
    }
   ],
   "source": [
    "print(response['tags'])"
   ]
  },
  {
   "cell_type": "code",
   "execution_count": 42,
   "metadata": {},
   "outputs": [
    {
     "name": "stdout",
     "output_type": "stream",
     "text": [
      "['BLDP', 'AETI', 'APD', 'GE', 'LOW', 'PG', 'WMT', 'ESNC', 'CPST', 'FCEL', 'XLK']\n"
     ]
    }
   ],
   "source": [
    "print(response['similar'])"
   ]
  },
  {
   "cell_type": "code",
   "execution_count": 43,
   "metadata": {},
   "outputs": [],
   "source": [
    "#Polygon news request for ticker\n",
    "url = ('https://api.polygon.io/v2/reference/news?'\n",
    "      'ticker='+ticker+'&'\n",
    "      'published_utc/gte='+published+'&'\n",
    "      'limit='+r_lim+'&'\n",
    "      'sort=published_utc&'\n",
    "      'apikey='+polykey\n",
    "      )"
   ]
  },
  {
   "cell_type": "code",
   "execution_count": 44,
   "metadata": {},
   "outputs": [],
   "source": [
    "response = requests.get(url)\n",
    "if response.status_code==200:\n",
    "    response = response.json()\n",
    "else:\n",
    "    print(response.status_code)"
   ]
  },
  {
   "cell_type": "code",
   "execution_count": 45,
   "metadata": {},
   "outputs": [
    {
     "name": "stdout",
     "output_type": "stream",
     "text": [
      "{'id': 'IMenOuT3kpJ_QszyUlr4Lm_brz-7oAkEShUurebv-R8', 'publisher': {'name': 'The Motley Fool', 'homepage_url': 'https://www.fool.com/', 'logo_url': 'https://s3.polygon.io/public/assets/news/logos/themotleyfool.svg', 'favicon_url': 'https://s3.polygon.io/public/assets/news/favicons/themotleyfool.ico'}, 'title': \"Why Ballard Power, Bloom Energy, and Nikola Stocks All Dropped Today -- But Plug Didn't\", 'author': 'newsfeedback@fool.com (Rich Smith)', 'published_utc': '2021-11-09T17:54:06Z', 'article_url': 'https://www.fool.com/investing/2021/11/09/ballard-power-bloom-energy-nikola-stocks-drop/', 'tickers': ['BLDP', 'PLUG', 'BE', 'NKLA'], 'amp_url': 'https://www.fool.com/amp/investing/2021/11/09/ballard-power-bloom-energy-nikola-stocks-drop/', 'image_url': 'https://g.foolcdn.com/editorial/images/652033/3-arrows-trending-down-over-a-background-of-a-map-and-dollar-signs.jpg', 'description': 'What went up just came back down -- mostly.', 'keywords': ['investing']}\n"
     ]
    }
   ],
   "source": [
    "print(response['results'][0])"
   ]
  },
  {
   "cell_type": "code",
   "execution_count": 46,
   "metadata": {},
   "outputs": [
    {
     "name": "stdout",
     "output_type": "stream",
     "text": [
      "id\n",
      "publisher\n",
      "title\n",
      "author\n",
      "published_utc\n",
      "article_url\n",
      "tickers\n",
      "amp_url\n",
      "image_url\n",
      "description\n",
      "keywords\n"
     ]
    }
   ],
   "source": [
    "for i in response['results'][0]:\n",
    "    print(i)"
   ]
  },
  {
   "cell_type": "code",
   "execution_count": 47,
   "metadata": {},
   "outputs": [
    {
     "name": "stdout",
     "output_type": "stream",
     "text": [
      "['BLDP', 'PLUG', 'BE', 'NKLA']\n"
     ]
    }
   ],
   "source": [
    "print(response['results'][0]['tickers'])"
   ]
  },
  {
   "cell_type": "code",
   "execution_count": 48,
   "metadata": {},
   "outputs": [
    {
     "name": "stdout",
     "output_type": "stream",
     "text": [
      "What went up just came back down -- mostly.\n"
     ]
    }
   ],
   "source": [
    "print(response['results'][0]['description'])"
   ]
  },
  {
   "cell_type": "code",
   "execution_count": 49,
   "metadata": {},
   "outputs": [
    {
     "name": "stdout",
     "output_type": "stream",
     "text": [
      "https://www.fool.com/investing/2021/11/09/ballard-power-bloom-energy-nikola-stocks-drop/\n",
      "https://www.fool.com/investing/2021/11/08/why-plug-power-bloom-fuelcell-stocks-rocketed/\n",
      "https://www.fool.com/investing/2021/11/06/brookfield-renewable-continues-to-deliver-high-pow/\n",
      "https://seekingalpha.com/article/4466326-plug-power-stock-next-energy-giant\n",
      "https://www.globenewswire.com/news-release/2021/11/05/2328808/9619/en/Plug-Power-to-Announce-2021-Third-Quarter-Results.html\n",
      "https://www.zacks.com/stock/news/1824677/plug-power-plug-to-post-q3-earnings-whats-in-the-offing\n",
      "https://www.fool.com/investing/2021/11/05/why-plug-and-nikola-dropped-bloom-energy-popped/\n",
      "https://www.benzinga.com/general/education/21/11/23894716/is-plug-powers-stock-overvalued-or-undervalued\n",
      "https://www.fool.com/investing/2021/11/03/why-shares-of-plug-power-are-tanking-today/\n",
      "https://www.zacks.com/stock/news/1822219/plug-power-plug-stock-sinks-as-market-gains-what-you-should-know\n",
      "https://www.fool.com/investing/2021/11/02/why-plug-power-stock-jumped-then-slumped-tuesday/\n",
      "https://www.fool.com/investing/2021/11/01/why-plug-power-bloom-fuelcell-stocks-catapulted/\n",
      "https://www.zacks.com/stock/news/1821192/plug-power-plug-expected-to-beat-earnings-estimates-what-to-know-ahead-of-q3-release\n",
      "https://www.investing.com/analysis/blink-breaks-out-200607002\n",
      "https://www.zacks.com/stock/news/1820815/emerson-emr-to-report-q4-earnings-whats-in-the-offing\n",
      "https://www.fool.com/investing/2021/11/01/top-automakers-are-investing-in-fuel-cells-should/\n",
      "https://www.fool.com/investing/2021/10/29/why-shares-of-plug-power-are-rising-today/\n",
      "https://www.zacks.com/stock/news/1820149/supply-chain-cost-woes-to-influence-xylems-xyl-q3-earnings\n",
      "https://www.fool.com/investing/2021/10/28/why-plug-power-bloom-clean-energy-stocks-rocketed/\n",
      "https://seekingalpha.com/article/4462757-stonks-the-canary-in-the-stock-market-coal-mine\n",
      "https://www.zacks.com/stock/news/1818121/plug-power-plug-gains-as-market-dips-what-you-should-know\n",
      "https://www.fool.com/investing/2021/10/27/why-plug-power-stock-jumped-today/\n",
      "https://www.globenewswire.com/news-release/2021/10/27/2321712/9619/fr/Plug-Power-et-Lhyfe-concluent-un-accord-pour-le-d%C3%A9veloppement-de-sites-de-production-d-hydrog%C3%A8ne-renouvelable-%C3%A0-travers-l-Europe.html\n",
      "https://www.globenewswire.com/news-release/2021/10/27/2321712/9619/en/Plug-Power-and-Lhyfe-announce-commercial-arrangement-to-develop-green-hydrogen-plants-throughout-Europe.html\n",
      "https://www.zacks.com/stock/news/1816787/stanley-black-swk-to-post-q3-earnings-whats-in-the-cards\n",
      "https://www.zacks.com/stock/news/1816782/illinois-tool-itw-to-post-q3-earnings-whats-in-the-cards\n",
      "https://www.fool.com/investing/2021/10/25/why-plug-power-stock-surged-monday/\n",
      "https://www.zacks.com/stock/news/1815878/flowserve-fls-to-report-q3-earnings-whats-in-the-cards\n",
      "https://www.fool.com/investing/2021/10/24/plug-fuelcell-bloom-energy-stocks-dropped-friday/\n",
      "https://www.zacks.com/stock/news/1815132/3m-mmm-gears-up-to-post-q3-earnings-whats-in-the-offing\n",
      "https://www.zacks.com/stock/news/1815131/general-electric-ge-to-post-q3-earnings-whats-in-store\n",
      "https://www.fool.com/investing/2021/10/21/fuelcell-denison-mines-and-enovix-stocks-popped/\n",
      "https://www.fool.com/investing/2021/10/21/why-shares-of-plug-power-are-surging-today/\n",
      "https://www.fool.com/investing/2021/10/21/could-plug-power-stock-help-you-become-millionaire/\n",
      "https://www.fool.com/investing/2021/10/21/3-meme-stocks-that-are-solid-long-term-picks/\n",
      "https://www.fool.com/investing/2021/10/20/why-plug-power-stock-tumbled-this-morning/\n",
      "https://www.fool.com/investing/2021/10/19/why-plug-power-enphase-and-sunpower-stocks-popped/\n",
      "https://www.zacks.com/stock/news/1812567/roper-rop-to-report-q3-earnings-whats-in-the-offing\n",
      "https://www.zacks.com/stock/news/1812528/allegion-alle-to-report-q3-earnings-whats-in-the-offing\n",
      "https://www.fool.com/investing/2021/10/18/why-shares-of-plug-power-are-climbing-today/\n",
      "https://www.fool.com/investing/2021/10/18/why-fuelcell-stock-just-popped-14/\n",
      "https://www.benzinga.com/news/21/10/23405718/5-key-ev-headlines-you-may-have-missed-this-week\n",
      "https://www.zacks.com/stock/news/1811148/plug-power-plug-stock-sinks-as-market-gains-what-you-should-know\n",
      "https://www.benzinga.com/analyst-ratings/analyst-color/21/10/23398909/why-plug-power-analysts-are-bullish-after-hydrogen-green-energy-companys-investor-d\n",
      "https://www.fool.com/investing/2021/10/15/why-plug-power-stock-is-rocking-again-today/\n",
      "https://www.benzinga.com/news/21/10/23396007/this-legacy-automaker-has-a-better-one-year-return-than-gm-tesla-nio-and-plug-power\n",
      "https://www.fool.com/investing/2021/10/15/why-plug-power-enphase-and-bloom-shares-soared/\n",
      "https://www.benzinga.com/m-a/21/10/23379401/plug-power-rolls-out-guidance-revision-hydrogen-powered-van-prototype-demo-australian-giga-news-and\n",
      "https://www.globenewswire.com/news-release/2021/10/14/2314573/9619/fr/Plug-Power-d%C3%A9voile-le-premier-Renault-Master-Van-%C3%A0-l-hydrog%C3%A8ne-HYVIA-lors-du-Plug-Power-Symposium.html\n",
      "https://www.benzinga.com/news/21/10/23378648/why-fuelcell-stock-could-be-the-laggard-alternative-energy-play-to-plug-power\n",
      "https://www.fool.com/investing/2021/10/14/why-plug-power-stock-sank-today/\n",
      "https://www.globenewswire.com/news-release/2021/10/14/2314425/9619/en/Plug-Power-Hosts-2021-Plug-Symposium.html\n",
      "https://www.globenewswire.com/news-release/2021/10/14/2314409/9619/en/Plug-Power-Unveils-the-First-HYVIA-Hydrogen-Renault-Master-Van-at-Plug-Power-Symposium.html\n",
      "https://www.globenewswire.com/news-release/2021/10/14/2314391/9619/en/Plug-Power-Announces-Execution-of-Definitive-Agreement-to-Acquire-Applied-Cryo-Technologies.html\n",
      "https://www.zacks.com/stock/news/1810546/company-news-for-oct-14-2021\n",
      "https://www.marketwatch.com/story/plug-power-stock-soars-to-match-its-longest-win-streak-in-two-years-after-morgan-stanley-says-buy-ahead-of-analyst-day-11634141576\n",
      "https://www.benzinga.com/trading-ideas/long-ideas/21/10/23368343/gamestop-becomes-top-wallstreetbets-interest-again-tesla-plug-power-and-these-stocks-are\n",
      "https://invezz.com/news/2021/10/13/should-you-buy-plug-power-shares-after-receiving-an-upgrade-from-morgan-stanley/\n",
      "https://www.fool.com/investing/2021/10/13/why-bloom-energys-stock-is-bouncing-higher-wednesd/\n",
      "https://www.benzinga.com/analyst-ratings/analyst-color/21/10/23354672/why-this-plug-power-analyst-is-turning-bullish-ahead-of-investor-day\n",
      "https://www.fool.com/investing/2021/10/13/why-plug-powers-stock-is-popping-today/\n",
      "https://www.benzinga.com/news/21/10/23356107/plug-power-shares-charge-as-hydrogen-energy-company-announces-twin-partnerships\n",
      "https://www.marketwatch.com/story/plug-power-stock-rallies-toward-6th-straight-gain-ahead-of-annual-symposium-11634053272\n",
      "https://www.globenewswire.com/news-release/2021/10/13/2313322/9619/en/Plug-Power-Partners-with-Airbus-on-Landmark-Study-to-Decarbonize-Air-Travel-Airport-Operations-with-Green-Hydrogen.html\n",
      "https://www.fool.com/investing/2021/10/13/4-growth-stocks-with-187-to-434-upside-wall-street/\n",
      "https://www.fool.com/investing/2021/10/12/why-plug-power-stock-is-on-fire-today/\n",
      "https://www.fool.com/investing/2021/10/12/will-plug-power-keep-crashing/\n",
      "https://www.fool.com/investing/2021/10/11/why-plug-power-stock-surged-today/\n",
      "https://www.zacks.com/stock/news/1809240/new-strong-sell-stocks-for-october-11th\n",
      "https://seekingalpha.com/article/4459333-wall-street-breakfast-get-ready-for-earnings-podcast\n",
      "https://seekingalpha.com/article/4459312-wall-street-breakfast-rising-prices\n",
      "https://www.zacks.com/stock/news/1808740/should-vanguard-russell-2000-growth-etf-vtwg-be-on-your-investing-radar\n",
      "https://seekingalpha.com/article/4459225-wall-street-breakfast\n",
      "https://www.benzinga.com/news/21/10/23303496/5-key-ev-headlines-you-may-have-missed-this-week-teslas-texas-show-bulls-pile-into-nio-plug-powers-u\n",
      "https://www.fool.com/investing/2021/10/08/why-plug-power-stock-popped-friday-morning/\n",
      "https://www.fool.com/investing/2021/10/07/why-plug-power-stock-popped-today/\n",
      "https://www.fool.com/investing/2021/10/07/why-shares-of-nikola-raced-higher-on-thursday/\n",
      "https://www.zacks.com/stock/news/1807038/plug-power-plug-outpaces-stock-market-gains-what-you-should-know\n",
      "https://invezz.com/news/2021/10/06/plug-power-stock-price-forecast-for-q4-amid-hydrogen-fuel-cell-expansion-plans/\n",
      "https://www.fool.com/investing/2021/10/06/why-plug-power-stock-popped-today/\n",
      "https://www.benzinga.com/news/21/10/23258877/this-camera-company-has-a-better-one-year-return-than-facebook-apple-starbucks-nio-and-plug-power\n",
      "https://www.benzinga.com/news/21/10/23258457/plug-power-forms-jv-with-sk-group-to-accelerate-hydrogen-energy-use-in-asia-what-you-need-to-know\n",
      "https://www.fool.com/investing/2021/10/05/why-bloom-energy-and-plug-power-stocks-surged-/\n",
      "https://www.fool.com/investing/2021/10/04/heres-why-aemetis-hyzon-motors-and-plug-power-are/\n",
      "https://www.fool.com/investing/2021/10/01/why-plug-power-stock-dropped-today/\n",
      "https://www.zacks.com/stock/news/1803439/plug-power-plug-gains-as-market-dips-what-you-should-know\n",
      "https://www.zacks.com/stock/news/1803203/bloom-energys-be-hydrogen-fuel-cells-in-commercial-use\n",
      "https://www.benzinga.com/trading-ideas/long-ideas/21/09/23138773/why-blink-carnival-and-plug-power-stocks-are-holding-strong-through-general-market-turbu\n",
      "https://www.fool.com/investing/2021/09/28/why-shares-of-plug-power-are-tanking-on-tuesday/\n",
      "https://www.benzinga.com/trading-ideas/long-ideas/21/09/23120672/plug-powers-stock-climbs-as-tesla-fuelcell-energy-push-the-ev-sector\n",
      "https://www.fool.com/investing/2021/09/27/bloom-energy-fuelcell-energy-and-plug-power-stocks/\n",
      "https://www.benzinga.com/news/21/09/23103714/analysts-upgraded-plug-power-roku-dave-busters-and-salesforce-as-prices-climb\n",
      "https://www.benzinga.com/news/21/09/23084503/ev-week-in-review-cathie-woods-big-statement-on-tesla-chip-crunch-scare-for-li-auto-workshorses-trav\n",
      "https://www.marketwatch.com/story/plug-power-stock-surges-after-piper-sandler-says-time-to-buy-citing-tremendous-forward-momentum-on-green-hydrogen-plans-11632419659\n",
      "https://www.benzinga.com/trading-ideas/long-ideas/21/09/23075452/is-plug-powers-stock-starting-to-heat-up\n",
      "https://www.fool.com/investing/2021/09/23/why-shares-of-plug-power-popped-today/\n",
      "https://www.fool.com/investing/2021/09/22/why-fuelcell-energy-bloom-energy-and-plug-power-st/\n",
      "https://www.zacks.com/stock/news/1799245/plug-power-plug-gains-as-market-dips-what-you-should-know\n",
      "https://www.benzinga.com/trading-ideas/long-ideas/21/09/23039909/why-the-trend-is-your-friend-for-expedia-cloudflare-plug-power-stocks\n",
      "https://www.fool.com/investing/2021/09/21/why-plug-power-stock-bounced-back-today/\n"
     ]
    }
   ],
   "source": [
    "for i in response['results']:\n",
    "    print(i['article_url'])"
   ]
  },
  {
   "cell_type": "code",
   "execution_count": null,
   "metadata": {},
   "outputs": [],
   "source": [
    "uspon = requests.get(uurl)\n",
    "print(uspon.status_code)"
   ]
  }
 ],
 "metadata": {
  "kernelspec": {
   "display_name": "Python 3",
   "language": "python",
   "name": "python3"
  },
  "language_info": {
   "codemirror_mode": {
    "name": "ipython",
    "version": 3
   },
   "file_extension": ".py",
   "mimetype": "text/x-python",
   "name": "python",
   "nbconvert_exporter": "python",
   "pygments_lexer": "ipython3",
   "version": "3.8.5"
  }
 },
 "nbformat": 4,
 "nbformat_minor": 4
}
