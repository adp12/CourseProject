{
 "cells": [
  {
   "cell_type": "code",
   "execution_count": 3,
   "metadata": {},
   "outputs": [],
   "source": [
    "import os\n",
    "import numpy as np\n",
    "import pandas as pd\n",
    "from util.data_manager import data_manager\n",
    "\n",
    "import dash\n",
    "from dash import html\n",
    "from dash import dcc\n",
    "import plotly.graph_objects as go\n",
    "import plotly.express as px\n",
    "from plotly.subplots import make_subplots\n",
    "from dash.dependencies import Input, Output"
   ]
  },
  {
   "cell_type": "code",
   "execution_count": 2,
   "metadata": {},
   "outputs": [],
   "source": [
    "#setting data manager\n",
    "datadir = os.path.join(os.getcwd(),\"_data\")\n",
    "manager = data_manager(datadir=datadir)\n",
    "tickerlist = manager.get_ticker_list()"
   ]
  },
  {
   "cell_type": "markdown",
   "metadata": {},
   "source": [
    "# Interactive Dashboard"
   ]
  },
  {
   "cell_type": "code",
   "execution_count": 5,
   "metadata": {
    "collapsed": true
   },
   "outputs": [
    {
     "name": "stdout",
     "output_type": "stream",
     "text": [
      "Dash is running on http://127.0.0.1:8050/\n",
      "\n",
      "Dash is running on http://127.0.0.1:8050/\n",
      "\n",
      " * Serving Flask app '__main__' (lazy loading)\n",
      " * Environment: production\n",
      "\u001b[31m   WARNING: This is a development server. Do not use it in a production deployment.\u001b[0m\n",
      "\u001b[2m   Use a production WSGI server instead.\u001b[0m\n",
      " * Debug mode: off\n"
     ]
    },
    {
     "name": "stderr",
     "output_type": "stream",
     "text": [
      " * Running on http://127.0.0.1:8050/ (Press CTRL+C to quit)\n",
      "127.0.0.1 - - [06/Dec/2021 18:21:38] \"GET / HTTP/1.1\" 200 -\n",
      "127.0.0.1 - - [06/Dec/2021 18:21:38] \"GET /_dash-layout HTTP/1.1\" 200 -\n",
      "127.0.0.1 - - [06/Dec/2021 18:21:38] \"GET /_dash-dependencies HTTP/1.1\" 200 -\n",
      "127.0.0.1 - - [06/Dec/2021 18:21:38] \"GET /_favicon.ico?v=2.0.0 HTTP/1.1\" 200 -\n",
      "127.0.0.1 - - [06/Dec/2021 18:21:38] \"GET /_dash-component-suites/dash/dcc/async-dropdown.js HTTP/1.1\" 200 -\n"
     ]
    },
    {
     "name": "stdout",
     "output_type": "stream",
     "text": [
      "Exception on /_dash-update-component [POST]\n",
      "Traceback (most recent call last):\n",
      "  File \"C:\\Users\\Hrishikesh Deshmukh\\Anaconda3\\lib\\site-packages\\flask\\app.py\", line 2073, in wsgi_app\n",
      "    response = self.full_dispatch_request()\n",
      "  File \"C:\\Users\\Hrishikesh Deshmukh\\Anaconda3\\lib\\site-packages\\flask\\app.py\", line 1518, in full_dispatch_request\n",
      "    rv = self.handle_user_exception(e)\n",
      "  File \"C:\\Users\\Hrishikesh Deshmukh\\Anaconda3\\lib\\site-packages\\flask\\app.py\", line 1516, in full_dispatch_request\n",
      "    rv = self.dispatch_request()\n",
      "  File \"C:\\Users\\Hrishikesh Deshmukh\\Anaconda3\\lib\\site-packages\\flask\\app.py\", line 1502, in dispatch_request\n",
      "    return self.ensure_sync(self.view_functions[rule.endpoint])(**req.view_args)\n",
      "  File \"C:\\Users\\Hrishikesh Deshmukh\\Anaconda3\\lib\\site-packages\\dash\\dash.py\", line 1336, in dispatch\n",
      "    response.set_data(func(*args, outputs_list=outputs_list))\n",
      "  File \"C:\\Users\\Hrishikesh Deshmukh\\Anaconda3\\lib\\site-packages\\dash\\_callback.py\", line 151, in add_context\n",
      "    output_value = func(*func_args, **func_kwargs)  # %% callback invoked %%\n",
      "  File \"<ipython-input-5-62b82dbf20af>\", line 39, in update_graph\n",
      "    price_df = price_df.sort_values(by='pub_date')\n",
      "AttributeError: 'int' object has no attribute 'sort_values'\n",
      "Exception on /_dash-update-component [POST]\n",
      "Traceback (most recent call last):\n",
      "  File \"C:\\Users\\Hrishikesh Deshmukh\\Anaconda3\\lib\\site-packages\\flask\\app.py\", line 2073, in wsgi_app\n",
      "    response = self.full_dispatch_request()\n",
      "  File \"C:\\Users\\Hrishikesh Deshmukh\\Anaconda3\\lib\\site-packages\\flask\\app.py\", line 1518, in full_dispatch_request\n",
      "    rv = self.handle_user_exception(e)\n",
      "  File \"C:\\Users\\Hrishikesh Deshmukh\\Anaconda3\\lib\\site-packages\\flask\\app.py\", line 1516, in full_dispatch_request\n",
      "    rv = self.dispatch_request()\n",
      "  File \"C:\\Users\\Hrishikesh Deshmukh\\Anaconda3\\lib\\site-packages\\flask\\app.py\", line 1502, in dispatch_request\n",
      "    return self.ensure_sync(self.view_functions[rule.endpoint])(**req.view_args)\n",
      "  File \"C:\\Users\\Hrishikesh Deshmukh\\Anaconda3\\lib\\site-packages\\dash\\dash.py\", line 1336, in dispatch\n",
      "    response.set_data(func(*args, outputs_list=outputs_list))\n",
      "  File \"C:\\Users\\Hrishikesh Deshmukh\\Anaconda3\\lib\\site-packages\\dash\\_callback.py\", line 151, in add_context\n",
      "    output_value = func(*func_args, **func_kwargs)  # %% callback invoked %%\n",
      "  File \"<ipython-input-5-62b82dbf20af>\", line 39, in update_graph\n",
      "    price_df = price_df.sort_values(by='pub_date')\n",
      "AttributeError: 'int' object has no attribute 'sort_values'\n"
     ]
    },
    {
     "name": "stderr",
     "output_type": "stream",
     "text": [
      "127.0.0.1 - - [06/Dec/2021 18:21:39] \"POST /_dash-update-component HTTP/1.1\" 500 -\n",
      "127.0.0.1 - - [06/Dec/2021 18:21:39] \"GET /_dash-component-suites/dash/dcc/async-graph.js HTTP/1.1\" 200 -\n",
      "127.0.0.1 - - [06/Dec/2021 18:21:39] \"GET /_dash-component-suites/dash/dcc/async-plotlyjs.js HTTP/1.1\" 200 -\n"
     ]
    },
    {
     "name": "stdout",
     "output_type": "stream",
     "text": [
      "Exception on /_dash-update-component [POST]\n",
      "Traceback (most recent call last):\n",
      "  File \"C:\\Users\\Hrishikesh Deshmukh\\Anaconda3\\lib\\site-packages\\flask\\app.py\", line 2073, in wsgi_app\n",
      "    response = self.full_dispatch_request()\n",
      "  File \"C:\\Users\\Hrishikesh Deshmukh\\Anaconda3\\lib\\site-packages\\flask\\app.py\", line 1518, in full_dispatch_request\n",
      "    rv = self.handle_user_exception(e)\n",
      "  File \"C:\\Users\\Hrishikesh Deshmukh\\Anaconda3\\lib\\site-packages\\flask\\app.py\", line 1516, in full_dispatch_request\n",
      "    rv = self.dispatch_request()\n",
      "  File \"C:\\Users\\Hrishikesh Deshmukh\\Anaconda3\\lib\\site-packages\\flask\\app.py\", line 1502, in dispatch_request\n",
      "    return self.ensure_sync(self.view_functions[rule.endpoint])(**req.view_args)\n",
      "  File \"C:\\Users\\Hrishikesh Deshmukh\\Anaconda3\\lib\\site-packages\\dash\\dash.py\", line 1336, in dispatch\n",
      "    response.set_data(func(*args, outputs_list=outputs_list))\n",
      "  File \"C:\\Users\\Hrishikesh Deshmukh\\Anaconda3\\lib\\site-packages\\dash\\_callback.py\", line 151, in add_context\n",
      "    output_value = func(*func_args, **func_kwargs)  # %% callback invoked %%\n",
      "  File \"<ipython-input-5-62b82dbf20af>\", line 39, in update_graph\n",
      "    price_df = price_df.sort_values(by='pub_date')\n",
      "AttributeError: 'int' object has no attribute 'sort_values'\n",
      "Exception on /_dash-update-component [POST]\n",
      "Traceback (most recent call last):\n",
      "  File \"C:\\Users\\Hrishikesh Deshmukh\\Anaconda3\\lib\\site-packages\\flask\\app.py\", line 2073, in wsgi_app\n",
      "    response = self.full_dispatch_request()\n",
      "  File \"C:\\Users\\Hrishikesh Deshmukh\\Anaconda3\\lib\\site-packages\\flask\\app.py\", line 1518, in full_dispatch_request\n",
      "    rv = self.handle_user_exception(e)\n",
      "  File \"C:\\Users\\Hrishikesh Deshmukh\\Anaconda3\\lib\\site-packages\\flask\\app.py\", line 1516, in full_dispatch_request\n",
      "    rv = self.dispatch_request()\n",
      "  File \"C:\\Users\\Hrishikesh Deshmukh\\Anaconda3\\lib\\site-packages\\flask\\app.py\", line 1502, in dispatch_request\n",
      "    return self.ensure_sync(self.view_functions[rule.endpoint])(**req.view_args)\n",
      "  File \"C:\\Users\\Hrishikesh Deshmukh\\Anaconda3\\lib\\site-packages\\dash\\dash.py\", line 1336, in dispatch\n",
      "    response.set_data(func(*args, outputs_list=outputs_list))\n",
      "  File \"C:\\Users\\Hrishikesh Deshmukh\\Anaconda3\\lib\\site-packages\\dash\\_callback.py\", line 151, in add_context\n",
      "    output_value = func(*func_args, **func_kwargs)  # %% callback invoked %%\n",
      "  File \"<ipython-input-5-62b82dbf20af>\", line 39, in update_graph\n",
      "    price_df = price_df.sort_values(by='pub_date')\n",
      "AttributeError: 'int' object has no attribute 'sort_values'\n"
     ]
    },
    {
     "name": "stderr",
     "output_type": "stream",
     "text": [
      "127.0.0.1 - - [06/Dec/2021 18:21:42] \"POST /_dash-update-component HTTP/1.1\" 500 -\n",
      "127.0.0.1 - - [06/Dec/2021 18:21:54] \"POST /_dash-update-component HTTP/1.1\" 200 -\n",
      "127.0.0.1 - - [06/Dec/2021 18:21:58] \"POST /_dash-update-component HTTP/1.1\" 200 -\n",
      "127.0.0.1 - - [06/Dec/2021 18:22:25] \"POST /_dash-update-component HTTP/1.1\" 200 -\n",
      "127.0.0.1 - - [06/Dec/2021 18:22:27] \"POST /_dash-update-component HTTP/1.1\" 200 -\n"
     ]
    },
    {
     "name": "stdout",
     "output_type": "stream",
     "text": [
      "Exception on /_dash-update-component [POST]\n",
      "Traceback (most recent call last):\n",
      "  File \"C:\\Users\\Hrishikesh Deshmukh\\Anaconda3\\lib\\site-packages\\flask\\app.py\", line 2073, in wsgi_app\n",
      "    response = self.full_dispatch_request()\n",
      "  File \"C:\\Users\\Hrishikesh Deshmukh\\Anaconda3\\lib\\site-packages\\flask\\app.py\", line 1518, in full_dispatch_request\n",
      "    rv = self.handle_user_exception(e)\n",
      "  File \"C:\\Users\\Hrishikesh Deshmukh\\Anaconda3\\lib\\site-packages\\flask\\app.py\", line 1516, in full_dispatch_request\n",
      "    rv = self.dispatch_request()\n",
      "  File \"C:\\Users\\Hrishikesh Deshmukh\\Anaconda3\\lib\\site-packages\\flask\\app.py\", line 1502, in dispatch_request\n",
      "    return self.ensure_sync(self.view_functions[rule.endpoint])(**req.view_args)\n",
      "  File \"C:\\Users\\Hrishikesh Deshmukh\\Anaconda3\\lib\\site-packages\\dash\\dash.py\", line 1336, in dispatch\n",
      "    response.set_data(func(*args, outputs_list=outputs_list))\n",
      "  File \"C:\\Users\\Hrishikesh Deshmukh\\Anaconda3\\lib\\site-packages\\dash\\_callback.py\", line 151, in add_context\n",
      "    output_value = func(*func_args, **func_kwargs)  # %% callback invoked %%\n",
      "  File \"<ipython-input-5-62b82dbf20af>\", line 39, in update_graph\n",
      "    price_df = price_df.sort_values(by='pub_date')\n",
      "AttributeError: 'int' object has no attribute 'sort_values'\n",
      "Exception on /_dash-update-component [POST]\n",
      "Traceback (most recent call last):\n",
      "  File \"C:\\Users\\Hrishikesh Deshmukh\\Anaconda3\\lib\\site-packages\\flask\\app.py\", line 2073, in wsgi_app\n",
      "    response = self.full_dispatch_request()\n",
      "  File \"C:\\Users\\Hrishikesh Deshmukh\\Anaconda3\\lib\\site-packages\\flask\\app.py\", line 1518, in full_dispatch_request\n",
      "    rv = self.handle_user_exception(e)\n",
      "  File \"C:\\Users\\Hrishikesh Deshmukh\\Anaconda3\\lib\\site-packages\\flask\\app.py\", line 1516, in full_dispatch_request\n",
      "    rv = self.dispatch_request()\n",
      "  File \"C:\\Users\\Hrishikesh Deshmukh\\Anaconda3\\lib\\site-packages\\flask\\app.py\", line 1502, in dispatch_request\n",
      "    return self.ensure_sync(self.view_functions[rule.endpoint])(**req.view_args)\n",
      "  File \"C:\\Users\\Hrishikesh Deshmukh\\Anaconda3\\lib\\site-packages\\dash\\dash.py\", line 1336, in dispatch\n",
      "    response.set_data(func(*args, outputs_list=outputs_list))\n",
      "  File \"C:\\Users\\Hrishikesh Deshmukh\\Anaconda3\\lib\\site-packages\\dash\\_callback.py\", line 151, in add_context\n",
      "    output_value = func(*func_args, **func_kwargs)  # %% callback invoked %%\n",
      "  File \"<ipython-input-5-62b82dbf20af>\", line 39, in update_graph\n",
      "    price_df = price_df.sort_values(by='pub_date')\n",
      "AttributeError: 'int' object has no attribute 'sort_values'\n"
     ]
    },
    {
     "name": "stderr",
     "output_type": "stream",
     "text": [
      "127.0.0.1 - - [06/Dec/2021 18:22:56] \"POST /_dash-update-component HTTP/1.1\" 500 -\n"
     ]
    }
   ],
   "source": [
    "\n",
    "app = dash.Dash(__name__,)\n",
    "\n",
    "tickerlist = manager.get_ticker_list()\n",
    "\n",
    "app.layout = html.Div([\n",
    "    html.Div([\n",
    "        html.H1(children = 'Financial News Sentiment Analysis', \n",
    "                style = {'textAlign':'center','marginTop':40,'marginBottom':40}),\n",
    "        \n",
    "\n",
    "        dcc.Dropdown(\n",
    "            id='ticker-dropdown',\n",
    "            options = [{'label':t, 'value':t} for t in tickerlist],\n",
    "            value='Select Ticker'),\n",
    "\n",
    "        dcc.Checklist(\n",
    "            id='graph-display',\n",
    "            options=[\n",
    "                {'label': x, 'value': x} for x in ['scores', 'relevance', 'sentiments']\n",
    "            ],\n",
    "            value='scores',\n",
    "            labelStyle={'display':'inline-block'}\n",
    "        ),\n",
    "        \n",
    "        dcc.Graph(id = 'stock_chart')\n",
    "         \n",
    "    ], style={'float':'left','display':'inline-block'})         \n",
    "])\n",
    "\n",
    "@app.callback(\n",
    "    Output('stock_chart','figure'),\n",
    "    Input('ticker-dropdown', 'value'),\n",
    "    Input('graph-display','value')\n",
    ")\n",
    "\n",
    "def update_graph(ticker, display):\n",
    "    \n",
    "    price_df = manager.get_pricedf(ticker=ticker)\n",
    "    price_df = price_df.sort_values(by='pub_date')\n",
    "    \n",
    "    fig = make_subplots(rows=3, cols=1, shared_xaxes=True,vertical_spacing=0.05, subplot_titles=(ticker,'Sentiment_Score', 'Used News Volume'), \n",
    "               row_width=[0.4, 0.6, 1.5], specs=[[{\"secondary_y\": True}],[{\"secondary_y\": True}],[{\"secondary_y\": True}]])\n",
    "    fig.add_trace(go.Candlestick(x=price_df['pub_date'],\n",
    "                    open=price_df['open'], high=price_df['high'],\n",
    "                    low=price_df['low'], close=price_df['close'], name=\"Price\"),\n",
    "                   secondary_y=True, row=1,col=1)\n",
    "\n",
    "    fig.add_trace(go.Bar(x=price_df['pub_date'], y=price_df['volume'],opacity=0.2, name='Volume'),secondary_y=False)\n",
    "    if 'scores' in display:\n",
    "        fig.add_trace(go.Line(x=price_df['pub_date'], y=price_df['scores'], showlegend=True, name='scores'), row=2, col=1)\n",
    "    if 'sentiments' in display:\n",
    "        fig.add_trace(go.Line(x=price_df['pub_date'], y=price_df['sentiments'], showlegend=True, name='sentiments'), row=2, col=1)\n",
    "    if 'relevance' in display:\n",
    "        fig.add_trace(go.Line(x=price_df['pub_date'], y=price_df['relevance'], showlegend=True, name='relevance'), row=2, col=1)\n",
    "    fig.add_trace(go.Bar(x=price_df['pub_date'],y=price_df['Doc_Volume'],opacity=0.2, name='Used News Volume'),row=3, col=1)\n",
    "    fig.update_layout(xaxis_rangeslider_visible=False, width=1000, height=750)\n",
    "    fig.layout.yaxis2.showgrid=False\n",
    "    \n",
    "    return fig\n",
    "\n",
    "\n",
    "app.run_server()"
   ]
  },
  {
   "cell_type": "code",
   "execution_count": null,
   "metadata": {},
   "outputs": [],
   "source": [
    "ticker = \"AAPL\""
   ]
  },
  {
   "cell_type": "code",
   "execution_count": null,
   "metadata": {},
   "outputs": [],
   "source": [
    "price_df = manager.get_pricedf(ticker=ticker)\n",
    "price_df = price_df.sort_values(by='pub_date')\n",
    "fig = make_subplots(rows=3, cols=1, shared_xaxes=True,vertical_spacing=0.02, subplot_titles=(ticker,'Sentiment_Score', 'Used News Volume'), \n",
    "               row_width=[0.4, 0.4, 1.5], specs=[[{\"secondary_y\": True}],[{\"secondary_y\": True}],[{\"secondary_y\": True}]])\n",
    "fig.add_trace(go.Candlestick(x=price_df['pub_date'],\n",
    "                open=price_df['open'], high=price_df['high'],\n",
    "                low=price_df['low'], close=price_df['close'], name=\"Price\"),\n",
    "               secondary_y=True, row=1,col=1)\n",
    "\n",
    "fig.add_trace(go.Bar(x=price_df['pub_date'], y=price_df['volume'],opacity=0.2, name='Volume'),secondary_y=False)\n",
    "fig.add_trace(go.Line(x=price_df['pub_date'], y=price_df['scores'], showlegend=False), row=2, col=1)\n",
    "#fig.add_trace(go.Line(x=price_df['pub_date'], y=price_df['sentiments'], showlegend=False), row=2, col=1)\n",
    "#fig.add_trace(go.Line(x=price_df['pub_date'], y=price_df['relevance'], showlegend=False), row=2, col=1)\n",
    "fig.add_trace(go.Bar(x=price_df['pub_date'],y=price_df['Doc_Volume'],opacity=0.2, name='Used News Volume'),row=3, col=1)\n",
    "fig.update_layout(xaxis_rangeslider_visible=False, width=1000, height=750)\n",
    "fig.layout.yaxis2.showgrid=False\n",
    "fig.show()"
   ]
  }
 ],
 "metadata": {
  "kernelspec": {
   "display_name": "Python 3",
   "language": "python",
   "name": "python3"
  },
  "language_info": {
   "codemirror_mode": {
    "name": "ipython",
    "version": 3
   },
   "file_extension": ".py",
   "mimetype": "text/x-python",
   "name": "python",
   "nbconvert_exporter": "python",
   "pygments_lexer": "ipython3",
   "version": "3.7.3"
  }
 },
 "nbformat": 4,
 "nbformat_minor": 4
}
