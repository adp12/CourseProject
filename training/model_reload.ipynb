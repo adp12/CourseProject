{
 "cells": [
  {
   "cell_type": "code",
   "execution_count": 17,
   "metadata": {},
   "outputs": [],
   "source": [
    "from datasets import load_dataset, DatasetDict, load_metric\n",
    "import pandas as pd\n",
    "import numpy as np\n",
    "import os\n",
    "import torch\n",
    "from transformers import DistilBertForSequenceClassification, DistilBertTokenizer, DataCollatorWithPadding, TrainingArguments, AutoModelForSequenceClassification\n",
    "from transformers import AutoModel\n",
    "from transformers import pipeline, Trainer\n",
    "import pickle\n",
    "from sklearn.metrics import accuracy_score, recall_score, precision_score, f1_score"
   ]
  },
  {
   "cell_type": "code",
   "execution_count": 18,
   "metadata": {},
   "outputs": [],
   "source": [
    "model = DistilBertForSequenceClassification.from_pretrained('distilbert-base-uncased-finetuned-sst-2-english')\n",
    "ourmodel = AutoModelForSequenceClassification.from_pretrained(\"adp12/cs410finetune1\")"
   ]
  },
  {
   "cell_type": "code",
   "execution_count": 19,
   "metadata": {},
   "outputs": [],
   "source": [
    "tokenizer = DistilBertTokenizer.from_pretrained('distilbert-base-uncased-finetuned-sst-2-english')"
   ]
  },
  {
   "cell_type": "code",
   "execution_count": 20,
   "metadata": {},
   "outputs": [],
   "source": [
    "classifier = pipeline(task='sentiment-analysis',model=model,tokenizer=tokenizer)\n",
    "ourclassifier = pipeline(task='sentiment-analysis',model=ourmodel,tokenizer=tokenizer)"
   ]
  },
  {
   "cell_type": "code",
   "execution_count": 21,
   "metadata": {},
   "outputs": [],
   "source": [
    "testdoc = '''\n",
    "Pinterest is not an MAU story\\nShares of the social media company have gotten hammered in 2021, slowly falling from the highs they hit in the first few months of the year. The company was up against tough 2020 comparables in its earnings reports. The use of Pinterest rose drastically during the COVID-19 pandemic, but as the world slowly reopened, the company saw slower growth internationally and even a decreasing user count in the U.S.\\nIn Q3 2020, for example, Pinterest has 98 million U.S. monthly active users (MAUs), but that decreased to 89 million in Q3 2021. In Q4 2020, Pinterest saw international MAU grow by 46%, compared to Q3 2021 growth of just 4%.\\xa0\\nWhile many investors worry about this declining growth, this isn't the primary key to success for Pinterest. The real opportunity for Pinterest is in the increased monetization of its MAUs. Pinterest has plenty of room for expansion of its average revenue per user (ARPU), especially when its ARPU of $1.41 is compared to other social media stocks. Snapchat (NYSE:SNAP) has an ARPU of $3.49, and Meta Platforms' (NASDAQ:FB) ARPU is a whopping $10. \\nThe company has made important strides during 2021 to increase this monetization. One of those was Pinterest TV -- where creators can sell products from a video -- as well as efforts to make it easier for users to add items to a cart to buy later. \\nThis increased effort makes advertising on Pinterest more valuable to advertisers, and if these efforts are effective at increasing its ARPU in 2022, investors could see accelerating revenue growth. Currently, the company is growing ARPU at 37% year over year, but the company has the potential to hasten this growth. If the improved efforts are successful, Pinterest could experience significant revenue growth, which could finally make Pinterest a favorable investment again in 2022 and send shares soaring.\\xa0\\n2. Lemonade's future is bright despite current losses\\nLike Pinterest, shares of the AI-based insurance company have been hammered in 2021. Almost six months after its initial public offering (IPO) in\n",
    "'''"
   ]
  },
  {
   "cell_type": "code",
   "execution_count": 22,
   "metadata": {},
   "outputs": [
    {
     "data": {
      "text/plain": [
       "[{'label': 'NEGATIVE', 'score': 0.959449291229248}]"
      ]
     },
     "execution_count": 22,
     "metadata": {},
     "output_type": "execute_result"
    }
   ],
   "source": [
    "classifier(testdoc)"
   ]
  },
  {
   "cell_type": "code",
   "execution_count": 23,
   "metadata": {},
   "outputs": [
    {
     "data": {
      "text/plain": [
       "[{'label': 'POSITIVE', 'score': 0.9688924551010132}]"
      ]
     },
     "execution_count": 23,
     "metadata": {},
     "output_type": "execute_result"
    }
   ],
   "source": [
    "ourclassifier(testdoc)"
   ]
  },
  {
   "cell_type": "code",
   "execution_count": null,
   "metadata": {},
   "outputs": [],
   "source": []
  }
 ],
 "metadata": {
  "kernelspec": {
   "display_name": "Python 3",
   "language": "python",
   "name": "python3"
  },
  "language_info": {
   "codemirror_mode": {
    "name": "ipython",
    "version": 3
   },
   "file_extension": ".py",
   "mimetype": "text/x-python",
   "name": "python",
   "nbconvert_exporter": "python",
   "pygments_lexer": "ipython3",
   "version": "3.8.5"
  }
 },
 "nbformat": 4,
 "nbformat_minor": 4
}
