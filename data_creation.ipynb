{
 "cells": [
  {
   "cell_type": "code",
   "execution_count": 2,
   "metadata": {},
   "outputs": [],
   "source": [
    "import requests\n",
    "from bs4 import BeautifulSoup\n",
    "import re\n",
    "from datetime import datetime\n",
    "from dateutil import parser as dparser\n",
    "import urllib.parse\n",
    "import timeit\n",
    "import os\n",
    "\n",
    "import numpy as np\n",
    "import pandas as pd\n",
    "import math\n",
    "\n",
    "from util.corpus import Corpus\n",
    "from util.config import config\n",
    "from util.pyRanker import BM25\n",
    "from util.web_query_v2 import web_query\n",
    "from util.ticker import Ticker\n",
    "from util.data_manager import data_manager\n",
    "import ipywidgets as widgets\n",
    "\n",
    "\n",
    "#pull api keys from the config file\n",
    "cfig=config()\n",
    "#setting data manager\n",
    "datadir = os.path.join(os.getcwd(),\"_data\")\n",
    "manager = data_manager(datadir=datadir)\n",
    "#initiating a corpus object\n",
    "corpus=Corpus()"
   ]
  },
  {
   "cell_type": "markdown",
   "metadata": {},
   "source": [
    "# Creating data\n",
    "- This notebook serves as an example of the data creation process used by the model. \n",
    "- You can define a ticker symbol to look up and get data on from the selected apis you have set up\n",
    "- You can also see the parameters for the search\n",
    "- At the bottom of the notebook, there is also an example of the data_manager storing and pulling in a dataset to graph :D"
   ]
  },
  {
   "cell_type": "markdown",
   "metadata": {},
   "source": [
    "## Setting Up\n",
    "\n",
    "The cell below contains adjustable parameters to be used by the example data creation pipeline. "
   ]
  },
  {
   "cell_type": "code",
   "execution_count": 19,
   "metadata": {},
   "outputs": [],
   "source": [
    "#Setting up query\n",
    "#date to start search\n",
    "d_start=\"9/1/2021\"\n",
    "\n",
    "#date to end search, can also be \"Now\"\n",
    "#d_end=\"11/15/2021\"\n",
    "d_end='Now'\n",
    "\n",
    "#number of urls to scrape from results, max will scrape all returned urls\n",
    "desired_docs='max'\n",
    "#identifies the type of prime query to use. this directly effects how the documents are ranked by the pyRanker\n",
    "#options are [name, ticker, both]\n",
    "prime_query='ticker'\n",
    "\n",
    "#page size of the api requests\n",
    "pagesizes = {'usearch':50, 'poly':700, 'currents':200 ,'newsapi':100}\n",
    "#apis to use when querying for the news\n",
    "apis = ['poly', 'currents', 'newsapi']\n",
    "#number of pages to try to get from these apis\n",
    "pages=2"
   ]
  },
  {
   "cell_type": "code",
   "execution_count": 13,
   "metadata": {},
   "outputs": [
    {
     "name": "stdout",
     "output_type": "stream",
     "text": [
      "Caterpillar Inc\n",
      "Caterpillar\n"
     ]
    }
   ],
   "source": [
    "#initiate ticker\n",
    "\n",
    "#Ticker symbol to create ticker object on\n",
    "ticker_symbol = \"CAT\"\n",
    "\n",
    "tick = Ticker(config=cfig, t=ticker_symbol)\n",
    "print(tick.name)\n",
    "print(tick.name_adj)"
   ]
  },
  {
   "cell_type": "markdown",
   "metadata": {},
   "source": [
    "## Example: Data Creation Pipeline\n",
    "Running the cell below will do all of the following in sequence:\n",
    "\n",
    "- query the selected apis to return scraped news data\n",
    "- setup the corpus with the scraped news\n",
    "- setup the ranker from util.pyRanker\n",
    "- build the queries to be used in ranking\n",
    "- create relevant info by subdividing the documents into sections and pruning them down into a relevant_set\n",
    "- run the relevant_set through our fine-tuned sequence classifier to get sentiments\n",
    "- building the datasets that can be stored by the datamanager for graphing\n",
    "\n",
    "Please note that this can take time depending on the parameters you have specified and how many urls are returned"
   ]
  },
  {
   "cell_type": "code",
   "execution_count": 21,
   "metadata": {
    "scrolled": false
   },
   "outputs": [
    {
     "name": "stdout",
     "output_type": "stream",
     "text": [
      "API requests\n",
      "Polygon: 515\n",
      "NewsAPI: 100 page: 1\n",
      "error on Newsapi page: 2\n",
      "Currents: 200 page: 2\n",
      "Returned Urls: 746\n",
      "Scraping Urls\n"
     ]
    },
    {
     "data": {
      "application/vnd.jupyter.widget-view+json": {
       "model_id": "71db708b2bf642c4960d28a8d847dcde",
       "version_major": 2,
       "version_minor": 0
      },
      "text/plain": [
       "IntProgress(value=0, max=746)"
      ]
     },
     "metadata": {},
     "output_type": "display_data"
    },
    {
     "name": "stdout",
     "output_type": "stream",
     "text": [
      "Sub-Dividing Documents\n"
     ]
    },
    {
     "data": {
      "application/vnd.jupyter.widget-view+json": {
       "model_id": "e4f4d07132e3471796b6889338147b4d",
       "version_major": 2,
       "version_minor": 0
      },
      "text/plain": [
       "IntProgress(value=0, max=685)"
      ]
     },
     "metadata": {},
     "output_type": "display_data"
    },
    {
     "name": "stderr",
     "output_type": "stream",
     "text": [
      "Token indices sequence length is longer than the specified maximum sequence length for this model (1039 > 512). Running this sequence through the model will result in indexing errors\n"
     ]
    },
    {
     "name": "stdout",
     "output_type": "stream",
     "text": [
      "Sub-docs: 6005\n",
      "Source count: 593\n",
      "Number of sub_docs: 6005\n",
      "Number zero ranked: 4973\n",
      "percent of useless subdocs: 82.81 %\n",
      "relevant sources: 572\n",
      "relevant sub_docs: 1032\n",
      "Getting Sentiments\n"
     ]
    },
    {
     "data": {
      "application/vnd.jupyter.widget-view+json": {
       "model_id": "fce499cbe01543f3ab4cc0e4be9bea4b",
       "version_major": 2,
       "version_minor": 0
      },
      "text/plain": [
       "IntProgress(value=0, max=1032)"
      ]
     },
     "metadata": {},
     "output_type": "display_data"
    },
    {
     "name": "stdout",
     "output_type": "stream",
     "text": [
      "Storing Data\n"
     ]
    },
    {
     "name": "stderr",
     "output_type": "stream",
     "text": [
      "C:\\Users\\Tony\\anaconda3\\lib\\site-packages\\pandas\\core\\indexing.py:1745: SettingWithCopyWarning:\n",
      "\n",
      "\n",
      "A value is trying to be set on a copy of a slice from a DataFrame.\n",
      "Try using .loc[row_indexer,col_indexer] = value instead\n",
      "\n",
      "See the caveats in the documentation: https://pandas.pydata.org/pandas-docs/stable/user_guide/indexing.html#returning-a-view-versus-a-copy\n",
      "\n"
     ]
    },
    {
     "name": "stdout",
     "output_type": "stream",
     "text": [
      "RunTime: 7.19 mins\n"
     ]
    }
   ],
   "source": [
    "\n",
    "start = timeit.default_timer()\n",
    "\n",
    "#Define Web_query object\n",
    "print('API requests')\n",
    "wq=web_query(config=cfig, apis=apis, pagesizes=pagesizes)\n",
    "\n",
    "#web_query_v2 for ticker object handling and multi-page api requests (when they work)\n",
    "wq.query_all(tickerobj=tick, d_start=d_start, d_end=d_end, threaded=True, pages=pages)\n",
    "\n",
    "#compile results into a singular dataframe\n",
    "wq.compile_results()\n",
    "print(\"Returned Urls:\",len(wq.results))\n",
    "\n",
    "#scrap text from the results urls to form documents\n",
    "print('Scraping Urls')\n",
    "wq.scrape_results(threaded=True, max_docs=desired_docs)\n",
    "\n",
    "\n",
    "#build corpus from web query results\n",
    "#corpus=Corpus()\n",
    "#store the web query data frame in the corpus for referencing urls and titles\n",
    "results = wq.get_results()\n",
    "corpus.set_results(results)\n",
    "#assign corpus documents as the web query documents and urls\n",
    "corpus.set_corpus(documents = wq.documents, urls = wq.urls)\n",
    "\n",
    "#Initiating Ranker\n",
    "bm25 = BM25(norm='l2', smooth_idf=True, stopwords=corpus.stopwords, sublinear_tf=True)\n",
    "bm25.fit(corpus.documents)\n",
    "\n",
    "#Building Queries\n",
    "corpus.build_queries(ticker=tick, prime=prime_query)\n",
    "#Ranking and Pruning\n",
    "corpus.rank_docs(ranker=bm25)\n",
    "corpus.prune_docs()\n",
    "\n",
    "#Sub-Dividing\n",
    "print('Sub-Dividing Documents')\n",
    "#corpus.sub_divide(tokenizer=tokenizer, cutoff=2, method='sen')\n",
    "corpus.sub_divide(cutoff=2, method='sen')\n",
    "print('Sub-docs:',len(corpus.sub_list))\n",
    "print('Source count:', len(corpus.sub_docs))\n",
    "\n",
    "#Ranking and Pruning\n",
    "corpus.rank_subdocs(ranker=bm25)\n",
    "corpus.prune_subdocs()\n",
    "\n",
    "print(\"Number of sub_docs:\",len(corpus.sub_list))\n",
    "t = np.array(corpus.sub_list_scores)\n",
    "z=np.where(t==0.0)\n",
    "print(\"Number zero ranked:\", len(z[0]))\n",
    "print(\"percent of useless subdocs:\", round((len(z[0])/len(corpus.sub_list))*100,2),\"%\")\n",
    "\n",
    "#Relevant Set\n",
    "corpus.make_relevant()\n",
    "corpus.rank_relevant(ranker=bm25)\n",
    "#shouldn't be any zeros because of the pruned subdocs, but cant hurt\n",
    "corpus.prune_relevant(method='finite',cutoff=0.0)\n",
    "print('relevant sources:',len(corpus.relevant_set))\n",
    "print('relevant sub_docs:',len(corpus.rel_list))\n",
    "\n",
    "#Sentiments\n",
    "print('Getting Sentiments')\n",
    "corpus.get_sentiments()\n",
    "\n",
    "#Building Dataset\n",
    "print('Storing Data')\n",
    "corpus.data_preprocess()\n",
    "corpus.build_fulldf()\n",
    "corpus.build_pricedf(ticker=tick)\n",
    "\n",
    "stop = timeit.default_timer()\n",
    "print('RunTime:',round((stop-start)/60,2),'mins')"
   ]
  },
  {
   "cell_type": "markdown",
   "metadata": {},
   "source": [
    "# Storing and Graphing\n",
    "\n",
    "In the below cells, the data_manager is called to store the dataframes created by the corpus.\n",
    "\n",
    "The dataframe will be stored locally in the _data directory of the repo and can be called back by the manager to graph"
   ]
  },
  {
   "cell_type": "code",
   "execution_count": 9,
   "metadata": {},
   "outputs": [
    {
     "ename": "NameError",
     "evalue": "name 'corpus' is not defined",
     "output_type": "error",
     "traceback": [
      "\u001b[1;31m---------------------------------------------------------------------------\u001b[0m",
      "\u001b[1;31mNameError\u001b[0m                                 Traceback (most recent call last)",
      "\u001b[1;32m<ipython-input-9-c33a04aecd93>\u001b[0m in \u001b[0;36m<module>\u001b[1;34m\u001b[0m\n\u001b[1;32m----> 1\u001b[1;33m \u001b[0mmanager\u001b[0m\u001b[1;33m.\u001b[0m\u001b[0mstore_data\u001b[0m\u001b[1;33m(\u001b[0m\u001b[0mticker\u001b[0m\u001b[1;33m=\u001b[0m\u001b[0mtick\u001b[0m\u001b[1;33m.\u001b[0m\u001b[0mticker\u001b[0m\u001b[1;33m,\u001b[0m \u001b[0mfull_df\u001b[0m\u001b[1;33m=\u001b[0m\u001b[0mcorpus\u001b[0m\u001b[1;33m.\u001b[0m\u001b[0mfull_df\u001b[0m\u001b[1;33m,\u001b[0m \u001b[0mprice_df\u001b[0m\u001b[1;33m=\u001b[0m\u001b[0mcorpus\u001b[0m\u001b[1;33m.\u001b[0m\u001b[0mprice_df\u001b[0m\u001b[1;33m)\u001b[0m\u001b[1;33m\u001b[0m\u001b[1;33m\u001b[0m\u001b[0m\n\u001b[0m\u001b[0;32m      2\u001b[0m \u001b[0mmanager\u001b[0m\u001b[1;33m.\u001b[0m\u001b[0mget_ticker_list\u001b[0m\u001b[1;33m(\u001b[0m\u001b[1;33m)\u001b[0m\u001b[1;33m\u001b[0m\u001b[1;33m\u001b[0m\u001b[0m\n\u001b[0;32m      3\u001b[0m \u001b[0mmanager\u001b[0m\u001b[1;33m.\u001b[0m\u001b[0mget_data_info\u001b[0m\u001b[1;33m(\u001b[0m\u001b[0mticker\u001b[0m\u001b[1;33m=\u001b[0m\u001b[0mtick\u001b[0m\u001b[1;33m.\u001b[0m\u001b[0mticker\u001b[0m\u001b[1;33m)\u001b[0m\u001b[1;33m\u001b[0m\u001b[1;33m\u001b[0m\u001b[0m\n",
      "\u001b[1;31mNameError\u001b[0m: name 'corpus' is not defined"
     ]
    }
   ],
   "source": [
    "manager.store_data(ticker=tick.ticker, full_df=corpus.full_df, price_df=corpus.price_df)\n",
    "manager.get_ticker_list()\n",
    "manager.get_data_info(ticker=tick.ticker)"
   ]
  },
  {
   "cell_type": "code",
   "execution_count": 14,
   "metadata": {},
   "outputs": [],
   "source": [
    "price_df = manager.get_pricedf(ticker=tick.ticker)\n",
    "price_df = price_df.sort_values(by='pub_date')"
   ]
  },
  {
   "cell_type": "code",
   "execution_count": 15,
   "metadata": {},
   "outputs": [
    {
     "data": {
      "application/vnd.plotly.v1+json": {
       "config": {
        "plotlyServerURL": "https://plot.ly"
       },
       "data": [
        {
         "close": [
          244.0200042724609,
          239.75999450683602,
          240.16000366210938,
          234.6499938964844,
          225.72999572753903,
          220.6999969482422,
          219.00999450683602,
          217.16000366210938,
          209.4499969482422,
          208.8600006103516,
          213.1300048828125,
          213.7899932861328,
          219.33999633789062,
          216.30999755859366,
          216.2700042724609,
          215.1000061035156,
          217.6300048828125,
          213.5200042724609,
          217.4199981689453,
          218.5800018310547,
          215.19000244140625,
          211.63999938964844,
          203.0800018310547,
          207.96,
          210.73,
          209.53,
          211.03,
          209.9,
          211.44,
          212.56,
          206.75,
          205.16,
          208.5,
          207.19,
          214.07,
          221.66,
          220.24,
          209.81,
          204.94,
          209.14,
          211.45,
          207.96,
          211.78,
          210.37,
          208.23,
          206.77,
          205.42,
          205.01,
          202.33,
          205.73,
          199.75,
          190.82,
          189.84,
          196.82,
          200,
          200.55,
          197.87,
          191.97,
          193.13,
          195.75,
          195.16,
          192.89,
          189.92,
          188.94,
          194.33,
          198.18,
          201.14,
          204.19,
          202.14,
          202.21,
          199.64,
          196.13,
          204.09,
          204.01,
          205.38,
          207.12,
          203.55,
          203.59,
          214.25,
          209.81,
          208.53,
          209.27,
          207.71,
          205.43,
          202.98,
          201.42,
          200.44,
          207.07,
          198.73,
          195.92,
          193.35,
          191.47,
          196.79,
          197.8
         ],
         "high": [
          246.69000244140625,
          244.3300018310547,
          241.2100067138672,
          239.19000244140625,
          236.6499938964844,
          227.9199981689453,
          221.97000122070312,
          219.38999938964844,
          218.2700042724609,
          211.80999755859366,
          214.8300018310547,
          216.7700042724609,
          221.92999267578125,
          221.75,
          216.77999877929688,
          218.6999969482422,
          217.9499969482422,
          217.55999755859366,
          218.58999633789062,
          218.9499969482422,
          219.0500030517578,
          215.63999938964844,
          203.75,
          208.63,
          210.96,
          210.37,
          212.07,
          211.06,
          212.69,
          214.51,
          208.67,
          210.9028,
          209.29,
          207.655,
          214.9,
          222.57,
          223.76,
          213.55,
          207.26,
          209.75,
          213.74,
          210.99,
          212.95,
          212.8,
          210.3423,
          208.1244,
          208.15,
          207.88,
          206.1,
          206.59,
          203.27,
          193.99,
          192.71,
          197.79,
          201.99,
          201.89,
          201.16,
          198.8743,
          195.91,
          196.39,
          196.58,
          197.1707,
          193.5846,
          191.25,
          194.8,
          198.68,
          201.48,
          205.18,
          202.3,
          203.31,
          202.785,
          200.43,
          204.5,
          209.75,
          206.88,
          207.81,
          206.5767,
          204.89,
          216.47,
          215.57,
          210.44,
          210.69,
          210.69,
          208.18,
          205.19,
          203.71,
          202.92,
          208.26,
          201.45,
          201.5,
          196.78,
          198.43,
          197.62,
          199.39
         ],
         "low": [
          242.32000732421875,
          238.6199951171875,
          236.05999755859366,
          234.4499969482422,
          225.5800018310547,
          220.02999877929688,
          215.6000061035156,
          216.6999969482422,
          207.8800048828125,
          205.5,
          211.17999267578125,
          212.5800018310547,
          215.3300018310547,
          215.2700042724609,
          213.55999755859366,
          214.58999633789062,
          214.05999755859366,
          211.33999633789062,
          214.3999938964844,
          214.8500061035156,
          214.6999969482422,
          211.22000122070312,
          199.22999572753903,
          202.305,
          207.575,
          207.86,
          209.5,
          207.0002,
          208.1,
          209.69,
          203.15,
          204.95,
          203.43,
          204.7001,
          208.96,
          214.57,
          218.47,
          209.72,
          203.59,
          205.83,
          210.8,
          206.61,
          208.92,
          210,
          207.845,
          204.77,
          204.895,
          204.82,
          201.64,
          201.87,
          199.45,
          188.475,
          186.98,
          194.93,
          197.6,
          198.75,
          197.7,
          191.63,
          192.41,
          193.61,
          194.74,
          192.68,
          189.58,
          187.72,
          192.6124,
          195.545,
          198.46,
          200.5301,
          199.74,
          200.51,
          199.47,
          195.92,
          197.05,
          203.24,
          203.81,
          203,
          201.82,
          202.61,
          211.25,
          208.96,
          207.88,
          208.3,
          206.76,
          205.26,
          200.85,
          200.66,
          199.66,
          203.08,
          196.614,
          193.28,
          191.5501,
          191.36,
          191.81,
          195.74
         ],
         "name": "Price",
         "open": [
          245.1199951171875,
          244.0500030517578,
          239.3999938964844,
          239,
          236.13999938964844,
          226.3000030517578,
          220.07000732421875,
          219.00999450683602,
          216.97000122070312,
          206.17999267578125,
          213.4900054931641,
          213.6000061035156,
          216.5399932861328,
          221.17999267578125,
          216.4499969482422,
          218.0399932861328,
          214.6199951171875,
          217.41000366210938,
          215.8999938964844,
          216.0200042724609,
          218.9600067138672,
          215.25999450683602,
          202.2700042724609,
          203.04,
          208.72,
          209.5,
          209.84,
          207.53,
          210,
          214,
          207.9,
          208,
          205.31,
          205.25,
          210,
          215.73,
          222.24,
          212.5,
          205.42,
          207.25,
          213.22,
          210.87,
          208.92,
          211.15,
          210.04,
          207.12,
          206.5,
          207.1,
          206.04,
          202.17,
          202.63,
          193.06,
          192,
          195.65,
          197.6,
          200.2,
          200.48,
          198.62,
          194.74,
          193.73,
          195.8,
          196.34,
          192.32,
          190.5,
          193.55,
          197.38,
          198.6,
          201.16,
          201.6,
          201.28,
          202.75,
          200.25,
          197.36,
          207.99,
          204.29,
          205.75,
          206.26,
          204,
          215.89,
          215.18,
          207.88,
          209.35,
          210,
          208,
          205,
          203.27,
          200.92,
          203.66,
          201,
          201.23,
          193.835,
          197.58,
          192.31,
          197.67
         ],
         "type": "candlestick",
         "x": [
          "2021-06-04",
          "2021-06-07",
          "2021-06-08",
          "2021-06-09",
          "2021-06-10",
          "2021-06-11",
          "2021-06-14",
          "2021-06-16",
          "2021-06-17",
          "2021-06-18",
          "2021-06-22",
          "2021-06-23",
          "2021-06-24",
          "2021-06-25",
          "2021-06-28",
          "2021-06-29",
          "2021-06-30",
          "2021-07-06",
          "2021-07-09",
          "2021-07-12",
          "2021-07-13",
          "2021-07-14",
          "2021-07-19",
          "2021-07-20",
          "2021-07-21",
          "2021-07-23",
          "2021-07-26",
          "2021-07-27",
          "2021-07-28",
          "2021-07-29",
          "2021-07-30",
          "2021-08-02",
          "2021-08-03",
          "2021-08-05",
          "2021-08-10",
          "2021-08-11",
          "2021-08-12",
          "2021-08-18",
          "2021-08-20",
          "2021-08-23",
          "2021-08-30",
          "2021-09-01",
          "2021-09-02",
          "2021-09-03",
          "2021-09-07",
          "2021-09-08",
          "2021-09-09",
          "2021-09-10",
          "2021-09-14",
          "2021-09-15",
          "2021-09-17",
          "2021-09-20",
          "2021-09-21",
          "2021-09-24",
          "2021-09-27",
          "2021-09-28",
          "2021-09-29",
          "2021-09-30",
          "2021-10-04",
          "2021-10-07",
          "2021-10-08",
          "2021-10-11",
          "2021-10-12",
          "2021-10-13",
          "2021-10-14",
          "2021-10-18",
          "2021-10-19",
          "2021-10-20",
          "2021-10-21",
          "2021-10-25",
          "2021-10-26",
          "2021-10-27",
          "2021-10-28",
          "2021-10-29",
          "2021-11-01",
          "2021-11-02",
          "2021-11-03",
          "2021-11-04",
          "2021-11-08",
          "2021-11-09",
          "2021-11-11",
          "2021-11-12",
          "2021-11-15",
          "2021-11-16",
          "2021-11-17",
          "2021-11-18",
          "2021-11-19",
          "2021-11-24",
          "2021-11-26",
          "2021-11-29",
          "2021-11-30",
          "2021-12-01",
          "2021-12-02",
          "2021-12-03"
         ],
         "xaxis": "x",
         "yaxis": "y2"
        },
        {
         "name": "Volume",
         "opacity": 0.2,
         "type": "bar",
         "x": [
          "2021-06-04",
          "2021-06-07",
          "2021-06-08",
          "2021-06-09",
          "2021-06-10",
          "2021-06-11",
          "2021-06-14",
          "2021-06-16",
          "2021-06-17",
          "2021-06-18",
          "2021-06-22",
          "2021-06-23",
          "2021-06-24",
          "2021-06-25",
          "2021-06-28",
          "2021-06-29",
          "2021-06-30",
          "2021-07-06",
          "2021-07-09",
          "2021-07-12",
          "2021-07-13",
          "2021-07-14",
          "2021-07-19",
          "2021-07-20",
          "2021-07-21",
          "2021-07-23",
          "2021-07-26",
          "2021-07-27",
          "2021-07-28",
          "2021-07-29",
          "2021-07-30",
          "2021-08-02",
          "2021-08-03",
          "2021-08-05",
          "2021-08-10",
          "2021-08-11",
          "2021-08-12",
          "2021-08-18",
          "2021-08-20",
          "2021-08-23",
          "2021-08-30",
          "2021-09-01",
          "2021-09-02",
          "2021-09-03",
          "2021-09-07",
          "2021-09-08",
          "2021-09-09",
          "2021-09-10",
          "2021-09-14",
          "2021-09-15",
          "2021-09-17",
          "2021-09-20",
          "2021-09-21",
          "2021-09-24",
          "2021-09-27",
          "2021-09-28",
          "2021-09-29",
          "2021-09-30",
          "2021-10-04",
          "2021-10-07",
          "2021-10-08",
          "2021-10-11",
          "2021-10-12",
          "2021-10-13",
          "2021-10-14",
          "2021-10-18",
          "2021-10-19",
          "2021-10-20",
          "2021-10-21",
          "2021-10-25",
          "2021-10-26",
          "2021-10-27",
          "2021-10-28",
          "2021-10-29",
          "2021-11-01",
          "2021-11-02",
          "2021-11-03",
          "2021-11-04",
          "2021-11-08",
          "2021-11-09",
          "2021-11-11",
          "2021-11-12",
          "2021-11-15",
          "2021-11-16",
          "2021-11-17",
          "2021-11-18",
          "2021-11-19",
          "2021-11-24",
          "2021-11-26",
          "2021-11-29",
          "2021-11-30",
          "2021-12-01",
          "2021-12-02",
          "2021-12-03"
         ],
         "xaxis": "x",
         "y": [
          1837900,
          2330700,
          2212300,
          2919600,
          6281800,
          8734900,
          7213300,
          4156900,
          7995300,
          7156400,
          3776400,
          3283400,
          6827600,
          11274200,
          3172000,
          3443400,
          3249500,
          4348100,
          3163800,
          2509000,
          2373300,
          3185200,
          5391100,
          3934667,
          3407298,
          2302578,
          2157931,
          2471965,
          3246866,
          3397079,
          5834914,
          3977107,
          3580499,
          2685825,
          4193557,
          7794082,
          4446237,
          2947719,
          2765514,
          2827365,
          1922125,
          4122888,
          2922282,
          2513016,
          2643189,
          2603093,
          2778162,
          2551174,
          3757600,
          3342723,
          6355040,
          9151051,
          5699855,
          2199472,
          3033101,
          3247465,
          2954707,
          4984013,
          2864563,
          3510517,
          2713300,
          2015161,
          4706721,
          3254395,
          5214380,
          2809428,
          2627001,
          2936002,
          3071279,
          3294689,
          2933573,
          3406655,
          4462713,
          4292216,
          3111067,
          3359153,
          3136978,
          2543452,
          5944657,
          3176400,
          4819820,
          1989692,
          2392576,
          2138038,
          3135672,
          2121099,
          2980754,
          3880485,
          3495977,
          4559906,
          6358024,
          3427043,
          3445667,
          3250927
         ],
         "yaxis": "y"
        },
        {
         "line": {
          "color": "purple"
         },
         "showlegend": false,
         "type": "scatter",
         "x": [
          "2021-06-04",
          "2021-06-07",
          "2021-06-08",
          "2021-06-09",
          "2021-06-10",
          "2021-06-11",
          "2021-06-14",
          "2021-06-16",
          "2021-06-17",
          "2021-06-18",
          "2021-06-22",
          "2021-06-23",
          "2021-06-24",
          "2021-06-25",
          "2021-06-28",
          "2021-06-29",
          "2021-06-30",
          "2021-07-06",
          "2021-07-09",
          "2021-07-12",
          "2021-07-13",
          "2021-07-14",
          "2021-07-19",
          "2021-07-20",
          "2021-07-21",
          "2021-07-23",
          "2021-07-26",
          "2021-07-27",
          "2021-07-28",
          "2021-07-29",
          "2021-07-30",
          "2021-08-02",
          "2021-08-03",
          "2021-08-05",
          "2021-08-10",
          "2021-08-11",
          "2021-08-12",
          "2021-08-18",
          "2021-08-20",
          "2021-08-23",
          "2021-08-30",
          "2021-09-01",
          "2021-09-02",
          "2021-09-03",
          "2021-09-07",
          "2021-09-08",
          "2021-09-09",
          "2021-09-10",
          "2021-09-14",
          "2021-09-15",
          "2021-09-17",
          "2021-09-20",
          "2021-09-21",
          "2021-09-24",
          "2021-09-27",
          "2021-09-28",
          "2021-09-29",
          "2021-09-30",
          "2021-10-04",
          "2021-10-07",
          "2021-10-08",
          "2021-10-11",
          "2021-10-12",
          "2021-10-13",
          "2021-10-14",
          "2021-10-18",
          "2021-10-19",
          "2021-10-20",
          "2021-10-21",
          "2021-10-25",
          "2021-10-26",
          "2021-10-27",
          "2021-10-28",
          "2021-10-29",
          "2021-11-01",
          "2021-11-02",
          "2021-11-03",
          "2021-11-04",
          "2021-11-08",
          "2021-11-09",
          "2021-11-11",
          "2021-11-12",
          "2021-11-15",
          "2021-11-16",
          "2021-11-17",
          "2021-11-18",
          "2021-11-19",
          "2021-11-24",
          "2021-11-26",
          "2021-11-29",
          "2021-11-30",
          "2021-12-01",
          "2021-12-02",
          "2021-12-03"
         ],
         "xaxis": "x2",
         "y": [
          -0.216890529438508,
          0.5694184173398169,
          -0.07266806788325303,
          0.28769229473619595,
          -0.0568034760762158,
          0.08730620034680764,
          0.10436172400060843,
          -0.15584126902051926,
          -0.5847572496136453,
          0.15409295717214433,
          0.1715630387629079,
          -0.13359120031787106,
          -0.046980575370530776,
          0.07383242427692215,
          -0.018614849572184927,
          0.4168940248838641,
          0.06575018113911955,
          -0.1369114891625285,
          -0.06945923533538563,
          -1.0755698803798668,
          -0.07040293645627993,
          -1.3042532636011621,
          0.7956368388333077,
          1.1082828499136554,
          0.5920949723117371,
          1.028104208843631,
          0.5877420487158466,
          0.4852546342481188,
          2.1583301288059107,
          3.5075030190206067,
          0.05895043600511981,
          -0.31411418581200545,
          1.4218029151560008,
          0.04554328689190617,
          0.4713549269846919,
          0.24446315272830485,
          0.4473003334184871,
          1.6110899611261034,
          0.644310403637244,
          1.341566974162136,
          3.1712663258761475,
          0.7837152364166942,
          0.2186117504284724,
          0.3593556433988977,
          0.3850623309202855,
          -0.2617185098079473,
          1.5700579175267928,
          -0.4118231818694508,
          0.42387452967017664,
          1.4814925602986149,
          0.5634804058245663,
          -0.27150456442045096,
          0.6089215440571649,
          0.5589712922873694,
          1.502646493599096,
          0.709301068439351,
          0.7087774254653105,
          0.04972738415319289,
          -0.9301704245124542,
          0.7029857169607538,
          0.6053668112565845,
          1.0553915299377563,
          1.430904742446074,
          1.0439855544362946,
          0.7054657812770194,
          0.6170265029732465,
          2.2935356554072017,
          0.6867096525789687,
          1.039804392518168,
          1.1628214090828852,
          0.3106736441859397,
          1.0165460937047006,
          0.8894228300202112,
          0.6537454447590461,
          1.3365153162810712,
          1.4253160863120091,
          0.6879314366810704,
          1.8811832173318932,
          1.6340175377665849,
          1.585361767027294,
          1.1467491167858148,
          0.9572933279809798,
          -0.2749298667003369,
          0.7030671726880255,
          0.7490462840150709,
          0.09321641932040207,
          0.42283593897061295,
          3.4578120756824453,
          0.7509415592459905,
          0.2718972312151405,
          0.3691517089153989,
          0.280204921727152,
          0.8863836525286334,
          0.5701850145760082
         ],
         "yaxis": "y3"
        },
        {
         "name": "Used News Volume",
         "opacity": 0.2,
         "type": "bar",
         "x": [
          "2021-06-04",
          "2021-06-07",
          "2021-06-08",
          "2021-06-09",
          "2021-06-10",
          "2021-06-11",
          "2021-06-14",
          "2021-06-16",
          "2021-06-17",
          "2021-06-18",
          "2021-06-22",
          "2021-06-23",
          "2021-06-24",
          "2021-06-25",
          "2021-06-28",
          "2021-06-29",
          "2021-06-30",
          "2021-07-06",
          "2021-07-09",
          "2021-07-12",
          "2021-07-13",
          "2021-07-14",
          "2021-07-19",
          "2021-07-20",
          "2021-07-21",
          "2021-07-23",
          "2021-07-26",
          "2021-07-27",
          "2021-07-28",
          "2021-07-29",
          "2021-07-30",
          "2021-08-02",
          "2021-08-03",
          "2021-08-05",
          "2021-08-10",
          "2021-08-11",
          "2021-08-12",
          "2021-08-18",
          "2021-08-20",
          "2021-08-23",
          "2021-08-30",
          "2021-09-01",
          "2021-09-02",
          "2021-09-03",
          "2021-09-07",
          "2021-09-08",
          "2021-09-09",
          "2021-09-10",
          "2021-09-14",
          "2021-09-15",
          "2021-09-17",
          "2021-09-20",
          "2021-09-21",
          "2021-09-24",
          "2021-09-27",
          "2021-09-28",
          "2021-09-29",
          "2021-09-30",
          "2021-10-04",
          "2021-10-07",
          "2021-10-08",
          "2021-10-11",
          "2021-10-12",
          "2021-10-13",
          "2021-10-14",
          "2021-10-18",
          "2021-10-19",
          "2021-10-20",
          "2021-10-21",
          "2021-10-25",
          "2021-10-26",
          "2021-10-27",
          "2021-10-28",
          "2021-10-29",
          "2021-11-01",
          "2021-11-02",
          "2021-11-03",
          "2021-11-04",
          "2021-11-08",
          "2021-11-09",
          "2021-11-11",
          "2021-11-12",
          "2021-11-15",
          "2021-11-16",
          "2021-11-17",
          "2021-11-18",
          "2021-11-19",
          "2021-11-24",
          "2021-11-26",
          "2021-11-29",
          "2021-11-30",
          "2021-12-01",
          "2021-12-02",
          "2021-12-03"
         ],
         "xaxis": "x3",
         "y": [
          1,
          2,
          2,
          1,
          4,
          2,
          2,
          3,
          4,
          2,
          3,
          2,
          3,
          7,
          2,
          1,
          1,
          2,
          1,
          1,
          1,
          1,
          3,
          2,
          1,
          1,
          3,
          1,
          1,
          1,
          7,
          2,
          1,
          2,
          1,
          6,
          2,
          1,
          1,
          2,
          1,
          2,
          3,
          4,
          4,
          2,
          1,
          1,
          3,
          3,
          2,
          5,
          4,
          2,
          2,
          1,
          2,
          1,
          1,
          2,
          1,
          1,
          2,
          6,
          4,
          5,
          1,
          1,
          1,
          4,
          1,
          3,
          10,
          4,
          2,
          5,
          2,
          1,
          4,
          4,
          2,
          3,
          1,
          2,
          2,
          1,
          1,
          1,
          2,
          14,
          14,
          15,
          14,
          7
         ],
         "yaxis": "y5"
        }
       ],
       "layout": {
        "annotations": [
         {
          "font": {
           "size": 16
          },
          "showarrow": false,
          "text": "CAT",
          "x": 0.47,
          "xanchor": "center",
          "xref": "paper",
          "y": 1,
          "yanchor": "bottom",
          "yref": "paper"
         },
         {
          "font": {
           "size": 16
          },
          "showarrow": false,
          "text": "Sentiment_Score",
          "x": 0.47,
          "xanchor": "center",
          "xref": "paper",
          "y": 0.40399999999999997,
          "yanchor": "bottom",
          "yref": "paper"
         },
         {
          "font": {
           "size": 16
          },
          "showarrow": false,
          "text": "Used News Volume",
          "x": 0.47,
          "xanchor": "center",
          "xref": "paper",
          "y": 0.1536,
          "yanchor": "bottom",
          "yref": "paper"
         }
        ],
        "height": 750,
        "shapes": [
         {
          "line": {
           "width": 1
          },
          "opacity": 0.8,
          "type": "line",
          "x0": 0,
          "x1": 1,
          "xref": "x2 domain",
          "y0": 0,
          "y1": 0,
          "yref": "y3"
         },
         {
          "line": {
           "color": "green",
           "dash": "dash"
          },
          "opacity": 0.5,
          "type": "line",
          "x0": 0,
          "x1": 1,
          "xref": "x2 domain",
          "y0": 1,
          "y1": 1,
          "yref": "y3"
         },
         {
          "line": {
           "color": "red",
           "dash": "dash"
          },
          "opacity": 0.5,
          "type": "line",
          "x0": 0,
          "x1": 1,
          "xref": "x2 domain",
          "y0": -1,
          "y1": -1,
          "yref": "y3"
         }
        ],
        "template": {
         "data": {
          "bar": [
           {
            "error_x": {
             "color": "#2a3f5f"
            },
            "error_y": {
             "color": "#2a3f5f"
            },
            "marker": {
             "line": {
              "color": "#E5ECF6",
              "width": 0.5
             },
             "pattern": {
              "fillmode": "overlay",
              "size": 10,
              "solidity": 0.2
             }
            },
            "type": "bar"
           }
          ],
          "barpolar": [
           {
            "marker": {
             "line": {
              "color": "#E5ECF6",
              "width": 0.5
             },
             "pattern": {
              "fillmode": "overlay",
              "size": 10,
              "solidity": 0.2
             }
            },
            "type": "barpolar"
           }
          ],
          "carpet": [
           {
            "aaxis": {
             "endlinecolor": "#2a3f5f",
             "gridcolor": "white",
             "linecolor": "white",
             "minorgridcolor": "white",
             "startlinecolor": "#2a3f5f"
            },
            "baxis": {
             "endlinecolor": "#2a3f5f",
             "gridcolor": "white",
             "linecolor": "white",
             "minorgridcolor": "white",
             "startlinecolor": "#2a3f5f"
            },
            "type": "carpet"
           }
          ],
          "choropleth": [
           {
            "colorbar": {
             "outlinewidth": 0,
             "ticks": ""
            },
            "type": "choropleth"
           }
          ],
          "contour": [
           {
            "colorbar": {
             "outlinewidth": 0,
             "ticks": ""
            },
            "colorscale": [
             [
              0,
              "#0d0887"
             ],
             [
              0.1111111111111111,
              "#46039f"
             ],
             [
              0.2222222222222222,
              "#7201a8"
             ],
             [
              0.3333333333333333,
              "#9c179e"
             ],
             [
              0.4444444444444444,
              "#bd3786"
             ],
             [
              0.5555555555555556,
              "#d8576b"
             ],
             [
              0.6666666666666666,
              "#ed7953"
             ],
             [
              0.7777777777777778,
              "#fb9f3a"
             ],
             [
              0.8888888888888888,
              "#fdca26"
             ],
             [
              1,
              "#f0f921"
             ]
            ],
            "type": "contour"
           }
          ],
          "contourcarpet": [
           {
            "colorbar": {
             "outlinewidth": 0,
             "ticks": ""
            },
            "type": "contourcarpet"
           }
          ],
          "heatmap": [
           {
            "colorbar": {
             "outlinewidth": 0,
             "ticks": ""
            },
            "colorscale": [
             [
              0,
              "#0d0887"
             ],
             [
              0.1111111111111111,
              "#46039f"
             ],
             [
              0.2222222222222222,
              "#7201a8"
             ],
             [
              0.3333333333333333,
              "#9c179e"
             ],
             [
              0.4444444444444444,
              "#bd3786"
             ],
             [
              0.5555555555555556,
              "#d8576b"
             ],
             [
              0.6666666666666666,
              "#ed7953"
             ],
             [
              0.7777777777777778,
              "#fb9f3a"
             ],
             [
              0.8888888888888888,
              "#fdca26"
             ],
             [
              1,
              "#f0f921"
             ]
            ],
            "type": "heatmap"
           }
          ],
          "heatmapgl": [
           {
            "colorbar": {
             "outlinewidth": 0,
             "ticks": ""
            },
            "colorscale": [
             [
              0,
              "#0d0887"
             ],
             [
              0.1111111111111111,
              "#46039f"
             ],
             [
              0.2222222222222222,
              "#7201a8"
             ],
             [
              0.3333333333333333,
              "#9c179e"
             ],
             [
              0.4444444444444444,
              "#bd3786"
             ],
             [
              0.5555555555555556,
              "#d8576b"
             ],
             [
              0.6666666666666666,
              "#ed7953"
             ],
             [
              0.7777777777777778,
              "#fb9f3a"
             ],
             [
              0.8888888888888888,
              "#fdca26"
             ],
             [
              1,
              "#f0f921"
             ]
            ],
            "type": "heatmapgl"
           }
          ],
          "histogram": [
           {
            "marker": {
             "pattern": {
              "fillmode": "overlay",
              "size": 10,
              "solidity": 0.2
             }
            },
            "type": "histogram"
           }
          ],
          "histogram2d": [
           {
            "colorbar": {
             "outlinewidth": 0,
             "ticks": ""
            },
            "colorscale": [
             [
              0,
              "#0d0887"
             ],
             [
              0.1111111111111111,
              "#46039f"
             ],
             [
              0.2222222222222222,
              "#7201a8"
             ],
             [
              0.3333333333333333,
              "#9c179e"
             ],
             [
              0.4444444444444444,
              "#bd3786"
             ],
             [
              0.5555555555555556,
              "#d8576b"
             ],
             [
              0.6666666666666666,
              "#ed7953"
             ],
             [
              0.7777777777777778,
              "#fb9f3a"
             ],
             [
              0.8888888888888888,
              "#fdca26"
             ],
             [
              1,
              "#f0f921"
             ]
            ],
            "type": "histogram2d"
           }
          ],
          "histogram2dcontour": [
           {
            "colorbar": {
             "outlinewidth": 0,
             "ticks": ""
            },
            "colorscale": [
             [
              0,
              "#0d0887"
             ],
             [
              0.1111111111111111,
              "#46039f"
             ],
             [
              0.2222222222222222,
              "#7201a8"
             ],
             [
              0.3333333333333333,
              "#9c179e"
             ],
             [
              0.4444444444444444,
              "#bd3786"
             ],
             [
              0.5555555555555556,
              "#d8576b"
             ],
             [
              0.6666666666666666,
              "#ed7953"
             ],
             [
              0.7777777777777778,
              "#fb9f3a"
             ],
             [
              0.8888888888888888,
              "#fdca26"
             ],
             [
              1,
              "#f0f921"
             ]
            ],
            "type": "histogram2dcontour"
           }
          ],
          "mesh3d": [
           {
            "colorbar": {
             "outlinewidth": 0,
             "ticks": ""
            },
            "type": "mesh3d"
           }
          ],
          "parcoords": [
           {
            "line": {
             "colorbar": {
              "outlinewidth": 0,
              "ticks": ""
             }
            },
            "type": "parcoords"
           }
          ],
          "pie": [
           {
            "automargin": true,
            "type": "pie"
           }
          ],
          "scatter": [
           {
            "marker": {
             "colorbar": {
              "outlinewidth": 0,
              "ticks": ""
             }
            },
            "type": "scatter"
           }
          ],
          "scatter3d": [
           {
            "line": {
             "colorbar": {
              "outlinewidth": 0,
              "ticks": ""
             }
            },
            "marker": {
             "colorbar": {
              "outlinewidth": 0,
              "ticks": ""
             }
            },
            "type": "scatter3d"
           }
          ],
          "scattercarpet": [
           {
            "marker": {
             "colorbar": {
              "outlinewidth": 0,
              "ticks": ""
             }
            },
            "type": "scattercarpet"
           }
          ],
          "scattergeo": [
           {
            "marker": {
             "colorbar": {
              "outlinewidth": 0,
              "ticks": ""
             }
            },
            "type": "scattergeo"
           }
          ],
          "scattergl": [
           {
            "marker": {
             "colorbar": {
              "outlinewidth": 0,
              "ticks": ""
             }
            },
            "type": "scattergl"
           }
          ],
          "scattermapbox": [
           {
            "marker": {
             "colorbar": {
              "outlinewidth": 0,
              "ticks": ""
             }
            },
            "type": "scattermapbox"
           }
          ],
          "scatterpolar": [
           {
            "marker": {
             "colorbar": {
              "outlinewidth": 0,
              "ticks": ""
             }
            },
            "type": "scatterpolar"
           }
          ],
          "scatterpolargl": [
           {
            "marker": {
             "colorbar": {
              "outlinewidth": 0,
              "ticks": ""
             }
            },
            "type": "scatterpolargl"
           }
          ],
          "scatterternary": [
           {
            "marker": {
             "colorbar": {
              "outlinewidth": 0,
              "ticks": ""
             }
            },
            "type": "scatterternary"
           }
          ],
          "surface": [
           {
            "colorbar": {
             "outlinewidth": 0,
             "ticks": ""
            },
            "colorscale": [
             [
              0,
              "#0d0887"
             ],
             [
              0.1111111111111111,
              "#46039f"
             ],
             [
              0.2222222222222222,
              "#7201a8"
             ],
             [
              0.3333333333333333,
              "#9c179e"
             ],
             [
              0.4444444444444444,
              "#bd3786"
             ],
             [
              0.5555555555555556,
              "#d8576b"
             ],
             [
              0.6666666666666666,
              "#ed7953"
             ],
             [
              0.7777777777777778,
              "#fb9f3a"
             ],
             [
              0.8888888888888888,
              "#fdca26"
             ],
             [
              1,
              "#f0f921"
             ]
            ],
            "type": "surface"
           }
          ],
          "table": [
           {
            "cells": {
             "fill": {
              "color": "#EBF0F8"
             },
             "line": {
              "color": "white"
             }
            },
            "header": {
             "fill": {
              "color": "#C8D4E3"
             },
             "line": {
              "color": "white"
             }
            },
            "type": "table"
           }
          ]
         },
         "layout": {
          "annotationdefaults": {
           "arrowcolor": "#2a3f5f",
           "arrowhead": 0,
           "arrowwidth": 1
          },
          "autotypenumbers": "strict",
          "coloraxis": {
           "colorbar": {
            "outlinewidth": 0,
            "ticks": ""
           }
          },
          "colorscale": {
           "diverging": [
            [
             0,
             "#8e0152"
            ],
            [
             0.1,
             "#c51b7d"
            ],
            [
             0.2,
             "#de77ae"
            ],
            [
             0.3,
             "#f1b6da"
            ],
            [
             0.4,
             "#fde0ef"
            ],
            [
             0.5,
             "#f7f7f7"
            ],
            [
             0.6,
             "#e6f5d0"
            ],
            [
             0.7,
             "#b8e186"
            ],
            [
             0.8,
             "#7fbc41"
            ],
            [
             0.9,
             "#4d9221"
            ],
            [
             1,
             "#276419"
            ]
           ],
           "sequential": [
            [
             0,
             "#0d0887"
            ],
            [
             0.1111111111111111,
             "#46039f"
            ],
            [
             0.2222222222222222,
             "#7201a8"
            ],
            [
             0.3333333333333333,
             "#9c179e"
            ],
            [
             0.4444444444444444,
             "#bd3786"
            ],
            [
             0.5555555555555556,
             "#d8576b"
            ],
            [
             0.6666666666666666,
             "#ed7953"
            ],
            [
             0.7777777777777778,
             "#fb9f3a"
            ],
            [
             0.8888888888888888,
             "#fdca26"
            ],
            [
             1,
             "#f0f921"
            ]
           ],
           "sequentialminus": [
            [
             0,
             "#0d0887"
            ],
            [
             0.1111111111111111,
             "#46039f"
            ],
            [
             0.2222222222222222,
             "#7201a8"
            ],
            [
             0.3333333333333333,
             "#9c179e"
            ],
            [
             0.4444444444444444,
             "#bd3786"
            ],
            [
             0.5555555555555556,
             "#d8576b"
            ],
            [
             0.6666666666666666,
             "#ed7953"
            ],
            [
             0.7777777777777778,
             "#fb9f3a"
            ],
            [
             0.8888888888888888,
             "#fdca26"
            ],
            [
             1,
             "#f0f921"
            ]
           ]
          },
          "colorway": [
           "#636efa",
           "#EF553B",
           "#00cc96",
           "#ab63fa",
           "#FFA15A",
           "#19d3f3",
           "#FF6692",
           "#B6E880",
           "#FF97FF",
           "#FECB52"
          ],
          "font": {
           "color": "#2a3f5f"
          },
          "geo": {
           "bgcolor": "white",
           "lakecolor": "white",
           "landcolor": "#E5ECF6",
           "showlakes": true,
           "showland": true,
           "subunitcolor": "white"
          },
          "hoverlabel": {
           "align": "left"
          },
          "hovermode": "closest",
          "mapbox": {
           "style": "light"
          },
          "paper_bgcolor": "white",
          "plot_bgcolor": "#E5ECF6",
          "polar": {
           "angularaxis": {
            "gridcolor": "white",
            "linecolor": "white",
            "ticks": ""
           },
           "bgcolor": "#E5ECF6",
           "radialaxis": {
            "gridcolor": "white",
            "linecolor": "white",
            "ticks": ""
           }
          },
          "scene": {
           "xaxis": {
            "backgroundcolor": "#E5ECF6",
            "gridcolor": "white",
            "gridwidth": 2,
            "linecolor": "white",
            "showbackground": true,
            "ticks": "",
            "zerolinecolor": "white"
           },
           "yaxis": {
            "backgroundcolor": "#E5ECF6",
            "gridcolor": "white",
            "gridwidth": 2,
            "linecolor": "white",
            "showbackground": true,
            "ticks": "",
            "zerolinecolor": "white"
           },
           "zaxis": {
            "backgroundcolor": "#E5ECF6",
            "gridcolor": "white",
            "gridwidth": 2,
            "linecolor": "white",
            "showbackground": true,
            "ticks": "",
            "zerolinecolor": "white"
           }
          },
          "shapedefaults": {
           "line": {
            "color": "#2a3f5f"
           }
          },
          "ternary": {
           "aaxis": {
            "gridcolor": "white",
            "linecolor": "white",
            "ticks": ""
           },
           "baxis": {
            "gridcolor": "white",
            "linecolor": "white",
            "ticks": ""
           },
           "bgcolor": "#E5ECF6",
           "caxis": {
            "gridcolor": "white",
            "linecolor": "white",
            "ticks": ""
           }
          },
          "title": {
           "x": 0.05
          },
          "xaxis": {
           "automargin": true,
           "gridcolor": "white",
           "linecolor": "white",
           "ticks": "",
           "title": {
            "standoff": 15
           },
           "zerolinecolor": "white",
           "zerolinewidth": 2
          },
          "yaxis": {
           "automargin": true,
           "gridcolor": "white",
           "linecolor": "white",
           "ticks": "",
           "title": {
            "standoff": 15
           },
           "zerolinecolor": "white",
           "zerolinewidth": 2
          }
         }
        },
        "width": 1000,
        "xaxis": {
         "anchor": "y",
         "domain": [
          0,
          0.94
         ],
         "matches": "x3",
         "rangeslider": {
          "visible": false
         },
         "showticklabels": false
        },
        "xaxis2": {
         "anchor": "y3",
         "domain": [
          0,
          0.94
         ],
         "matches": "x3",
         "showticklabels": false
        },
        "xaxis3": {
         "anchor": "y5",
         "domain": [
          0,
          0.94
         ]
        },
        "yaxis": {
         "anchor": "x",
         "domain": [
          0.424,
          1
         ]
        },
        "yaxis2": {
         "anchor": "x",
         "overlaying": "y",
         "showgrid": false,
         "side": "right"
        },
        "yaxis3": {
         "anchor": "x2",
         "domain": [
          0.17359999999999998,
          0.40399999999999997
         ]
        },
        "yaxis4": {
         "anchor": "x2",
         "overlaying": "y3",
         "side": "right"
        },
        "yaxis5": {
         "anchor": "x3",
         "domain": [
          0,
          0.1536
         ]
        },
        "yaxis6": {
         "anchor": "x3",
         "overlaying": "y5",
         "side": "right"
        }
       }
      },
      "text/html": [
       "<div>                            <div id=\"00843bf6-b48e-487c-9a16-87978cdf1f67\" class=\"plotly-graph-div\" style=\"height:750px; width:1000px;\"></div>            <script type=\"text/javascript\">                require([\"plotly\"], function(Plotly) {                    window.PLOTLYENV=window.PLOTLYENV || {};                                    if (document.getElementById(\"00843bf6-b48e-487c-9a16-87978cdf1f67\")) {                    Plotly.newPlot(                        \"00843bf6-b48e-487c-9a16-87978cdf1f67\",                        [{\"close\":[244.0200042724609,239.75999450683602,240.16000366210938,234.6499938964844,225.72999572753903,220.6999969482422,219.00999450683602,217.16000366210938,209.4499969482422,208.8600006103516,213.1300048828125,213.7899932861328,219.33999633789062,216.30999755859366,216.2700042724609,215.1000061035156,217.6300048828125,213.5200042724609,217.4199981689453,218.5800018310547,215.19000244140625,211.63999938964844,203.0800018310547,207.96,210.73,209.53,211.03,209.9,211.44,212.56,206.75,205.16,208.5,207.19,214.07,221.66,220.24,209.81,204.94,209.14,211.45,207.96,211.78,210.37,208.23,206.77,205.42,205.01,202.33,205.73,199.75,190.82,189.84,196.82,200.0,200.55,197.87,191.97,193.13,195.75,195.16,192.89,189.92,188.94,194.33,198.18,201.14,204.19,202.14,202.21,199.64,196.13,204.09,204.01,205.38,207.12,203.55,203.59,214.25,209.81,208.53,209.27,207.71,205.43,202.98,201.42,200.44,207.07,198.73,195.92,193.35,191.47,196.79,197.8],\"high\":[246.69000244140625,244.3300018310547,241.2100067138672,239.19000244140625,236.6499938964844,227.9199981689453,221.97000122070312,219.38999938964844,218.2700042724609,211.80999755859366,214.8300018310547,216.7700042724609,221.92999267578125,221.75,216.77999877929688,218.6999969482422,217.9499969482422,217.55999755859366,218.58999633789062,218.9499969482422,219.0500030517578,215.63999938964844,203.75,208.63,210.96,210.37,212.07,211.06,212.69,214.51,208.67,210.9028,209.29,207.655,214.9,222.57,223.76,213.55,207.26,209.75,213.74,210.99,212.95,212.8,210.3423,208.1244,208.15,207.88,206.1,206.59,203.27,193.99,192.71,197.79,201.99,201.89,201.16,198.8743,195.91,196.39,196.58,197.1707,193.5846,191.25,194.8,198.68,201.48,205.18,202.3,203.31,202.785,200.43,204.5,209.75,206.88,207.81,206.5767,204.89,216.47,215.57,210.44,210.69,210.69,208.18,205.19,203.71,202.92,208.26,201.45,201.5,196.78,198.43,197.62,199.39],\"low\":[242.32000732421875,238.6199951171875,236.05999755859366,234.4499969482422,225.5800018310547,220.02999877929688,215.6000061035156,216.6999969482422,207.8800048828125,205.5,211.17999267578125,212.5800018310547,215.3300018310547,215.2700042724609,213.55999755859366,214.58999633789062,214.05999755859366,211.33999633789062,214.3999938964844,214.8500061035156,214.6999969482422,211.22000122070312,199.22999572753903,202.305,207.575,207.86,209.5,207.0002,208.1,209.69,203.15,204.95,203.43,204.7001,208.96,214.57,218.47,209.72,203.59,205.83,210.8,206.61,208.92,210.0,207.845,204.77,204.895,204.82,201.64,201.87,199.45,188.475,186.98,194.93,197.6,198.75,197.7,191.63,192.41,193.61,194.74,192.68,189.58,187.72,192.6124,195.545,198.46,200.5301,199.74,200.51,199.47,195.92,197.05,203.24,203.81,203.0,201.82,202.61,211.25,208.96,207.88,208.3,206.76,205.26,200.85,200.66,199.66,203.08,196.614,193.28,191.5501,191.36,191.81,195.74],\"name\":\"Price\",\"open\":[245.1199951171875,244.0500030517578,239.3999938964844,239.0,236.13999938964844,226.3000030517578,220.07000732421875,219.00999450683602,216.97000122070312,206.17999267578125,213.4900054931641,213.6000061035156,216.5399932861328,221.17999267578125,216.4499969482422,218.0399932861328,214.6199951171875,217.41000366210938,215.8999938964844,216.0200042724609,218.9600067138672,215.25999450683602,202.2700042724609,203.04,208.72,209.5,209.84,207.53,210.0,214.0,207.9,208.0,205.31,205.25,210.0,215.73,222.24,212.5,205.42,207.25,213.22,210.87,208.92,211.15,210.04,207.12,206.5,207.1,206.04,202.17,202.63,193.06,192.0,195.65,197.6,200.2,200.48,198.62,194.74,193.73,195.8,196.34,192.32,190.5,193.55,197.38,198.6,201.16,201.6,201.28,202.75,200.25,197.36,207.99,204.29,205.75,206.26,204.0,215.89,215.18,207.88,209.35,210.0,208.0,205.0,203.27,200.92,203.66,201.0,201.23,193.835,197.58,192.31,197.67],\"x\":[\"2021-06-04\",\"2021-06-07\",\"2021-06-08\",\"2021-06-09\",\"2021-06-10\",\"2021-06-11\",\"2021-06-14\",\"2021-06-16\",\"2021-06-17\",\"2021-06-18\",\"2021-06-22\",\"2021-06-23\",\"2021-06-24\",\"2021-06-25\",\"2021-06-28\",\"2021-06-29\",\"2021-06-30\",\"2021-07-06\",\"2021-07-09\",\"2021-07-12\",\"2021-07-13\",\"2021-07-14\",\"2021-07-19\",\"2021-07-20\",\"2021-07-21\",\"2021-07-23\",\"2021-07-26\",\"2021-07-27\",\"2021-07-28\",\"2021-07-29\",\"2021-07-30\",\"2021-08-02\",\"2021-08-03\",\"2021-08-05\",\"2021-08-10\",\"2021-08-11\",\"2021-08-12\",\"2021-08-18\",\"2021-08-20\",\"2021-08-23\",\"2021-08-30\",\"2021-09-01\",\"2021-09-02\",\"2021-09-03\",\"2021-09-07\",\"2021-09-08\",\"2021-09-09\",\"2021-09-10\",\"2021-09-14\",\"2021-09-15\",\"2021-09-17\",\"2021-09-20\",\"2021-09-21\",\"2021-09-24\",\"2021-09-27\",\"2021-09-28\",\"2021-09-29\",\"2021-09-30\",\"2021-10-04\",\"2021-10-07\",\"2021-10-08\",\"2021-10-11\",\"2021-10-12\",\"2021-10-13\",\"2021-10-14\",\"2021-10-18\",\"2021-10-19\",\"2021-10-20\",\"2021-10-21\",\"2021-10-25\",\"2021-10-26\",\"2021-10-27\",\"2021-10-28\",\"2021-10-29\",\"2021-11-01\",\"2021-11-02\",\"2021-11-03\",\"2021-11-04\",\"2021-11-08\",\"2021-11-09\",\"2021-11-11\",\"2021-11-12\",\"2021-11-15\",\"2021-11-16\",\"2021-11-17\",\"2021-11-18\",\"2021-11-19\",\"2021-11-24\",\"2021-11-26\",\"2021-11-29\",\"2021-11-30\",\"2021-12-01\",\"2021-12-02\",\"2021-12-03\"],\"type\":\"candlestick\",\"xaxis\":\"x\",\"yaxis\":\"y2\"},{\"name\":\"Volume\",\"opacity\":0.2,\"x\":[\"2021-06-04\",\"2021-06-07\",\"2021-06-08\",\"2021-06-09\",\"2021-06-10\",\"2021-06-11\",\"2021-06-14\",\"2021-06-16\",\"2021-06-17\",\"2021-06-18\",\"2021-06-22\",\"2021-06-23\",\"2021-06-24\",\"2021-06-25\",\"2021-06-28\",\"2021-06-29\",\"2021-06-30\",\"2021-07-06\",\"2021-07-09\",\"2021-07-12\",\"2021-07-13\",\"2021-07-14\",\"2021-07-19\",\"2021-07-20\",\"2021-07-21\",\"2021-07-23\",\"2021-07-26\",\"2021-07-27\",\"2021-07-28\",\"2021-07-29\",\"2021-07-30\",\"2021-08-02\",\"2021-08-03\",\"2021-08-05\",\"2021-08-10\",\"2021-08-11\",\"2021-08-12\",\"2021-08-18\",\"2021-08-20\",\"2021-08-23\",\"2021-08-30\",\"2021-09-01\",\"2021-09-02\",\"2021-09-03\",\"2021-09-07\",\"2021-09-08\",\"2021-09-09\",\"2021-09-10\",\"2021-09-14\",\"2021-09-15\",\"2021-09-17\",\"2021-09-20\",\"2021-09-21\",\"2021-09-24\",\"2021-09-27\",\"2021-09-28\",\"2021-09-29\",\"2021-09-30\",\"2021-10-04\",\"2021-10-07\",\"2021-10-08\",\"2021-10-11\",\"2021-10-12\",\"2021-10-13\",\"2021-10-14\",\"2021-10-18\",\"2021-10-19\",\"2021-10-20\",\"2021-10-21\",\"2021-10-25\",\"2021-10-26\",\"2021-10-27\",\"2021-10-28\",\"2021-10-29\",\"2021-11-01\",\"2021-11-02\",\"2021-11-03\",\"2021-11-04\",\"2021-11-08\",\"2021-11-09\",\"2021-11-11\",\"2021-11-12\",\"2021-11-15\",\"2021-11-16\",\"2021-11-17\",\"2021-11-18\",\"2021-11-19\",\"2021-11-24\",\"2021-11-26\",\"2021-11-29\",\"2021-11-30\",\"2021-12-01\",\"2021-12-02\",\"2021-12-03\"],\"y\":[1837900,2330700,2212300,2919600,6281800,8734900,7213300,4156900,7995300,7156400,3776400,3283400,6827600,11274200,3172000,3443400,3249500,4348100,3163800,2509000,2373300,3185200,5391100,3934667,3407298,2302578,2157931,2471965,3246866,3397079,5834914,3977107,3580499,2685825,4193557,7794082,4446237,2947719,2765514,2827365,1922125,4122888,2922282,2513016,2643189,2603093,2778162,2551174,3757600,3342723,6355040,9151051,5699855,2199472,3033101,3247465,2954707,4984013,2864563,3510517,2713300,2015161,4706721,3254395,5214380,2809428,2627001,2936002,3071279,3294689,2933573,3406655,4462713,4292216,3111067,3359153,3136978,2543452,5944657,3176400,4819820,1989692,2392576,2138038,3135672,2121099,2980754,3880485,3495977,4559906,6358024,3427043,3445667,3250927],\"type\":\"bar\",\"xaxis\":\"x\",\"yaxis\":\"y\"},{\"showlegend\":false,\"x\":[\"2021-06-04\",\"2021-06-07\",\"2021-06-08\",\"2021-06-09\",\"2021-06-10\",\"2021-06-11\",\"2021-06-14\",\"2021-06-16\",\"2021-06-17\",\"2021-06-18\",\"2021-06-22\",\"2021-06-23\",\"2021-06-24\",\"2021-06-25\",\"2021-06-28\",\"2021-06-29\",\"2021-06-30\",\"2021-07-06\",\"2021-07-09\",\"2021-07-12\",\"2021-07-13\",\"2021-07-14\",\"2021-07-19\",\"2021-07-20\",\"2021-07-21\",\"2021-07-23\",\"2021-07-26\",\"2021-07-27\",\"2021-07-28\",\"2021-07-29\",\"2021-07-30\",\"2021-08-02\",\"2021-08-03\",\"2021-08-05\",\"2021-08-10\",\"2021-08-11\",\"2021-08-12\",\"2021-08-18\",\"2021-08-20\",\"2021-08-23\",\"2021-08-30\",\"2021-09-01\",\"2021-09-02\",\"2021-09-03\",\"2021-09-07\",\"2021-09-08\",\"2021-09-09\",\"2021-09-10\",\"2021-09-14\",\"2021-09-15\",\"2021-09-17\",\"2021-09-20\",\"2021-09-21\",\"2021-09-24\",\"2021-09-27\",\"2021-09-28\",\"2021-09-29\",\"2021-09-30\",\"2021-10-04\",\"2021-10-07\",\"2021-10-08\",\"2021-10-11\",\"2021-10-12\",\"2021-10-13\",\"2021-10-14\",\"2021-10-18\",\"2021-10-19\",\"2021-10-20\",\"2021-10-21\",\"2021-10-25\",\"2021-10-26\",\"2021-10-27\",\"2021-10-28\",\"2021-10-29\",\"2021-11-01\",\"2021-11-02\",\"2021-11-03\",\"2021-11-04\",\"2021-11-08\",\"2021-11-09\",\"2021-11-11\",\"2021-11-12\",\"2021-11-15\",\"2021-11-16\",\"2021-11-17\",\"2021-11-18\",\"2021-11-19\",\"2021-11-24\",\"2021-11-26\",\"2021-11-29\",\"2021-11-30\",\"2021-12-01\",\"2021-12-02\",\"2021-12-03\"],\"y\":[-0.216890529438508,0.5694184173398169,-0.07266806788325303,0.28769229473619595,-0.0568034760762158,0.08730620034680764,0.10436172400060843,-0.15584126902051926,-0.5847572496136453,0.15409295717214433,0.1715630387629079,-0.13359120031787106,-0.046980575370530776,0.07383242427692215,-0.018614849572184927,0.4168940248838641,0.06575018113911955,-0.1369114891625285,-0.06945923533538563,-1.0755698803798668,-0.07040293645627993,-1.3042532636011621,0.7956368388333077,1.1082828499136554,0.5920949723117371,1.028104208843631,0.5877420487158466,0.4852546342481188,2.1583301288059107,3.5075030190206067,0.05895043600511981,-0.31411418581200545,1.4218029151560008,0.04554328689190617,0.4713549269846919,0.24446315272830485,0.4473003334184871,1.6110899611261034,0.644310403637244,1.341566974162136,3.1712663258761475,0.7837152364166942,0.2186117504284724,0.3593556433988977,0.3850623309202855,-0.2617185098079473,1.5700579175267928,-0.4118231818694508,0.42387452967017664,1.4814925602986149,0.5634804058245663,-0.27150456442045096,0.6089215440571649,0.5589712922873694,1.502646493599096,0.709301068439351,0.7087774254653105,0.04972738415319289,-0.9301704245124542,0.7029857169607538,0.6053668112565845,1.0553915299377563,1.430904742446074,1.0439855544362946,0.7054657812770194,0.6170265029732465,2.2935356554072017,0.6867096525789687,1.039804392518168,1.1628214090828852,0.3106736441859397,1.0165460937047006,0.8894228300202112,0.6537454447590461,1.3365153162810712,1.4253160863120091,0.6879314366810704,1.8811832173318932,1.6340175377665849,1.585361767027294,1.1467491167858148,0.9572933279809798,-0.2749298667003369,0.7030671726880255,0.7490462840150709,0.09321641932040207,0.42283593897061295,3.4578120756824453,0.7509415592459905,0.2718972312151405,0.3691517089153989,0.280204921727152,0.8863836525286334,0.5701850145760082],\"type\":\"scatter\",\"line\":{\"color\":\"purple\"},\"xaxis\":\"x2\",\"yaxis\":\"y3\"},{\"name\":\"Used News Volume\",\"opacity\":0.2,\"x\":[\"2021-06-04\",\"2021-06-07\",\"2021-06-08\",\"2021-06-09\",\"2021-06-10\",\"2021-06-11\",\"2021-06-14\",\"2021-06-16\",\"2021-06-17\",\"2021-06-18\",\"2021-06-22\",\"2021-06-23\",\"2021-06-24\",\"2021-06-25\",\"2021-06-28\",\"2021-06-29\",\"2021-06-30\",\"2021-07-06\",\"2021-07-09\",\"2021-07-12\",\"2021-07-13\",\"2021-07-14\",\"2021-07-19\",\"2021-07-20\",\"2021-07-21\",\"2021-07-23\",\"2021-07-26\",\"2021-07-27\",\"2021-07-28\",\"2021-07-29\",\"2021-07-30\",\"2021-08-02\",\"2021-08-03\",\"2021-08-05\",\"2021-08-10\",\"2021-08-11\",\"2021-08-12\",\"2021-08-18\",\"2021-08-20\",\"2021-08-23\",\"2021-08-30\",\"2021-09-01\",\"2021-09-02\",\"2021-09-03\",\"2021-09-07\",\"2021-09-08\",\"2021-09-09\",\"2021-09-10\",\"2021-09-14\",\"2021-09-15\",\"2021-09-17\",\"2021-09-20\",\"2021-09-21\",\"2021-09-24\",\"2021-09-27\",\"2021-09-28\",\"2021-09-29\",\"2021-09-30\",\"2021-10-04\",\"2021-10-07\",\"2021-10-08\",\"2021-10-11\",\"2021-10-12\",\"2021-10-13\",\"2021-10-14\",\"2021-10-18\",\"2021-10-19\",\"2021-10-20\",\"2021-10-21\",\"2021-10-25\",\"2021-10-26\",\"2021-10-27\",\"2021-10-28\",\"2021-10-29\",\"2021-11-01\",\"2021-11-02\",\"2021-11-03\",\"2021-11-04\",\"2021-11-08\",\"2021-11-09\",\"2021-11-11\",\"2021-11-12\",\"2021-11-15\",\"2021-11-16\",\"2021-11-17\",\"2021-11-18\",\"2021-11-19\",\"2021-11-24\",\"2021-11-26\",\"2021-11-29\",\"2021-11-30\",\"2021-12-01\",\"2021-12-02\",\"2021-12-03\"],\"y\":[1,2,2,1,4,2,2,3,4,2,3,2,3,7,2,1,1,2,1,1,1,1,3,2,1,1,3,1,1,1,7,2,1,2,1,6,2,1,1,2,1,2,3,4,4,2,1,1,3,3,2,5,4,2,2,1,2,1,1,2,1,1,2,6,4,5,1,1,1,4,1,3,10,4,2,5,2,1,4,4,2,3,1,2,2,1,1,1,2,14,14,15,14,7],\"type\":\"bar\",\"xaxis\":\"x3\",\"yaxis\":\"y5\"}],                        {\"template\":{\"data\":{\"bar\":[{\"error_x\":{\"color\":\"#2a3f5f\"},\"error_y\":{\"color\":\"#2a3f5f\"},\"marker\":{\"line\":{\"color\":\"#E5ECF6\",\"width\":0.5},\"pattern\":{\"fillmode\":\"overlay\",\"size\":10,\"solidity\":0.2}},\"type\":\"bar\"}],\"barpolar\":[{\"marker\":{\"line\":{\"color\":\"#E5ECF6\",\"width\":0.5},\"pattern\":{\"fillmode\":\"overlay\",\"size\":10,\"solidity\":0.2}},\"type\":\"barpolar\"}],\"carpet\":[{\"aaxis\":{\"endlinecolor\":\"#2a3f5f\",\"gridcolor\":\"white\",\"linecolor\":\"white\",\"minorgridcolor\":\"white\",\"startlinecolor\":\"#2a3f5f\"},\"baxis\":{\"endlinecolor\":\"#2a3f5f\",\"gridcolor\":\"white\",\"linecolor\":\"white\",\"minorgridcolor\":\"white\",\"startlinecolor\":\"#2a3f5f\"},\"type\":\"carpet\"}],\"choropleth\":[{\"colorbar\":{\"outlinewidth\":0,\"ticks\":\"\"},\"type\":\"choropleth\"}],\"contour\":[{\"colorbar\":{\"outlinewidth\":0,\"ticks\":\"\"},\"colorscale\":[[0.0,\"#0d0887\"],[0.1111111111111111,\"#46039f\"],[0.2222222222222222,\"#7201a8\"],[0.3333333333333333,\"#9c179e\"],[0.4444444444444444,\"#bd3786\"],[0.5555555555555556,\"#d8576b\"],[0.6666666666666666,\"#ed7953\"],[0.7777777777777778,\"#fb9f3a\"],[0.8888888888888888,\"#fdca26\"],[1.0,\"#f0f921\"]],\"type\":\"contour\"}],\"contourcarpet\":[{\"colorbar\":{\"outlinewidth\":0,\"ticks\":\"\"},\"type\":\"contourcarpet\"}],\"heatmap\":[{\"colorbar\":{\"outlinewidth\":0,\"ticks\":\"\"},\"colorscale\":[[0.0,\"#0d0887\"],[0.1111111111111111,\"#46039f\"],[0.2222222222222222,\"#7201a8\"],[0.3333333333333333,\"#9c179e\"],[0.4444444444444444,\"#bd3786\"],[0.5555555555555556,\"#d8576b\"],[0.6666666666666666,\"#ed7953\"],[0.7777777777777778,\"#fb9f3a\"],[0.8888888888888888,\"#fdca26\"],[1.0,\"#f0f921\"]],\"type\":\"heatmap\"}],\"heatmapgl\":[{\"colorbar\":{\"outlinewidth\":0,\"ticks\":\"\"},\"colorscale\":[[0.0,\"#0d0887\"],[0.1111111111111111,\"#46039f\"],[0.2222222222222222,\"#7201a8\"],[0.3333333333333333,\"#9c179e\"],[0.4444444444444444,\"#bd3786\"],[0.5555555555555556,\"#d8576b\"],[0.6666666666666666,\"#ed7953\"],[0.7777777777777778,\"#fb9f3a\"],[0.8888888888888888,\"#fdca26\"],[1.0,\"#f0f921\"]],\"type\":\"heatmapgl\"}],\"histogram\":[{\"marker\":{\"pattern\":{\"fillmode\":\"overlay\",\"size\":10,\"solidity\":0.2}},\"type\":\"histogram\"}],\"histogram2d\":[{\"colorbar\":{\"outlinewidth\":0,\"ticks\":\"\"},\"colorscale\":[[0.0,\"#0d0887\"],[0.1111111111111111,\"#46039f\"],[0.2222222222222222,\"#7201a8\"],[0.3333333333333333,\"#9c179e\"],[0.4444444444444444,\"#bd3786\"],[0.5555555555555556,\"#d8576b\"],[0.6666666666666666,\"#ed7953\"],[0.7777777777777778,\"#fb9f3a\"],[0.8888888888888888,\"#fdca26\"],[1.0,\"#f0f921\"]],\"type\":\"histogram2d\"}],\"histogram2dcontour\":[{\"colorbar\":{\"outlinewidth\":0,\"ticks\":\"\"},\"colorscale\":[[0.0,\"#0d0887\"],[0.1111111111111111,\"#46039f\"],[0.2222222222222222,\"#7201a8\"],[0.3333333333333333,\"#9c179e\"],[0.4444444444444444,\"#bd3786\"],[0.5555555555555556,\"#d8576b\"],[0.6666666666666666,\"#ed7953\"],[0.7777777777777778,\"#fb9f3a\"],[0.8888888888888888,\"#fdca26\"],[1.0,\"#f0f921\"]],\"type\":\"histogram2dcontour\"}],\"mesh3d\":[{\"colorbar\":{\"outlinewidth\":0,\"ticks\":\"\"},\"type\":\"mesh3d\"}],\"parcoords\":[{\"line\":{\"colorbar\":{\"outlinewidth\":0,\"ticks\":\"\"}},\"type\":\"parcoords\"}],\"pie\":[{\"automargin\":true,\"type\":\"pie\"}],\"scatter\":[{\"marker\":{\"colorbar\":{\"outlinewidth\":0,\"ticks\":\"\"}},\"type\":\"scatter\"}],\"scatter3d\":[{\"line\":{\"colorbar\":{\"outlinewidth\":0,\"ticks\":\"\"}},\"marker\":{\"colorbar\":{\"outlinewidth\":0,\"ticks\":\"\"}},\"type\":\"scatter3d\"}],\"scattercarpet\":[{\"marker\":{\"colorbar\":{\"outlinewidth\":0,\"ticks\":\"\"}},\"type\":\"scattercarpet\"}],\"scattergeo\":[{\"marker\":{\"colorbar\":{\"outlinewidth\":0,\"ticks\":\"\"}},\"type\":\"scattergeo\"}],\"scattergl\":[{\"marker\":{\"colorbar\":{\"outlinewidth\":0,\"ticks\":\"\"}},\"type\":\"scattergl\"}],\"scattermapbox\":[{\"marker\":{\"colorbar\":{\"outlinewidth\":0,\"ticks\":\"\"}},\"type\":\"scattermapbox\"}],\"scatterpolar\":[{\"marker\":{\"colorbar\":{\"outlinewidth\":0,\"ticks\":\"\"}},\"type\":\"scatterpolar\"}],\"scatterpolargl\":[{\"marker\":{\"colorbar\":{\"outlinewidth\":0,\"ticks\":\"\"}},\"type\":\"scatterpolargl\"}],\"scatterternary\":[{\"marker\":{\"colorbar\":{\"outlinewidth\":0,\"ticks\":\"\"}},\"type\":\"scatterternary\"}],\"surface\":[{\"colorbar\":{\"outlinewidth\":0,\"ticks\":\"\"},\"colorscale\":[[0.0,\"#0d0887\"],[0.1111111111111111,\"#46039f\"],[0.2222222222222222,\"#7201a8\"],[0.3333333333333333,\"#9c179e\"],[0.4444444444444444,\"#bd3786\"],[0.5555555555555556,\"#d8576b\"],[0.6666666666666666,\"#ed7953\"],[0.7777777777777778,\"#fb9f3a\"],[0.8888888888888888,\"#fdca26\"],[1.0,\"#f0f921\"]],\"type\":\"surface\"}],\"table\":[{\"cells\":{\"fill\":{\"color\":\"#EBF0F8\"},\"line\":{\"color\":\"white\"}},\"header\":{\"fill\":{\"color\":\"#C8D4E3\"},\"line\":{\"color\":\"white\"}},\"type\":\"table\"}]},\"layout\":{\"annotationdefaults\":{\"arrowcolor\":\"#2a3f5f\",\"arrowhead\":0,\"arrowwidth\":1},\"autotypenumbers\":\"strict\",\"coloraxis\":{\"colorbar\":{\"outlinewidth\":0,\"ticks\":\"\"}},\"colorscale\":{\"diverging\":[[0,\"#8e0152\"],[0.1,\"#c51b7d\"],[0.2,\"#de77ae\"],[0.3,\"#f1b6da\"],[0.4,\"#fde0ef\"],[0.5,\"#f7f7f7\"],[0.6,\"#e6f5d0\"],[0.7,\"#b8e186\"],[0.8,\"#7fbc41\"],[0.9,\"#4d9221\"],[1,\"#276419\"]],\"sequential\":[[0.0,\"#0d0887\"],[0.1111111111111111,\"#46039f\"],[0.2222222222222222,\"#7201a8\"],[0.3333333333333333,\"#9c179e\"],[0.4444444444444444,\"#bd3786\"],[0.5555555555555556,\"#d8576b\"],[0.6666666666666666,\"#ed7953\"],[0.7777777777777778,\"#fb9f3a\"],[0.8888888888888888,\"#fdca26\"],[1.0,\"#f0f921\"]],\"sequentialminus\":[[0.0,\"#0d0887\"],[0.1111111111111111,\"#46039f\"],[0.2222222222222222,\"#7201a8\"],[0.3333333333333333,\"#9c179e\"],[0.4444444444444444,\"#bd3786\"],[0.5555555555555556,\"#d8576b\"],[0.6666666666666666,\"#ed7953\"],[0.7777777777777778,\"#fb9f3a\"],[0.8888888888888888,\"#fdca26\"],[1.0,\"#f0f921\"]]},\"colorway\":[\"#636efa\",\"#EF553B\",\"#00cc96\",\"#ab63fa\",\"#FFA15A\",\"#19d3f3\",\"#FF6692\",\"#B6E880\",\"#FF97FF\",\"#FECB52\"],\"font\":{\"color\":\"#2a3f5f\"},\"geo\":{\"bgcolor\":\"white\",\"lakecolor\":\"white\",\"landcolor\":\"#E5ECF6\",\"showlakes\":true,\"showland\":true,\"subunitcolor\":\"white\"},\"hoverlabel\":{\"align\":\"left\"},\"hovermode\":\"closest\",\"mapbox\":{\"style\":\"light\"},\"paper_bgcolor\":\"white\",\"plot_bgcolor\":\"#E5ECF6\",\"polar\":{\"angularaxis\":{\"gridcolor\":\"white\",\"linecolor\":\"white\",\"ticks\":\"\"},\"bgcolor\":\"#E5ECF6\",\"radialaxis\":{\"gridcolor\":\"white\",\"linecolor\":\"white\",\"ticks\":\"\"}},\"scene\":{\"xaxis\":{\"backgroundcolor\":\"#E5ECF6\",\"gridcolor\":\"white\",\"gridwidth\":2,\"linecolor\":\"white\",\"showbackground\":true,\"ticks\":\"\",\"zerolinecolor\":\"white\"},\"yaxis\":{\"backgroundcolor\":\"#E5ECF6\",\"gridcolor\":\"white\",\"gridwidth\":2,\"linecolor\":\"white\",\"showbackground\":true,\"ticks\":\"\",\"zerolinecolor\":\"white\"},\"zaxis\":{\"backgroundcolor\":\"#E5ECF6\",\"gridcolor\":\"white\",\"gridwidth\":2,\"linecolor\":\"white\",\"showbackground\":true,\"ticks\":\"\",\"zerolinecolor\":\"white\"}},\"shapedefaults\":{\"line\":{\"color\":\"#2a3f5f\"}},\"ternary\":{\"aaxis\":{\"gridcolor\":\"white\",\"linecolor\":\"white\",\"ticks\":\"\"},\"baxis\":{\"gridcolor\":\"white\",\"linecolor\":\"white\",\"ticks\":\"\"},\"bgcolor\":\"#E5ECF6\",\"caxis\":{\"gridcolor\":\"white\",\"linecolor\":\"white\",\"ticks\":\"\"}},\"title\":{\"x\":0.05},\"xaxis\":{\"automargin\":true,\"gridcolor\":\"white\",\"linecolor\":\"white\",\"ticks\":\"\",\"title\":{\"standoff\":15},\"zerolinecolor\":\"white\",\"zerolinewidth\":2},\"yaxis\":{\"automargin\":true,\"gridcolor\":\"white\",\"linecolor\":\"white\",\"ticks\":\"\",\"title\":{\"standoff\":15},\"zerolinecolor\":\"white\",\"zerolinewidth\":2}}},\"xaxis\":{\"anchor\":\"y\",\"domain\":[0.0,0.94],\"matches\":\"x3\",\"showticklabels\":false,\"rangeslider\":{\"visible\":false}},\"yaxis\":{\"anchor\":\"x\",\"domain\":[0.424,1.0]},\"yaxis2\":{\"anchor\":\"x\",\"overlaying\":\"y\",\"side\":\"right\",\"showgrid\":false},\"xaxis2\":{\"anchor\":\"y3\",\"domain\":[0.0,0.94],\"matches\":\"x3\",\"showticklabels\":false},\"yaxis3\":{\"anchor\":\"x2\",\"domain\":[0.17359999999999998,0.40399999999999997]},\"yaxis4\":{\"anchor\":\"x2\",\"overlaying\":\"y3\",\"side\":\"right\"},\"xaxis3\":{\"anchor\":\"y5\",\"domain\":[0.0,0.94]},\"yaxis5\":{\"anchor\":\"x3\",\"domain\":[0.0,0.1536]},\"yaxis6\":{\"anchor\":\"x3\",\"overlaying\":\"y5\",\"side\":\"right\"},\"annotations\":[{\"font\":{\"size\":16},\"showarrow\":false,\"text\":\"CAT\",\"x\":0.47,\"xanchor\":\"center\",\"xref\":\"paper\",\"y\":1.0,\"yanchor\":\"bottom\",\"yref\":\"paper\"},{\"font\":{\"size\":16},\"showarrow\":false,\"text\":\"Sentiment_Score\",\"x\":0.47,\"xanchor\":\"center\",\"xref\":\"paper\",\"y\":0.40399999999999997,\"yanchor\":\"bottom\",\"yref\":\"paper\"},{\"font\":{\"size\":16},\"showarrow\":false,\"text\":\"Used News Volume\",\"x\":0.47,\"xanchor\":\"center\",\"xref\":\"paper\",\"y\":0.1536,\"yanchor\":\"bottom\",\"yref\":\"paper\"}],\"shapes\":[{\"line\":{\"width\":1},\"opacity\":0.8,\"type\":\"line\",\"x0\":0,\"x1\":1,\"xref\":\"x2 domain\",\"y0\":0,\"y1\":0,\"yref\":\"y3\"},{\"line\":{\"color\":\"green\",\"dash\":\"dash\"},\"opacity\":0.5,\"type\":\"line\",\"x0\":0,\"x1\":1,\"xref\":\"x2 domain\",\"y0\":1,\"y1\":1,\"yref\":\"y3\"},{\"line\":{\"color\":\"red\",\"dash\":\"dash\"},\"opacity\":0.5,\"type\":\"line\",\"x0\":0,\"x1\":1,\"xref\":\"x2 domain\",\"y0\":-1,\"y1\":-1,\"yref\":\"y3\"}],\"width\":1000,\"height\":750},                        {\"responsive\": true}                    ).then(function(){\n",
       "                            \n",
       "var gd = document.getElementById('00843bf6-b48e-487c-9a16-87978cdf1f67');\n",
       "var x = new MutationObserver(function (mutations, observer) {{\n",
       "        var display = window.getComputedStyle(gd).display;\n",
       "        if (!display || display === 'none') {{\n",
       "            console.log([gd, 'removed!']);\n",
       "            Plotly.purge(gd);\n",
       "            observer.disconnect();\n",
       "        }}\n",
       "}});\n",
       "\n",
       "// Listen for the removal of the full notebook cells\n",
       "var notebookContainer = gd.closest('#notebook-container');\n",
       "if (notebookContainer) {{\n",
       "    x.observe(notebookContainer, {childList: true});\n",
       "}}\n",
       "\n",
       "// Listen for the clearing of the current output cell\n",
       "var outputEl = gd.closest('.output');\n",
       "if (outputEl) {{\n",
       "    x.observe(outputEl, {childList: true});\n",
       "}}\n",
       "\n",
       "                        })                };                });            </script>        </div>"
      ]
     },
     "metadata": {},
     "output_type": "display_data"
    }
   ],
   "source": [
    "import plotly.graph_objects as go\n",
    "from plotly.subplots import make_subplots\n",
    "\n",
    "fig = make_subplots(rows=3, cols=1, shared_xaxes=True,vertical_spacing=0.02, subplot_titles=(tick.ticker,'Sentiment_Score', 'Used News Volume'), \n",
    "               row_width=[0.4, 0.6, 1.5], specs=[[{\"secondary_y\": True}],[{\"secondary_y\": True}],[{\"secondary_y\": True}]])\n",
    "fig.add_trace(go.Candlestick(x=price_df['pub_date'],\n",
    "                open=price_df['open'], high=price_df['high'],\n",
    "                low=price_df['low'], close=price_df['close'], name=\"Price\"),\n",
    "               secondary_y=True, row=1,col=1)\n",
    "\n",
    "fig.add_trace(go.Bar(x=price_df['pub_date'], y=price_df['volume'],opacity=0.2, name='Volume'),secondary_y=False)\n",
    "fig.add_trace(go.Line(x=price_df['pub_date'], y=price_df['scores'], showlegend=False, line_color='purple'), row=2, col=1)\n",
    "fig.add_trace(go.Bar(x=price_df['pub_date'],y=price_df['Doc_Volume'],opacity=0.2, name='Used News Volume'),row=3, col=1)\n",
    "\n",
    "fig.add_hline(y=0, opacity=0.8, line_width=1, row=2, col=1)\n",
    "fig.add_hline(y=1, opacity=0.5, line_dash='dash',line_color='green', row=2, col=1)\n",
    "fig.add_hline(y=-1, opacity=0.5, line_dash='dash',line_color='red',row=2,col=1)\n",
    "\n",
    "fig.update_layout(xaxis_rangeslider_visible=False, width=1000, height=750)\n",
    "fig.layout.yaxis2.showgrid=False\n",
    "fig.show()"
   ]
  },
  {
   "cell_type": "code",
   "execution_count": null,
   "metadata": {},
   "outputs": [],
   "source": []
  }
 ],
 "metadata": {
  "kernelspec": {
   "display_name": "Python 3",
   "language": "python",
   "name": "python3"
  },
  "language_info": {
   "codemirror_mode": {
    "name": "ipython",
    "version": 3
   },
   "file_extension": ".py",
   "mimetype": "text/x-python",
   "name": "python",
   "nbconvert_exporter": "python",
   "pygments_lexer": "ipython3",
   "version": "3.8.5"
  }
 },
 "nbformat": 4,
 "nbformat_minor": 4
}
